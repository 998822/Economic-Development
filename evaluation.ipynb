{
 "cells": [
  {
   "cell_type": "code",
   "execution_count": 3,
   "metadata": {},
   "outputs": [],
   "source": [
    "?"
   ]
  },
  {
   "cell_type": "code",
   "execution_count": 4,
   "metadata": {},
   "outputs": [
    {
     "name": "stderr",
     "output_type": "stream",
     "text": [
      "/home/xiezhongming/anaconda3/envs/pytorch/lib/python3.6/site-packages/tqdm/auto.py:22: TqdmWarning: IProgress not found. Please update jupyter and ipywidgets. See https://ipywidgets.readthedocs.io/en/stable/user_install.html\n",
      "  from .autonotebook import tqdm as notebook_tqdm\n"
     ]
    }
   ],
   "source": [
    "import csv\n",
    "import timm\n",
    "import torch\n",
    "import torch.nn as nn\n",
    "import torchvision.transforms as transforms\n",
    "import torchvision.models as models\n",
    "import torch.backends.cudnn as cudnn\n",
    "from torch.utils.data import Dataset\n",
    "import pandas as pd\n",
    "import warnings\n",
    "import os\n",
    "import copy\n",
    "from PIL import Image\n",
    "import math\n",
    "import numpy as np\n",
    "from tqdm import tqdm"
   ]
  },
  {
   "cell_type": "code",
   "execution_count": 5,
   "metadata": {},
   "outputs": [],
   "source": [
    "def r2(df):\n",
    "    pearson = df.corr().iloc[0,1]\n",
    "    spearman = df.corr('spearman').iloc[0, 1]\n",
    "    kendall = df.corr('kendall').iloc[0, 1]\n",
    "    df = df.dropna()\n",
    "    x = df.iloc[:,0].values\n",
    "    y = df.iloc[:,1].values\n",
    "    # Fit a simple linear regression model\n",
    "    beta, _, _, _ = np.linalg.lstsq(x[:, None], y)\n",
    "    y_pred = beta * x\n",
    "    # Calculate the residual sum of squares (RSS)\n",
    "    rss = np.sum((y - y_pred)**2)\n",
    "    # Calculate the total sum of squares (TSS)\n",
    "    mean_y = np.mean(y)\n",
    "    tss = np.sum((y - mean_y)**2)\n",
    "    # Calculate R2\n",
    "    r2 = 1 - (rss / tss)\n",
    "\n",
    "    # Calculate the residual sum of squares (RSS)\n",
    "    rss = np.sum((y - y_pred)**2)\n",
    "    # Calculate the total sum of squares (TSS)\n",
    "    mean_y = np.mean(y)\n",
    "    tss = np.sum((y - mean_y)**2)\n",
    "    # Calculate R2\n",
    "    r2 = 1 - (rss / tss)\n",
    "    # Calculate the adjusted R2\n",
    "    n = x.shape[0]\n",
    "    p = 1\n",
    "    adj_r2 = 1 - (1-r2)*(n-1)/(n-p-1)\n",
    "    \n",
    "    y /= y.max()\n",
    "    x /= x.max()\n",
    "    \n",
    "    # Calculate the residuals\n",
    "    residuals = x - y\n",
    "    # Calculate the mean squared error (MSE)\n",
    "    mse = np.mean(residuals**2)\n",
    "    # Calculate the root mean squared error (RMSE)\n",
    "    rmse = np.sqrt(mse)\n",
    "    # Calculate the absolute percentage error\n",
    "    ape = np.abs((y - x) / y) * 100\n",
    "    # Calculate the mean absolute percentage error (MAPE)\n",
    "    mape = np.mean(ape)\n",
    "    \n",
    "    return {'pearson':pearson, 'spearman':spearman, 'kendall':kendall, 'r2':r2, 'adj_r2':adj_r2, 'rmse':rmse, 'mape':mape}"
   ]
  },
  {
   "cell_type": "code",
   "execution_count": 6,
   "metadata": {},
   "outputs": [],
   "source": [
    "class TestDataset(Dataset):\n",
    "    def __init__(self, transform=None):\n",
    "        self.file_list = list(os.listdir(data_path))\n",
    "        self.transform = transform        \n",
    "\n",
    "    def __len__(self):\n",
    "        return len(self.file_list)\n",
    "\n",
    "    def __getitem__(self, idx):\n",
    "        name = self.file_list[idx]\n",
    "        image = Image.open(f\"{data_path}{name}\").convert('RGB')\n",
    "        if self.transform:\n",
    "            image = self.transform(image)\n",
    "        return image,name\n",
    "data_path = './data12/train/data_zl12/' \n",
    "_mean = [0.485, 0.456, 0.406]\n",
    "_std = [0.229, 0.224, 0.225]\n",
    "test_dataset = TestDataset(transform = transforms.Compose([transforms.Resize(224), transforms.ToTensor(), transforms.Normalize(mean=_mean, std=_std)]))\n",
    "test_loader = torch.utils.data.DataLoader(test_dataset, batch_size=512, shuffle=False, num_workers=0)                              "
   ]
  },
  {
   "cell_type": "code",
   "execution_count": 7,
   "metadata": {},
   "outputs": [],
   "source": [
    "df = pd.read_csv('df.csv')"
   ]
  },
  {
   "cell_type": "code",
   "execution_count": 8,
   "metadata": {},
   "outputs": [],
   "source": [
    "torch.cuda.empty_cache()"
   ]
  },
  {
   "cell_type": "code",
   "execution_count": 26,
   "metadata": {},
   "outputs": [
    {
     "name": "stderr",
     "output_type": "stream",
     "text": [
      "100%|██████████| 258/258 [13:19<00:00,  3.10s/it]\n"
     ]
    }
   ],
   "source": [
    "model = torch.load('eff-bin15.pt')\n",
    "\n",
    "names, scores = [], []\n",
    "device = torch.device(\"cuda:1\" if torch.cuda.is_available() else \"cpu\")\n",
    "model.to(device)\n",
    "with torch.no_grad():\n",
    "    for batch_idx, (data,name) in tqdm(enumerate(test_loader), total=len(test_loader)):  \n",
    "        data = data.to(device)\n",
    "        score = model(data).squeeze()\n",
    "        scores += list(score.cpu().data.numpy())\n",
    "        names += list(name)\n",
    "eff = pd.DataFrame({'name':names, 'eff0000':scores})"
   ]
  },
  {
   "cell_type": "code",
   "execution_count": null,
   "metadata": {},
   "outputs": [],
   "source": [
    "df = df.merge(eff)"
   ]
  },
  {
   "cell_type": "code",
   "execution_count": null,
   "metadata": {},
   "outputs": [],
   "source": [
    "r2(df[['eff00', 'log_gdp']])\n"
   ]
  },
  {
   "cell_type": "code",
   "execution_count": 23,
   "metadata": {},
   "outputs": [
    {
     "name": "stderr",
     "output_type": "stream",
     "text": [
      "/home/xiezhongming/anaconda3/envs/pytorch/lib/python3.6/site-packages/ipykernel_launcher.py:9: FutureWarning: `rcond` parameter will change to the default of machine precision times ``max(M, N)`` where M and N are the input matrix dimensions.\n",
      "To use the future default and silence this warning we advise to pass `rcond=None`, to keep using the old, explicitly pass `rcond=-1`.\n",
      "  if __name__ == '__main__':\n"
     ]
    },
    {
     "data": {
      "text/plain": [
       "{'pearson': 0.33518292631385904,\n",
       " 'spearman': 0.3828632920760336,\n",
       " 'kendall': 0.26226022209906674,\n",
       " 'r2': -80.70908973473077,\n",
       " 'adj_r2': -80.70975051747094,\n",
       " 'rmse': 0.900601736943778,\n",
       " 'mape': 116.87303775666689}"
      ]
     },
     "execution_count": 23,
     "metadata": {},
     "output_type": "execute_result"
    }
   ],
   "source": [
    "r2(df[['eff00', 'log_gdp']])\n"
   ]
  },
  {
   "cell_type": "code",
   "execution_count": 56,
   "metadata": {},
   "outputs": [
    {
     "name": "stderr",
     "output_type": "stream",
     "text": [
      "100%|██████████| 258/258 [14:47<00:00,  3.44s/it]\n"
     ]
    }
   ],
   "source": [
    "model = torch.load('vgg-unlimited.pt')\n",
    "\n",
    "names, scores = [], []\n",
    "device = torch.device(\"cuda:1\" if torch.cuda.is_available() else \"cpu\")\n",
    "model.to(device)\n",
    "with torch.no_grad():\n",
    "    for batch_idx, (data,name) in tqdm(enumerate(test_loader), total=len(test_loader)):\n",
    "        data = data.to(device)\n",
    "        score = model(data).squeeze()\n",
    "        scores += list(score.cpu().data.numpy())\n",
    "        names += list(name)\n",
    "vgg = pd.DataFrame({'name':names, 'vgg':scores})"
   ]
  },
  {
   "cell_type": "code",
   "execution_count": 62,
   "metadata": {},
   "outputs": [
    {
     "name": "stderr",
     "output_type": "stream",
     "text": [
      "100%|██████████| 258/258 [09:34<00:00,  2.23s/it]\n"
     ]
    }
   ],
   "source": [
    "model = torch.load('vit-unlimited.pt')\n",
    "\n",
    "names, scores = [], []\n",
    "device = torch.device(\"cuda:1\" if torch.cuda.is_available() else \"cpu\")\n",
    "model.to(device)\n",
    "with torch.no_grad():\n",
    "    for batch_idx, (data,name) in tqdm(enumerate(test_loader), total=len(test_loader)):\n",
    "        data = data.to(device)\n",
    "        score = model(data).squeeze()\n",
    "        scores += list(score.cpu().data.numpy())\n",
    "        names += list(name)\n",
    "eff = pd.DataFrame({'name':names, 'vit':scores})"
   ]
  },
  {
   "cell_type": "code",
   "execution_count": 58,
   "metadata": {},
   "outputs": [],
   "source": [
    "df = df.merge(eff)"
   ]
  },
  {
   "cell_type": "code",
   "execution_count": 59,
   "metadata": {},
   "outputs": [],
   "source": [
    "df = df.merge(vgg)"
   ]
  },
  {
   "cell_type": "code",
   "execution_count": 64,
   "metadata": {},
   "outputs": [],
   "source": [
    "df = df.merge(eff)"
   ]
  },
  {
   "cell_type": "code",
   "execution_count": 4,
   "metadata": {},
   "outputs": [],
   "source": [
    "model = torch.load('res-bin15.pt')"
   ]
  },
  {
   "cell_type": "code",
   "execution_count": 8,
   "metadata": {
    "scrolled": true
   },
   "outputs": [
    {
     "name": "stderr",
     "output_type": "stream",
     "text": [
      "100%|██████████| 258/258 [09:41<00:00,  2.25s/it]\n"
     ]
    }
   ],
   "source": [
    "names, scores = [], []\n",
    "device = torch.device(\"cuda:1\" if torch.cuda.is_available() else \"cpu\")\n",
    "model.to(device)\n",
    "with torch.no_grad():\n",
    "    for batch_idx, (data,name) in tqdm(enumerate(test_loader), total=len(test_loader)):\n",
    "        data = data.to(device)\n",
    "        score = model(data).squeeze()\n",
    "        scores += list(score.cpu().data.numpy())\n",
    "        names += list(name)\n",
    "data = pd.DataFrame({'name':names, 'resb15':scores})"
   ]
  },
  {
   "cell_type": "code",
   "execution_count": 11,
   "metadata": {},
   "outputs": [],
   "source": [
    "df = df.merge(data, left_on='name', right_on='name')"
   ]
  },
  {
   "cell_type": "code",
   "execution_count": 12,
   "metadata": {},
   "outputs": [],
   "source": [
    "df['log_gdp'] = df['gdp'].map(np.log)"
   ]
  },
  {
   "cell_type": "code",
   "execution_count": 16,
   "metadata": {},
   "outputs": [
    {
     "name": "stderr",
     "output_type": "stream",
     "text": [
      "/home/xiezhongming/anaconda3/envs/pytorch/lib/python3.6/site-packages/ipykernel_launcher.py:9: FutureWarning: `rcond` parameter will change to the default of machine precision times ``max(M, N)`` where M and N are the input matrix dimensions.\n",
      "To use the future default and silence this warning we advise to pass `rcond=None`, to keep using the old, explicitly pass `rcond=-1`.\n",
      "  if __name__ == '__main__':\n"
     ]
    },
    {
     "data": {
      "text/plain": [
       "{'pearson': 0.22361723841610415,\n",
       " 'spearman': 0.2546298698253262,\n",
       " 'kendall': 0.17148388550021973,\n",
       " 'r2': -100.8289592125274,\n",
       " 'adj_r2': -100.82978270497988,\n",
       " 'rmse': 0.9418031705750289,\n",
       " 'mape': 110.71496024504853}"
      ]
     },
     "execution_count": 16,
     "metadata": {},
     "output_type": "execute_result"
    }
   ],
   "source": [
    "r2(df[['eff1', 'log_gdp']])"
   ]
  },
  {
   "cell_type": "code",
   "execution_count": 66,
   "metadata": {},
   "outputs": [
    {
     "name": "stderr",
     "output_type": "stream",
     "text": [
      "/home/xiezhongming/anaconda3/envs/pytorch/lib/python3.6/site-packages/ipykernel_launcher.py:9: FutureWarning: `rcond` parameter will change to the default of machine precision times ``max(M, N)`` where M and N are the input matrix dimensions.\n",
      "To use the future default and silence this warning we advise to pass `rcond=None`, to keep using the old, explicitly pass `rcond=-1`.\n",
      "  if __name__ == '__main__':\n"
     ]
    },
    {
     "data": {
      "text/plain": [
       "{'pearson': 0.3858252411821878,\n",
       " 'spearman': 0.3971626492020586,\n",
       " 'kendall': 0.2699910853275505,\n",
       " 'r2': -93.91628360798822,\n",
       " 'adj_r2': -93.91705119752045,\n",
       " 'rmse': 0.9921648908679669,\n",
       " 'mape': 121.8737231684787}"
      ]
     },
     "execution_count": 66,
     "metadata": {},
     "output_type": "execute_result"
    }
   ],
   "source": [
    "r2(df[['vgg', 'log_gdp']])"
   ]
  },
  {
   "cell_type": "code",
   "execution_count": 65,
   "metadata": {},
   "outputs": [
    {
     "name": "stderr",
     "output_type": "stream",
     "text": [
      "/home/xiezhongming/anaconda3/envs/pytorch/lib/python3.6/site-packages/ipykernel_launcher.py:9: FutureWarning: `rcond` parameter will change to the default of machine precision times ``max(M, N)`` where M and N are the input matrix dimensions.\n",
      "To use the future default and silence this warning we advise to pass `rcond=None`, to keep using the old, explicitly pass `rcond=-1`.\n",
      "  if __name__ == '__main__':\n"
     ]
    },
    {
     "data": {
      "text/plain": [
       "{'pearson': 0.5909179873972293,\n",
       " 'spearman': 0.5495222622057283,\n",
       " 'kendall': 0.3846805870146383,\n",
       " 'r2': -24.99106100557484,\n",
       " 'adj_r2': -24.991271195708723,\n",
       " 'rmse': 0.5572076121857689,\n",
       " 'mape': 72.7796141359473}"
      ]
     },
     "execution_count": 65,
     "metadata": {},
     "output_type": "execute_result"
    }
   ],
   "source": [
    "r2(df[['vit', 'log_gdp']])"
   ]
  },
  {
   "cell_type": "code",
   "execution_count": 21,
   "metadata": {},
   "outputs": [
    {
     "name": "stderr",
     "output_type": "stream",
     "text": [
      "/home/xiezhongming/anaconda3/envs/pytorch/lib/python3.6/site-packages/ipykernel_launcher.py:9: FutureWarning: `rcond` parameter will change to the default of machine precision times ``max(M, N)`` where M and N are the input matrix dimensions.\n",
      "To use the future default and silence this warning we advise to pass `rcond=None`, to keep using the old, explicitly pass `rcond=-1`.\n",
      "  if __name__ == '__main__':\n"
     ]
    },
    {
     "data": {
      "text/plain": [
       "{'pearson': 0.30233065163955863,\n",
       " 'spearman': 0.5029931674585858,\n",
       " 'kendall': 0.35504494512737533,\n",
       " 'r2': -70.44349085066321,\n",
       " 'adj_r2': -70.44406861533791,\n",
       " 'rmse': 0.7483089124266302,\n",
       " 'mape': 98.25769417959842}"
      ]
     },
     "execution_count": 21,
     "metadata": {},
     "output_type": "execute_result"
    }
   ],
   "source": [
    "r2(df[['nl-50', 'log_gdp']])"
   ]
  },
  {
   "cell_type": "code",
   "execution_count": 19,
   "metadata": {},
   "outputs": [
    {
     "name": "stderr",
     "output_type": "stream",
     "text": [
      "/home/xiezhongming/anaconda3/envs/pytorch/lib/python3.6/site-packages/ipykernel_launcher.py:9: FutureWarning: `rcond` parameter will change to the default of machine precision times ``max(M, N)`` where M and N are the input matrix dimensions.\n",
      "To use the future default and silence this warning we advise to pass `rcond=None`, to keep using the old, explicitly pass `rcond=-1`.\n",
      "  if __name__ == '__main__':\n"
     ]
    },
    {
     "data": {
      "text/plain": [
       "{'pearson': 0.5441409810210416,\n",
       " 'spearman': 0.5403589616996938,\n",
       " 'kendall': 0.37916546898144254,\n",
       " 'r2': -42.1526313365889,\n",
       " 'adj_r2': -42.1529803126217,\n",
       " 'rmse': 0.6037049418082139,\n",
       " 'mape': 78.56575675430682}"
      ]
     },
     "execution_count": 19,
     "metadata": {},
     "output_type": "execute_result"
    }
   ],
   "source": [
    "r2(df[['res-m', 'log_gdp']])"
   ]
  },
  {
   "cell_type": "code",
   "execution_count": 16,
   "metadata": {},
   "outputs": [
    {
     "name": "stderr",
     "output_type": "stream",
     "text": [
      "/home/xiezhongming/anaconda3/envs/pytorch/lib/python3.6/site-packages/ipykernel_launcher.py:9: FutureWarning: `rcond` parameter will change to the default of machine precision times ``max(M, N)`` where M and N are the input matrix dimensions.\n",
      "To use the future default and silence this warning we advise to pass `rcond=None`, to keep using the old, explicitly pass `rcond=-1`.\n",
      "  if __name__ == '__main__':\n"
     ]
    },
    {
     "data": {
      "text/plain": [
       "{'pearson': 0.30233065163955863,\n",
       " 'spearman': 0.5029931674585858,\n",
       " 'kendall': 0.35504494512737533,\n",
       " 'r2': -70.44349085066321,\n",
       " 'adj_r2': -70.44406861533791,\n",
       " 'rmse': 0.7483089124266302,\n",
       " 'mape': 98.25769417959842}"
      ]
     },
     "execution_count": 16,
     "metadata": {},
     "output_type": "execute_result"
    }
   ],
   "source": [
    "r2(df[['nl-50', 'log_gdp']])"
   ]
  },
  {
   "cell_type": "code",
   "execution_count": 15,
   "metadata": {},
   "outputs": [
    {
     "name": "stderr",
     "output_type": "stream",
     "text": [
      "/home/xiezhongming/anaconda3/envs/pytorch/lib/python3.6/site-packages/ipykernel_launcher.py:9: FutureWarning: `rcond` parameter will change to the default of machine precision times ``max(M, N)`` where M and N are the input matrix dimensions.\n",
      "To use the future default and silence this warning we advise to pass `rcond=None`, to keep using the old, explicitly pass `rcond=-1`.\n",
      "  if __name__ == '__main__':\n"
     ]
    },
    {
     "data": {
      "text/plain": [
       "{'pearson': 0.41857358983562964,\n",
       " 'spearman': 0.43996682247400215,\n",
       " 'kendall': 0.3001788238671966,\n",
       " 'r2': -81.85255445363859,\n",
       " 'adj_r2': -81.85322448359656,\n",
       " 'rmse': 0.6887719227431028,\n",
       " 'mape': 87.8714041972913}"
      ]
     },
     "execution_count": 15,
     "metadata": {},
     "output_type": "execute_result"
    }
   ],
   "source": [
    "r2(df[['resb15', 'log_gdp']])"
   ]
  },
  {
   "cell_type": "code",
   "execution_count": 12,
   "metadata": {},
   "outputs": [
    {
     "name": "stderr",
     "output_type": "stream",
     "text": [
      "/home/xiezhongming/anaconda3/envs/pytorch/lib/python3.6/site-packages/ipykernel_launcher.py:9: FutureWarning: `rcond` parameter will change to the default of machine precision times ``max(M, N)`` where M and N are the input matrix dimensions.\n",
      "To use the future default and silence this warning we advise to pass `rcond=None`, to keep using the old, explicitly pass `rcond=-1`.\n",
      "  if __name__ == '__main__':\n"
     ]
    },
    {
     "data": {
      "text/plain": [
       "{'pearson': 0.3369895516075426,\n",
       " 'spearman': 0.43996682247400215,\n",
       " 'kendall': 0.3001788238671966,\n",
       " 'r2': -0.09936321974655749,\n",
       " 'adj_r2': -0.09937211031483018,\n",
       " 'rmse': 0.22236814071317088,\n",
       " 'mape': 2404.6035442692855}"
      ]
     },
     "execution_count": 12,
     "metadata": {},
     "output_type": "execute_result"
    }
   ],
   "source": [
    "r2(df[['resb15', 'gdp']])"
   ]
  },
  {
   "cell_type": "code",
   "execution_count": 106,
   "metadata": {},
   "outputs": [
    {
     "name": "stderr",
     "output_type": "stream",
     "text": [
      "/home/xiezhongming/anaconda3/envs/pytorch/lib/python3.6/site-packages/ipykernel_launcher.py:9: FutureWarning:\n",
      "\n",
      "`rcond` parameter will change to the default of machine precision times ``max(M, N)`` where M and N are the input matrix dimensions.\n",
      "To use the future default and silence this warning we advise to pass `rcond=None`, to keep using the old, explicitly pass `rcond=-1`.\n",
      "\n"
     ]
    },
    {
     "data": {
      "text/plain": [
       "{'pearson': 0.3798068612328396,\n",
       " 'spearman': 0.42224809543321107,\n",
       " 'kendall': 0.2918165645459292,\n",
       " 'r2': -0.39789902734372107,\n",
       " 'adj_r2': -0.3979103321759343,\n",
       " 'rmse': 0.3949837208668952,\n",
       " 'mape': 5536.190657655905}"
      ]
     },
     "execution_count": 106,
     "metadata": {},
     "output_type": "execute_result"
    }
   ],
   "source": [
    "r2(df[['b50+', 'gdp']])"
   ]
  },
  {
   "cell_type": "code",
   "execution_count": 67,
   "metadata": {
    "scrolled": true
   },
   "outputs": [
    {
     "name": "stdout",
     "output_type": "stream",
     "text": [
      "{'pearson': 0.6282567581954062, 'spearman': 0.7016974656419451, 'kendall': 0.5179125258972532, 'r2': 0.39249433236387843, 'adj_r2': 0.39219697276151133, 'rmse': 0.046450690212443475, 'mape': 310.60540743462343}\n"
     ]
    },
    {
     "name": "stderr",
     "output_type": "stream",
     "text": [
      "/home/xiezhongming/anaconda3/envs/pytorch/lib/python3.6/site-packages/ipykernel_launcher.py:9: FutureWarning:\n",
      "\n",
      "`rcond` parameter will change to the default of machine precision times ``max(M, N)`` where M and N are the input matrix dimensions.\n",
      "To use the future default and silence this warning we advise to pass `rcond=None`, to keep using the old, explicitly pass `rcond=-1`.\n",
      "\n",
      "/home/xiezhongming/anaconda3/envs/pytorch/lib/python3.6/site-packages/ipykernel_launcher.py:9: FutureWarning:\n",
      "\n",
      "`rcond` parameter will change to the default of machine precision times ``max(M, N)`` where M and N are the input matrix dimensions.\n",
      "To use the future default and silence this warning we advise to pass `rcond=None`, to keep using the old, explicitly pass `rcond=-1`.\n",
      "\n"
     ]
    },
    {
     "data": {
      "text/plain": [
       "{'pearson': 0.6345036630441131,\n",
       " 'spearman': 0.7352745938435575,\n",
       " 'kendall': 0.5504131598715784,\n",
       " 'r2': 0.40240309917600336,\n",
       " 'adj_r2': 0.40211058967976054,\n",
       " 'rmse': 0.04453297374331508,\n",
       " 'mape': 358.5788592765964}"
      ]
     },
     "execution_count": 67,
     "metadata": {},
     "output_type": "execute_result"
    }
   ],
   "source": [
    "print(r2(df.groupby('PAC').sum()[['res-m', 'gdp']]))\n",
    "r2(df.groupby('PAC').sum()[['nl-50', 'gdp']])"
   ]
  },
  {
   "cell_type": "code",
   "execution_count": 101,
   "metadata": {},
   "outputs": [
    {
     "name": "stderr",
     "output_type": "stream",
     "text": [
      "/home/xiezhongming/anaconda3/envs/pytorch/lib/python3.6/site-packages/ipykernel_launcher.py:9: FutureWarning:\n",
      "\n",
      "`rcond` parameter will change to the default of machine precision times ``max(M, N)`` where M and N are the input matrix dimensions.\n",
      "To use the future default and silence this warning we advise to pass `rcond=None`, to keep using the old, explicitly pass `rcond=-1`.\n",
      "\n"
     ]
    },
    {
     "data": {
      "text/plain": [
       "{'pearson': 0.3609465820022717,\n",
       " 'spearman': 0.42430504630908406,\n",
       " 'kendall': 0.29386435494938357,\n",
       " 'r2': -0.40525534904815386,\n",
       " 'adj_r2': -0.4052667133710608,\n",
       " 'rmse': 0.4451971592864422,\n",
       " 'mape': 6483.164649811903}"
      ]
     },
     "execution_count": 101,
     "metadata": {},
     "output_type": "execute_result"
    }
   ],
   "source": [
    "r2(df[['b50_y', 'gdp']])"
   ]
  },
  {
   "cell_type": "code",
   "execution_count": 97,
   "metadata": {},
   "outputs": [
    {
     "name": "stderr",
     "output_type": "stream",
     "text": [
      "/home/xiezhongming/anaconda3/envs/pytorch/lib/python3.6/site-packages/ipykernel_launcher.py:9: FutureWarning:\n",
      "\n",
      "`rcond` parameter will change to the default of machine precision times ``max(M, N)`` where M and N are the input matrix dimensions.\n",
      "To use the future default and silence this warning we advise to pass `rcond=None`, to keep using the old, explicitly pass `rcond=-1`.\n",
      "\n"
     ]
    },
    {
     "data": {
      "text/plain": [
       "{'pearson': 0.3880581359133165,\n",
       " 'spearman': 0.4456177495363686,\n",
       " 'kendall': 0.3092557923781333,\n",
       " 'r2': -0.21520515020754405,\n",
       " 'adj_r2': -0.21521497759139585,\n",
       " 'rmse': 0.3041258532110962,\n",
       " 'mape': 3417.987958772044}"
      ]
     },
     "execution_count": 97,
     "metadata": {},
     "output_type": "execute_result"
    }
   ],
   "source": [
    "r2(df[a['b50', 'gdp']])a"
   ]
  },
  {
   "cell_type": "code",
   "execution_count": 93,
   "metadata": {
    "scrolled": true
   },
   "outputs": [
    {
     "name": "stderr",
     "output_type": "stream",
     "text": [
      "/home/xiezhongming/anaconda3/envs/pytorch/lib/python3.6/site-packages/ipykernel_launcher.py:9: FutureWarning:\n",
      "\n",
      "`rcond` parameter will change to the default of machine precision times ``max(M, N)`` where M and N are the input matrix dimensions.\n",
      "To use the future default and silence this warning we advise to pass `rcond=None`, to keep using the old, explicitly pass `rcond=-1`.\n",
      "\n"
     ]
    },
    {
     "data": {
      "text/plain": [
       "{'pearson': 0.46142984728811526,\n",
       " 'spearman': 0.5029931674585858,\n",
       " 'kendall': 0.35504494512737533,\n",
       " 'r2': 0.11675978090135652,\n",
       " 'adj_r2': 0.11675263812331194,\n",
       " 'rmse': 0.046847824993456064,\n",
       " 'mape': 112.1632197723924}"
      ]
     },
     "execution_count": 93,
     "metadata": {},
     "output_type": "execute_result"
    }
   ],
   "source": [
    "r2(df[['nl-50', 'gdp']])"
   ]
  },
  {
   "cell_type": "code",
   "execution_count": 88,
   "metadata": {},
   "outputs": [
    {
     "name": "stderr",
     "output_type": "stream",
     "text": [
      "/home/xiezhongming/anaconda3/envs/pytorch/lib/python3.6/site-packages/ipykernel_launcher.py:9: FutureWarning:\n",
      "\n",
      "`rcond` parameter will change to the default of machine precision times ``max(M, N)`` where M and N are the input matrix dimensions.\n",
      "To use the future default and silence this warning we advise to pass `rcond=None`, to keep using the old, explicitly pass `rcond=-1`.\n",
      "\n"
     ]
    },
    {
     "data": {
      "text/plain": [
       "{'pearson': 0.34596730369882245,\n",
       " 'spearman': 0.4187137782017362,\n",
       " 'kendall': 0.2922374238493872,\n",
       " 'r2': 0.002901804154029186,\n",
       " 'adj_r2': 0.002893740604671291,\n",
       " 'rmse': 0.955147727965253,\n",
       " 'mape': 15094.229116378867}"
      ]
     },
     "execution_count": 88,
     "metadata": {},
     "output_type": "execute_result"
    }
   ],
   "source": [
    "r2(df[['I40_y', 'gdp']])"
   ]
  },
  {
   "cell_type": "code",
   "execution_count": 75,
   "metadata": {},
   "outputs": [
    {
     "name": "stderr",
     "output_type": "stream",
     "text": [
      "/home/xiezhongming/anaconda3/envs/pytorch/lib/python3.6/site-packages/ipykernel_launcher.py:9: FutureWarning:\n",
      "\n",
      "`rcond` parameter will change to the default of machine precision times ``max(M, N)`` where M and N are the input matrix dimensions.\n",
      "To use the future default and silence this warning we advise to pass `rcond=None`, to keep using the old, explicitly pass `rcond=-1`.\n",
      "\n"
     ]
    },
    {
     "data": {
      "text/plain": [
       "{'pearson': 0.3839928376339375,\n",
       " 'spearman': 0.46778001928893276,\n",
       " 'kendall': 0.32392581031272033,\n",
       " 'r2': 0.010921749782880519,\n",
       " 'adj_r2': 0.010913751090953605,\n",
       " 'rmse': 0.9187233565817696,\n",
       " 'mape': 14401.211866192838}"
      ]
     },
     "execution_count": 75,
     "metadata": {},
     "output_type": "execute_result"
    }
   ],
   "source": [
    "r2(df[['I20', 'gdp']])"
   ]
  },
  {
   "cell_type": "code",
   "execution_count": 80,
   "metadata": {},
   "outputs": [
    {
     "name": "stderr",
     "output_type": "stream",
     "text": [
      "/home/xiezhongming/anaconda3/envs/pytorch/lib/python3.6/site-packages/ipykernel_launcher.py:9: FutureWarning:\n",
      "\n",
      "`rcond` parameter will change to the default of machine precision times ``max(M, N)`` where M and N are the input matrix dimensions.\n",
      "To use the future default and silence this warning we advise to pass `rcond=None`, to keep using the old, explicitly pass `rcond=-1`.\n",
      "\n"
     ]
    },
    {
     "data": {
      "text/plain": [
       "{'pearson': 0.36904558849149444,\n",
       " 'spearman': 0.42931782062222207,\n",
       " 'kendall': 0.2981876868890798,\n",
       " 'r2': 0.005324920401458377,\n",
       " 'adj_r2': 0.005316876447881036,\n",
       " 'rmse': 0.940758681469123,\n",
       " 'mape': 14836.181822070475}"
      ]
     },
     "execution_count": 80,
     "metadata": {},
     "output_type": "execute_result"
    }
   ],
   "source": [
    "r2(df[['I40', 'gdp']])"
   ]
  },
  {
   "cell_type": "code",
   "execution_count": 70,
   "metadata": {},
   "outputs": [
    {
     "name": "stderr",
     "output_type": "stream",
     "text": [
      "/home/xiezhongming/anaconda3/envs/pytorch/lib/python3.6/site-packages/ipykernel_launcher.py:9: FutureWarning:\n",
      "\n",
      "`rcond` parameter will change to the default of machine precision times ``max(M, N)`` where M and N are the input matrix dimensions.\n",
      "To use the future default and silence this warning we advise to pass `rcond=None`, to keep using the old, explicitly pass `rcond=-1`.\n",
      "\n"
     ]
    },
    {
     "data": {
      "text/plain": [
       "{'pearson': 0.2524991809843522,\n",
       " 'spearman': 0.3482577608991025,\n",
       " 'kendall': 0.23706411056179547,\n",
       " 'r2': -0.010047846203480537,\n",
       " 'adj_r2': -0.010056014476871766,\n",
       " 'rmse': 0.0509735485217046,\n",
       " 'mape': 131.54558242752245}"
      ]
     },
     "execution_count": 70,
     "metadata": {},
     "output_type": "execute_result"
    }
   ],
   "source": [
    "r2(df[['I30', 'gdp']])"
   ]
  },
  {
   "cell_type": "code",
   "execution_count": 57,
   "metadata": {},
   "outputs": [
    {
     "name": "stderr",
     "output_type": "stream",
     "text": [
      "/home/xiezhongming/anaconda3/envs/pytorch/lib/python3.6/site-packages/ipykernel_launcher.py:9: FutureWarning:\n",
      "\n",
      "`rcond` parameter will change to the default of machine precision times ``max(M, N)`` where M and N are the input matrix dimensions.\n",
      "To use the future default and silence this warning we advise to pass `rcond=None`, to keep using the old, explicitly pass `rcond=-1`.\n",
      "\n"
     ]
    },
    {
     "data": {
      "text/plain": [
       "{'pearson': 0.39757829522786114,\n",
       " 'spearman': 0.46319319471060083,\n",
       " 'kendall': 0.3231975888052216,\n",
       " 'r2': 0.007614494463483501,\n",
       " 'adj_r2': 0.007606469025729035,\n",
       " 'rmse': 0.9239935469192845,\n",
       " 'mape': 14538.30923787915}"
      ]
     },
     "execution_count": 57,
     "metadata": {},
     "output_type": "execute_result"
    }
   ],
   "source": [
    "r2(df[['I3', 'gdp']])"
   ]
  },
  {
   "cell_type": "code",
   "execution_count": 64,
   "metadata": {},
   "outputs": [
    {
     "name": "stderr",
     "output_type": "stream",
     "text": [
      "/home/xiezhongming/anaconda3/envs/pytorch/lib/python3.6/site-packages/ipykernel_launcher.py:9: FutureWarning:\n",
      "\n",
      "`rcond` parameter will change to the default of machine precision times ``max(M, N)`` where M and N are the input matrix dimensions.\n",
      "To use the future default and silence this warning we advise to pass `rcond=None`, to keep using the old, explicitly pass `rcond=-1`.\n",
      "\n"
     ]
    },
    {
     "data": {
      "text/plain": [
       "{'pearson': 0.2524991809843522,\n",
       " 'spearman': 0.3482577608991025,\n",
       " 'kendall': 0.23706411056179547,\n",
       " 'r2': -0.010047846203480537,\n",
       " 'adj_r2': -0.010056014476871766,\n",
       " 'rmse': 0.0509735485217046,\n",
       " 'mape': 131.54558242752245}"
      ]
     },
     "execution_count": 64,
     "metadata": {},
     "output_type": "execute_result"
    }
   ],
   "source": [
    "r2(df[['nl100', 'gdp']])"
   ]
  },
  {
   "cell_type": "code",
   "execution_count": 76,
   "metadata": {},
   "outputs": [
    {
     "name": "stderr",
     "output_type": "stream",
     "text": [
      "/home/xiezhongming/anaconda3/envs/pytorch/lib/python3.6/site-packages/ipykernel_launcher.py:9: FutureWarning:\n",
      "\n",
      "`rcond` parameter will change to the default of machine precision times ``max(M, N)`` where M and N are the input matrix dimensions.\n",
      "To use the future default and silence this warning we advise to pass `rcond=None`, to keep using the old, explicitly pass `rcond=-1`.\n",
      "\n"
     ]
    },
    {
     "data": {
      "text/plain": [
       "{'pearson': 0.46142984728811526,\n",
       " 'spearman': 0.5029931674585858,\n",
       " 'kendall': 0.35504494512737533,\n",
       " 'r2': 0.11675978090135652,\n",
       " 'adj_r2': 0.11675263812331194,\n",
       " 'rmse': 0.046847824993456064,\n",
       " 'mape': 112.1632197723924}"
      ]
     },
     "execution_count": 76,
     "metadata": {},
     "output_type": "execute_result"
    }
   ],
   "source": [
    "r2(df[['nl-50', 'gdp']])"
   ]
  },
  {
   "cell_type": "code",
   "execution_count": 47,
   "metadata": {},
   "outputs": [
    {
     "name": "stderr",
     "output_type": "stream",
     "text": [
      "/home/xiezhongming/anaconda3/envs/pytorch/lib/python3.6/site-packages/ipykernel_launcher.py:9: FutureWarning:\n",
      "\n",
      "`rcond` parameter will change to the default of machine precision times ``max(M, N)`` where M and N are the input matrix dimensions.\n",
      "To use the future default and silence this warning we advise to pass `rcond=None`, to keep using the old, explicitly pass `rcond=-1`.\n",
      "\n"
     ]
    },
    {
     "data": {
      "text/plain": [
       "{'pearson': 0.26847199448531234,\n",
       " 'spearman': 0.26558063650414837,\n",
       " 'kendall': 0.17838555362277694,\n",
       " 'r2': -0.0007515984010433296,\n",
       " 'adj_r2': -0.0007596914955272371,\n",
       " 'rmse': 0.9849096219597147,\n",
       " 'mape': 15610.7257183788}"
      ]
     },
     "execution_count": 47,
     "metadata": {},
     "output_type": "execute_result"
    }
   ],
   "source": [
    "r2(df[['10b100', 'gdp']])"
   ]
  },
  {
   "cell_type": "code",
   "execution_count": 43,
   "metadata": {},
   "outputs": [
    {
     "name": "stderr",
     "output_type": "stream",
     "text": [
      "/home/xiezhongming/anaconda3/envs/pytorch/lib/python3.6/site-packages/ipykernel_launcher.py:9: FutureWarning:\n",
      "\n",
      "`rcond` parameter will change to the default of machine precision times ``max(M, N)`` where M and N are the input matrix dimensions.\n",
      "To use the future default and silence this warning we advise to pass `rcond=None`, to keep using the old, explicitly pass `rcond=-1`.\n",
      "\n"
     ]
    },
    {
     "data": {
      "text/plain": [
       "{'pearson': 0.30483595755784076,\n",
       " 'spearman': 0.33038537798630024,\n",
       " 'kendall': 0.22341388083421196,\n",
       " 'r2': -0.43300373772901524,\n",
       " 'adj_r2': -0.43301532645359364,\n",
       " 'rmse': 0.08747911811944899,\n",
       " 'mape': 933.6307621294866}"
      ]
     },
     "execution_count": 43,
     "metadata": {},
     "output_type": "execute_result"
    }
   ],
   "source": [
    "a"
   ]
  },
  {
   "cell_type": "code",
   "execution_count": 37,
   "metadata": {},
   "outputs": [
    {
     "name": "stderr",
     "output_type": "stream",
     "text": [
      "/home/xiezhongming/anaconda3/envs/pytorch/lib/python3.6/site-packages/ipykernel_launcher.py:9: FutureWarning:\n",
      "\n",
      "`rcond` parameter will change to the default of machine precision times ``max(M, N)`` where M and N are the input matrix dimensions.\n",
      "To use the future default and silence this warning we advise to pass `rcond=None`, to keep using the old, explicitly pass `rcond=-1`.\n",
      "\n"
     ]
    },
    {
     "data": {
      "text/plain": [
       "{'pearson': 0.3679126502455629,\n",
       " 'spearman': 0.2929216402805242,\n",
       " 'kendall': 0.198800618968884,\n",
       " 'r2': 0.06494663379913068,\n",
       " 'adj_r2': 0.06493907200732119,\n",
       " 'rmse': 0.047407936188694086,\n",
       " 'mape': 185.4010155904088}"
      ]
     },
     "execution_count": 37,
     "metadata": {},
     "output_type": "execute_result"
    }
   ],
   "source": [
    "r2(df[['can', 'gdp']])"
   ]
  },
  {
   "cell_type": "code",
   "execution_count": 34,
   "metadata": {
    "collapsed": true
   },
   "outputs": [
    {
     "name": "stderr",
     "output_type": "stream",
     "text": [
      "/home/xiezhongming/anaconda3/envs/pytorch/lib/python3.6/site-packages/ipykernel_launcher.py:9: FutureWarning:\n",
      "\n",
      "`rcond` parameter will change to the default of machine precision times ``max(M, N)`` where M and N are the input matrix dimensions.\n",
      "To use the future default and silence this warning we advise to pass `rcond=None`, to keep using the old, explicitly pass `rcond=-1`.\n",
      "\n"
     ]
    },
    {
     "data": {
      "text/plain": [
       "{'pearson': 0.3679126502455629,\n",
       " 'spearman': 0.2929216402805242,\n",
       " 'kendall': 0.198800618968884,\n",
       " 'r2': 0.06494663379913068,\n",
       " 'adj_r2': 0.06493907200732119,\n",
       " 'rmse': 0.047407936188694086,\n",
       " 'mape': 185.4010155904088}"
      ]
     },
     "execution_count": 34,
     "metadata": {},
     "output_type": "execute_result"
    }
   ],
   "source": [
    "r2(df[['can', 'gdp']])"
   ]
  },
  {
   "cell_type": "code",
   "execution_count": 28,
   "metadata": {},
   "outputs": [
    {
     "name": "stderr",
     "output_type": "stream",
     "text": [
      "/home/xiezhongming/anaconda3/envs/pytorch/lib/python3.6/site-packages/ipykernel_launcher.py:9: FutureWarning:\n",
      "\n",
      "`rcond` parameter will change to the default of machine precision times ``max(M, N)`` where M and N are the input matrix dimensions.\n",
      "To use the future default and silence this warning we advise to pass `rcond=None`, to keep using the old, explicitly pass `rcond=-1`.\n",
      "\n"
     ]
    },
    {
     "data": {
      "text/plain": [
       "{'pearson': 0.4665368189641487,\n",
       " 'spearman': 0.5495222622057283,\n",
       " 'kendall': 0.3846805870146383,\n",
       " 'r2': 0.21667059206545958,\n",
       " 'adj_r2': 0.21666425726777294,\n",
       " 'rmse': 0.21909102638553668,\n",
       " 'mape': 1676.3766349950179}"
      ]
     },
     "execution_count": 28,
     "metadata": {},
     "output_type": "execute_result"
    }
   ],
   "source": [
    "r2(df[['vit', 'gdp']])a"
   ]
  },
  {
   "cell_type": "code",
   "execution_count": null,
   "metadata": {},
   "outputs": [],
   "source": []
  },
  {
   "cell_type": "code",
   "execution_count": 29,
   "metadata": {},
   "outputs": [
    {
     "name": "stderr",
     "output_type": "stream",
     "text": [
      "/home/xiezhongming/anaconda3/envs/pytorch/lib/python3.6/site-packages/ipykernel_launcher.py:9: FutureWarning:\n",
      "\n",
      "`rcond` parameter will change to the default of machine precision times ``max(M, N)`` where M and N are the input matrix dimensions.\n",
      "To use the future default and silence this warning we advise to pass `rcond=None`, to keep using the old, explicitly pass `rcond=-1`.\n",
      "\n"
     ]
    },
    {
     "data": {
      "text/plain": [
       "{'pearson': 0.46142984728811526,\n",
       " 'spearman': 0.5029931674585858,\n",
       " 'kendall': 0.35504494512737533,\n",
       " 'r2': 0.11675978090135652,\n",
       " 'adj_r2': 0.11675263812331194,\n",
       " 'rmse': 0.046847824993456064,\n",
       " 'mape': 112.1632197723924}"
      ]
     },
     "execution_count": 29,
     "metadata": {},
     "output_type": "execute_result"
    }
   ],
   "source": [
    "r2(df[['nl-50', 'gdp']])"
   ]
  },
  {
   "cell_type": "code",
   "execution_count": 22,
   "metadata": {},
   "outputs": [
    {
     "name": "stderr",
     "output_type": "stream",
     "text": [
      "/home/xiezhongming/anaconda3/envs/pytorch/lib/python3.6/site-packages/ipykernel_launcher.py:9: FutureWarning:\n",
      "\n",
      "`rcond` parameter will change to the default of machine precision times ``max(M, N)`` where M and N are the input matrix dimensions.\n",
      "To use the future default and silence this warning we advise to pass `rcond=None`, to keep using the old, explicitly pass `rcond=-1`.\n",
      "\n"
     ]
    },
    {
     "data": {
      "text/plain": [
       "{'pearson': 0.38710724386789785,\n",
       " 'spearman': 0.5633368559979537,\n",
       " 'kendall': 0.40810798719716385,\n",
       " 'r2': 0.14836623147722094,\n",
       " 'adj_r2': 0.1479493769649729,\n",
       " 'rmse': 0.34113375302750587,\n",
       " 'mape': 1248.4316358116128}"
      ]
     },
     "execution_count": 22,
     "metadata": {},
     "output_type": "execute_result"
    }
   ],
   "source": [
    "r2([['res-m', 'gdp']])"
   ]
  },
  {
   "cell_type": "code",
   "execution_count": 19,
   "metadata": {},
   "outputs": [
    {
     "name": "stderr",
     "output_type": "stream",
     "text": [
      "/home/xiezhongming/anaconda3/envs/pytorch/lib/python3.6/site-packages/ipykernel_launcher.py:9: FutureWarning:\n",
      "\n",
      "`rcond` parameter will change to the default of machine precision times ``max(M, N)`` where M and N are the input matrix dimensions.\n",
      "To use the future default and silence this warning we advise to pass `rcond=None`, to keep using the old, explicitly pass `rcond=-1`.\n",
      "\n"
     ]
    },
    {
     "data": {
      "text/plain": [
       "{'pearson': 0.47766386409352724,\n",
       " 'spearman': 0.6418454968843796,\n",
       " 'kendall': 0.4630413038159058,\n",
       " 'r2': 0.0621347462783709,\n",
       " 'adj_r2': 0.06167568350121877,\n",
       " 'rmse': 0.7446527313545779,\n",
       " 'mape': 4538.416161277413}"
      ]
     },
     "execution_count": 19,
     "metadata": {},
     "output_type": "execute_result"
    }
   ],
   "source": [
    "r2(df.groupby('PAC').mean()[['try_y', 'gdp']])"
   ]
  },
  {
   "cell_type": "code",
   "execution_count": 18,
   "metadata": {},
   "outputs": [
    {
     "name": "stderr",
     "output_type": "stream",
     "text": [
      "/home/xiezhongming/anaconda3/envs/pytorch/lib/python3.6/site-packages/ipykernel_launcher.py:9: FutureWarning:\n",
      "\n",
      "`rcond` parameter will change to the default of machine precision times ``max(M, N)`` where M and N are the input matrix dimensions.\n",
      "To use the future default and silence this warning we advise to pass `rcond=None`, to keep using the old, explicitly pass `rcond=-1`.\n",
      "\n"
     ]
    },
    {
     "data": {
      "text/plain": [
       "{'pearson': 0.39061184475105454,\n",
       " 'spearman': 0.472039734861121,\n",
       " 'kendall': 0.3236861261927195,\n",
       " 'r2': -0.12326002101020594,\n",
       " 'adj_r2': -0.1232691048322998,\n",
       " 'rmse': 0.19988304343658256,\n",
       " 'mape': 2068.5827236102336}"
      ]
     },
     "execution_count": 18,
     "metadata": {},
     "output_type": "execute_result"
    }
   ],
   "source": [
    "r2(df[['try_x', 'gdp']])"
   ]
  },
  {
   "cell_type": "code",
   "execution_count": 10,
   "metadata": {},
   "outputs": [
    {
     "name": "stderr",
     "output_type": "stream",
     "text": [
      "/home/xiezhongming/anaconda3/envs/pytorch/lib/python3.6/site-packages/ipykernel_launcher.py:9: FutureWarning:\n",
      "\n",
      "`rcond` parameter will change to the default of machine precision times ``max(M, N)`` where M and N are the input matrix dimensions.\n",
      "To use the future default and silence this warning we advise to pass `rcond=None`, to keep using the old, explicitly pass `rcond=-1`.\n",
      "\n"
     ]
    },
    {
     "data": {
      "text/plain": [
       "{'pearson': 0.36238704398897276,\n",
       " 'spearman': 0.5403589616996938,\n",
       " 'kendall': 0.37916546898144254,\n",
       " 'r2': 0.09723733763627918,\n",
       " 'adj_r2': 0.09723003697991783,\n",
       " 'rmse': 0.20246679935522802,\n",
       " 'mape': 1687.4788795490074}"
      ]
     },
     "execution_count": 10,
     "metadata": {},
     "output_type": "execute_result"
    }
   ],
   "source": [
    "r2(df[['res-m', 'gdp']])"
   ]
  },
  {
   "cell_type": "code",
   "execution_count": 24,
   "metadata": {},
   "outputs": [
    {
     "name": "stderr",
     "output_type": "stream",
     "text": [
      "/home/xiezhongming/anaconda3/envs/pytorch/lib/python3.6/site-packages/ipykernel_launcher.py:9: FutureWarning:\n",
      "\n",
      "`rcond` parameter will change to the default of machine precision times ``max(M, N)`` where M and N are the input matrix dimensions.\n",
      "To use the future default and silence this warning we advise to pass `rcond=None`, to keep using the old, explicitly pass `rcond=-1`.\n",
      "\n"
     ]
    },
    {
     "data": {
      "text/plain": [
       "{'pearson': 0.38710724386789785,\n",
       " 'spearman': 0.5633368559979537,\n",
       " 'kendall': 0.40810798719716385,\n",
       " 'r2': 0.14836623147722094,\n",
       " 'adj_r2': 0.1479493769649729,\n",
       " 'rmse': 0.34113375302750587,\n",
       " 'mape': 1248.4316358116128}"
      ]
     },
     "execution_count": 24,
     "metadata": {},
     "output_type": "execute_result"
    }
   ],
   "source": [
    "r2(df[['res-m', 'gdp']])"
   ]
  },
  {
   "cell_type": "code",
   "execution_count": null,
   "metadata": {},
   "outputs": [],
   "source": [
    "df = pd.read_csv('df.csv')`\n",
    "data = pd.read_csv('data.csv')\n",
    "df.columns = ['name', 'nightlights', 'score', 'PAC', 'population', 'gdp', 'host',\n",
    "       'second', 'newloss', 'rank25', 'rank10', 'rank10-', 'rank10-drop',\n",
    "       'nl-res', 'res-rankloss-10bins-100', 'nl', 'res-m', 'pca', 'ae',\n",
    "       'nl-50', 'res50+', 'res50++', 'res2loss', 'res1loss', 'name_y', 'first',\n",
    "       'code', 'name_x', 'res1corr', 'mid', 'im', 'imm_x', 'name_y', 'imm_y']"
   ]
  },
  {
   "cell_type": "code",
   "execution_count": 25,
   "metadata": {},
   "outputs": [
    {
     "name": "stderr",
     "output_type": "stream",
     "text": [
      "/home/xiezhongming/anaconda3/envs/pytorch/lib/python3.6/site-packages/ipykernel_launcher.py:9: FutureWarning:\n",
      "\n",
      "`rcond` parameter will change to the default of machine precision times ``max(M, N)`` where M and N are the input matrix dimensions.\n",
      "To use the future default and silence this warning we advise to pass `rcond=None`, to keep using the old, explicitly pass `rcond=-1`.\n",
      "\n"
     ]
    },
    {
     "data": {
      "text/plain": [
       "{'pearson': 0.38165152792587603,\n",
       " 'spearman': 0.46658016191830537,\n",
       " 'kendall': 0.3222811686841678,\n",
       " 'r2': 5.2063061708906844e-05,\n",
       " 'adj_r2': 4.3976466448381046e-05,\n",
       " 'rmse': 0.14577346285226395,\n",
       " 'mape': 1232.9856622094635}"
      ]
     },
     "execution_count": 25,
     "metadata": {},
     "output_type": "execute_result"
    }
   ],
   "source": [
    "r2(df[['immmm', 'gdp']])"
   ]
  },
  {
   "cell_type": "code",
   "execution_count": 12,
   "metadata": {},
   "outputs": [
    {
     "name": "stderr",
     "output_type": "stream",
     "text": [
      "/home/xiezhongming/anaconda3/envs/pytorch/lib/python3.6/site-packages/ipykernel_launcher.py:9: FutureWarning:\n",
      "\n",
      "`rcond` parameter will change to the default of machine precision times ``max(M, N)`` where M and N are the input matrix dimensions.\n",
      "To use the future default and silence this warning we advise to pass `rcond=None`, to keep using the old, explicitly pass `rcond=-1`.\n",
      "\n"
     ]
    },
    {
     "data": {
      "text/plain": [
       "{'pearson': 0.4379138633970226,\n",
       " 'spearman': 0.4298089755487276,\n",
       " 'kendall': 0.2946642955422226,\n",
       " 'r2': 0.1542196021500164,\n",
       " 'adj_r2': 0.15421276231015668,\n",
       " 'rmse': 0.09989749712580036,\n",
       " 'mape': 785.0873834035491}"
      ]
     },
     "execution_count": 12,
     "metadata": {},
     "output_type": "execute_result"
    }
   ],
   "source": [
    "r2(df[['imm_y', 'gdp']])"
   ]
  },
  {
   "cell_type": "code",
   "execution_count": 279,
   "metadata": {},
   "outputs": [
    {
     "name": "stderr",
     "output_type": "stream",
     "text": [
      "/home/xiezhongming/anaconda3/envs/pytorch/lib/python3.6/site-packages/ipykernel_launcher.py:9: FutureWarning:\n",
      "\n",
      "`rcond` parameter will change to the default of machine precision times ``max(M, N)`` where M and N are the input matrix dimensions.\n",
      "To use the future default and silence this warning we advise to pass `rcond=None`, to keep using the old, explicitly pass `rcond=-1`.\n",
      "\n"
     ]
    },
    {
     "data": {
      "text/plain": [
       "{'pearson': 0.46142984728811526,\n",
       " 'spearman': 0.5029931674585858,\n",
       " 'kendall': 0.35504494512737533,\n",
       " 'r2': 0.11675978090135652,\n",
       " 'adj_r2': 0.11675263812331194,\n",
       " 'rmse': 0.046847824993456064,\n",
       " 'mape': 112.1632197723924}"
      ]
     },
     "execution_count": 279,
     "metadata": {},
     "output_type": "execute_result"
    }
   ],
   "source": [
    "r2(df[['nl-50', 'gdp']])"
   ]
  },
  {
   "cell_type": "code",
   "execution_count": 278,
   "metadata": {},
   "outputs": [
    {
     "name": "stderr",
     "output_type": "stream",
     "text": [
      "/home/xiezhongming/anaconda3/envs/pytorch/lib/python3.6/site-packages/ipykernel_launcher.py:9: FutureWarning:\n",
      "\n",
      "`rcond` parameter will change to the default of machine precision times ``max(M, N)`` where M and N are the input matrix dimensions.\n",
      "To use the future default and silence this warning we advise to pass `rcond=None`, to keep using the old, explicitly pass `rcond=-1`.\n",
      "\n"
     ]
    },
    {
     "data": {
      "text/plain": [
       "{'pearson': 0.36238704398897276,\n",
       " 'spearman': 0.5403589616996938,\n",
       " 'kendall': 0.37916546898144254,\n",
       " 'r2': 0.09723733763627918,\n",
       " 'adj_r2': 0.09723003697991783,\n",
       " 'rmse': 0.20246679935522802,\n",
       " 'mape': 1687.4788795490074}"
      ]
     },
     "execution_count": 278,
     "metadata": {},
     "output_type": "execute_result"
    }
   ],
   "source": [
    "r2(df[['res-m', 'gdp']])"
   ]
  },
  {
   "cell_type": "code",
   "execution_count": 277,
   "metadata": {},
   "outputs": [
    {
     "name": "stderr",
     "output_type": "stream",
     "text": [
      "/home/xiezhongming/anaconda3/envs/pytorch/lib/python3.6/site-packages/ipykernel_launcher.py:9: FutureWarning:\n",
      "\n",
      "`rcond` parameter will change to the default of machine precision times ``max(M, N)`` where M and N are the input matrix dimensions.\n",
      "To use the future default and silence this warning we advise to pass `rcond=None`, to keep using the old, explicitly pass `rcond=-1`.\n",
      "\n"
     ]
    },
    {
     "data": {
      "text/plain": [
       "{'pearson': 0.32816611275583646,\n",
       " 'spearman': 0.5053476624828702,\n",
       " 'kendall': 0.3533417118169351,\n",
       " 'r2': 0.08140896523060559,\n",
       " 'adj_r2': 0.08140153656993865,\n",
       " 'rmse': 0.21356005974997305,\n",
       " 'mape': 1815.6957997392103}"
      ]
     },
     "execution_count": 277,
     "metadata": {},
     "output_type": "execute_result"
    }
   ],
   "source": [
    "r2(df[['im', 'gdp']])"
   ]
  },
  {
   "cell_type": "code",
   "execution_count": 269,
   "metadata": {
    "scrolled": true
   },
   "outputs": [
    {
     "name": "stderr",
     "output_type": "stream",
     "text": [
      "/home/xiezhongming/anaconda3/envs/pytorch/lib/python3.6/site-packages/ipykernel_launcher.py:9: FutureWarning:\n",
      "\n",
      "`rcond` parameter will change to the default of machine precision times ``max(M, N)`` where M and N are the input matrix dimensions.\n",
      "To use the future default and silence this warning we advise to pass `rcond=None`, to keep using the old, explicitly pass `rcond=-1`.\n",
      "\n"
     ]
    },
    {
     "data": {
      "text/plain": [
       "{'pearson': 0.46142984728811526,\n",
       " 'spearman': 0.5029931674585858,\n",
       " 'kendall': 0.35504494512737533,\n",
       " 'r2': 0.11675978090135652,\n",
       " 'adj_r2': 0.11675263812331194,\n",
       " 'rmse': 0.046847824993456064,\n",
       " 'mape': 112.1632197723924}"
      ]
     },
     "execution_count": 269,
     "metadata": {},
     "output_type": "execute_result"
    }
   ],
   "source": [
    "r2(df[['nl-50', 'gdp']])"
   ]
  },
  {
   "cell_type": "code",
   "execution_count": null,
   "metadata": {},
   "outputs": [],
   "source": []
  },
  {
   "cell_type": "code",
   "execution_count": null,
   "metadata": {},
   "outputs": [],
   "source": []
  },
  {
   "cell_type": "code",
   "execution_count": null,
   "metadata": {},
   "outputs": [],
   "source": []
  },
  {
   "cell_type": "code",
   "execution_count": null,
   "metadata": {},
   "outputs": [],
   "source": []
  },
  {
   "cell_type": "code",
   "execution_count": null,
   "metadata": {},
   "outputs": [],
   "source": []
  },
  {
   "cell_type": "code",
   "execution_count": null,
   "metadata": {},
   "outputs": [],
   "source": []
  },
  {
   "cell_type": "code",
   "execution_count": null,
   "metadata": {},
   "outputs": [],
   "source": []
  },
  {
   "cell_type": "code",
   "execution_count": 154,
   "metadata": {},
   "outputs": [],
   "source": [
    "data.columns = ['name', '25bins']"
   ]
  },
  {
   "cell_type": "code",
   "execution_count": 161,
   "metadata": {},
   "outputs": [],
   "source": [
    "df.columns = ['name', 'cluster_lat', 'cluster_lon', 'nightlights', 'predict',\n",
    "       'score', 'lo', 'lat', 'PAC', 'name_y', 'population', 'code_x',\n",
    "       'name_x.1', 'gdp', 'code_y', 'name_y.1', 'host', 'code_x.1', 'name_x',\n",
    "       'second', 'code_y.1', 'name_y', 's']"
   ]
  },
  {
   "cell_type": "code",
   "execution_count": 92,
   "metadata": {},
   "outputs": [],
   "source": [
    "df = df.merge(data, left_on='name', right_on='name')"
   ]
  },
  {
   "cell_type": "code",
   "execution_count": 93,
   "metadata": {},
   "outputs": [],
   "source": [
    "df.to_csv('df.csv', index=False)"
   ]
  },
  {
   "cell_type": "code",
   "execution_count": 115,
   "metadata": {},
   "outputs": [],
   "source": [
    "df = df.drop(['Unnamed: 0'], axis=1)"
   ]
  },
  {
   "cell_type": "code",
   "execution_count": 116,
   "metadata": {},
   "outputs": [],
   "source": [
    "pca = np.load('pac_y.npy')"
   ]
  },
  {
   "cell_type": "code",
   "execution_count": 121,
   "metadata": {},
   "outputs": [],
   "source": [
    "pca = pd.DataFrame({'name': data.name, 'pca':pca})"
   ]
  },
  {
   "cell_type": "code",
   "execution_count": 124,
   "metadata": {},
   "outputs": [],
   "source": [
    "df.to_csv('df.csc', index=False)"
   ]
  },
  {
   "cell_type": "code",
   "execution_count": 95,
   "metadata": {},
   "outputs": [
    {
     "data": {
      "text/html": [
       "<div>\n",
       "<style scoped>\n",
       "    .dataframe tbody tr th:only-of-type {\n",
       "        vertical-align: middle;\n",
       "    }\n",
       "\n",
       "    .dataframe tbody tr th {\n",
       "        vertical-align: top;\n",
       "    }\n",
       "\n",
       "    .dataframe thead th {\n",
       "        text-align: right;\n",
       "    }\n",
       "</style>\n",
       "<table border=\"1\" class=\"dataframe\">\n",
       "  <thead>\n",
       "    <tr style=\"text-align: right;\">\n",
       "      <th></th>\n",
       "      <th>nl</th>\n",
       "      <th>gdp</th>\n",
       "    </tr>\n",
       "  </thead>\n",
       "  <tbody>\n",
       "    <tr>\n",
       "      <th>nl</th>\n",
       "      <td>1.00000</td>\n",
       "      <td>0.03601</td>\n",
       "    </tr>\n",
       "    <tr>\n",
       "      <th>gdp</th>\n",
       "      <td>0.03601</td>\n",
       "      <td>1.00000</td>\n",
       "    </tr>\n",
       "  </tbody>\n",
       "</table>\n",
       "</div>"
      ],
      "text/plain": [
       "          nl      gdp\n",
       "nl   1.00000  0.03601\n",
       "gdp  0.03601  1.00000"
      ]
     },
     "execution_count": 95,
     "metadata": {},
     "output_type": "execute_result"
    }
   ],
   "source": [
    "df[['nl', 'gdp']].corr('spearman')"
   ]
  },
  {
   "cell_type": "code",
   "execution_count": 94,
   "metadata": {},
   "outputs": [
    {
     "data": {
      "text/html": [
       "<div>\n",
       "<style scoped>\n",
       "    .dataframe tbody tr th:only-of-type {\n",
       "        vertical-align: middle;\n",
       "    }\n",
       "\n",
       "    .dataframe tbody tr th {\n",
       "        vertical-align: top;\n",
       "    }\n",
       "\n",
       "    .dataframe thead th {\n",
       "        text-align: right;\n",
       "    }\n",
       "</style>\n",
       "<table border=\"1\" class=\"dataframe\">\n",
       "  <thead>\n",
       "    <tr style=\"text-align: right;\">\n",
       "      <th></th>\n",
       "      <th>res-m</th>\n",
       "      <th>gdp</th>\n",
       "    </tr>\n",
       "  </thead>\n",
       "  <tbody>\n",
       "    <tr>\n",
       "      <th>res-m</th>\n",
       "      <td>1.000000</td>\n",
       "      <td>0.541525</td>\n",
       "    </tr>\n",
       "    <tr>\n",
       "      <th>gdp</th>\n",
       "      <td>0.541525</td>\n",
       "      <td>1.000000</td>\n",
       "    </tr>\n",
       "  </tbody>\n",
       "</table>\n",
       "</div>"
      ],
      "text/plain": [
       "          res-m       gdp\n",
       "res-m  1.000000  0.541525\n",
       "gdp    0.541525  1.000000"
      ]
     },
     "execution_count": 94,
     "metadata": {},
     "output_type": "execute_result"
    }
   ],
   "source": [
    "df[['res-m', 'gdp']].corr('spearman')"
   ]
  },
  {
   "cell_type": "code",
   "execution_count": 86,
   "metadata": {},
   "outputs": [
    {
     "data": {
      "text/html": [
       "<div>\n",
       "<style scoped>\n",
       "    .dataframe tbody tr th:only-of-type {\n",
       "        vertical-align: middle;\n",
       "    }\n",
       "\n",
       "    .dataframe tbody tr th {\n",
       "        vertical-align: top;\n",
       "    }\n",
       "\n",
       "    .dataframe thead th {\n",
       "        text-align: right;\n",
       "    }\n",
       "</style>\n",
       "<table border=\"1\" class=\"dataframe\">\n",
       "  <thead>\n",
       "    <tr style=\"text-align: right;\">\n",
       "      <th></th>\n",
       "      <th>nightlights</th>\n",
       "      <th>gdp</th>\n",
       "    </tr>\n",
       "  </thead>\n",
       "  <tbody>\n",
       "    <tr>\n",
       "      <th>nightlights</th>\n",
       "      <td>1.000000</td>\n",
       "      <td>0.391717</td>\n",
       "    </tr>\n",
       "    <tr>\n",
       "      <th>gdp</th>\n",
       "      <td>0.391717</td>\n",
       "      <td>1.000000</td>\n",
       "    </tr>\n",
       "  </tbody>\n",
       "</table>\n",
       "</div>"
      ],
      "text/plain": [
       "             nightlights       gdp\n",
       "nightlights     1.000000  0.391717\n",
       "gdp             0.391717  1.000000"
      ]
     },
     "execution_count": 86,
     "metadata": {},
     "output_type": "execute_result"
    }
   ],
   "source": [
    "df[['nightlights', 'gdp']].corr('spearman')"
   ]
  },
  {
   "cell_type": "code",
   "execution_count": 85,
   "metadata": {},
   "outputs": [
    {
     "data": {
      "text/html": [
       "<div>\n",
       "<style scoped>\n",
       "    .dataframe tbody tr th:only-of-type {\n",
       "        vertical-align: middle;\n",
       "    }\n",
       "\n",
       "    .dataframe tbody tr th {\n",
       "        vertical-align: top;\n",
       "    }\n",
       "\n",
       "    .dataframe thead th {\n",
       "        text-align: right;\n",
       "    }\n",
       "</style>\n",
       "<table border=\"1\" class=\"dataframe\">\n",
       "  <thead>\n",
       "    <tr style=\"text-align: right;\">\n",
       "      <th></th>\n",
       "      <th>nightlights</th>\n",
       "      <th>gdp</th>\n",
       "    </tr>\n",
       "  </thead>\n",
       "  <tbody>\n",
       "    <tr>\n",
       "      <th>nightlights</th>\n",
       "      <td>1.000000</td>\n",
       "      <td>0.698051</td>\n",
       "    </tr>\n",
       "    <tr>\n",
       "      <th>gdp</th>\n",
       "      <td>0.698051</td>\n",
       "      <td>1.000000</td>\n",
       "    </tr>\n",
       "  </tbody>\n",
       "</table>\n",
       "</div>"
      ],
      "text/plain": [
       "             nightlights       gdp\n",
       "nightlights     1.000000  0.698051\n",
       "gdp             0.698051  1.000000"
      ]
     },
     "execution_count": 85,
     "metadata": {},
     "output_type": "execute_result"
    }
   ],
   "source": [
    "df.groupby('PAC').mean()[['nightlights', 'gdp']].corr('spearman')"
   ]
  },
  {
   "cell_type": "code",
   "execution_count": 79,
   "metadata": {
    "scrolled": true
   },
   "outputs": [
    {
     "data": {
      "text/html": [
       "<div>\n",
       "<style scoped>\n",
       "    .dataframe tbody tr th:only-of-type {\n",
       "        vertical-align: middle;\n",
       "    }\n",
       "\n",
       "    .dataframe tbody tr th {\n",
       "        vertical-align: top;\n",
       "    }\n",
       "\n",
       "    .dataframe thead th {\n",
       "        text-align: right;\n",
       "    }\n",
       "</style>\n",
       "<table border=\"1\" class=\"dataframe\">\n",
       "  <thead>\n",
       "    <tr style=\"text-align: right;\">\n",
       "      <th></th>\n",
       "      <th>nl</th>\n",
       "      <th>gdp</th>\n",
       "    </tr>\n",
       "  </thead>\n",
       "  <tbody>\n",
       "    <tr>\n",
       "      <th>nl</th>\n",
       "      <td>1.000000</td>\n",
       "      <td>0.166461</td>\n",
       "    </tr>\n",
       "    <tr>\n",
       "      <th>gdp</th>\n",
       "      <td>0.166461</td>\n",
       "      <td>1.000000</td>\n",
       "    </tr>\n",
       "  </tbody>\n",
       "</table>\n",
       "</div>"
      ],
      "text/plain": [
       "           nl       gdp\n",
       "nl   1.000000  0.166461\n",
       "gdp  0.166461  1.000000"
      ]
     },
     "execution_count": 79,
     "metadata": {},
     "output_type": "execute_result"
    }
   ],
   "source": [
    "df.groupby('PAC').mean()[['nl', 'gdp']].corr('spearman')"
   ]
  },
  {
   "cell_type": "code",
   "execution_count": 70,
   "metadata": {},
   "outputs": [
    {
     "data": {
      "text/html": [
       "<div>\n",
       "<style scoped>\n",
       "    .dataframe tbody tr th:only-of-type {\n",
       "        vertical-align: middle;\n",
       "    }\n",
       "\n",
       "    .dataframe tbody tr th {\n",
       "        vertical-align: top;\n",
       "    }\n",
       "\n",
       "    .dataframe thead th {\n",
       "        text-align: right;\n",
       "    }\n",
       "</style>\n",
       "<table border=\"1\" class=\"dataframe\">\n",
       "  <thead>\n",
       "    <tr style=\"text-align: right;\">\n",
       "      <th></th>\n",
       "      <th>res-rankloss-10bins-100</th>\n",
       "      <th>gdp</th>\n",
       "    </tr>\n",
       "  </thead>\n",
       "  <tbody>\n",
       "    <tr>\n",
       "      <th>res-rankloss-10bins-100</th>\n",
       "      <td>1.000000</td>\n",
       "      <td>0.477945</td>\n",
       "    </tr>\n",
       "    <tr>\n",
       "      <th>gdp</th>\n",
       "      <td>0.477945</td>\n",
       "      <td>1.000000</td>\n",
       "    </tr>\n",
       "  </tbody>\n",
       "</table>\n",
       "</div>"
      ],
      "text/plain": [
       "                         res-rankloss-10bins-100       gdp\n",
       "res-rankloss-10bins-100                 1.000000  0.477945\n",
       "gdp                                     0.477945  1.000000"
      ]
     },
     "execution_count": 70,
     "metadata": {},
     "output_type": "execute_result"
    }
   ],
   "source": [
    "df.groupby('PAC').mean()[['res-rankloss-10bins-100', 'gdp']].corr('spearman')"
   ]
  },
  {
   "cell_type": "code",
   "execution_count": 49,
   "metadata": {},
   "outputs": [
    {
     "data": {
      "text/html": [
       "<div>\n",
       "<style scoped>\n",
       "    .dataframe tbody tr th:only-of-type {\n",
       "        vertical-align: middle;\n",
       "    }\n",
       "\n",
       "    .dataframe tbody tr th {\n",
       "        vertical-align: top;\n",
       "    }\n",
       "\n",
       "    .dataframe thead th {\n",
       "        text-align: right;\n",
       "    }\n",
       "</style>\n",
       "<table border=\"1\" class=\"dataframe\">\n",
       "  <thead>\n",
       "    <tr style=\"text-align: right;\">\n",
       "      <th></th>\n",
       "      <th>rank10-drop</th>\n",
       "      <th>gdp</th>\n",
       "    </tr>\n",
       "  </thead>\n",
       "  <tbody>\n",
       "    <tr>\n",
       "      <th>rank10-drop</th>\n",
       "      <td>1.000000</td>\n",
       "      <td>0.413136</td>\n",
       "    </tr>\n",
       "    <tr>\n",
       "      <th>gdp</th>\n",
       "      <td>0.413136</td>\n",
       "      <td>1.000000</td>\n",
       "    </tr>\n",
       "  </tbody>\n",
       "</table>\n",
       "</div>"
      ],
      "text/plain": [
       "             rank10-drop       gdp\n",
       "rank10-drop     1.000000  0.413136\n",
       "gdp             0.413136  1.000000"
      ]
     },
     "execution_count": 49,
     "metadata": {},
     "output_type": "execute_result"
    }
   ],
   "source": [
    "df.groupby('PAC').mean()[['rank10-drop', 'gdp']].corr('spearman')"
   ]
  },
  {
   "cell_type": "code",
   "execution_count": 37,
   "metadata": {},
   "outputs": [],
   "source": [
    "df.to_csv('df_model3_25_bins.csv', index=False)"
   ]
  },
  {
   "cell_type": "code",
   "execution_count": 10,
   "metadata": {},
   "outputs": [],
   "source": [
    "df = pd.read_csv('df.csv')"
   ]
  },
  {
   "cell_type": "code",
   "execution_count": null,
   "metadata": {},
   "outputs": [],
   "source": [
    "data"
   ]
  },
  {
   "cell_type": "code",
   "execution_count": 61,
   "metadata": {},
   "outputs": [],
   "source": [
    "df = df.merge(data)"
   ]
  },
  {
   "cell_type": "code",
   "execution_count": null,
   "metadata": {},
   "outputs": [],
   "source": [
    "df"
   ]
  },
  {
   "cell_type": "code",
   "execution_count": 37,
   "metadata": {},
   "outputs": [
    {
     "data": {
      "text/html": [
       "<div>\n",
       "<style scoped>\n",
       "    .dataframe tbody tr th:only-of-type {\n",
       "        vertical-align: middle;\n",
       "    }\n",
       "\n",
       "    .dataframe tbody tr th {\n",
       "        vertical-align: top;\n",
       "    }\n",
       "\n",
       "    .dataframe thead th {\n",
       "        text-align: right;\n",
       "    }\n",
       "</style>\n",
       "<table border=\"1\" class=\"dataframe\">\n",
       "  <thead>\n",
       "    <tr style=\"text-align: right;\">\n",
       "      <th></th>\n",
       "      <th>rank10</th>\n",
       "      <th>gdp</th>\n",
       "    </tr>\n",
       "  </thead>\n",
       "  <tbody>\n",
       "    <tr>\n",
       "      <th>rank10</th>\n",
       "      <td>1.00000</td>\n",
       "      <td>0.56399</td>\n",
       "    </tr>\n",
       "    <tr>\n",
       "      <th>gdp</th>\n",
       "      <td>0.56399</td>\n",
       "      <td>1.00000</td>\n",
       "    </tr>\n",
       "  </tbody>\n",
       "</table>\n",
       "</div>"
      ],
      "text/plain": [
       "         rank10      gdp\n",
       "rank10  1.00000  0.56399\n",
       "gdp     0.56399  1.00000"
      ]
     },
     "execution_count": 37,
     "metadata": {},
     "output_type": "execute_result"
    }
   ],
   "source": [
    "df.groupby('PAC').mean()[['rank10', 'gdp']].corr('spearman')"
   ]
  },
  {
   "cell_type": "code",
   "execution_count": 36,
   "metadata": {},
   "outputs": [
    {
     "data": {
      "text/html": [
       "<div>\n",
       "<style scoped>\n",
       "    .dataframe tbody tr th:only-of-type {\n",
       "        vertical-align: middle;\n",
       "    }\n",
       "\n",
       "    .dataframe tbody tr th {\n",
       "        vertical-align: top;\n",
       "    }\n",
       "\n",
       "    .dataframe thead th {\n",
       "        text-align: right;\n",
       "    }\n",
       "</style>\n",
       "<table border=\"1\" class=\"dataframe\">\n",
       "  <thead>\n",
       "    <tr style=\"text-align: right;\">\n",
       "      <th></th>\n",
       "      <th>rank10-</th>\n",
       "      <th>nightlights</th>\n",
       "    </tr>\n",
       "  </thead>\n",
       "  <tbody>\n",
       "    <tr>\n",
       "      <th>rank10-</th>\n",
       "      <td>1.000000</td>\n",
       "      <td>0.668047</td>\n",
       "    </tr>\n",
       "    <tr>\n",
       "      <th>nightlights</th>\n",
       "      <td>0.668047</td>\n",
       "      <td>1.000000</td>\n",
       "    </tr>\n",
       "  </tbody>\n",
       "</table>\n",
       "</div>"
      ],
      "text/plain": [
       "              rank10-  nightlights\n",
       "rank10-      1.000000     0.668047\n",
       "nightlights  0.668047     1.000000"
      ]
     },
     "execution_count": 36,
     "metadata": {},
     "output_type": "execute_result"
    }
   ],
   "source": [
    "df.groupby('PAC').mean()[['rank10-', 'nightlights']].corr('spearman')"
   ]
  },
  {
   "cell_type": "code",
   "execution_count": null,
   "metadata": {},
   "outputs": [],
   "source": [
    "df.to_csv()"
   ]
  },
  {
   "cell_type": "code",
   "execution_count": 64,
   "metadata": {},
   "outputs": [
    {
     "data": {
      "text/html": [
       "<div>\n",
       "<style scoped>\n",
       "    .dataframe tbody tr th:only-of-type {\n",
       "        vertical-align: middle;\n",
       "    }\n",
       "\n",
       "    .dataframe tbody tr th {\n",
       "        vertical-align: top;\n",
       "    }\n",
       "\n",
       "    .dataframe thead th {\n",
       "        text-align: right;\n",
       "    }\n",
       "</style>\n",
       "<table border=\"1\" class=\"dataframe\">\n",
       "  <thead>\n",
       "    <tr style=\"text-align: right;\">\n",
       "      <th></th>\n",
       "      <th>nightlights</th>\n",
       "      <th>nl-res</th>\n",
       "    </tr>\n",
       "  </thead>\n",
       "  <tbody>\n",
       "    <tr>\n",
       "      <th>nightlights</th>\n",
       "      <td>1.000000</td>\n",
       "      <td>0.140072</td>\n",
       "    </tr>\n",
       "    <tr>\n",
       "      <th>nl-res</th>\n",
       "      <td>0.140072</td>\n",
       "      <td>1.000000</td>\n",
       "    </tr>\n",
       "  </tbody>\n",
       "</table>\n",
       "</div>"
      ],
      "text/plain": [
       "             nightlights    nl-res\n",
       "nightlights     1.000000  0.140072\n",
       "nl-res          0.140072  1.000000"
      ]
     },
     "execution_count": 64,
     "metadata": {},
     "output_type": "execute_result"
    }
   ],
   "source": [
    "df.groupby('PAC').mean()[['nightlights', 'nl-res']].corr('spearman')"
   ]
  },
  {
   "cell_type": "code",
   "execution_count": 40,
   "metadata": {
    "scrolled": true
   },
   "outputs": [
    {
     "data": {
      "text/html": [
       "<div>\n",
       "<style scoped>\n",
       "    .dataframe tbody tr th:only-of-type {\n",
       "        vertical-align: middle;\n",
       "    }\n",
       "\n",
       "    .dataframe tbody tr th {\n",
       "        vertical-align: top;\n",
       "    }\n",
       "\n",
       "    .dataframe thead th {\n",
       "        text-align: right;\n",
       "    }\n",
       "</style>\n",
       "<table border=\"1\" class=\"dataframe\">\n",
       "  <thead>\n",
       "    <tr style=\"text-align: right;\">\n",
       "      <th></th>\n",
       "      <th>rank10-</th>\n",
       "      <th>gdp</th>\n",
       "    </tr>\n",
       "  </thead>\n",
       "  <tbody>\n",
       "    <tr>\n",
       "      <th>rank10-</th>\n",
       "      <td>1.000000</td>\n",
       "      <td>0.565897</td>\n",
       "    </tr>\n",
       "    <tr>\n",
       "      <th>gdp</th>\n",
       "      <td>0.565897</td>\n",
       "      <td>1.000000</td>\n",
       "    </tr>\n",
       "  </tbody>\n",
       "</table>\n",
       "</div>"
      ],
      "text/plain": [
       "          rank10-       gdp\n",
       "rank10-  1.000000  0.565897\n",
       "gdp      0.565897  1.000000"
      ]
     },
     "execution_count": 40,
     "metadata": {},
     "output_type": "execute_result"
    }
   ],
   "source": [
    "df.groupby('PAC').mean()[['rank10-', 'gdp']].corr('spearman')"
   ]
  },
  {
   "cell_type": "code",
   "execution_count": 71,
   "metadata": {},
   "outputs": [
    {
     "data": {
      "text/html": [
       "<div>\n",
       "<style scoped>\n",
       "    .dataframe tbody tr th:only-of-type {\n",
       "        vertical-align: middle;\n",
       "    }\n",
       "\n",
       "    .dataframe tbody tr th {\n",
       "        vertical-align: top;\n",
       "    }\n",
       "\n",
       "    .dataframe thead th {\n",
       "        text-align: right;\n",
       "    }\n",
       "</style>\n",
       "<table border=\"1\" class=\"dataframe\">\n",
       "  <thead>\n",
       "    <tr style=\"text-align: right;\">\n",
       "      <th></th>\n",
       "      <th>nightlights</th>\n",
       "      <th>gdp</th>\n",
       "    </tr>\n",
       "  </thead>\n",
       "  <tbody>\n",
       "    <tr>\n",
       "      <th>nightlights</th>\n",
       "      <td>1.000000</td>\n",
       "      <td>0.587653</td>\n",
       "    </tr>\n",
       "    <tr>\n",
       "      <th>gdp</th>\n",
       "      <td>0.587653</td>\n",
       "      <td>1.000000</td>\n",
       "    </tr>\n",
       "  </tbody>\n",
       "</table>\n",
       "</div>"
      ],
      "text/plain": [
       "             nightlights       gdp\n",
       "nightlights     1.000000  0.587653\n",
       "gdp             0.587653  1.000000"
      ]
     },
     "execution_count": 71,
     "metadata": {},
     "output_type": "execute_result"
    }
   ],
   "source": [
    "df.groupby('PAC').mean()[['nightlights', 'gdp']].corr()"
   ]
  },
  {
   "cell_type": "code",
   "execution_count": 39,
   "metadata": {},
   "outputs": [
    {
     "data": {
      "text/html": [
       "<div>\n",
       "<style scoped>\n",
       "    .dataframe tbody tr th:only-of-type {\n",
       "        vertical-align: middle;\n",
       "    }\n",
       "\n",
       "    .dataframe tbody tr th {\n",
       "        vertical-align: top;\n",
       "    }\n",
       "\n",
       "    .dataframe thead th {\n",
       "        text-align: right;\n",
       "    }\n",
       "</style>\n",
       "<table border=\"1\" class=\"dataframe\">\n",
       "  <thead>\n",
       "    <tr style=\"text-align: right;\">\n",
       "      <th></th>\n",
       "      <th>rank10</th>\n",
       "      <th>gdp</th>\n",
       "    </tr>\n",
       "  </thead>\n",
       "  <tbody>\n",
       "    <tr>\n",
       "      <th>rank10</th>\n",
       "      <td>1.000000</td>\n",
       "      <td>0.429859</td>\n",
       "    </tr>\n",
       "    <tr>\n",
       "      <th>gdp</th>\n",
       "      <td>0.429859</td>\n",
       "      <td>1.000000</td>\n",
       "    </tr>\n",
       "  </tbody>\n",
       "</table>\n",
       "</div>"
      ],
      "text/plain": [
       "          rank10       gdp\n",
       "rank10  1.000000  0.429859\n",
       "gdp     0.429859  1.000000"
      ]
     },
     "execution_count": 39,
     "metadata": {},
     "output_type": "execute_result"
    }
   ],
   "source": [
    "df.groupby('PAC').mean()[['rank10', 'gdp']].corr()"
   ]
  },
  {
   "cell_type": "code",
   "execution_count": 18,
   "metadata": {},
   "outputs": [
    {
     "data": {
      "text/html": [
       "<div>\n",
       "<style scoped>\n",
       "    .dataframe tbody tr th:only-of-type {\n",
       "        vertical-align: middle;\n",
       "    }\n",
       "\n",
       "    .dataframe tbody tr th {\n",
       "        vertical-align: top;\n",
       "    }\n",
       "\n",
       "    .dataframe thead th {\n",
       "        text-align: right;\n",
       "    }\n",
       "</style>\n",
       "<table border=\"1\" class=\"dataframe\">\n",
       "  <thead>\n",
       "    <tr style=\"text-align: right;\">\n",
       "      <th></th>\n",
       "      <th>rank25</th>\n",
       "      <th>gdp</th>\n",
       "    </tr>\n",
       "  </thead>\n",
       "  <tbody>\n",
       "    <tr>\n",
       "      <th>rank25</th>\n",
       "      <td>1.000000</td>\n",
       "      <td>0.486958</td>\n",
       "    </tr>\n",
       "    <tr>\n",
       "      <th>gdp</th>\n",
       "      <td>0.486958</td>\n",
       "      <td>1.000000</td>\n",
       "    </tr>\n",
       "  </tbody>\n",
       "</table>\n",
       "</div>"
      ],
      "text/plain": [
       "          rank25       gdp\n",
       "rank25  1.000000  0.486958\n",
       "gdp     0.486958  1.000000"
      ]
     },
     "execution_count": 18,
     "metadata": {},
     "output_type": "execute_result"
    }
   ],
   "source": [
    "df.groupby('PAC').mean()[['rank25', 'gdp']].corr('spearman')"
   ]
  },
  {
   "cell_type": "code",
   "execution_count": null,
   "metadata": {},
   "outputs": [],
   "source": []
  },
  {
   "cell_type": "code",
   "execution_count": 1,
   "metadata": {},
   "outputs": [],
   "source": [
    "import pandas as pd"
   ]
  },
  {
   "cell_type": "code",
   "execution_count": 12,
   "metadata": {},
   "outputs": [],
   "source": [
    "df = pd.read_csv('df_model1.csv')"
   ]
  },
  {
   "cell_type": "code",
   "execution_count": 13,
   "metadata": {},
   "outputs": [],
   "source": [
    "cp = pd.read_csv('./center2PA.csv')"
   ]
  },
  {
   "cell_type": "code",
   "execution_count": 14,
   "metadata": {},
   "outputs": [],
   "source": [
    "df = df.merge(cp)"
   ]
  },
  {
   "cell_type": "code",
   "execution_count": 15,
   "metadata": {},
   "outputs": [],
   "source": [
    "population = pd.read_csv('population.csv')\n",
    "gdp = pd.read_csv('地区生产总值.csv')\n",
    "second = pd.read_csv('第二产业增加值.csv')\n",
    "host = pd.read_csv('医院、卫生院床位数.csv')"
   ]
  },
  {
   "cell_type": "code",
   "execution_count": 16,
   "metadata": {},
   "outputs": [],
   "source": [
    "gdp['PAC'] = gdp.code.map(lambda x: str(int(x))) "
   ]
  },
  {
   "cell_type": "code",
   "execution_count": 89,
   "metadata": {
    "collapsed": true
   },
   "outputs": [
    {
     "ename": "KeyError",
     "evalue": "'PAC'",
     "output_type": "error",
     "traceback": [
      "\u001b[0;31m---------------------------------------------------------------------------\u001b[0m",
      "\u001b[0;31mKeyError\u001b[0m                                  Traceback (most recent call last)",
      "\u001b[0;32m<ipython-input-89-26363488c0f2>\u001b[0m in \u001b[0;36m<module>\u001b[0;34m\u001b[0m\n\u001b[0;32m----> 1\u001b[0;31m \u001b[0mdf\u001b[0m \u001b[0;34m=\u001b[0m \u001b[0mdf\u001b[0m\u001b[0;34m.\u001b[0m\u001b[0mmerge\u001b[0m\u001b[0;34m(\u001b[0m\u001b[0msecond\u001b[0m\u001b[0;34m,\u001b[0m \u001b[0mleft_on\u001b[0m\u001b[0;34m=\u001b[0m\u001b[0;34m'PAC'\u001b[0m\u001b[0;34m,\u001b[0m \u001b[0mright_on\u001b[0m\u001b[0;34m=\u001b[0m\u001b[0;34m'PAC'\u001b[0m\u001b[0;34m)\u001b[0m\u001b[0;34m\u001b[0m\u001b[0;34m\u001b[0m\u001b[0m\n\u001b[0m",
      "\u001b[0;32m~/anaconda3/envs/pytorch/lib/python3.6/site-packages/pandas/core/frame.py\u001b[0m in \u001b[0;36mmerge\u001b[0;34m(self, right, how, on, left_on, right_on, left_index, right_index, sort, suffixes, copy, indicator, validate)\u001b[0m\n\u001b[1;32m   7961\u001b[0m             \u001b[0mcopy\u001b[0m\u001b[0;34m=\u001b[0m\u001b[0mcopy\u001b[0m\u001b[0;34m,\u001b[0m\u001b[0;34m\u001b[0m\u001b[0;34m\u001b[0m\u001b[0m\n\u001b[1;32m   7962\u001b[0m             \u001b[0mindicator\u001b[0m\u001b[0;34m=\u001b[0m\u001b[0mindicator\u001b[0m\u001b[0;34m,\u001b[0m\u001b[0;34m\u001b[0m\u001b[0;34m\u001b[0m\u001b[0m\n\u001b[0;32m-> 7963\u001b[0;31m             \u001b[0mvalidate\u001b[0m\u001b[0;34m=\u001b[0m\u001b[0mvalidate\u001b[0m\u001b[0;34m,\u001b[0m\u001b[0;34m\u001b[0m\u001b[0;34m\u001b[0m\u001b[0m\n\u001b[0m\u001b[1;32m   7964\u001b[0m         )\n\u001b[1;32m   7965\u001b[0m \u001b[0;34m\u001b[0m\u001b[0m\n",
      "\u001b[0;32m~/anaconda3/envs/pytorch/lib/python3.6/site-packages/pandas/core/reshape/merge.py\u001b[0m in \u001b[0;36mmerge\u001b[0;34m(left, right, how, on, left_on, right_on, left_index, right_index, sort, suffixes, copy, indicator, validate)\u001b[0m\n\u001b[1;32m     85\u001b[0m         \u001b[0mcopy\u001b[0m\u001b[0;34m=\u001b[0m\u001b[0mcopy\u001b[0m\u001b[0;34m,\u001b[0m\u001b[0;34m\u001b[0m\u001b[0;34m\u001b[0m\u001b[0m\n\u001b[1;32m     86\u001b[0m         \u001b[0mindicator\u001b[0m\u001b[0;34m=\u001b[0m\u001b[0mindicator\u001b[0m\u001b[0;34m,\u001b[0m\u001b[0;34m\u001b[0m\u001b[0;34m\u001b[0m\u001b[0m\n\u001b[0;32m---> 87\u001b[0;31m         \u001b[0mvalidate\u001b[0m\u001b[0;34m=\u001b[0m\u001b[0mvalidate\u001b[0m\u001b[0;34m,\u001b[0m\u001b[0;34m\u001b[0m\u001b[0;34m\u001b[0m\u001b[0m\n\u001b[0m\u001b[1;32m     88\u001b[0m     )\n\u001b[1;32m     89\u001b[0m     \u001b[0;32mreturn\u001b[0m \u001b[0mop\u001b[0m\u001b[0;34m.\u001b[0m\u001b[0mget_result\u001b[0m\u001b[0;34m(\u001b[0m\u001b[0;34m)\u001b[0m\u001b[0;34m\u001b[0m\u001b[0;34m\u001b[0m\u001b[0m\n",
      "\u001b[0;32m~/anaconda3/envs/pytorch/lib/python3.6/site-packages/pandas/core/reshape/merge.py\u001b[0m in \u001b[0;36m__init__\u001b[0;34m(self, left, right, how, on, left_on, right_on, axis, left_index, right_index, sort, suffixes, copy, indicator, validate)\u001b[0m\n\u001b[1;32m    650\u001b[0m             \u001b[0mself\u001b[0m\u001b[0;34m.\u001b[0m\u001b[0mright_join_keys\u001b[0m\u001b[0;34m,\u001b[0m\u001b[0;34m\u001b[0m\u001b[0;34m\u001b[0m\u001b[0m\n\u001b[1;32m    651\u001b[0m             \u001b[0mself\u001b[0m\u001b[0;34m.\u001b[0m\u001b[0mjoin_names\u001b[0m\u001b[0;34m,\u001b[0m\u001b[0;34m\u001b[0m\u001b[0;34m\u001b[0m\u001b[0m\n\u001b[0;32m--> 652\u001b[0;31m         ) = self._get_merge_keys()\n\u001b[0m\u001b[1;32m    653\u001b[0m \u001b[0;34m\u001b[0m\u001b[0m\n\u001b[1;32m    654\u001b[0m         \u001b[0;31m# validate the merge keys dtypes. We may need to coerce\u001b[0m\u001b[0;34m\u001b[0m\u001b[0;34m\u001b[0m\u001b[0;34m\u001b[0m\u001b[0m\n",
      "\u001b[0;32m~/anaconda3/envs/pytorch/lib/python3.6/site-packages/pandas/core/reshape/merge.py\u001b[0m in \u001b[0;36m_get_merge_keys\u001b[0;34m(self)\u001b[0m\n\u001b[1;32m   1003\u001b[0m                     \u001b[0;32mif\u001b[0m \u001b[0;32mnot\u001b[0m \u001b[0mis_rkey\u001b[0m\u001b[0;34m(\u001b[0m\u001b[0mrk\u001b[0m\u001b[0;34m)\u001b[0m\u001b[0;34m:\u001b[0m\u001b[0;34m\u001b[0m\u001b[0;34m\u001b[0m\u001b[0m\n\u001b[1;32m   1004\u001b[0m                         \u001b[0;32mif\u001b[0m \u001b[0mrk\u001b[0m \u001b[0;32mis\u001b[0m \u001b[0;32mnot\u001b[0m \u001b[0;32mNone\u001b[0m\u001b[0;34m:\u001b[0m\u001b[0;34m\u001b[0m\u001b[0;34m\u001b[0m\u001b[0m\n\u001b[0;32m-> 1005\u001b[0;31m                             \u001b[0mright_keys\u001b[0m\u001b[0;34m.\u001b[0m\u001b[0mappend\u001b[0m\u001b[0;34m(\u001b[0m\u001b[0mright\u001b[0m\u001b[0;34m.\u001b[0m\u001b[0m_get_label_or_level_values\u001b[0m\u001b[0;34m(\u001b[0m\u001b[0mrk\u001b[0m\u001b[0;34m)\u001b[0m\u001b[0;34m)\u001b[0m\u001b[0;34m\u001b[0m\u001b[0;34m\u001b[0m\u001b[0m\n\u001b[0m\u001b[1;32m   1006\u001b[0m                         \u001b[0;32melse\u001b[0m\u001b[0;34m:\u001b[0m\u001b[0;34m\u001b[0m\u001b[0;34m\u001b[0m\u001b[0m\n\u001b[1;32m   1007\u001b[0m                             \u001b[0;31m# work-around for merge_asof(right_index=True)\u001b[0m\u001b[0;34m\u001b[0m\u001b[0;34m\u001b[0m\u001b[0;34m\u001b[0m\u001b[0m\n",
      "\u001b[0;32m~/anaconda3/envs/pytorch/lib/python3.6/site-packages/pandas/core/generic.py\u001b[0m in \u001b[0;36m_get_label_or_level_values\u001b[0;34m(self, key, axis)\u001b[0m\n\u001b[1;32m   1561\u001b[0m             \u001b[0mvalues\u001b[0m \u001b[0;34m=\u001b[0m \u001b[0mself\u001b[0m\u001b[0;34m.\u001b[0m\u001b[0maxes\u001b[0m\u001b[0;34m[\u001b[0m\u001b[0maxis\u001b[0m\u001b[0;34m]\u001b[0m\u001b[0;34m.\u001b[0m\u001b[0mget_level_values\u001b[0m\u001b[0;34m(\u001b[0m\u001b[0mkey\u001b[0m\u001b[0;34m)\u001b[0m\u001b[0;34m.\u001b[0m\u001b[0m_values\u001b[0m\u001b[0;34m\u001b[0m\u001b[0;34m\u001b[0m\u001b[0m\n\u001b[1;32m   1562\u001b[0m         \u001b[0;32melse\u001b[0m\u001b[0;34m:\u001b[0m\u001b[0;34m\u001b[0m\u001b[0;34m\u001b[0m\u001b[0m\n\u001b[0;32m-> 1563\u001b[0;31m             \u001b[0;32mraise\u001b[0m \u001b[0mKeyError\u001b[0m\u001b[0;34m(\u001b[0m\u001b[0mkey\u001b[0m\u001b[0;34m)\u001b[0m\u001b[0;34m\u001b[0m\u001b[0;34m\u001b[0m\u001b[0m\n\u001b[0m\u001b[1;32m   1564\u001b[0m \u001b[0;34m\u001b[0m\u001b[0m\n\u001b[1;32m   1565\u001b[0m         \u001b[0;31m# Check for duplicates\u001b[0m\u001b[0;34m\u001b[0m\u001b[0;34m\u001b[0m\u001b[0;34m\u001b[0m\u001b[0m\n",
      "\u001b[0;31mKeyError\u001b[0m: 'PAC'"
     ]
    }
   ],
   "source": [
    "df = df.merge(second, left_on='PAC', right_on='PAC')"
   ]
  },
  {
   "cell_type": "code",
   "execution_count": 48,
   "metadata": {},
   "outputs": [],
   "source": [
    "df.columns = ['name_x', 'cluster_lat', 'cluster_lon', 'nightlights', 'predict',\n",
    "       'score', 'lo', 'lat', 'PAC', 'name_y', 'population', 'code_x', 'name_x',\n",
    "       'gdp', 'code_y', 'name_y', 'host', 'code_x', 'name', 'second', 'code_y']"
   ]
  },
  {
   "cell_type": "code",
   "execution_count": 30,
   "metadata": {
    "scrolled": true
   },
   "outputs": [
    {
     "data": {
      "text/html": [
       "<div>\n",
       "<style scoped>\n",
       "    .dataframe tbody tr th:only-of-type {\n",
       "        vertical-align: middle;\n",
       "    }\n",
       "\n",
       "    .dataframe tbody tr th {\n",
       "        vertical-align: top;\n",
       "    }\n",
       "\n",
       "    .dataframe thead th {\n",
       "        text-align: right;\n",
       "    }\n",
       "</style>\n",
       "<table border=\"1\" class=\"dataframe\">\n",
       "  <thead>\n",
       "    <tr style=\"text-align: right;\">\n",
       "      <th></th>\n",
       "      <th>nightlights</th>\n",
       "      <th>score</th>\n",
       "    </tr>\n",
       "  </thead>\n",
       "  <tbody>\n",
       "    <tr>\n",
       "      <th>nightlights</th>\n",
       "      <td>1.000000</td>\n",
       "      <td>0.807044</td>\n",
       "    </tr>\n",
       "    <tr>\n",
       "      <th>score</th>\n",
       "      <td>0.807044</td>\n",
       "      <td>1.000000</td>\n",
       "    </tr>\n",
       "  </tbody>\n",
       "</table>\n",
       "</div>"
      ],
      "text/plain": [
       "             nightlights     score\n",
       "nightlights     1.000000  0.807044\n",
       "score           0.807044  1.000000"
      ]
     },
     "execution_count": 30,
     "metadata": {},
     "output_type": "execute_result"
    }
   ],
   "source": [
    "df[['nightlights', 'score']].corr(method='spearman')"
   ]
  },
  {
   "cell_type": "code",
   "execution_count": 50,
   "metadata": {
    "scrolled": true
   },
   "outputs": [
    {
     "data": {
      "text/html": [
       "<div>\n",
       "<style scoped>\n",
       "    .dataframe tbody tr th:only-of-type {\n",
       "        vertical-align: middle;\n",
       "    }\n",
       "\n",
       "    .dataframe tbody tr th {\n",
       "        vertical-align: top;\n",
       "    }\n",
       "\n",
       "    .dataframe thead th {\n",
       "        text-align: right;\n",
       "    }\n",
       "</style>\n",
       "<table border=\"1\" class=\"dataframe\">\n",
       "  <thead>\n",
       "    <tr style=\"text-align: right;\">\n",
       "      <th></th>\n",
       "      <th>score</th>\n",
       "      <th>second</th>\n",
       "    </tr>\n",
       "  </thead>\n",
       "  <tbody>\n",
       "    <tr>\n",
       "      <th>score</th>\n",
       "      <td>1.000000</td>\n",
       "      <td>0.283507</td>\n",
       "    </tr>\n",
       "    <tr>\n",
       "      <th>second</th>\n",
       "      <td>0.283507</td>\n",
       "      <td>1.000000</td>\n",
       "    </tr>\n",
       "  </tbody>\n",
       "</table>\n",
       "</div>"
      ],
      "text/plain": [
       "           score    second\n",
       "score   1.000000  0.283507\n",
       "second  0.283507  1.000000"
      ]
     },
     "execution_count": 50,
     "metadata": {},
     "output_type": "execute_result"
    }
   ],
   "source": [
    "df[['s', 'second']].corr(method='spearman')"
   ]
  },
  {
   "cell_type": "code",
   "execution_count": 80,
   "metadata": {},
   "outputs": [
    {
     "data": {
      "text/html": [
       "<div>\n",
       "<style scoped>\n",
       "    .dataframe tbody tr th:only-of-type {\n",
       "        vertical-align: middle;\n",
       "    }\n",
       "\n",
       "    .dataframe tbody tr th {\n",
       "        vertical-align: top;\n",
       "    }\n",
       "\n",
       "    .dataframe thead th {\n",
       "        text-align: right;\n",
       "    }\n",
       "</style>\n",
       "<table border=\"1\" class=\"dataframe\">\n",
       "  <thead>\n",
       "    <tr style=\"text-align: right;\">\n",
       "      <th></th>\n",
       "      <th>name_x</th>\n",
       "      <th>cluster_lat</th>\n",
       "      <th>cluster_lon</th>\n",
       "      <th>nightlights</th>\n",
       "      <th>predict</th>\n",
       "      <th>score</th>\n",
       "      <th>lo</th>\n",
       "      <th>lat</th>\n",
       "      <th>PAC</th>\n",
       "      <th>name_y</th>\n",
       "      <th>...</th>\n",
       "      <th>name_x</th>\n",
       "      <th>gdp</th>\n",
       "      <th>code_y</th>\n",
       "      <th>name_y</th>\n",
       "      <th>host</th>\n",
       "      <th>code_x</th>\n",
       "      <th>name</th>\n",
       "      <th>second</th>\n",
       "      <th>code_y</th>\n",
       "      <th>s</th>\n",
       "    </tr>\n",
       "  </thead>\n",
       "  <tbody>\n",
       "  </tbody>\n",
       "</table>\n",
       "<p>0 rows × 22 columns</p>\n",
       "</div>"
      ],
      "text/plain": [
       "Empty DataFrame\n",
       "Columns: [name_x, cluster_lat, cluster_lon, nightlights, predict, score, lo, lat, PAC, name_y, population, code_x, name_x, gdp, code_y, name_y, host, code_x, name, second, code_y, s]\n",
       "Index: []\n",
       "\n",
       "[0 rows x 22 columns]"
      ]
     },
     "execution_count": 80,
     "metadata": {},
     "output_type": "execute_result"
    }
   ],
   "source": [
    "df"
   ]
  },
  {
   "cell_type": "code",
   "execution_count": 79,
   "metadata": {},
   "outputs": [
    {
     "data": {
      "text/html": [
       "<div>\n",
       "<style scoped>\n",
       "    .dataframe tbody tr th:only-of-type {\n",
       "        vertical-align: middle;\n",
       "    }\n",
       "\n",
       "    .dataframe tbody tr th {\n",
       "        vertical-align: top;\n",
       "    }\n",
       "\n",
       "    .dataframe thead th {\n",
       "        text-align: right;\n",
       "    }\n",
       "</style>\n",
       "<table border=\"1\" class=\"dataframe\">\n",
       "  <thead>\n",
       "    <tr style=\"text-align: right;\">\n",
       "      <th></th>\n",
       "      <th>s</th>\n",
       "      <th>second</th>\n",
       "    </tr>\n",
       "  </thead>\n",
       "  <tbody>\n",
       "    <tr>\n",
       "      <th>s</th>\n",
       "      <td>NaN</td>\n",
       "      <td>NaN</td>\n",
       "    </tr>\n",
       "    <tr>\n",
       "      <th>second</th>\n",
       "      <td>NaN</td>\n",
       "      <td>NaN</td>\n",
       "    </tr>\n",
       "  </tbody>\n",
       "</table>\n",
       "</div>"
      ],
      "text/plain": [
       "         s  second\n",
       "s      NaN     NaN\n",
       "second NaN     NaN"
      ]
     },
     "execution_count": 79,
     "metadata": {},
     "output_type": "execute_result"
    }
   ],
   "source": [
    "df[['s', 'second']].corr(method='spearman')"
   ]
  },
  {
   "cell_type": "code",
   "execution_count": 165,
   "metadata": {},
   "outputs": [
    {
     "data": {
      "text/html": [
       "<div>\n",
       "<style scoped>\n",
       "    .dataframe tbody tr th:only-of-type {\n",
       "        vertical-align: middle;\n",
       "    }\n",
       "\n",
       "    .dataframe tbody tr th {\n",
       "        vertical-align: top;\n",
       "    }\n",
       "\n",
       "    .dataframe thead th {\n",
       "        text-align: right;\n",
       "    }\n",
       "</style>\n",
       "<table border=\"1\" class=\"dataframe\">\n",
       "  <thead>\n",
       "    <tr style=\"text-align: right;\">\n",
       "      <th></th>\n",
       "      <th>25bins</th>\n",
       "      <th>nightlights</th>\n",
       "    </tr>\n",
       "  </thead>\n",
       "  <tbody>\n",
       "    <tr>\n",
       "      <th>25bins</th>\n",
       "      <td>1.000000</td>\n",
       "      <td>0.744819</td>\n",
       "    </tr>\n",
       "    <tr>\n",
       "      <th>nightlights</th>\n",
       "      <td>0.744819</td>\n",
       "      <td>1.000000</td>\n",
       "    </tr>\n",
       "  </tbody>\n",
       "</table>\n",
       "</div>"
      ],
      "text/plain": [
       "               25bins  nightlights\n",
       "25bins       1.000000     0.744819\n",
       "nightlights  0.744819     1.000000"
      ]
     },
     "execution_count": 165,
     "metadata": {},
     "output_type": "execute_result"
    }
   ],
   "source": [
    "df[['25bins', 'gdp']].corr(method='spearman')"
   ]
  },
  {
   "cell_type": "code",
   "execution_count": 51,
   "metadata": {},
   "outputs": [
    {
     "data": {
      "text/html": [
       "<div>\n",
       "<style scoped>\n",
       "    .dataframe tbody tr th:only-of-type {\n",
       "        vertical-align: middle;\n",
       "    }\n",
       "\n",
       "    .dataframe tbody tr th {\n",
       "        vertical-align: top;\n",
       "    }\n",
       "\n",
       "    .dataframe thead th {\n",
       "        text-align: right;\n",
       "    }\n",
       "</style>\n",
       "<table border=\"1\" class=\"dataframe\">\n",
       "  <thead>\n",
       "    <tr style=\"text-align: right;\">\n",
       "      <th></th>\n",
       "      <th>score</th>\n",
       "      <th>gdp</th>\n",
       "    </tr>\n",
       "  </thead>\n",
       "  <tbody>\n",
       "    <tr>\n",
       "      <th>score</th>\n",
       "      <td>1.000000</td>\n",
       "      <td>0.366257</td>\n",
       "    </tr>\n",
       "    <tr>\n",
       "      <th>gdp</th>\n",
       "      <td>0.366257</td>\n",
       "      <td>1.000000</td>\n",
       "    </tr>\n",
       "  </tbody>\n",
       "</table>\n",
       "</div>"
      ],
      "text/plain": [
       "          score       gdp\n",
       "score  1.000000  0.366257\n",
       "gdp    0.366257  1.000000"
      ]
     },
     "execution_count": 51,
     "metadata": {},
     "output_type": "execute_result"
    }
   ],
   "source": [
    "df[['score', 'gdp']].corr(method='spearman')"
   ]
  },
  {
   "cell_type": "code",
   "execution_count": 53,
   "metadata": {},
   "outputs": [
    {
     "data": {
      "text/html": [
       "<div>\n",
       "<style scoped>\n",
       "    .dataframe tbody tr th:only-of-type {\n",
       "        vertical-align: middle;\n",
       "    }\n",
       "\n",
       "    .dataframe tbody tr th {\n",
       "        vertical-align: top;\n",
       "    }\n",
       "\n",
       "    .dataframe thead th {\n",
       "        text-align: right;\n",
       "    }\n",
       "</style>\n",
       "<table border=\"1\" class=\"dataframe\">\n",
       "  <thead>\n",
       "    <tr style=\"text-align: right;\">\n",
       "      <th></th>\n",
       "      <th>nightlights</th>\n",
       "      <th>gdp</th>\n",
       "    </tr>\n",
       "  </thead>\n",
       "  <tbody>\n",
       "    <tr>\n",
       "      <th>nightlights</th>\n",
       "      <td>1.000000</td>\n",
       "      <td>0.302683</td>\n",
       "    </tr>\n",
       "    <tr>\n",
       "      <th>gdp</th>\n",
       "      <td>0.302683</td>\n",
       "      <td>1.000000</td>\n",
       "    </tr>\n",
       "  </tbody>\n",
       "</table>\n",
       "</div>"
      ],
      "text/plain": [
       "             nightlights       gdp\n",
       "nightlights     1.000000  0.302683\n",
       "gdp             0.302683  1.000000"
      ]
     },
     "execution_count": 53,
     "metadata": {},
     "output_type": "execute_result"
    }
   ],
   "source": [
    "df[['nightlights', 'gdp']].corr()"
   ]
  },
  {
   "cell_type": "code",
   "execution_count": 55,
   "metadata": {},
   "outputs": [],
   "source": [
    "df_mean = df.groupby('PAC').mean()"
   ]
  },
  {
   "cell_type": "code",
   "execution_count": 56,
   "metadata": {},
   "outputs": [
    {
     "data": {
      "text/html": [
       "<div>\n",
       "<style scoped>\n",
       "    .dataframe tbody tr th:only-of-type {\n",
       "        vertical-align: middle;\n",
       "    }\n",
       "\n",
       "    .dataframe tbody tr th {\n",
       "        vertical-align: top;\n",
       "    }\n",
       "\n",
       "    .dataframe thead th {\n",
       "        text-align: right;\n",
       "    }\n",
       "</style>\n",
       "<table border=\"1\" class=\"dataframe\">\n",
       "  <thead>\n",
       "    <tr style=\"text-align: right;\">\n",
       "      <th></th>\n",
       "      <th>nightlights</th>\n",
       "      <th>gdp</th>\n",
       "    </tr>\n",
       "  </thead>\n",
       "  <tbody>\n",
       "    <tr>\n",
       "      <th>nightlights</th>\n",
       "      <td>1.000000</td>\n",
       "      <td>0.587653</td>\n",
       "    </tr>\n",
       "    <tr>\n",
       "      <th>gdp</th>\n",
       "      <td>0.587653</td>\n",
       "      <td>1.000000</td>\n",
       "    </tr>\n",
       "  </tbody>\n",
       "</table>\n",
       "</div>"
      ],
      "text/plain": [
       "             nightlights       gdp\n",
       "nightlights     1.000000  0.587653\n",
       "gdp             0.587653  1.000000"
      ]
     },
     "execution_count": 56,
     "metadata": {},
     "output_type": "execute_result"
    }
   ],
   "source": [
    "df_mean[['nightlights', 'gdp']].corr()"
   ]
  },
  {
   "cell_type": "code",
   "execution_count": 58,
   "metadata": {},
   "outputs": [
    {
     "data": {
      "text/html": [
       "<div>\n",
       "<style scoped>\n",
       "    .dataframe tbody tr th:only-of-type {\n",
       "        vertical-align: middle;\n",
       "    }\n",
       "\n",
       "    .dataframe tbody tr th {\n",
       "        vertical-align: top;\n",
       "    }\n",
       "\n",
       "    .dataframe thead th {\n",
       "        text-align: right;\n",
       "    }\n",
       "</style>\n",
       "<table border=\"1\" class=\"dataframe\">\n",
       "  <thead>\n",
       "    <tr style=\"text-align: right;\">\n",
       "      <th></th>\n",
       "      <th>score</th>\n",
       "      <th>gdp</th>\n",
       "    </tr>\n",
       "  </thead>\n",
       "  <tbody>\n",
       "    <tr>\n",
       "      <th>score</th>\n",
       "      <td>1.000000</td>\n",
       "      <td>0.537587</td>\n",
       "    </tr>\n",
       "    <tr>\n",
       "      <th>gdp</th>\n",
       "      <td>0.537587</td>\n",
       "      <td>1.000000</td>\n",
       "    </tr>\n",
       "  </tbody>\n",
       "</table>\n",
       "</div>"
      ],
      "text/plain": [
       "          score       gdp\n",
       "score  1.000000  0.537587\n",
       "gdp    0.537587  1.000000"
      ]
     },
     "execution_count": 58,
     "metadata": {},
     "output_type": "execute_result"
    }
   ],
   "source": [
    "df_mean[['score', 'gdp']].corr('spearman')"
   ]
  },
  {
   "cell_type": "code",
   "execution_count": null,
   "metadata": {},
   "outputs": [],
   "source": [
    "df_mean[['score', 'gdp']].corr('spearman')"
   ]
  },
  {
   "cell_type": "code",
   "execution_count": null,
   "metadata": {},
   "outputs": [],
   "source": []
  },
  {
   "cell_type": "code",
   "execution_count": 78,
   "metadata": {
    "collapsed": true
   },
   "outputs": [
    {
     "ename": "KeyError",
     "evalue": "\"['s'] not in index\"",
     "output_type": "error",
     "traceback": [
      "\u001b[0;31m---------------------------------------------------------------------------\u001b[0m",
      "\u001b[0;31mKeyError\u001b[0m                                  Traceback (most recent call last)",
      "\u001b[0;32m<ipython-input-78-625ad8b77fb7>\u001b[0m in \u001b[0;36m<module>\u001b[0;34m\u001b[0m\n\u001b[0;32m----> 1\u001b[0;31m \u001b[0mdf_mean\u001b[0m\u001b[0;34m[\u001b[0m\u001b[0;34m[\u001b[0m\u001b[0;34m's'\u001b[0m\u001b[0;34m,\u001b[0m \u001b[0;34m'gdp'\u001b[0m\u001b[0;34m]\u001b[0m\u001b[0;34m]\u001b[0m\u001b[0;34m.\u001b[0m\u001b[0mcorr\u001b[0m\u001b[0;34m(\u001b[0m\u001b[0;34m'spearman'\u001b[0m\u001b[0;34m)\u001b[0m\u001b[0;34m\u001b[0m\u001b[0;34m\u001b[0m\u001b[0m\n\u001b[0m",
      "\u001b[0;32m~/anaconda3/envs/pytorch/lib/python3.6/site-packages/pandas/core/frame.py\u001b[0m in \u001b[0;36m__getitem__\u001b[0;34m(self, key)\u001b[0m\n\u001b[1;32m   2910\u001b[0m             \u001b[0;32mif\u001b[0m \u001b[0mis_iterator\u001b[0m\u001b[0;34m(\u001b[0m\u001b[0mkey\u001b[0m\u001b[0;34m)\u001b[0m\u001b[0;34m:\u001b[0m\u001b[0;34m\u001b[0m\u001b[0;34m\u001b[0m\u001b[0m\n\u001b[1;32m   2911\u001b[0m                 \u001b[0mkey\u001b[0m \u001b[0;34m=\u001b[0m \u001b[0mlist\u001b[0m\u001b[0;34m(\u001b[0m\u001b[0mkey\u001b[0m\u001b[0;34m)\u001b[0m\u001b[0;34m\u001b[0m\u001b[0;34m\u001b[0m\u001b[0m\n\u001b[0;32m-> 2912\u001b[0;31m             \u001b[0mindexer\u001b[0m \u001b[0;34m=\u001b[0m \u001b[0mself\u001b[0m\u001b[0;34m.\u001b[0m\u001b[0mloc\u001b[0m\u001b[0;34m.\u001b[0m\u001b[0m_get_listlike_indexer\u001b[0m\u001b[0;34m(\u001b[0m\u001b[0mkey\u001b[0m\u001b[0;34m,\u001b[0m \u001b[0maxis\u001b[0m\u001b[0;34m=\u001b[0m\u001b[0;36m1\u001b[0m\u001b[0;34m,\u001b[0m \u001b[0mraise_missing\u001b[0m\u001b[0;34m=\u001b[0m\u001b[0;32mTrue\u001b[0m\u001b[0;34m)\u001b[0m\u001b[0;34m[\u001b[0m\u001b[0;36m1\u001b[0m\u001b[0;34m]\u001b[0m\u001b[0;34m\u001b[0m\u001b[0;34m\u001b[0m\u001b[0m\n\u001b[0m\u001b[1;32m   2913\u001b[0m \u001b[0;34m\u001b[0m\u001b[0m\n\u001b[1;32m   2914\u001b[0m         \u001b[0;31m# take() does not accept boolean indexers\u001b[0m\u001b[0;34m\u001b[0m\u001b[0;34m\u001b[0m\u001b[0;34m\u001b[0m\u001b[0m\n",
      "\u001b[0;32m~/anaconda3/envs/pytorch/lib/python3.6/site-packages/pandas/core/indexing.py\u001b[0m in \u001b[0;36m_get_listlike_indexer\u001b[0;34m(self, key, axis, raise_missing)\u001b[0m\n\u001b[1;32m   1252\u001b[0m             \u001b[0mkeyarr\u001b[0m\u001b[0;34m,\u001b[0m \u001b[0mindexer\u001b[0m\u001b[0;34m,\u001b[0m \u001b[0mnew_indexer\u001b[0m \u001b[0;34m=\u001b[0m \u001b[0max\u001b[0m\u001b[0;34m.\u001b[0m\u001b[0m_reindex_non_unique\u001b[0m\u001b[0;34m(\u001b[0m\u001b[0mkeyarr\u001b[0m\u001b[0;34m)\u001b[0m\u001b[0;34m\u001b[0m\u001b[0;34m\u001b[0m\u001b[0m\n\u001b[1;32m   1253\u001b[0m \u001b[0;34m\u001b[0m\u001b[0m\n\u001b[0;32m-> 1254\u001b[0;31m         \u001b[0mself\u001b[0m\u001b[0;34m.\u001b[0m\u001b[0m_validate_read_indexer\u001b[0m\u001b[0;34m(\u001b[0m\u001b[0mkeyarr\u001b[0m\u001b[0;34m,\u001b[0m \u001b[0mindexer\u001b[0m\u001b[0;34m,\u001b[0m \u001b[0maxis\u001b[0m\u001b[0;34m,\u001b[0m \u001b[0mraise_missing\u001b[0m\u001b[0;34m=\u001b[0m\u001b[0mraise_missing\u001b[0m\u001b[0;34m)\u001b[0m\u001b[0;34m\u001b[0m\u001b[0;34m\u001b[0m\u001b[0m\n\u001b[0m\u001b[1;32m   1255\u001b[0m         \u001b[0;32mreturn\u001b[0m \u001b[0mkeyarr\u001b[0m\u001b[0;34m,\u001b[0m \u001b[0mindexer\u001b[0m\u001b[0;34m\u001b[0m\u001b[0;34m\u001b[0m\u001b[0m\n\u001b[1;32m   1256\u001b[0m \u001b[0;34m\u001b[0m\u001b[0m\n",
      "\u001b[0;32m~/anaconda3/envs/pytorch/lib/python3.6/site-packages/pandas/core/indexing.py\u001b[0m in \u001b[0;36m_validate_read_indexer\u001b[0;34m(self, key, indexer, axis, raise_missing)\u001b[0m\n\u001b[1;32m   1302\u001b[0m             \u001b[0;32mif\u001b[0m \u001b[0mraise_missing\u001b[0m\u001b[0;34m:\u001b[0m\u001b[0;34m\u001b[0m\u001b[0;34m\u001b[0m\u001b[0m\n\u001b[1;32m   1303\u001b[0m                 \u001b[0mnot_found\u001b[0m \u001b[0;34m=\u001b[0m \u001b[0mlist\u001b[0m\u001b[0;34m(\u001b[0m\u001b[0mset\u001b[0m\u001b[0;34m(\u001b[0m\u001b[0mkey\u001b[0m\u001b[0;34m)\u001b[0m \u001b[0;34m-\u001b[0m \u001b[0mset\u001b[0m\u001b[0;34m(\u001b[0m\u001b[0max\u001b[0m\u001b[0;34m)\u001b[0m\u001b[0;34m)\u001b[0m\u001b[0;34m\u001b[0m\u001b[0;34m\u001b[0m\u001b[0m\n\u001b[0;32m-> 1304\u001b[0;31m                 \u001b[0;32mraise\u001b[0m \u001b[0mKeyError\u001b[0m\u001b[0;34m(\u001b[0m\u001b[0;34mf\"{not_found} not in index\"\u001b[0m\u001b[0;34m)\u001b[0m\u001b[0;34m\u001b[0m\u001b[0;34m\u001b[0m\u001b[0m\n\u001b[0m\u001b[1;32m   1305\u001b[0m \u001b[0;34m\u001b[0m\u001b[0m\n\u001b[1;32m   1306\u001b[0m             \u001b[0;31m# we skip the warning on Categorical\u001b[0m\u001b[0;34m\u001b[0m\u001b[0;34m\u001b[0m\u001b[0;34m\u001b[0m\u001b[0m\n",
      "\u001b[0;31mKeyError\u001b[0m: \"['s'] not in index\""
     ]
    }
   ],
   "source": [
    "df_mean[['s', 'gdp']].corr('spearman')"
   ]
  },
  {
   "cell_type": "code",
   "execution_count": 61,
   "metadata": {},
   "outputs": [],
   "source": [
    "df.to_csv('total.csv', index=False)"
   ]
  },
  {
   "cell_type": "code",
   "execution_count": 103,
   "metadata": {},
   "outputs": [],
   "source": [
    "df = pd.read_csv('total.csv')"
   ]
  },
  {
   "cell_type": "code",
   "execution_count": 106,
   "metadata": {},
   "outputs": [],
   "source": [
    "df = df.merge(data, left_on='name_x', right_on='name')"
   ]
  },
  {
   "cell_type": "code",
   "execution_count": 108,
   "metadata": {},
   "outputs": [
    {
     "data": {
      "text/html": [
       "<div>\n",
       "<style scoped>\n",
       "    .dataframe tbody tr th:only-of-type {\n",
       "        vertical-align: middle;\n",
       "    }\n",
       "\n",
       "    .dataframe tbody tr th {\n",
       "        vertical-align: top;\n",
       "    }\n",
       "\n",
       "    .dataframe thead th {\n",
       "        text-align: right;\n",
       "    }\n",
       "</style>\n",
       "<table border=\"1\" class=\"dataframe\">\n",
       "  <thead>\n",
       "    <tr style=\"text-align: right;\">\n",
       "      <th></th>\n",
       "      <th>s</th>\n",
       "      <th>gdp</th>\n",
       "    </tr>\n",
       "  </thead>\n",
       "  <tbody>\n",
       "    <tr>\n",
       "      <th>s</th>\n",
       "      <td>1.000000</td>\n",
       "      <td>0.409483</td>\n",
       "    </tr>\n",
       "    <tr>\n",
       "      <th>gdp</th>\n",
       "      <td>0.409483</td>\n",
       "      <td>1.000000</td>\n",
       "    </tr>\n",
       "  </tbody>\n",
       "</table>\n",
       "</div>"
      ],
      "text/plain": [
       "            s       gdp\n",
       "s    1.000000  0.409483\n",
       "gdp  0.409483  1.000000"
      ]
     },
     "execution_count": 108,
     "metadata": {},
     "output_type": "execute_result"
    }
   ],
   "source": [
    "df[['s', 'gdp']].corr(method='spearman')"
   ]
  },
  {
   "cell_type": "code",
   "execution_count": 111,
   "metadata": {},
   "outputs": [
    {
     "data": {
      "text/html": [
       "<div>\n",
       "<style scoped>\n",
       "    .dataframe tbody tr th:only-of-type {\n",
       "        vertical-align: middle;\n",
       "    }\n",
       "\n",
       "    .dataframe tbody tr th {\n",
       "        vertical-align: top;\n",
       "    }\n",
       "\n",
       "    .dataframe thead th {\n",
       "        text-align: right;\n",
       "    }\n",
       "</style>\n",
       "<table border=\"1\" class=\"dataframe\">\n",
       "  <thead>\n",
       "    <tr style=\"text-align: right;\">\n",
       "      <th></th>\n",
       "      <th>score</th>\n",
       "      <th>gdp</th>\n",
       "    </tr>\n",
       "  </thead>\n",
       "  <tbody>\n",
       "    <tr>\n",
       "      <th>score</th>\n",
       "      <td>1.000000</td>\n",
       "      <td>0.366257</td>\n",
       "    </tr>\n",
       "    <tr>\n",
       "      <th>gdp</th>\n",
       "      <td>0.366257</td>\n",
       "      <td>1.000000</td>\n",
       "    </tr>\n",
       "  </tbody>\n",
       "</table>\n",
       "</div>"
      ],
      "text/plain": [
       "          score       gdp\n",
       "score  1.000000  0.366257\n",
       "gdp    0.366257  1.000000"
      ]
     },
     "execution_count": 111,
     "metadata": {},
     "output_type": "execute_result"
    }
   ],
   "source": [
    "df[['score', 'gdp']].corr(method='spearman')"
   ]
  },
  {
   "cell_type": "code",
   "execution_count": 113,
   "metadata": {},
   "outputs": [],
   "source": [
    "mean2 = df.groupby('PAC').mean()"
   ]
  },
  {
   "cell_type": "code",
   "execution_count": 114,
   "metadata": {},
   "outputs": [
    {
     "data": {
      "text/html": [
       "<div>\n",
       "<style scoped>\n",
       "    .dataframe tbody tr th:only-of-type {\n",
       "        vertical-align: middle;\n",
       "    }\n",
       "\n",
       "    .dataframe tbody tr th {\n",
       "        vertical-align: top;\n",
       "    }\n",
       "\n",
       "    .dataframe thead th {\n",
       "        text-align: right;\n",
       "    }\n",
       "</style>\n",
       "<table border=\"1\" class=\"dataframe\">\n",
       "  <thead>\n",
       "    <tr style=\"text-align: right;\">\n",
       "      <th></th>\n",
       "      <th>score</th>\n",
       "      <th>gdp</th>\n",
       "    </tr>\n",
       "  </thead>\n",
       "  <tbody>\n",
       "    <tr>\n",
       "      <th>score</th>\n",
       "      <td>1.000000</td>\n",
       "      <td>0.537587</td>\n",
       "    </tr>\n",
       "    <tr>\n",
       "      <th>gdp</th>\n",
       "      <td>0.537587</td>\n",
       "      <td>1.000000</td>\n",
       "    </tr>\n",
       "  </tbody>\n",
       "</table>\n",
       "</div>"
      ],
      "text/plain": [
       "          score       gdp\n",
       "score  1.000000  0.537587\n",
       "gdp    0.537587  1.000000"
      ]
     },
     "execution_count": 114,
     "metadata": {},
     "output_type": "execute_result"
    }
   ],
   "source": [
    "mean2[['s', 'gdp']].corr(method='spearman')"
   ]
  },
  {
   "cell_type": "code",
   "execution_count": 115,
   "metadata": {},
   "outputs": [
    {
     "data": {
      "text/html": [
       "<div>\n",
       "<style scoped>\n",
       "    .dataframe tbody tr th:only-of-type {\n",
       "        vertical-align: middle;\n",
       "    }\n",
       "\n",
       "    .dataframe tbody tr th {\n",
       "        vertical-align: top;\n",
       "    }\n",
       "\n",
       "    .dataframe thead th {\n",
       "        text-align: right;\n",
       "    }\n",
       "</style>\n",
       "<table border=\"1\" class=\"dataframe\">\n",
       "  <thead>\n",
       "    <tr style=\"text-align: right;\">\n",
       "      <th></th>\n",
       "      <th>s</th>\n",
       "      <th>gdp</th>\n",
       "    </tr>\n",
       "  </thead>\n",
       "  <tbody>\n",
       "    <tr>\n",
       "      <th>s</th>\n",
       "      <td>1.000000</td>\n",
       "      <td>0.548823</td>\n",
       "    </tr>\n",
       "    <tr>\n",
       "      <th>gdp</th>\n",
       "      <td>0.548823</td>\n",
       "      <td>1.000000</td>\n",
       "    </tr>\n",
       "  </tbody>\n",
       "</table>\n",
       "</div>"
      ],
      "text/plain": [
       "            s       gdp\n",
       "s    1.000000  0.548823\n",
       "gdp  0.548823  1.000000"
      ]
     },
     "execution_count": 115,
     "metadata": {},
     "output_type": "execute_result"
    }
   ],
   "source": [
    "mean2[['s', 'gdp']].corr(method='spearman')"
   ]
  },
  {
   "cell_type": "code",
   "execution_count": null,
   "metadata": {},
   "outputs": [],
   "source": [
    "mean2[['gdp']]"
   ]
  },
  {
   "cell_type": "code",
   "execution_count": null,
   "metadata": {},
   "outputs": [],
   "source": []
  },
  {
   "cell_type": "code",
   "execution_count": null,
   "metadata": {},
   "outputs": [],
   "source": []
  },
  {
   "cell_type": "code",
   "execution_count": null,
   "metadata": {},
   "outputs": [],
   "source": []
  },
  {
   "cell_type": "code",
   "execution_count": 116,
   "metadata": {},
   "outputs": [],
   "source": [
    "vit = pd.read_csv('predict_score_vit.csv')"
   ]
  },
  {
   "cell_type": "code",
   "execution_count": 126,
   "metadata": {},
   "outputs": [],
   "source": [
    "vit = vit[['predict', 'adcode']]\n",
    "vit.columns = ['vit', 'PAC']"
   ]
  },
  {
   "cell_type": "code",
   "execution_count": 128,
   "metadata": {
    "collapsed": true
   },
   "outputs": [
    {
     "data": {
      "text/html": [
       "<div>\n",
       "<style scoped>\n",
       "    .dataframe tbody tr th:only-of-type {\n",
       "        vertical-align: middle;\n",
       "    }\n",
       "\n",
       "    .dataframe tbody tr th {\n",
       "        vertical-align: top;\n",
       "    }\n",
       "\n",
       "    .dataframe thead th {\n",
       "        text-align: right;\n",
       "    }\n",
       "</style>\n",
       "<table border=\"1\" class=\"dataframe\">\n",
       "  <thead>\n",
       "    <tr style=\"text-align: right;\">\n",
       "      <th></th>\n",
       "      <th>cluster_lat</th>\n",
       "      <th>cluster_lon</th>\n",
       "      <th>nightlights</th>\n",
       "      <th>predict</th>\n",
       "      <th>score</th>\n",
       "      <th>lo</th>\n",
       "      <th>lat</th>\n",
       "      <th>population</th>\n",
       "      <th>code_x</th>\n",
       "      <th>gdp</th>\n",
       "      <th>code_y</th>\n",
       "      <th>host</th>\n",
       "      <th>code_x.1</th>\n",
       "      <th>second</th>\n",
       "      <th>code_y.1</th>\n",
       "      <th>s</th>\n",
       "    </tr>\n",
       "    <tr>\n",
       "      <th>PAC</th>\n",
       "      <th></th>\n",
       "      <th></th>\n",
       "      <th></th>\n",
       "      <th></th>\n",
       "      <th></th>\n",
       "      <th></th>\n",
       "      <th></th>\n",
       "      <th></th>\n",
       "      <th></th>\n",
       "      <th></th>\n",
       "      <th></th>\n",
       "      <th></th>\n",
       "      <th></th>\n",
       "      <th></th>\n",
       "      <th></th>\n",
       "      <th></th>\n",
       "    </tr>\n",
       "  </thead>\n",
       "  <tbody>\n",
       "    <tr>\n",
       "      <th>110115</th>\n",
       "      <td>39.675591</td>\n",
       "      <td>116.373047</td>\n",
       "      <td>9.440997</td>\n",
       "      <td>-0.866667</td>\n",
       "      <td>1.000000</td>\n",
       "      <td>116.373047</td>\n",
       "      <td>39.675591</td>\n",
       "      <td>69.9000</td>\n",
       "      <td>110115.0</td>\n",
       "      <td>6445617.0</td>\n",
       "      <td>110115.0</td>\n",
       "      <td>6999.0</td>\n",
       "      <td>110115.0</td>\n",
       "      <td>2432187.0</td>\n",
       "      <td>110115.0</td>\n",
       "      <td>1.000000</td>\n",
       "    </tr>\n",
       "    <tr>\n",
       "      <th>110116</th>\n",
       "      <td>40.678212</td>\n",
       "      <td>116.592407</td>\n",
       "      <td>0.940845</td>\n",
       "      <td>-0.968358</td>\n",
       "      <td>0.678315</td>\n",
       "      <td>116.592407</td>\n",
       "      <td>40.678212</td>\n",
       "      <td>28.4000</td>\n",
       "      <td>110116.0</td>\n",
       "      <td>2857990.0</td>\n",
       "      <td>110116.0</td>\n",
       "      <td>1711.0</td>\n",
       "      <td>110116.0</td>\n",
       "      <td>1627653.0</td>\n",
       "      <td>110116.0</td>\n",
       "      <td>0.584633</td>\n",
       "    </tr>\n",
       "    <tr>\n",
       "      <th>110117</th>\n",
       "      <td>40.203244</td>\n",
       "      <td>117.126243</td>\n",
       "      <td>2.361866</td>\n",
       "      <td>-0.818184</td>\n",
       "      <td>0.827348</td>\n",
       "      <td>117.126243</td>\n",
       "      <td>40.203244</td>\n",
       "      <td>40.4400</td>\n",
       "      <td>110117.0</td>\n",
       "      <td>2335531.0</td>\n",
       "      <td>110117.0</td>\n",
       "      <td>1979.0</td>\n",
       "      <td>110117.0</td>\n",
       "      <td>954094.0</td>\n",
       "      <td>110117.0</td>\n",
       "      <td>0.885964</td>\n",
       "    </tr>\n",
       "    <tr>\n",
       "      <th>110118</th>\n",
       "      <td>40.511727</td>\n",
       "      <td>116.990177</td>\n",
       "      <td>1.091290</td>\n",
       "      <td>-0.794126</td>\n",
       "      <td>0.851780</td>\n",
       "      <td>116.990177</td>\n",
       "      <td>40.511727</td>\n",
       "      <td>43.6700</td>\n",
       "      <td>110118.0</td>\n",
       "      <td>2782407.0</td>\n",
       "      <td>110118.0</td>\n",
       "      <td>1695.0</td>\n",
       "      <td>110118.0</td>\n",
       "      <td>1122291.0</td>\n",
       "      <td>110118.0</td>\n",
       "      <td>0.837834</td>\n",
       "    </tr>\n",
       "    <tr>\n",
       "      <th>110119</th>\n",
       "      <td>40.550596</td>\n",
       "      <td>116.112608</td>\n",
       "      <td>1.138501</td>\n",
       "      <td>-1.000000</td>\n",
       "      <td>0.783872</td>\n",
       "      <td>116.112608</td>\n",
       "      <td>40.550596</td>\n",
       "      <td>28.5300</td>\n",
       "      <td>110119.0</td>\n",
       "      <td>1361674.0</td>\n",
       "      <td>110119.0</td>\n",
       "      <td>1037.0</td>\n",
       "      <td>110119.0</td>\n",
       "      <td>428434.0</td>\n",
       "      <td>110119.0</td>\n",
       "      <td>0.777499</td>\n",
       "    </tr>\n",
       "    <tr>\n",
       "      <th>...</th>\n",
       "      <td>...</td>\n",
       "      <td>...</td>\n",
       "      <td>...</td>\n",
       "      <td>...</td>\n",
       "      <td>...</td>\n",
       "      <td>...</td>\n",
       "      <td>...</td>\n",
       "      <td>...</td>\n",
       "      <td>...</td>\n",
       "      <td>...</td>\n",
       "      <td>...</td>\n",
       "      <td>...</td>\n",
       "      <td>...</td>\n",
       "      <td>...</td>\n",
       "      <td>...</td>\n",
       "      <td>...</td>\n",
       "    </tr>\n",
       "    <tr>\n",
       "      <th>654326</th>\n",
       "      <td>47.425945</td>\n",
       "      <td>86.150008</td>\n",
       "      <td>0.595704</td>\n",
       "      <td>-0.977952</td>\n",
       "      <td>0.936382</td>\n",
       "      <td>86.150008</td>\n",
       "      <td>47.425945</td>\n",
       "      <td>3.8722</td>\n",
       "      <td>654326.0</td>\n",
       "      <td>128125.0</td>\n",
       "      <td>654326.0</td>\n",
       "      <td>145.0</td>\n",
       "      <td>654326.0</td>\n",
       "      <td>60535.0</td>\n",
       "      <td>654326.0</td>\n",
       "      <td>0.870551</td>\n",
       "    </tr>\n",
       "    <tr>\n",
       "      <th>659002</th>\n",
       "      <td>40.588227</td>\n",
       "      <td>81.300102</td>\n",
       "      <td>0.612419</td>\n",
       "      <td>-0.971014</td>\n",
       "      <td>0.988039</td>\n",
       "      <td>81.300102</td>\n",
       "      <td>40.588227</td>\n",
       "      <td>16.8813</td>\n",
       "      <td>659002.0</td>\n",
       "      <td>2389406.0</td>\n",
       "      <td>659002.0</td>\n",
       "      <td>2296.0</td>\n",
       "      <td>659002.0</td>\n",
       "      <td>766331.0</td>\n",
       "      <td>659002.0</td>\n",
       "      <td>0.933301</td>\n",
       "    </tr>\n",
       "    <tr>\n",
       "      <th>659003</th>\n",
       "      <td>39.861157</td>\n",
       "      <td>79.140015</td>\n",
       "      <td>1.278825</td>\n",
       "      <td>-0.937500</td>\n",
       "      <td>0.997374</td>\n",
       "      <td>79.140015</td>\n",
       "      <td>39.861157</td>\n",
       "      <td>16.1067</td>\n",
       "      <td>659003.0</td>\n",
       "      <td>829208.0</td>\n",
       "      <td>659003.0</td>\n",
       "      <td>838.0</td>\n",
       "      <td>659003.0</td>\n",
       "      <td>383663.0</td>\n",
       "      <td>659003.0</td>\n",
       "      <td>0.927028</td>\n",
       "    </tr>\n",
       "    <tr>\n",
       "      <th>659004</th>\n",
       "      <td>44.346471</td>\n",
       "      <td>87.578125</td>\n",
       "      <td>1.994666</td>\n",
       "      <td>-1.000000</td>\n",
       "      <td>0.994986</td>\n",
       "      <td>87.578125</td>\n",
       "      <td>44.346471</td>\n",
       "      <td>9.6091</td>\n",
       "      <td>659004.0</td>\n",
       "      <td>1624126.0</td>\n",
       "      <td>659004.0</td>\n",
       "      <td>855.0</td>\n",
       "      <td>659004.0</td>\n",
       "      <td>1153902.0</td>\n",
       "      <td>659004.0</td>\n",
       "      <td>0.991083</td>\n",
       "    </tr>\n",
       "    <tr>\n",
       "      <th>659006</th>\n",
       "      <td>41.804070</td>\n",
       "      <td>85.570312</td>\n",
       "      <td>1.427307</td>\n",
       "      <td>-1.000000</td>\n",
       "      <td>1.000000</td>\n",
       "      <td>85.570312</td>\n",
       "      <td>41.804070</td>\n",
       "      <td>3.8000</td>\n",
       "      <td>659006.0</td>\n",
       "      <td>180612.0</td>\n",
       "      <td>659006.0</td>\n",
       "      <td>50.0</td>\n",
       "      <td>659006.0</td>\n",
       "      <td>59777.0</td>\n",
       "      <td>659006.0</td>\n",
       "      <td>0.985721</td>\n",
       "    </tr>\n",
       "  </tbody>\n",
       "</table>\n",
       "<p>2050 rows × 16 columns</p>\n",
       "</div>"
      ],
      "text/plain": [
       "        cluster_lat  cluster_lon  nightlights   predict     score          lo  \\\n",
       "PAC                                                                             \n",
       "110115    39.675591   116.373047     9.440997 -0.866667  1.000000  116.373047   \n",
       "110116    40.678212   116.592407     0.940845 -0.968358  0.678315  116.592407   \n",
       "110117    40.203244   117.126243     2.361866 -0.818184  0.827348  117.126243   \n",
       "110118    40.511727   116.990177     1.091290 -0.794126  0.851780  116.990177   \n",
       "110119    40.550596   116.112608     1.138501 -1.000000  0.783872  116.112608   \n",
       "...             ...          ...          ...       ...       ...         ...   \n",
       "654326    47.425945    86.150008     0.595704 -0.977952  0.936382   86.150008   \n",
       "659002    40.588227    81.300102     0.612419 -0.971014  0.988039   81.300102   \n",
       "659003    39.861157    79.140015     1.278825 -0.937500  0.997374   79.140015   \n",
       "659004    44.346471    87.578125     1.994666 -1.000000  0.994986   87.578125   \n",
       "659006    41.804070    85.570312     1.427307 -1.000000  1.000000   85.570312   \n",
       "\n",
       "              lat  population    code_x        gdp    code_y    host  \\\n",
       "PAC                                                                    \n",
       "110115  39.675591     69.9000  110115.0  6445617.0  110115.0  6999.0   \n",
       "110116  40.678212     28.4000  110116.0  2857990.0  110116.0  1711.0   \n",
       "110117  40.203244     40.4400  110117.0  2335531.0  110117.0  1979.0   \n",
       "110118  40.511727     43.6700  110118.0  2782407.0  110118.0  1695.0   \n",
       "110119  40.550596     28.5300  110119.0  1361674.0  110119.0  1037.0   \n",
       "...           ...         ...       ...        ...       ...     ...   \n",
       "654326  47.425945      3.8722  654326.0   128125.0  654326.0   145.0   \n",
       "659002  40.588227     16.8813  659002.0  2389406.0  659002.0  2296.0   \n",
       "659003  39.861157     16.1067  659003.0   829208.0  659003.0   838.0   \n",
       "659004  44.346471      9.6091  659004.0  1624126.0  659004.0   855.0   \n",
       "659006  41.804070      3.8000  659006.0   180612.0  659006.0    50.0   \n",
       "\n",
       "        code_x.1     second  code_y.1         s  \n",
       "PAC                                              \n",
       "110115  110115.0  2432187.0  110115.0  1.000000  \n",
       "110116  110116.0  1627653.0  110116.0  0.584633  \n",
       "110117  110117.0   954094.0  110117.0  0.885964  \n",
       "110118  110118.0  1122291.0  110118.0  0.837834  \n",
       "110119  110119.0   428434.0  110119.0  0.777499  \n",
       "...          ...        ...       ...       ...  \n",
       "654326  654326.0    60535.0  654326.0  0.870551  \n",
       "659002  659002.0   766331.0  659002.0  0.933301  \n",
       "659003  659003.0   383663.0  659003.0  0.927028  \n",
       "659004  659004.0  1153902.0  659004.0  0.991083  \n",
       "659006  659006.0    59777.0  659006.0  0.985721  \n",
       "\n",
       "[2050 rows x 16 columns]"
      ]
     },
     "execution_count": 128,
     "metadata": {},
     "output_type": "execute_result"
    }
   ],
   "source": [
    "mean2"
   ]
  },
  {
   "cell_type": "code",
   "execution_count": 130,
   "metadata": {},
   "outputs": [],
   "source": [
    "mean3 = mean2.merge(vit, left_on='PAC', right_on='PAC')"
   ]
  },
  {
   "cell_type": "code",
   "execution_count": 132,
   "metadata": {},
   "outputs": [
    {
     "data": {
      "text/html": [
       "<div>\n",
       "<style scoped>\n",
       "    .dataframe tbody tr th:only-of-type {\n",
       "        vertical-align: middle;\n",
       "    }\n",
       "\n",
       "    .dataframe tbody tr th {\n",
       "        vertical-align: top;\n",
       "    }\n",
       "\n",
       "    .dataframe thead th {\n",
       "        text-align: right;\n",
       "    }\n",
       "</style>\n",
       "<table border=\"1\" class=\"dataframe\">\n",
       "  <thead>\n",
       "    <tr style=\"text-align: right;\">\n",
       "      <th></th>\n",
       "      <th>vit</th>\n",
       "      <th>gdp</th>\n",
       "    </tr>\n",
       "  </thead>\n",
       "  <tbody>\n",
       "    <tr>\n",
       "      <th>vit</th>\n",
       "      <td>1.000000</td>\n",
       "      <td>0.669352</td>\n",
       "    </tr>\n",
       "    <tr>\n",
       "      <th>gdp</th>\n",
       "      <td>0.669352</td>\n",
       "      <td>1.000000</td>\n",
       "    </tr>\n",
       "  </tbody>\n",
       "</table>\n",
       "</div>"
      ],
      "text/plain": [
       "          vit       gdp\n",
       "vit  1.000000  0.669352\n",
       "gdp  0.669352  1.000000"
      ]
     },
     "execution_count": 132,
     "metadata": {},
     "output_type": "execute_result"
    }
   ],
   "source": [
    "mean3[['vit', 'gdp']].corr(method='spearman')"
   ]
  },
  {
   "cell_type": "code",
   "execution_count": null,
   "metadata": {},
   "outputs": [],
   "source": []
  },
  {
   "cell_type": "code",
   "execution_count": 167,
   "metadata": {},
   "outputs": [
    {
     "data": {
      "text/html": [
       "<div>\n",
       "<style scoped>\n",
       "    .dataframe tbody tr th:only-of-type {\n",
       "        vertical-align: middle;\n",
       "    }\n",
       "\n",
       "    .dataframe tbody tr th {\n",
       "        vertical-align: top;\n",
       "    }\n",
       "\n",
       "    .dataframe thead th {\n",
       "        text-align: right;\n",
       "    }\n",
       "</style>\n",
       "<table border=\"1\" class=\"dataframe\">\n",
       "  <thead>\n",
       "    <tr style=\"text-align: right;\">\n",
       "      <th></th>\n",
       "      <th>25bins</th>\n",
       "      <th>gdp</th>\n",
       "    </tr>\n",
       "  </thead>\n",
       "  <tbody>\n",
       "    <tr>\n",
       "      <th>25bins</th>\n",
       "      <td>1.000000</td>\n",
       "      <td>0.532972</td>\n",
       "    </tr>\n",
       "    <tr>\n",
       "      <th>gdp</th>\n",
       "      <td>0.532972</td>\n",
       "      <td>1.000000</td>\n",
       "    </tr>\n",
       "  </tbody>\n",
       "</table>\n",
       "</div>"
      ],
      "text/plain": [
       "          25bins       gdp\n",
       "25bins  1.000000  0.532972\n",
       "gdp     0.532972  1.000000"
      ]
     },
     "execution_count": 167,
     "metadata": {},
     "output_type": "execute_result"
    }
   ],
   "source": [
    "df.groupby('PAC').mean()[['25bins', 'gdp']].corr(method='spearman')"
   ]
  },
  {
   "cell_type": "code",
   "execution_count": null,
   "metadata": {},
   "outputs": [],
   "source": []
  },
  {
   "cell_type": "code",
   "execution_count": 133,
   "metadata": {},
   "outputs": [],
   "source": [
    "res = pd.read_csv('predict_score_res.csv')"
   ]
  },
  {
   "cell_type": "code",
   "execution_count": 134,
   "metadata": {},
   "outputs": [
    {
     "data": {
      "text/html": [
       "<div>\n",
       "<style scoped>\n",
       "    .dataframe tbody tr th:only-of-type {\n",
       "        vertical-align: middle;\n",
       "    }\n",
       "\n",
       "    .dataframe tbody tr th {\n",
       "        vertical-align: top;\n",
       "    }\n",
       "\n",
       "    .dataframe thead th {\n",
       "        text-align: right;\n",
       "    }\n",
       "</style>\n",
       "<table border=\"1\" class=\"dataframe\">\n",
       "  <thead>\n",
       "    <tr style=\"text-align: right;\">\n",
       "      <th></th>\n",
       "      <th>PAC</th>\n",
       "      <th>predict</th>\n",
       "      <th>adcode</th>\n",
       "      <th>name</th>\n",
       "      <th>childrenNu</th>\n",
       "      <th>level</th>\n",
       "      <th>parent</th>\n",
       "      <th>subFeature</th>\n",
       "      <th>geometry</th>\n",
       "      <th>ID</th>\n",
       "    </tr>\n",
       "  </thead>\n",
       "  <tbody>\n",
       "    <tr>\n",
       "      <th>0</th>\n",
       "      <td>NaN</td>\n",
       "      <td>NaN</td>\n",
       "      <td>110101</td>\n",
       "      <td>东城区</td>\n",
       "      <td>0</td>\n",
       "      <td>district</td>\n",
       "      <td>110000</td>\n",
       "      <td>NaN</td>\n",
       "      <td>POLYGON ((116.44364 39.872846, 116.443509 39.8...</td>\n",
       "      <td>0</td>\n",
       "    </tr>\n",
       "    <tr>\n",
       "      <th>1</th>\n",
       "      <td>110102.0</td>\n",
       "      <td>0.521103</td>\n",
       "      <td>110102</td>\n",
       "      <td>西城区</td>\n",
       "      <td>0</td>\n",
       "      <td>district</td>\n",
       "      <td>110000</td>\n",
       "      <td>NaN</td>\n",
       "      <td>POLYGON ((116.325809 39.896793, 116.325809 39....</td>\n",
       "      <td>1</td>\n",
       "    </tr>\n",
       "    <tr>\n",
       "      <th>2</th>\n",
       "      <td>110105.0</td>\n",
       "      <td>0.013687</td>\n",
       "      <td>110105</td>\n",
       "      <td>朝阳区</td>\n",
       "      <td>0</td>\n",
       "      <td>district</td>\n",
       "      <td>110000</td>\n",
       "      <td>NaN</td>\n",
       "      <td>MULTIPOLYGON (((116.595547 40.017517, 116.5982...</td>\n",
       "      <td>2</td>\n",
       "    </tr>\n",
       "    <tr>\n",
       "      <th>3</th>\n",
       "      <td>NaN</td>\n",
       "      <td>NaN</td>\n",
       "      <td>110106</td>\n",
       "      <td>丰台区</td>\n",
       "      <td>0</td>\n",
       "      <td>district</td>\n",
       "      <td>110000</td>\n",
       "      <td>NaN</td>\n",
       "      <td>POLYGON ((116.25909 39.896667, 116.260052 39.8...</td>\n",
       "      <td>3</td>\n",
       "    </tr>\n",
       "    <tr>\n",
       "      <th>4</th>\n",
       "      <td>NaN</td>\n",
       "      <td>NaN</td>\n",
       "      <td>110107</td>\n",
       "      <td>石景山区</td>\n",
       "      <td>0</td>\n",
       "      <td>district</td>\n",
       "      <td>110000</td>\n",
       "      <td>NaN</td>\n",
       "      <td>POLYGON ((116.16703 39.888756, 116.166362 39.8...</td>\n",
       "      <td>4</td>\n",
       "    </tr>\n",
       "    <tr>\n",
       "      <th>...</th>\n",
       "      <td>...</td>\n",
       "      <td>...</td>\n",
       "      <td>...</td>\n",
       "      <td>...</td>\n",
       "      <td>...</td>\n",
       "      <td>...</td>\n",
       "      <td>...</td>\n",
       "      <td>...</td>\n",
       "      <td>...</td>\n",
       "      <td>...</td>\n",
       "    </tr>\n",
       "    <tr>\n",
       "      <th>2843</th>\n",
       "      <td>659006.0</td>\n",
       "      <td>0.368107</td>\n",
       "      <td>659006</td>\n",
       "      <td>铁门关市</td>\n",
       "      <td>0</td>\n",
       "      <td>city</td>\n",
       "      <td>650000</td>\n",
       "      <td>NaN</td>\n",
       "      <td>MULTIPOLYGON (((85.741466 41.755319, 85.742772...</td>\n",
       "      <td>2843</td>\n",
       "    </tr>\n",
       "    <tr>\n",
       "      <th>2844</th>\n",
       "      <td>659007.0</td>\n",
       "      <td>0.649770</td>\n",
       "      <td>659007</td>\n",
       "      <td>双河市</td>\n",
       "      <td>0</td>\n",
       "      <td>city</td>\n",
       "      <td>650000</td>\n",
       "      <td>NaN</td>\n",
       "      <td>MULTIPOLYGON (((82.206964 44.821218, 82.178471...</td>\n",
       "      <td>2844</td>\n",
       "    </tr>\n",
       "    <tr>\n",
       "      <th>2845</th>\n",
       "      <td>NaN</td>\n",
       "      <td>NaN</td>\n",
       "      <td>659008</td>\n",
       "      <td>可克达拉市</td>\n",
       "      <td>0</td>\n",
       "      <td>city</td>\n",
       "      <td>650000</td>\n",
       "      <td>NaN</td>\n",
       "      <td>MULTIPOLYGON (((80.67237299999999 43.844698, 8...</td>\n",
       "      <td>2845</td>\n",
       "    </tr>\n",
       "    <tr>\n",
       "      <th>2846</th>\n",
       "      <td>NaN</td>\n",
       "      <td>NaN</td>\n",
       "      <td>659009</td>\n",
       "      <td>昆玉市</td>\n",
       "      <td>0</td>\n",
       "      <td>city</td>\n",
       "      <td>650000</td>\n",
       "      <td>NaN</td>\n",
       "      <td>MULTIPOLYGON (((79.573441 37.38167, 79.579897 ...</td>\n",
       "      <td>2846</td>\n",
       "    </tr>\n",
       "    <tr>\n",
       "      <th>2847</th>\n",
       "      <td>659010.0</td>\n",
       "      <td>0.044328</td>\n",
       "      <td>659010</td>\n",
       "      <td>胡杨河市</td>\n",
       "      <td>0</td>\n",
       "      <td>city</td>\n",
       "      <td>650000</td>\n",
       "      <td>NaN</td>\n",
       "      <td>POLYGON ((84.853835 44.552084, 84.85427 44.554...</td>\n",
       "      <td>2847</td>\n",
       "    </tr>\n",
       "  </tbody>\n",
       "</table>\n",
       "<p>2848 rows × 10 columns</p>\n",
       "</div>"
      ],
      "text/plain": [
       "           PAC   predict  adcode   name  childrenNu     level  parent  \\\n",
       "0          NaN       NaN  110101    东城区           0  district  110000   \n",
       "1     110102.0  0.521103  110102    西城区           0  district  110000   \n",
       "2     110105.0  0.013687  110105    朝阳区           0  district  110000   \n",
       "3          NaN       NaN  110106    丰台区           0  district  110000   \n",
       "4          NaN       NaN  110107   石景山区           0  district  110000   \n",
       "...        ...       ...     ...    ...         ...       ...     ...   \n",
       "2843  659006.0  0.368107  659006   铁门关市           0      city  650000   \n",
       "2844  659007.0  0.649770  659007    双河市           0      city  650000   \n",
       "2845       NaN       NaN  659008  可克达拉市           0      city  650000   \n",
       "2846       NaN       NaN  659009    昆玉市           0      city  650000   \n",
       "2847  659010.0  0.044328  659010   胡杨河市           0      city  650000   \n",
       "\n",
       "      subFeature                                           geometry    ID  \n",
       "0            NaN  POLYGON ((116.44364 39.872846, 116.443509 39.8...     0  \n",
       "1            NaN  POLYGON ((116.325809 39.896793, 116.325809 39....     1  \n",
       "2            NaN  MULTIPOLYGON (((116.595547 40.017517, 116.5982...     2  \n",
       "3            NaN  POLYGON ((116.25909 39.896667, 116.260052 39.8...     3  \n",
       "4            NaN  POLYGON ((116.16703 39.888756, 116.166362 39.8...     4  \n",
       "...          ...                                                ...   ...  \n",
       "2843         NaN  MULTIPOLYGON (((85.741466 41.755319, 85.742772...  2843  \n",
       "2844         NaN  MULTIPOLYGON (((82.206964 44.821218, 82.178471...  2844  \n",
       "2845         NaN  MULTIPOLYGON (((80.67237299999999 43.844698, 8...  2845  \n",
       "2846         NaN  MULTIPOLYGON (((79.573441 37.38167, 79.579897 ...  2846  \n",
       "2847         NaN  POLYGON ((84.853835 44.552084, 84.85427 44.554...  2847  \n",
       "\n",
       "[2848 rows x 10 columns]"
      ]
     },
     "execution_count": 134,
     "metadata": {},
     "output_type": "execute_result"
    }
   ],
   "source": [
    "res"
   ]
  },
  {
   "cell_type": "code",
   "execution_count": null,
   "metadata": {},
   "outputs": [],
   "source": [
    "df"
   ]
  },
  {
   "cell_type": "code",
   "execution_count": 141,
   "metadata": {},
   "outputs": [],
   "source": [
    "res = res[['predict', 'adcode']]\n",
    "res.columns = ['res', 'PAC']"
   ]
  },
  {
   "cell_type": "code",
   "execution_count": 142,
   "metadata": {},
   "outputs": [],
   "source": [
    "mean4 = mean3.merge(res, left_on='PAC', right_on='PAC')"
   ]
  },
  {
   "cell_type": "code",
   "execution_count": 137,
   "metadata": {},
   "outputs": [
    {
     "data": {
      "text/html": [
       "<div>\n",
       "<style scoped>\n",
       "    .dataframe tbody tr th:only-of-type {\n",
       "        vertical-align: middle;\n",
       "    }\n",
       "\n",
       "    .dataframe tbody tr th {\n",
       "        vertical-align: top;\n",
       "    }\n",
       "\n",
       "    .dataframe thead th {\n",
       "        text-align: right;\n",
       "    }\n",
       "</style>\n",
       "<table border=\"1\" class=\"dataframe\">\n",
       "  <thead>\n",
       "    <tr style=\"text-align: right;\">\n",
       "      <th></th>\n",
       "      <th>vit</th>\n",
       "      <th>gdp</th>\n",
       "    </tr>\n",
       "  </thead>\n",
       "  <tbody>\n",
       "    <tr>\n",
       "      <th>vit</th>\n",
       "      <td>1.000000</td>\n",
       "      <td>0.669352</td>\n",
       "    </tr>\n",
       "    <tr>\n",
       "      <th>gdp</th>\n",
       "      <td>0.669352</td>\n",
       "      <td>1.000000</td>\n",
       "    </tr>\n",
       "  </tbody>\n",
       "</table>\n",
       "</div>"
      ],
      "text/plain": [
       "          vit       gdp\n",
       "vit  1.000000  0.669352\n",
       "gdp  0.669352  1.000000"
      ]
     },
     "execution_count": 137,
     "metadata": {},
     "output_type": "execute_result"
    }
   ],
   "source": [
    "mean3[['vit', 'gdp']].corr(method='spearman')"
   ]
  },
  {
   "cell_type": "code",
   "execution_count": 143,
   "metadata": {},
   "outputs": [
    {
     "data": {
      "text/html": [
       "<div>\n",
       "<style scoped>\n",
       "    .dataframe tbody tr th:only-of-type {\n",
       "        vertical-align: middle;\n",
       "    }\n",
       "\n",
       "    .dataframe tbody tr th {\n",
       "        vertical-align: top;\n",
       "    }\n",
       "\n",
       "    .dataframe thead th {\n",
       "        text-align: right;\n",
       "    }\n",
       "</style>\n",
       "<table border=\"1\" class=\"dataframe\">\n",
       "  <thead>\n",
       "    <tr style=\"text-align: right;\">\n",
       "      <th></th>\n",
       "      <th>res</th>\n",
       "      <th>gdp</th>\n",
       "    </tr>\n",
       "  </thead>\n",
       "  <tbody>\n",
       "    <tr>\n",
       "      <th>res</th>\n",
       "      <td>1.000000</td>\n",
       "      <td>0.655352</td>\n",
       "    </tr>\n",
       "    <tr>\n",
       "      <th>gdp</th>\n",
       "      <td>0.655352</td>\n",
       "      <td>1.000000</td>\n",
       "    </tr>\n",
       "  </tbody>\n",
       "</table>\n",
       "</div>"
      ],
      "text/plain": [
       "          res       gdp\n",
       "res  1.000000  0.655352\n",
       "gdp  0.655352  1.000000"
      ]
     },
     "execution_count": 143,
     "metadata": {},
     "output_type": "execute_result"
    }
   ],
   "source": [
    "mean4[['res', 'gdp']].corr(method='spearman')"
   ]
  },
  {
   "cell_type": "code",
   "execution_count": null,
   "metadata": {},
   "outputs": [],
   "source": [
    "mean3[['vit', 'gdp']].corr(method='spearman')"
   ]
  },
  {
   "cell_type": "code",
   "execution_count": 20,
   "metadata": {},
   "outputs": [
    {
     "data": {
      "text/html": [
       "<div>\n",
       "<style scoped>\n",
       "    .dataframe tbody tr th:only-of-type {\n",
       "        vertical-align: middle;\n",
       "    }\n",
       "\n",
       "    .dataframe tbody tr th {\n",
       "        vertical-align: top;\n",
       "    }\n",
       "\n",
       "    .dataframe thead th {\n",
       "        text-align: right;\n",
       "    }\n",
       "</style>\n",
       "<table border=\"1\" class=\"dataframe\">\n",
       "  <thead>\n",
       "    <tr style=\"text-align: right;\">\n",
       "      <th></th>\n",
       "      <th>name</th>\n",
       "      <th>score</th>\n",
       "    </tr>\n",
       "  </thead>\n",
       "  <tbody>\n",
       "    <tr>\n",
       "      <th>0</th>\n",
       "      <td>-48.779296875_-66.93006025862447.png</td>\n",
       "      <td>0.030561</td>\n",
       "    </tr>\n",
       "    <tr>\n",
       "      <th>1</th>\n",
       "      <td>-44.82421875_-75.97355295343337.png</td>\n",
       "      <td>0.030572</td>\n",
       "    </tr>\n",
       "    <tr>\n",
       "      <th>2</th>\n",
       "      <td>-44.82421875_-70.98834922412489.png</td>\n",
       "      <td>0.030384</td>\n",
       "    </tr>\n",
       "    <tr>\n",
       "      <th>3</th>\n",
       "      <td>-39.111328125_-65.4034447883078.png</td>\n",
       "      <td>-0.072293</td>\n",
       "    </tr>\n",
       "    <tr>\n",
       "      <th>4</th>\n",
       "      <td>-50.80078125_-77.86034459764656.png</td>\n",
       "      <td>0.030548</td>\n",
       "    </tr>\n",
       "    <tr>\n",
       "      <th>...</th>\n",
       "      <td>...</td>\n",
       "      <td>...</td>\n",
       "    </tr>\n",
       "    <tr>\n",
       "      <th>131947</th>\n",
       "      <td>-38.671875_-69.28725695167886.png</td>\n",
       "      <td>0.030430</td>\n",
       "    </tr>\n",
       "    <tr>\n",
       "      <th>131948</th>\n",
       "      <td>-46.142578125_-72.63337363853837.png</td>\n",
       "      <td>0.030591</td>\n",
       "    </tr>\n",
       "    <tr>\n",
       "      <th>131949</th>\n",
       "      <td>-44.208984375_-66.08936427047087.png</td>\n",
       "      <td>0.030453</td>\n",
       "    </tr>\n",
       "    <tr>\n",
       "      <th>131950</th>\n",
       "      <td>-25.224609375_-74.59010800882324.png</td>\n",
       "      <td>0.030507</td>\n",
       "    </tr>\n",
       "    <tr>\n",
       "      <th>131951</th>\n",
       "      <td>-51.6796875_-64.35893097894458.png</td>\n",
       "      <td>0.030630</td>\n",
       "    </tr>\n",
       "  </tbody>\n",
       "</table>\n",
       "<p>131952 rows × 2 columns</p>\n",
       "</div>"
      ],
      "text/plain": [
       "                                        name     score\n",
       "0       -48.779296875_-66.93006025862447.png  0.030561\n",
       "1        -44.82421875_-75.97355295343337.png  0.030572\n",
       "2        -44.82421875_-70.98834922412489.png  0.030384\n",
       "3        -39.111328125_-65.4034447883078.png -0.072293\n",
       "4        -50.80078125_-77.86034459764656.png  0.030548\n",
       "...                                      ...       ...\n",
       "131947     -38.671875_-69.28725695167886.png  0.030430\n",
       "131948  -46.142578125_-72.63337363853837.png  0.030591\n",
       "131949  -44.208984375_-66.08936427047087.png  0.030453\n",
       "131950  -25.224609375_-74.59010800882324.png  0.030507\n",
       "131951    -51.6796875_-64.35893097894458.png  0.030630\n",
       "\n",
       "[131952 rows x 2 columns]"
      ]
     },
     "execution_count": 20,
     "metadata": {},
     "output_type": "execute_result"
    }
   ],
   "source": [
    "data"
   ]
  },
  {
   "cell_type": "code",
   "execution_count": 21,
   "metadata": {},
   "outputs": [
    {
     "data": {
      "text/html": [
       "<div>\n",
       "<style scoped>\n",
       "    .dataframe tbody tr th:only-of-type {\n",
       "        vertical-align: middle;\n",
       "    }\n",
       "\n",
       "    .dataframe tbody tr th {\n",
       "        vertical-align: top;\n",
       "    }\n",
       "\n",
       "    .dataframe thead th {\n",
       "        text-align: right;\n",
       "    }\n",
       "</style>\n",
       "<table border=\"1\" class=\"dataframe\">\n",
       "  <thead>\n",
       "    <tr style=\"text-align: right;\">\n",
       "      <th></th>\n",
       "      <th>name</th>\n",
       "      <th>cluster_lat</th>\n",
       "      <th>cluster_lon</th>\n",
       "      <th>nightlights</th>\n",
       "      <th>predict</th>\n",
       "      <th>score</th>\n",
       "      <th>lo</th>\n",
       "      <th>lat</th>\n",
       "      <th>PAC</th>\n",
       "    </tr>\n",
       "  </thead>\n",
       "  <tbody>\n",
       "    <tr>\n",
       "      <th>0</th>\n",
       "      <td>-48.779296875_-66.93006025862447.png</td>\n",
       "      <td>43.771094</td>\n",
       "      <td>90.966797</td>\n",
       "      <td>0.382294</td>\n",
       "      <td>9.996539e-01</td>\n",
       "      <td>9.996539e-01</td>\n",
       "      <td>90.966797</td>\n",
       "      <td>43.771094</td>\n",
       "      <td>652328</td>\n",
       "    </tr>\n",
       "    <tr>\n",
       "      <th>1</th>\n",
       "      <td>-44.82421875_-75.97355295343337.png</td>\n",
       "      <td>40.847060</td>\n",
       "      <td>120.058594</td>\n",
       "      <td>0.477784</td>\n",
       "      <td>1.000000e+00</td>\n",
       "      <td>1.000000e+00</td>\n",
       "      <td>120.058594</td>\n",
       "      <td>40.847060</td>\n",
       "      <td>211422</td>\n",
       "    </tr>\n",
       "    <tr>\n",
       "      <th>2</th>\n",
       "      <td>-44.82421875_-70.98834922412489.png</td>\n",
       "      <td>40.847060</td>\n",
       "      <td>102.304688</td>\n",
       "      <td>0.273093</td>\n",
       "      <td>1.096327e-09</td>\n",
       "      <td>1.096327e-09</td>\n",
       "      <td>102.304688</td>\n",
       "      <td>40.847060</td>\n",
       "      <td>152922</td>\n",
       "    </tr>\n",
       "    <tr>\n",
       "      <th>3</th>\n",
       "      <td>-39.111328125_-65.4034447883078.png</td>\n",
       "      <td>36.385913</td>\n",
       "      <td>87.275391</td>\n",
       "      <td>0.385570</td>\n",
       "      <td>9.796304e-01</td>\n",
       "      <td>9.796304e-01</td>\n",
       "      <td>87.275391</td>\n",
       "      <td>36.385913</td>\n",
       "      <td>652825</td>\n",
       "    </tr>\n",
       "    <tr>\n",
       "      <th>4</th>\n",
       "      <td>-50.80078125_-77.86034459764656.png</td>\n",
       "      <td>45.213004</td>\n",
       "      <td>128.320312</td>\n",
       "      <td>0.341066</td>\n",
       "      <td>8.097361e-01</td>\n",
       "      <td>8.097361e-01</td>\n",
       "      <td>128.320312</td>\n",
       "      <td>45.213004</td>\n",
       "      <td>230183</td>\n",
       "    </tr>\n",
       "    <tr>\n",
       "      <th>...</th>\n",
       "      <td>...</td>\n",
       "      <td>...</td>\n",
       "      <td>...</td>\n",
       "      <td>...</td>\n",
       "      <td>...</td>\n",
       "      <td>...</td>\n",
       "      <td>...</td>\n",
       "      <td>...</td>\n",
       "      <td>...</td>\n",
       "    </tr>\n",
       "    <tr>\n",
       "      <th>131947</th>\n",
       "      <td>-38.671875_-69.28725695167886.png</td>\n",
       "      <td>36.031332</td>\n",
       "      <td>97.382812</td>\n",
       "      <td>0.283661</td>\n",
       "      <td>-1.000000e+00</td>\n",
       "      <td>2.063789e-02</td>\n",
       "      <td>97.382812</td>\n",
       "      <td>36.031332</td>\n",
       "      <td>632822</td>\n",
       "    </tr>\n",
       "    <tr>\n",
       "      <th>131948</th>\n",
       "      <td>-46.142578125_-72.63337363853837.png</td>\n",
       "      <td>41.836828</td>\n",
       "      <td>107.666016</td>\n",
       "      <td>0.303960</td>\n",
       "      <td>-1.000000e+00</td>\n",
       "      <td>1.516602e-01</td>\n",
       "      <td>107.666016</td>\n",
       "      <td>41.836828</td>\n",
       "      <td>150824</td>\n",
       "    </tr>\n",
       "    <tr>\n",
       "      <th>131949</th>\n",
       "      <td>-44.208984375_-66.08936427047087.png</td>\n",
       "      <td>40.380028</td>\n",
       "      <td>88.945312</td>\n",
       "      <td>0.315802</td>\n",
       "      <td>-1.000000e+00</td>\n",
       "      <td>5.814294e-01</td>\n",
       "      <td>88.945312</td>\n",
       "      <td>40.380028</td>\n",
       "      <td>652824</td>\n",
       "    </tr>\n",
       "    <tr>\n",
       "      <th>131950</th>\n",
       "      <td>-25.224609375_-74.59010800882324.png</td>\n",
       "      <td>24.447150</td>\n",
       "      <td>114.609375</td>\n",
       "      <td>0.450516</td>\n",
       "      <td>-1.000000e+00</td>\n",
       "      <td>4.475327e-05</td>\n",
       "      <td>114.609375</td>\n",
       "      <td>24.447150</td>\n",
       "      <td>441623</td>\n",
       "    </tr>\n",
       "    <tr>\n",
       "      <th>131951</th>\n",
       "      <td>-51.6796875_-64.35893097894458.png</td>\n",
       "      <td>45.828799</td>\n",
       "      <td>84.814453</td>\n",
       "      <td>0.368218</td>\n",
       "      <td>-1.000000e+00</td>\n",
       "      <td>9.999816e-01</td>\n",
       "      <td>84.814453</td>\n",
       "      <td>45.828799</td>\n",
       "      <td>654224</td>\n",
       "    </tr>\n",
       "  </tbody>\n",
       "</table>\n",
       "<p>131952 rows × 9 columns</p>\n",
       "</div>"
      ],
      "text/plain": [
       "                                        name  cluster_lat  cluster_lon  \\\n",
       "0       -48.779296875_-66.93006025862447.png    43.771094    90.966797   \n",
       "1        -44.82421875_-75.97355295343337.png    40.847060   120.058594   \n",
       "2        -44.82421875_-70.98834922412489.png    40.847060   102.304688   \n",
       "3        -39.111328125_-65.4034447883078.png    36.385913    87.275391   \n",
       "4        -50.80078125_-77.86034459764656.png    45.213004   128.320312   \n",
       "...                                      ...          ...          ...   \n",
       "131947     -38.671875_-69.28725695167886.png    36.031332    97.382812   \n",
       "131948  -46.142578125_-72.63337363853837.png    41.836828   107.666016   \n",
       "131949  -44.208984375_-66.08936427047087.png    40.380028    88.945312   \n",
       "131950  -25.224609375_-74.59010800882324.png    24.447150   114.609375   \n",
       "131951    -51.6796875_-64.35893097894458.png    45.828799    84.814453   \n",
       "\n",
       "        nightlights       predict         score          lo        lat     PAC  \n",
       "0          0.382294  9.996539e-01  9.996539e-01   90.966797  43.771094  652328  \n",
       "1          0.477784  1.000000e+00  1.000000e+00  120.058594  40.847060  211422  \n",
       "2          0.273093  1.096327e-09  1.096327e-09  102.304688  40.847060  152922  \n",
       "3          0.385570  9.796304e-01  9.796304e-01   87.275391  36.385913  652825  \n",
       "4          0.341066  8.097361e-01  8.097361e-01  128.320312  45.213004  230183  \n",
       "...             ...           ...           ...         ...        ...     ...  \n",
       "131947     0.283661 -1.000000e+00  2.063789e-02   97.382812  36.031332  632822  \n",
       "131948     0.303960 -1.000000e+00  1.516602e-01  107.666016  41.836828  150824  \n",
       "131949     0.315802 -1.000000e+00  5.814294e-01   88.945312  40.380028  652824  \n",
       "131950     0.450516 -1.000000e+00  4.475327e-05  114.609375  24.447150  441623  \n",
       "131951     0.368218 -1.000000e+00  9.999816e-01   84.814453  45.828799  654224  \n",
       "\n",
       "[131952 rows x 9 columns]"
      ]
     },
     "execution_count": 21,
     "metadata": {},
     "output_type": "execute_result"
    }
   ],
   "source": [
    "df"
   ]
  },
  {
   "cell_type": "code",
   "execution_count": null,
   "metadata": {},
   "outputs": [],
   "source": [
    "df"
   ]
  },
  {
   "cell_type": "code",
   "execution_count": null,
   "metadata": {},
   "outputs": [],
   "source": []
  },
  {
   "cell_type": "code",
   "execution_count": null,
   "metadata": {},
   "outputs": [],
   "source": []
  },
  {
   "cell_type": "code",
   "execution_count": 170,
   "metadata": {},
   "outputs": [
    {
     "data": {
      "text/plain": [
       "0         43.771094\n",
       "1         43.644026\n",
       "2         43.897892\n",
       "3         43.516689\n",
       "4         44.024422\n",
       "            ...    \n",
       "123284    35.245619\n",
       "123285    35.173808\n",
       "123286    34.741612\n",
       "123287    27.839076\n",
       "123288    21.779905\n",
       "Name: cluster_lat, Length: 123289, dtype: float64"
      ]
     },
     "execution_count": 170,
     "metadata": {},
     "output_type": "execute_result"
    }
   ],
   "source": [
    "df.iloc[:,1]"
   ]
  },
  {
   "cell_type": "code",
   "execution_count": 96,
   "metadata": {},
   "outputs": [],
   "source": [
    "def r2(df):\n",
    "    pearson = df.corr().iloc[0,1]\n",
    "    spearman = df.corr('spearman').iloc[0, 1]\n",
    "    \n",
    "    df = df.dropna()\n",
    "    x = df.iloc[:,0].values\n",
    "    y = df.iloc[:,1].values\n",
    "    # Fit a simple linear regression model\n",
    "    beta, _, _, _ = np.linalg.lstsq(x[:, None], y)\n",
    "    y_pred = beta * x\n",
    "    # Calculate the residual sum of squares (RSS)\n",
    "    rss = np.sum((y - y_pred)**2)\n",
    "    # Calculate the total sum of squares (TSS)\n",
    "    mean_y = np.mean(y)\n",
    "    tss = np.sum((y - mean_y)**2)\n",
    "    # Calculate R2\n",
    "    r2 = 1 - (rss / tss)\n",
    "\n",
    "    # Calculate the residual sum of squares (RSS)\n",
    "    rss = np.sum((y - y_pred)**2)\n",
    "    # Calculate the total sum of squares (TSS)\n",
    "    mean_y = np.mean(y)\n",
    "    tss = np.sum((y - mean_y)**2)\n",
    "    # Calculate R2\n",
    "    r2 = 1 - (rss / tss)\n",
    "    # Calculate the adjusted R2\n",
    "    n = x.shape[0]\n",
    "    p = 1\n",
    "    adj_r2 = 1 - (1-r2)*(n-1)/(n-p-1)\n",
    "    \n",
    "    y /= y.max()\n",
    "    x /= x.max()\n",
    "    \n",
    "    # Calculate the residuals\n",
    "    residuals = x - y\n",
    "    # Calculate the mean squared error (MSE)\n",
    "    mse = np.mean(residuals**2)\n",
    "    # Calculate the root mean squared error (RMSE)\n",
    "    rmse = np.sqrt(mse)\n",
    "    # Calculate the absolute percentage error\n",
    "    ape = np.abs((y - x) / y) * 100\n",
    "    # Calculate the mean absolute percentage error (MAPE)\n",
    "    mape = np.mean(ape)\n",
    "    \n",
    "    return pearson, spearman, r2, adj_r2, rmse, mape"
   ]
  },
  {
   "cell_type": "code",
   "execution_count": 201,
   "metadata": {},
   "outputs": [
    {
     "name": "stderr",
     "output_type": "stream",
     "text": [
      "/home/xiezhongming/anaconda3/envs/pytorch/lib/python3.6/site-packages/ipykernel_launcher.py:9: FutureWarning:\n",
      "\n",
      "`rcond` parameter will change to the default of machine precision times ``max(M, N)`` where M and N are the input matrix dimensions.\n",
      "To use the future default and silence this warning we advise to pass `rcond=None`, to keep using the old, explicitly pass `rcond=-1`.\n",
      "\n"
     ]
    },
    {
     "data": {
      "text/plain": [
       "(0.47557335718005206,\n",
       " 0.5376174386421668,\n",
       " 0.17397047007970357,\n",
       " 0.17351485533622857,\n",
       " 0.22462418959259514,\n",
       " 204.84850863982916)"
      ]
     },
     "execution_count": 201,
     "metadata": {},
     "output_type": "execute_result"
    }
   ],
   "source": [
    "r2(mean3[['vit', 'population']])"
   ]
  },
  {
   "cell_type": "code",
   "execution_count": 202,
   "metadata": {},
   "outputs": [
    {
     "name": "stderr",
     "output_type": "stream",
     "text": [
      "/home/xiezhongming/anaconda3/envs/pytorch/lib/python3.6/site-packages/ipykernel_launcher.py:9: FutureWarning:\n",
      "\n",
      "`rcond` parameter will change to the default of machine precision times ``max(M, N)`` where M and N are the input matrix dimensions.\n",
      "To use the future default and silence this warning we advise to pass `rcond=None`, to keep using the old, explicitly pass `rcond=-1`.\n",
      "\n"
     ]
    },
    {
     "data": {
      "text/plain": [
       "(0.37828324088248194,\n",
       " 0.44295472624393395,\n",
       " 0.07178287763657332,\n",
       " 0.07132964661979435,\n",
       " 0.5624187117961017,\n",
       " 532.2711304095155)"
      ]
     },
     "execution_count": 202,
     "metadata": {},
     "output_type": "execute_result"
    }
   ],
   "source": [
    "r2(mean3[['s', 'population']])"
   ]
  },
  {
   "cell_type": "code",
   "execution_count": 199,
   "metadata": {},
   "outputs": [
    {
     "name": "stderr",
     "output_type": "stream",
     "text": [
      "/home/xiezhongming/anaconda3/envs/pytorch/lib/python3.6/site-packages/ipykernel_launcher.py:9: FutureWarning:\n",
      "\n",
      "`rcond` parameter will change to the default of machine precision times ``max(M, N)`` where M and N are the input matrix dimensions.\n",
      "To use the future default and silence this warning we advise to pass `rcond=None`, to keep using the old, explicitly pass `rcond=-1`.\n",
      "\n"
     ]
    },
    {
     "data": {
      "text/plain": [
       "(0.47956800872087096,\n",
       " 0.5374079711652435,\n",
       " 0.20550743898753676,\n",
       " 0.2050692191524499,\n",
       " 0.2690739377736923,\n",
       " 358.99218305000284)"
      ]
     },
     "execution_count": 199,
     "metadata": {},
     "output_type": "execute_result"
    }
   ],
   "source": [
    "r2(mean3[['vit', 'host']])"
   ]
  },
  {
   "cell_type": "code",
   "execution_count": 198,
   "metadata": {},
   "outputs": [
    {
     "name": "stderr",
     "output_type": "stream",
     "text": [
      "/home/xiezhongming/anaconda3/envs/pytorch/lib/python3.6/site-packages/ipykernel_launcher.py:9: FutureWarning:\n",
      "\n",
      "`rcond` parameter will change to the default of machine precision times ``max(M, N)`` where M and N are the input matrix dimensions.\n",
      "To use the future default and silence this warning we advise to pass `rcond=None`, to keep using the old, explicitly pass `rcond=-1`.\n",
      "\n"
     ]
    },
    {
     "data": {
      "text/plain": [
       "(0.5441056218757786,\n",
       " 0.6565444357756609,\n",
       " 0.26795220745868387,\n",
       " 0.2675484304081923,\n",
       " 0.32896666455018864,\n",
       " 2092.8019683359344)"
      ]
     },
     "execution_count": 198,
     "metadata": {},
     "output_type": "execute_result"
    }
   ],
   "source": [
    "r2(mean3[['vit', 'second']])"
   ]
  },
  {
   "cell_type": "code",
   "execution_count": 191,
   "metadata": {},
   "outputs": [
    {
     "name": "stderr",
     "output_type": "stream",
     "text": [
      "/home/xiezhongming/anaconda3/envs/pytorch/lib/python3.6/site-packages/ipykernel_launcher.py:6: FutureWarning:\n",
      "\n",
      "`rcond` parameter will change to the default of machine precision times ``max(M, N)`` where M and N are the input matrix dimensions.\n",
      "To use the future default and silence this warning we advise to pass `rcond=None`, to keep using the old, explicitly pass `rcond=-1`.\n",
      "\n"
     ]
    },
    {
     "data": {
      "text/plain": [
       "(0.13203389162360402,\n",
       " 0.1316100800472484,\n",
       " 0.6843306603866338,\n",
       " 2562.258817193747)"
      ]
     },
     "execution_count": 191,
     "metadata": {},
     "output_type": "execute_result"
    }
   ],
   "source": [
    "r2(mean3[['s', 'gdp']])"
   ]
  },
  {
   "cell_type": "code",
   "execution_count": null,
   "metadata": {},
   "outputs": [],
   "source": [
    "r2(mean3[['vit', 'gdp']])"
   ]
  },
  {
   "cell_type": "code",
   "execution_count": null,
   "metadata": {},
   "outputs": [],
   "source": [
    "import numpy as np\n",
    "# Define the true values\n",
    "y_true = np.array([1, 2, 3, 4, 5])\n",
    "# Define the predicted values\n",
    "y_pred = np.array([0.8, 1.9, 2.7, 4.1, 4.8])\n",
    "# Calculate the absolute percentage error\n",
    "ape = np.abs((y_true - y_pred) / y_true) * 100\n",
    "# Calculate the mean absolute percentage error (MAPE)\n",
    "mape = np.mean(ape)\n",
    "print('MAPE: ', mape)"
   ]
  },
  {
   "cell_type": "code",
   "execution_count": null,
   "metadata": {},
   "outputs": [],
   "source": []
  },
  {
   "cell_type": "code",
   "execution_count": null,
   "metadata": {},
   "outputs": [],
   "source": []
  },
  {
   "cell_type": "code",
   "execution_count": null,
   "metadata": {},
   "outputs": [],
   "source": []
  },
  {
   "cell_type": "code",
   "execution_count": null,
   "metadata": {},
   "outputs": [],
   "source": [
    "res"
   ]
  },
  {
   "cell_type": "code",
   "execution_count": 99,
   "metadata": {},
   "outputs": [],
   "source": [
    "res = pd.read_csv('predict_score_res.csv')\n",
    "# res = res[['name', 'predict']]"
   ]
  },
  {
   "cell_type": "code",
   "execution_count": 100,
   "metadata": {},
   "outputs": [
    {
     "data": {
      "text/html": [
       "<div>\n",
       "<style scoped>\n",
       "    .dataframe tbody tr th:only-of-type {\n",
       "        vertical-align: middle;\n",
       "    }\n",
       "\n",
       "    .dataframe tbody tr th {\n",
       "        vertical-align: top;\n",
       "    }\n",
       "\n",
       "    .dataframe thead th {\n",
       "        text-align: right;\n",
       "    }\n",
       "</style>\n",
       "<table border=\"1\" class=\"dataframe\">\n",
       "  <thead>\n",
       "    <tr style=\"text-align: right;\">\n",
       "      <th></th>\n",
       "      <th>PAC</th>\n",
       "      <th>predict</th>\n",
       "      <th>adcode</th>\n",
       "      <th>name</th>\n",
       "      <th>childrenNu</th>\n",
       "      <th>level</th>\n",
       "      <th>parent</th>\n",
       "      <th>subFeature</th>\n",
       "      <th>geometry</th>\n",
       "      <th>ID</th>\n",
       "    </tr>\n",
       "  </thead>\n",
       "  <tbody>\n",
       "    <tr>\n",
       "      <th>0</th>\n",
       "      <td>NaN</td>\n",
       "      <td>NaN</td>\n",
       "      <td>110101</td>\n",
       "      <td>东城区</td>\n",
       "      <td>0</td>\n",
       "      <td>district</td>\n",
       "      <td>110000</td>\n",
       "      <td>NaN</td>\n",
       "      <td>POLYGON ((116.44364 39.872846, 116.443509 39.8...</td>\n",
       "      <td>0</td>\n",
       "    </tr>\n",
       "    <tr>\n",
       "      <th>1</th>\n",
       "      <td>110102.0</td>\n",
       "      <td>0.521103</td>\n",
       "      <td>110102</td>\n",
       "      <td>西城区</td>\n",
       "      <td>0</td>\n",
       "      <td>district</td>\n",
       "      <td>110000</td>\n",
       "      <td>NaN</td>\n",
       "      <td>POLYGON ((116.325809 39.896793, 116.325809 39....</td>\n",
       "      <td>1</td>\n",
       "    </tr>\n",
       "    <tr>\n",
       "      <th>2</th>\n",
       "      <td>110105.0</td>\n",
       "      <td>0.013687</td>\n",
       "      <td>110105</td>\n",
       "      <td>朝阳区</td>\n",
       "      <td>0</td>\n",
       "      <td>district</td>\n",
       "      <td>110000</td>\n",
       "      <td>NaN</td>\n",
       "      <td>MULTIPOLYGON (((116.595547 40.017517, 116.5982...</td>\n",
       "      <td>2</td>\n",
       "    </tr>\n",
       "    <tr>\n",
       "      <th>3</th>\n",
       "      <td>NaN</td>\n",
       "      <td>NaN</td>\n",
       "      <td>110106</td>\n",
       "      <td>丰台区</td>\n",
       "      <td>0</td>\n",
       "      <td>district</td>\n",
       "      <td>110000</td>\n",
       "      <td>NaN</td>\n",
       "      <td>POLYGON ((116.25909 39.896667, 116.260052 39.8...</td>\n",
       "      <td>3</td>\n",
       "    </tr>\n",
       "    <tr>\n",
       "      <th>4</th>\n",
       "      <td>NaN</td>\n",
       "      <td>NaN</td>\n",
       "      <td>110107</td>\n",
       "      <td>石景山区</td>\n",
       "      <td>0</td>\n",
       "      <td>district</td>\n",
       "      <td>110000</td>\n",
       "      <td>NaN</td>\n",
       "      <td>POLYGON ((116.16703 39.888756, 116.166362 39.8...</td>\n",
       "      <td>4</td>\n",
       "    </tr>\n",
       "    <tr>\n",
       "      <th>...</th>\n",
       "      <td>...</td>\n",
       "      <td>...</td>\n",
       "      <td>...</td>\n",
       "      <td>...</td>\n",
       "      <td>...</td>\n",
       "      <td>...</td>\n",
       "      <td>...</td>\n",
       "      <td>...</td>\n",
       "      <td>...</td>\n",
       "      <td>...</td>\n",
       "    </tr>\n",
       "    <tr>\n",
       "      <th>2843</th>\n",
       "      <td>659006.0</td>\n",
       "      <td>0.368107</td>\n",
       "      <td>659006</td>\n",
       "      <td>铁门关市</td>\n",
       "      <td>0</td>\n",
       "      <td>city</td>\n",
       "      <td>650000</td>\n",
       "      <td>NaN</td>\n",
       "      <td>MULTIPOLYGON (((85.741466 41.755319, 85.742772...</td>\n",
       "      <td>2843</td>\n",
       "    </tr>\n",
       "    <tr>\n",
       "      <th>2844</th>\n",
       "      <td>659007.0</td>\n",
       "      <td>0.649770</td>\n",
       "      <td>659007</td>\n",
       "      <td>双河市</td>\n",
       "      <td>0</td>\n",
       "      <td>city</td>\n",
       "      <td>650000</td>\n",
       "      <td>NaN</td>\n",
       "      <td>MULTIPOLYGON (((82.206964 44.821218, 82.178471...</td>\n",
       "      <td>2844</td>\n",
       "    </tr>\n",
       "    <tr>\n",
       "      <th>2845</th>\n",
       "      <td>NaN</td>\n",
       "      <td>NaN</td>\n",
       "      <td>659008</td>\n",
       "      <td>可克达拉市</td>\n",
       "      <td>0</td>\n",
       "      <td>city</td>\n",
       "      <td>650000</td>\n",
       "      <td>NaN</td>\n",
       "      <td>MULTIPOLYGON (((80.67237299999999 43.844698, 8...</td>\n",
       "      <td>2845</td>\n",
       "    </tr>\n",
       "    <tr>\n",
       "      <th>2846</th>\n",
       "      <td>NaN</td>\n",
       "      <td>NaN</td>\n",
       "      <td>659009</td>\n",
       "      <td>昆玉市</td>\n",
       "      <td>0</td>\n",
       "      <td>city</td>\n",
       "      <td>650000</td>\n",
       "      <td>NaN</td>\n",
       "      <td>MULTIPOLYGON (((79.573441 37.38167, 79.579897 ...</td>\n",
       "      <td>2846</td>\n",
       "    </tr>\n",
       "    <tr>\n",
       "      <th>2847</th>\n",
       "      <td>659010.0</td>\n",
       "      <td>0.044328</td>\n",
       "      <td>659010</td>\n",
       "      <td>胡杨河市</td>\n",
       "      <td>0</td>\n",
       "      <td>city</td>\n",
       "      <td>650000</td>\n",
       "      <td>NaN</td>\n",
       "      <td>POLYGON ((84.853835 44.552084, 84.85427 44.554...</td>\n",
       "      <td>2847</td>\n",
       "    </tr>\n",
       "  </tbody>\n",
       "</table>\n",
       "<p>2848 rows × 10 columns</p>\n",
       "</div>"
      ],
      "text/plain": [
       "           PAC   predict  adcode   name  childrenNu     level  parent  \\\n",
       "0          NaN       NaN  110101    东城区           0  district  110000   \n",
       "1     110102.0  0.521103  110102    西城区           0  district  110000   \n",
       "2     110105.0  0.013687  110105    朝阳区           0  district  110000   \n",
       "3          NaN       NaN  110106    丰台区           0  district  110000   \n",
       "4          NaN       NaN  110107   石景山区           0  district  110000   \n",
       "...        ...       ...     ...    ...         ...       ...     ...   \n",
       "2843  659006.0  0.368107  659006   铁门关市           0      city  650000   \n",
       "2844  659007.0  0.649770  659007    双河市           0      city  650000   \n",
       "2845       NaN       NaN  659008  可克达拉市           0      city  650000   \n",
       "2846       NaN       NaN  659009    昆玉市           0      city  650000   \n",
       "2847  659010.0  0.044328  659010   胡杨河市           0      city  650000   \n",
       "\n",
       "      subFeature                                           geometry    ID  \n",
       "0            NaN  POLYGON ((116.44364 39.872846, 116.443509 39.8...     0  \n",
       "1            NaN  POLYGON ((116.325809 39.896793, 116.325809 39....     1  \n",
       "2            NaN  MULTIPOLYGON (((116.595547 40.017517, 116.5982...     2  \n",
       "3            NaN  POLYGON ((116.25909 39.896667, 116.260052 39.8...     3  \n",
       "4            NaN  POLYGON ((116.16703 39.888756, 116.166362 39.8...     4  \n",
       "...          ...                                                ...   ...  \n",
       "2843         NaN  MULTIPOLYGON (((85.741466 41.755319, 85.742772...  2843  \n",
       "2844         NaN  MULTIPOLYGON (((82.206964 44.821218, 82.178471...  2844  \n",
       "2845         NaN  MULTIPOLYGON (((80.67237299999999 43.844698, 8...  2845  \n",
       "2846         NaN  MULTIPOLYGON (((79.573441 37.38167, 79.579897 ...  2846  \n",
       "2847         NaN  POLYGON ((84.853835 44.552084, 84.85427 44.554...  2847  \n",
       "\n",
       "[2848 rows x 10 columns]"
      ]
     },
     "execution_count": 100,
     "metadata": {},
     "output_type": "execute_result"
    }
   ],
   "source": [
    "res"
   ]
  },
  {
   "cell_type": "code",
   "execution_count": 94,
   "metadata": {
    "scrolled": true
   },
   "outputs": [
    {
     "data": {
      "text/html": [
       "<div>\n",
       "<style scoped>\n",
       "    .dataframe tbody tr th:only-of-type {\n",
       "        vertical-align: middle;\n",
       "    }\n",
       "\n",
       "    .dataframe tbody tr th {\n",
       "        vertical-align: top;\n",
       "    }\n",
       "\n",
       "    .dataframe thead th {\n",
       "        text-align: right;\n",
       "    }\n",
       "</style>\n",
       "<table border=\"1\" class=\"dataframe\">\n",
       "  <thead>\n",
       "    <tr style=\"text-align: right;\">\n",
       "      <th></th>\n",
       "      <th>Unnamed: 0</th>\n",
       "      <th>name</th>\n",
       "      <th>nightlights</th>\n",
       "      <th>score</th>\n",
       "      <th>PAC</th>\n",
       "      <th>population</th>\n",
       "      <th>gdp</th>\n",
       "      <th>host</th>\n",
       "      <th>second</th>\n",
       "      <th>newloss</th>\n",
       "    </tr>\n",
       "  </thead>\n",
       "  <tbody>\n",
       "    <tr>\n",
       "      <th>0</th>\n",
       "      <td>0</td>\n",
       "      <td>-48.779296875_-66.93006025862447.png</td>\n",
       "      <td>0.382294</td>\n",
       "      <td>0.999654</td>\n",
       "      <td>652328</td>\n",
       "      <td>8.8985</td>\n",
       "      <td>282062.00</td>\n",
       "      <td>430.0</td>\n",
       "      <td>55819.00</td>\n",
       "      <td>0.030561</td>\n",
       "    </tr>\n",
       "    <tr>\n",
       "      <th>1</th>\n",
       "      <td>1</td>\n",
       "      <td>-48.603515625_-66.68778386116202.png</td>\n",
       "      <td>0.332832</td>\n",
       "      <td>0.997266</td>\n",
       "      <td>652328</td>\n",
       "      <td>8.8985</td>\n",
       "      <td>282062.00</td>\n",
       "      <td>430.0</td>\n",
       "      <td>55819.00</td>\n",
       "      <td>0.030480</td>\n",
       "    </tr>\n",
       "    <tr>\n",
       "      <th>2</th>\n",
       "      <td>2</td>\n",
       "      <td>-48.955078125_-66.99884379185184.png</td>\n",
       "      <td>0.316878</td>\n",
       "      <td>0.998954</td>\n",
       "      <td>652328</td>\n",
       "      <td>8.8985</td>\n",
       "      <td>282062.00</td>\n",
       "      <td>430.0</td>\n",
       "      <td>55819.00</td>\n",
       "      <td>0.030526</td>\n",
       "    </tr>\n",
       "    <tr>\n",
       "      <th>3</th>\n",
       "      <td>3</td>\n",
       "      <td>-48.427734375_-66.96447630005638.png</td>\n",
       "      <td>0.303142</td>\n",
       "      <td>0.491546</td>\n",
       "      <td>652328</td>\n",
       "      <td>8.8985</td>\n",
       "      <td>282062.00</td>\n",
       "      <td>430.0</td>\n",
       "      <td>55819.00</td>\n",
       "      <td>0.030506</td>\n",
       "    </tr>\n",
       "    <tr>\n",
       "      <th>4</th>\n",
       "      <td>4</td>\n",
       "      <td>-49.130859375_-66.82652027497478.png</td>\n",
       "      <td>0.353151</td>\n",
       "      <td>0.999952</td>\n",
       "      <td>652328</td>\n",
       "      <td>8.8985</td>\n",
       "      <td>282062.00</td>\n",
       "      <td>430.0</td>\n",
       "      <td>55819.00</td>\n",
       "      <td>0.030552</td>\n",
       "    </tr>\n",
       "    <tr>\n",
       "      <th>...</th>\n",
       "      <td>...</td>\n",
       "      <td>...</td>\n",
       "      <td>...</td>\n",
       "      <td>...</td>\n",
       "      <td>...</td>\n",
       "      <td>...</td>\n",
       "      <td>...</td>\n",
       "      <td>...</td>\n",
       "      <td>...</td>\n",
       "      <td>...</td>\n",
       "    </tr>\n",
       "    <tr>\n",
       "      <th>123284</th>\n",
       "      <td>123284</td>\n",
       "      <td>-37.705078125_-74.16408546675687.png</td>\n",
       "      <td>0.853912</td>\n",
       "      <td>1.000000</td>\n",
       "      <td>410822</td>\n",
       "      <td>40.5300</td>\n",
       "      <td>2605347.00</td>\n",
       "      <td>1846.0</td>\n",
       "      <td>1657451.00</td>\n",
       "      <td>0.030643</td>\n",
       "    </tr>\n",
       "    <tr>\n",
       "      <th>123285</th>\n",
       "      <td>123285</td>\n",
       "      <td>-37.6171875_-74.16408546675687.png</td>\n",
       "      <td>3.321868</td>\n",
       "      <td>1.000000</td>\n",
       "      <td>410822</td>\n",
       "      <td>40.5300</td>\n",
       "      <td>2605347.00</td>\n",
       "      <td>1846.0</td>\n",
       "      <td>1657451.00</td>\n",
       "      <td>0.030629</td>\n",
       "    </tr>\n",
       "    <tr>\n",
       "      <th>123286</th>\n",
       "      <td>123286</td>\n",
       "      <td>-37.08984375_-73.84928645675248.png</td>\n",
       "      <td>3.990151</td>\n",
       "      <td>1.000000</td>\n",
       "      <td>411281</td>\n",
       "      <td>16.7900</td>\n",
       "      <td>1369734.00</td>\n",
       "      <td>1230.0</td>\n",
       "      <td>944290.00</td>\n",
       "      <td>0.030661</td>\n",
       "    </tr>\n",
       "    <tr>\n",
       "      <th>123287</th>\n",
       "      <td>123287</td>\n",
       "      <td>-29.00390625_-74.16408546675687.png</td>\n",
       "      <td>8.351891</td>\n",
       "      <td>1.000000</td>\n",
       "      <td>430304</td>\n",
       "      <td>47.5200</td>\n",
       "      <td>5784480.00</td>\n",
       "      <td>3560.0</td>\n",
       "      <td>3300668.00</td>\n",
       "      <td>0.030583</td>\n",
       "    </tr>\n",
       "    <tr>\n",
       "      <th>123288</th>\n",
       "      <td>123288</td>\n",
       "      <td>-22.32421875_-73.22669969306126.png</td>\n",
       "      <td>0.851969</td>\n",
       "      <td>1.000000</td>\n",
       "      <td>450521</td>\n",
       "      <td>108.3700</td>\n",
       "      <td>2486280.54</td>\n",
       "      <td>5080.0</td>\n",
       "      <td>662309.44</td>\n",
       "      <td>0.030554</td>\n",
       "    </tr>\n",
       "  </tbody>\n",
       "</table>\n",
       "<p>123289 rows × 10 columns</p>\n",
       "</div>"
      ],
      "text/plain": [
       "        Unnamed: 0                                  name  nightlights  \\\n",
       "0                0  -48.779296875_-66.93006025862447.png     0.382294   \n",
       "1                1  -48.603515625_-66.68778386116202.png     0.332832   \n",
       "2                2  -48.955078125_-66.99884379185184.png     0.316878   \n",
       "3                3  -48.427734375_-66.96447630005638.png     0.303142   \n",
       "4                4  -49.130859375_-66.82652027497478.png     0.353151   \n",
       "...            ...                                   ...          ...   \n",
       "123284      123284  -37.705078125_-74.16408546675687.png     0.853912   \n",
       "123285      123285    -37.6171875_-74.16408546675687.png     3.321868   \n",
       "123286      123286   -37.08984375_-73.84928645675248.png     3.990151   \n",
       "123287      123287   -29.00390625_-74.16408546675687.png     8.351891   \n",
       "123288      123288   -22.32421875_-73.22669969306126.png     0.851969   \n",
       "\n",
       "           score     PAC  population         gdp    host      second   newloss  \n",
       "0       0.999654  652328      8.8985   282062.00   430.0    55819.00  0.030561  \n",
       "1       0.997266  652328      8.8985   282062.00   430.0    55819.00  0.030480  \n",
       "2       0.998954  652328      8.8985   282062.00   430.0    55819.00  0.030526  \n",
       "3       0.491546  652328      8.8985   282062.00   430.0    55819.00  0.030506  \n",
       "4       0.999952  652328      8.8985   282062.00   430.0    55819.00  0.030552  \n",
       "...          ...     ...         ...         ...     ...         ...       ...  \n",
       "123284  1.000000  410822     40.5300  2605347.00  1846.0  1657451.00  0.030643  \n",
       "123285  1.000000  410822     40.5300  2605347.00  1846.0  1657451.00  0.030629  \n",
       "123286  1.000000  411281     16.7900  1369734.00  1230.0   944290.00  0.030661  \n",
       "123287  1.000000  430304     47.5200  5784480.00  3560.0  3300668.00  0.030583  \n",
       "123288  1.000000  450521    108.3700  2486280.54  5080.0   662309.44  0.030554  \n",
       "\n",
       "[123289 rows x 10 columns]"
      ]
     },
     "execution_count": 94,
     "metadata": {},
     "output_type": "execute_result"
    }
   ],
   "source": [
    "df"
   ]
  },
  {
   "cell_type": "code",
   "execution_count": 97,
   "metadata": {},
   "outputs": [
    {
     "data": {
      "text/html": [
       "<div>\n",
       "<style scoped>\n",
       "    .dataframe tbody tr th:only-of-type {\n",
       "        vertical-align: middle;\n",
       "    }\n",
       "\n",
       "    .dataframe tbody tr th {\n",
       "        vertical-align: top;\n",
       "    }\n",
       "\n",
       "    .dataframe thead th {\n",
       "        text-align: right;\n",
       "    }\n",
       "</style>\n",
       "<table border=\"1\" class=\"dataframe\">\n",
       "  <thead>\n",
       "    <tr style=\"text-align: right;\">\n",
       "      <th></th>\n",
       "      <th>Unnamed: 0</th>\n",
       "      <th>name</th>\n",
       "      <th>nightlights</th>\n",
       "      <th>score</th>\n",
       "      <th>PAC</th>\n",
       "      <th>population</th>\n",
       "      <th>gdp</th>\n",
       "      <th>host</th>\n",
       "      <th>second</th>\n",
       "      <th>newloss</th>\n",
       "      <th>predict</th>\n",
       "    </tr>\n",
       "  </thead>\n",
       "  <tbody>\n",
       "  </tbody>\n",
       "</table>\n",
       "</div>"
      ],
      "text/plain": [
       "Empty DataFrame\n",
       "Columns: [Unnamed: 0, name, nightlights, score, PAC, population, gdp, host, second, newloss, predict]\n",
       "Index: []"
      ]
     },
     "execution_count": 97,
     "metadata": {},
     "output_type": "execute_result"
    }
   ],
   "source": [
    "df.merge(res, left_on='name', right_on='name')"
   ]
  },
  {
   "cell_type": "code",
   "execution_count": 89,
   "metadata": {},
   "outputs": [],
   "source": [
    "df = df.merge(res)"
   ]
  },
  {
   "cell_type": "code",
   "execution_count": 92,
   "metadata": {},
   "outputs": [],
   "source": [
    "df = pd.read_csv('df.csv')"
   ]
  },
  {
   "cell_type": "code",
   "execution_count": 90,
   "metadata": {},
   "outputs": [],
   "source": [
    "df.to_csv('df.csv', index=False)"
   ]
  },
  {
   "cell_type": "code",
   "execution_count": null,
   "metadata": {},
   "outputs": [],
   "source": []
  },
  {
   "cell_type": "code",
   "execution_count": null,
   "metadata": {},
   "outputs": [],
   "source": [
    "# pearson, spearman, r2, adj_r2, rmse, mape"
   ]
  },
  {
   "cell_type": "code",
   "execution_count": 98,
   "metadata": {
    "scrolled": true
   },
   "outputs": [
    {
     "name": "stderr",
     "output_type": "stream",
     "text": [
      "/home/xiezhongming/anaconda3/envs/pytorch/lib/python3.6/site-packages/ipykernel_launcher.py:9: FutureWarning:\n",
      "\n",
      "`rcond` parameter will change to the default of machine precision times ``max(M, N)`` where M and N are the input matrix dimensions.\n",
      "To use the future default and silence this warning we advise to pass `rcond=None`, to keep using the old, explicitly pass `rcond=-1`.\n",
      "\n"
     ]
    },
    {
     "data": {
      "text/plain": [
       "(0.3888542029536748,\n",
       " 0.5641770678476032,\n",
       " 0.1496376978910472,\n",
       " 0.14922248192322052,\n",
       " 0.34134934496177316,\n",
       " 1247.1349358207356)"
      ]
     },
     "execution_count": 98,
     "metadata": {},
     "output_type": "execute_result"
    }
   ],
   "source": [
    "r2(df.groupby('PAC').mean()[['res-m', 'gdp']])"
   ]
  },
  {
   "cell_type": "code",
   "execution_count": 101,
   "metadata": {},
   "outputs": [
    {
     "name": "stderr",
     "output_type": "stream",
     "text": [
      "/home/xiezhongming/anaconda3/envs/pytorch/lib/python3.6/site-packages/ipykernel_launcher.py:9: FutureWarning:\n",
      "\n",
      "`rcond` parameter will change to the default of machine precision times ``max(M, N)`` where M and N are the input matrix dimensions.\n",
      "To use the future default and silence this warning we advise to pass `rcond=None`, to keep using the old, explicitly pass `rcond=-1`.\n",
      "\n"
     ]
    },
    {
     "data": {
      "text/plain": [
       "(0.0432946646729968,\n",
       " 0.18298412755035168,\n",
       " 0.00010689623011961302,\n",
       " -0.00038133282445551586,\n",
       " 0.9288629880983515,\n",
       " 7406.709789747735)"
      ]
     },
     "execution_count": 101,
     "metadata": {},
     "output_type": "execute_result"
    }
   ],
   "source": [
    "r2(df.groupby('PAC').mean()[['nl', 'nightlights']])"
   ]
  },
  {
   "cell_type": "code",
   "execution_count": 193,
   "metadata": {},
   "outputs": [],
   "source": [
    "def r2(df):\n",
    "    pearson = df.corr().iloc[0,1]\n",
    "    spearman = df.corr('spearman').iloc[0, 1]\n",
    "    kendall = df.corr('kendall').iloc[0, 1]\n",
    "    df = df.dropna()\n",
    "    x = df.iloc[:,0].values\n",
    "    y = df.iloc[:,1].values\n",
    "    # Fit a simple linear regression model\n",
    "    beta, _, _, _ = np.linalg.lstsq(x[:, None], y)\n",
    "    y_pred = beta * x\n",
    "    # Calculate the residual sum of squares (RSS)\n",
    "    rss = np.sum((y - y_pred)**2)\n",
    "    # Calculate the total sum of squares (TSS)\n",
    "    mean_y = np.mean(y)\n",
    "    tss = np.sum((y - mean_y)**2)\n",
    "    # Calculate R2\n",
    "    r2 = 1 - (rss / tss)\n",
    "\n",
    "    # Calculate the residual sum of squares (RSS)\n",
    "    rss = np.sum((y - y_pred)**2)\n",
    "    # Calculate the total sum of squares (TSS)\n",
    "    mean_y = np.mean(y)\n",
    "    tss = np.sum((y - mean_y)**2)\n",
    "    # Calculate R2\n",
    "    r2 = 1 - (rss / tss)\n",
    "    # Calculate the adjusted R2\n",
    "    n = x.shape[0]\n",
    "    p = 1\n",
    "    adj_r2 = 1 - (1-r2)*(n-1)/(n-p-1)\n",
    "    \n",
    "    y /= y.max()\n",
    "    x /= x.max()\n",
    "    \n",
    "    # Calculate the residuals\n",
    "    residuals = x - y\n",
    "    # Calculate the mean squared error (MSE)\n",
    "    mse = np.mean(residuals**2)\n",
    "    # Calculate the root mean squared error (RMSE)\n",
    "    rmse = np.sqrt(mse)\n",
    "    # Calculate the absolute percentage error\n",
    "    ape = np.abs((y - x) / y) * 100\n",
    "    # Calculate the mean absolute percentage error (MAPE)\n",
    "    mape = np.mean(ape)\n",
    "    \n",
    "    return {'pearson':pearson, 'spearman':spearman, 'kendall':kendall, 'r2':r2, 'adj_r2':adj_r2, 'rmse':rmse, 'mape':mape}"
   ]
  },
  {
   "cell_type": "code",
   "execution_count": 198,
   "metadata": {},
   "outputs": [
    {
     "data": {
      "text/plain": [
       "Index(['name', 'nightlights', 'score', 'PAC', 'population', 'gdp', 'host',\n",
       "       'second', 'newloss', 'rank25', 'rank10', 'rank10-', 'rank10-drop',\n",
       "       'nl-res', 'res-rankloss-10bins-100', 'nl', 'res-m', 'pca', 'ae',\n",
       "       'nl-50', 'res50+', 'res50++', 'res2loss', 'res1loss'],\n",
       "      dtype='object')"
      ]
     },
     "execution_count": 198,
     "metadata": {},
     "output_type": "execute_result"
    }
   ],
   "source": [
    "df.columns"
   ]
  },
  {
   "cell_type": "code",
   "execution_count": 207,
   "metadata": {
    "collapsed": true
   },
   "outputs": [
    {
     "name": "stderr",
     "output_type": "stream",
     "text": [
      "/home/xiezhongming/anaconda3/envs/pytorch/lib/python3.6/site-packages/ipykernel_launcher.py:9: FutureWarning:\n",
      "\n",
      "`rcond` parameter will change to the default of machine precision times ``max(M, N)`` where M and N are the input matrix dimensions.\n",
      "To use the future default and silence this warning we advise to pass `rcond=None`, to keep using the old, explicitly pass `rcond=-1`.\n",
      "\n",
      "/home/xiezhongming/anaconda3/envs/pytorch/lib/python3.6/site-packages/ipykernel_launcher.py:9: FutureWarning:\n",
      "\n",
      "`rcond` parameter will change to the default of machine precision times ``max(M, N)`` where M and N are the input matrix dimensions.\n",
      "To use the future default and silence this warning we advise to pass `rcond=None`, to keep using the old, explicitly pass `rcond=-1`.\n",
      "\n",
      "/home/xiezhongming/anaconda3/envs/pytorch/lib/python3.6/site-packages/ipykernel_launcher.py:9: FutureWarning:\n",
      "\n",
      "`rcond` parameter will change to the default of machine precision times ``max(M, N)`` where M and N are the input matrix dimensions.\n",
      "To use the future default and silence this warning we advise to pass `rcond=None`, to keep using the old, explicitly pass `rcond=-1`.\n",
      "\n",
      "/home/xiezhongming/anaconda3/envs/pytorch/lib/python3.6/site-packages/ipykernel_launcher.py:9: FutureWarning:\n",
      "\n",
      "`rcond` parameter will change to the default of machine precision times ``max(M, N)`` where M and N are the input matrix dimensions.\n",
      "To use the future default and silence this warning we advise to pass `rcond=None`, to keep using the old, explicitly pass `rcond=-1`.\n",
      "\n",
      "/home/xiezhongming/anaconda3/envs/pytorch/lib/python3.6/site-packages/ipykernel_launcher.py:9: FutureWarning:\n",
      "\n",
      "`rcond` parameter will change to the default of machine precision times ``max(M, N)`` where M and N are the input matrix dimensions.\n",
      "To use the future default and silence this warning we advise to pass `rcond=None`, to keep using the old, explicitly pass `rcond=-1`.\n",
      "\n",
      "/home/xiezhongming/anaconda3/envs/pytorch/lib/python3.6/site-packages/ipykernel_launcher.py:9: FutureWarning:\n",
      "\n",
      "`rcond` parameter will change to the default of machine precision times ``max(M, N)`` where M and N are the input matrix dimensions.\n",
      "To use the future default and silence this warning we advise to pass `rcond=None`, to keep using the old, explicitly pass `rcond=-1`.\n",
      "\n",
      "/home/xiezhongming/anaconda3/envs/pytorch/lib/python3.6/site-packages/ipykernel_launcher.py:9: FutureWarning:\n",
      "\n",
      "`rcond` parameter will change to the default of machine precision times ``max(M, N)`` where M and N are the input matrix dimensions.\n",
      "To use the future default and silence this warning we advise to pass `rcond=None`, to keep using the old, explicitly pass `rcond=-1`.\n",
      "\n",
      "/home/xiezhongming/anaconda3/envs/pytorch/lib/python3.6/site-packages/ipykernel_launcher.py:9: FutureWarning:\n",
      "\n",
      "`rcond` parameter will change to the default of machine precision times ``max(M, N)`` where M and N are the input matrix dimensions.\n",
      "To use the future default and silence this warning we advise to pass `rcond=None`, to keep using the old, explicitly pass `rcond=-1`.\n",
      "\n",
      "/home/xiezhongming/anaconda3/envs/pytorch/lib/python3.6/site-packages/ipykernel_launcher.py:9: FutureWarning:\n",
      "\n",
      "`rcond` parameter will change to the default of machine precision times ``max(M, N)`` where M and N are the input matrix dimensions.\n",
      "To use the future default and silence this warning we advise to pass `rcond=None`, to keep using the old, explicitly pass `rcond=-1`.\n",
      "\n"
     ]
    }
   ],
   "source": [
    "items = ['gdp', 'second', 'population', 'host', 'nightlights', 'pca', 'ae','nl-50', 'res-m']\n",
    "host = pd.DataFrame([r2(df[[item, 'gdp']]) for item in items])\n",
    "host.index = items"
   ]
  },
  {
   "cell_type": "code",
   "execution_count": 208,
   "metadata": {
    "collapsed": true
   },
   "outputs": [
    {
     "name": "stderr",
     "output_type": "stream",
     "text": [
      "/home/xiezhongming/anaconda3/envs/pytorch/lib/python3.6/site-packages/ipykernel_launcher.py:9: FutureWarning:\n",
      "\n",
      "`rcond` parameter will change to the default of machine precision times ``max(M, N)`` where M and N are the input matrix dimensions.\n",
      "To use the future default and silence this warning we advise to pass `rcond=None`, to keep using the old, explicitly pass `rcond=-1`.\n",
      "\n",
      "/home/xiezhongming/anaconda3/envs/pytorch/lib/python3.6/site-packages/ipykernel_launcher.py:9: FutureWarning:\n",
      "\n",
      "`rcond` parameter will change to the default of machine precision times ``max(M, N)`` where M and N are the input matrix dimensions.\n",
      "To use the future default and silence this warning we advise to pass `rcond=None`, to keep using the old, explicitly pass `rcond=-1`.\n",
      "\n",
      "/home/xiezhongming/anaconda3/envs/pytorch/lib/python3.6/site-packages/ipykernel_launcher.py:9: FutureWarning:\n",
      "\n",
      "`rcond` parameter will change to the default of machine precision times ``max(M, N)`` where M and N are the input matrix dimensions.\n",
      "To use the future default and silence this warning we advise to pass `rcond=None`, to keep using the old, explicitly pass `rcond=-1`.\n",
      "\n",
      "/home/xiezhongming/anaconda3/envs/pytorch/lib/python3.6/site-packages/ipykernel_launcher.py:9: FutureWarning:\n",
      "\n",
      "`rcond` parameter will change to the default of machine precision times ``max(M, N)`` where M and N are the input matrix dimensions.\n",
      "To use the future default and silence this warning we advise to pass `rcond=None`, to keep using the old, explicitly pass `rcond=-1`.\n",
      "\n",
      "/home/xiezhongming/anaconda3/envs/pytorch/lib/python3.6/site-packages/ipykernel_launcher.py:9: FutureWarning:\n",
      "\n",
      "`rcond` parameter will change to the default of machine precision times ``max(M, N)`` where M and N are the input matrix dimensions.\n",
      "To use the future default and silence this warning we advise to pass `rcond=None`, to keep using the old, explicitly pass `rcond=-1`.\n",
      "\n",
      "/home/xiezhongming/anaconda3/envs/pytorch/lib/python3.6/site-packages/ipykernel_launcher.py:9: FutureWarning:\n",
      "\n",
      "`rcond` parameter will change to the default of machine precision times ``max(M, N)`` where M and N are the input matrix dimensions.\n",
      "To use the future default and silence this warning we advise to pass `rcond=None`, to keep using the old, explicitly pass `rcond=-1`.\n",
      "\n",
      "/home/xiezhongming/anaconda3/envs/pytorch/lib/python3.6/site-packages/ipykernel_launcher.py:9: FutureWarning:\n",
      "\n",
      "`rcond` parameter will change to the default of machine precision times ``max(M, N)`` where M and N are the input matrix dimensions.\n",
      "To use the future default and silence this warning we advise to pass `rcond=None`, to keep using the old, explicitly pass `rcond=-1`.\n",
      "\n",
      "/home/xiezhongming/anaconda3/envs/pytorch/lib/python3.6/site-packages/ipykernel_launcher.py:9: FutureWarning:\n",
      "\n",
      "`rcond` parameter will change to the default of machine precision times ``max(M, N)`` where M and N are the input matrix dimensions.\n",
      "To use the future default and silence this warning we advise to pass `rcond=None`, to keep using the old, explicitly pass `rcond=-1`.\n",
      "\n",
      "/home/xiezhongming/anaconda3/envs/pytorch/lib/python3.6/site-packages/ipykernel_launcher.py:9: FutureWarning:\n",
      "\n",
      "`rcond` parameter will change to the default of machine precision times ``max(M, N)`` where M and N are the input matrix dimensions.\n",
      "To use the future default and silence this warning we advise to pass `rcond=None`, to keep using the old, explicitly pass `rcond=-1`.\n",
      "\n"
     ]
    }
   ],
   "source": [
    "items = ['gdp', 'second', 'population', 'host', 'nightlights', 'pca', 'ae','nl-50', 'res-m']\n",
    "host = pd.DataFrame([r2(df[[item,  'host']]) for item in items])\n",
    "host.index = items"
   ]
  },
  {
   "cell_type": "code",
   "execution_count": 233,
   "metadata": {},
   "outputs": [],
   "source": [
    "first = pd.read_csv('第一产业增加值.csv')\n",
    "first['code'] = first['code'].apply(int)\n",
    "first = first.rename({'value':'first'}, axis=1)"
   ]
  },
  {
   "cell_type": "code",
   "execution_count": 234,
   "metadata": {},
   "outputs": [],
   "source": [
    "df = df.merge(first, left_on='PAC', right_on='code')"
   ]
  },
  {
   "cell_type": "code",
   "execution_count": 22,
   "metadata": {
    "scrolled": true
   },
   "outputs": [],
   "source": [
    "items = ['gdp', 'first', 'second', 'population', 'host', 'nightlights', 'pca', 'ae','nl-50', 'res-m']"
   ]
  },
  {
   "cell_type": "code",
   "execution_count": 23,
   "metadata": {},
   "outputs": [
    {
     "name": "stderr",
     "output_type": "stream",
     "text": [
      "/home/xiezhongming/anaconda3/envs/pytorch/lib/python3.6/site-packages/ipykernel_launcher.py:9: FutureWarning: `rcond` parameter will change to the default of machine precision times ``max(M, N)`` where M and N are the input matrix dimensions.\n",
      "To use the future default and silence this warning we advise to pass `rcond=None`, to keep using the old, explicitly pass `rcond=-1`.\n",
      "  if __name__ == '__main__':\n",
      "/home/xiezhongming/anaconda3/envs/pytorch/lib/python3.6/site-packages/ipykernel_launcher.py:9: FutureWarning: `rcond` parameter will change to the default of machine precision times ``max(M, N)`` where M and N are the input matrix dimensions.\n",
      "To use the future default and silence this warning we advise to pass `rcond=None`, to keep using the old, explicitly pass `rcond=-1`.\n",
      "  if __name__ == '__main__':\n",
      "/home/xiezhongming/anaconda3/envs/pytorch/lib/python3.6/site-packages/ipykernel_launcher.py:9: FutureWarning: `rcond` parameter will change to the default of machine precision times ``max(M, N)`` where M and N are the input matrix dimensions.\n",
      "To use the future default and silence this warning we advise to pass `rcond=None`, to keep using the old, explicitly pass `rcond=-1`.\n",
      "  if __name__ == '__main__':\n",
      "/home/xiezhongming/anaconda3/envs/pytorch/lib/python3.6/site-packages/ipykernel_launcher.py:9: FutureWarning: `rcond` parameter will change to the default of machine precision times ``max(M, N)`` where M and N are the input matrix dimensions.\n",
      "To use the future default and silence this warning we advise to pass `rcond=None`, to keep using the old, explicitly pass `rcond=-1`.\n",
      "  if __name__ == '__main__':\n",
      "/home/xiezhongming/anaconda3/envs/pytorch/lib/python3.6/site-packages/ipykernel_launcher.py:9: FutureWarning: `rcond` parameter will change to the default of machine precision times ``max(M, N)`` where M and N are the input matrix dimensions.\n",
      "To use the future default and silence this warning we advise to pass `rcond=None`, to keep using the old, explicitly pass `rcond=-1`.\n",
      "  if __name__ == '__main__':\n",
      "/home/xiezhongming/anaconda3/envs/pytorch/lib/python3.6/site-packages/ipykernel_launcher.py:9: FutureWarning: `rcond` parameter will change to the default of machine precision times ``max(M, N)`` where M and N are the input matrix dimensions.\n",
      "To use the future default and silence this warning we advise to pass `rcond=None`, to keep using the old, explicitly pass `rcond=-1`.\n",
      "  if __name__ == '__main__':\n",
      "/home/xiezhongming/anaconda3/envs/pytorch/lib/python3.6/site-packages/ipykernel_launcher.py:9: FutureWarning: `rcond` parameter will change to the default of machine precision times ``max(M, N)`` where M and N are the input matrix dimensions.\n",
      "To use the future default and silence this warning we advise to pass `rcond=None`, to keep using the old, explicitly pass `rcond=-1`.\n",
      "  if __name__ == '__main__':\n",
      "/home/xiezhongming/anaconda3/envs/pytorch/lib/python3.6/site-packages/ipykernel_launcher.py:9: FutureWarning: `rcond` parameter will change to the default of machine precision times ``max(M, N)`` where M and N are the input matrix dimensions.\n",
      "To use the future default and silence this warning we advise to pass `rcond=None`, to keep using the old, explicitly pass `rcond=-1`.\n",
      "  if __name__ == '__main__':\n",
      "/home/xiezhongming/anaconda3/envs/pytorch/lib/python3.6/site-packages/ipykernel_launcher.py:9: FutureWarning: `rcond` parameter will change to the default of machine precision times ``max(M, N)`` where M and N are the input matrix dimensions.\n",
      "To use the future default and silence this warning we advise to pass `rcond=None`, to keep using the old, explicitly pass `rcond=-1`.\n",
      "  if __name__ == '__main__':\n",
      "/home/xiezhongming/anaconda3/envs/pytorch/lib/python3.6/site-packages/ipykernel_launcher.py:9: FutureWarning: `rcond` parameter will change to the default of machine precision times ``max(M, N)`` where M and N are the input matrix dimensions.\n",
      "To use the future default and silence this warning we advise to pass `rcond=None`, to keep using the old, explicitly pass `rcond=-1`.\n",
      "  if __name__ == '__main__':\n"
     ]
    }
   ],
   "source": [
    "log_gdp = pd.DataFrame([r2(df[[item,  'gdp']]) for item in items])\n",
    "log_gdp.index = items"
   ]
  },
  {
   "cell_type": "code",
   "execution_count": 241,
   "metadata": {
    "collapsed": true
   },
   "outputs": [
    {
     "name": "stderr",
     "output_type": "stream",
     "text": [
      "/home/xiezhongming/anaconda3/envs/pytorch/lib/python3.6/site-packages/ipykernel_launcher.py:9: FutureWarning:\n",
      "\n",
      "`rcond` parameter will change to the default of machine precision times ``max(M, N)`` where M and N are the input matrix dimensions.\n",
      "To use the future default and silence this warning we advise to pass `rcond=None`, to keep using the old, explicitly pass `rcond=-1`.\n",
      "\n",
      "/home/xiezhongming/anaconda3/envs/pytorch/lib/python3.6/site-packages/ipykernel_launcher.py:9: FutureWarning:\n",
      "\n",
      "`rcond` parameter will change to the default of machine precision times ``max(M, N)`` where M and N are the input matrix dimensions.\n",
      "To use the future default and silence this warning we advise to pass `rcond=None`, to keep using the old, explicitly pass `rcond=-1`.\n",
      "\n",
      "/home/xiezhongming/anaconda3/envs/pytorch/lib/python3.6/site-packages/ipykernel_launcher.py:9: FutureWarning:\n",
      "\n",
      "`rcond` parameter will change to the default of machine precision times ``max(M, N)`` where M and N are the input matrix dimensions.\n",
      "To use the future default and silence this warning we advise to pass `rcond=None`, to keep using the old, explicitly pass `rcond=-1`.\n",
      "\n",
      "/home/xiezhongming/anaconda3/envs/pytorch/lib/python3.6/site-packages/ipykernel_launcher.py:9: FutureWarning:\n",
      "\n",
      "`rcond` parameter will change to the default of machine precision times ``max(M, N)`` where M and N are the input matrix dimensions.\n",
      "To use the future default and silence this warning we advise to pass `rcond=None`, to keep using the old, explicitly pass `rcond=-1`.\n",
      "\n",
      "/home/xiezhongming/anaconda3/envs/pytorch/lib/python3.6/site-packages/ipykernel_launcher.py:9: FutureWarning:\n",
      "\n",
      "`rcond` parameter will change to the default of machine precision times ``max(M, N)`` where M and N are the input matrix dimensions.\n",
      "To use the future default and silence this warning we advise to pass `rcond=None`, to keep using the old, explicitly pass `rcond=-1`.\n",
      "\n",
      "/home/xiezhongming/anaconda3/envs/pytorch/lib/python3.6/site-packages/ipykernel_launcher.py:9: FutureWarning:\n",
      "\n",
      "`rcond` parameter will change to the default of machine precision times ``max(M, N)`` where M and N are the input matrix dimensions.\n",
      "To use the future default and silence this warning we advise to pass `rcond=None`, to keep using the old, explicitly pass `rcond=-1`.\n",
      "\n",
      "/home/xiezhongming/anaconda3/envs/pytorch/lib/python3.6/site-packages/ipykernel_launcher.py:9: FutureWarning:\n",
      "\n",
      "`rcond` parameter will change to the default of machine precision times ``max(M, N)`` where M and N are the input matrix dimensions.\n",
      "To use the future default and silence this warning we advise to pass `rcond=None`, to keep using the old, explicitly pass `rcond=-1`.\n",
      "\n",
      "/home/xiezhongming/anaconda3/envs/pytorch/lib/python3.6/site-packages/ipykernel_launcher.py:9: FutureWarning:\n",
      "\n",
      "`rcond` parameter will change to the default of machine precision times ``max(M, N)`` where M and N are the input matrix dimensions.\n",
      "To use the future default and silence this warning we advise to pass `rcond=None`, to keep using the old, explicitly pass `rcond=-1`.\n",
      "\n",
      "/home/xiezhongming/anaconda3/envs/pytorch/lib/python3.6/site-packages/ipykernel_launcher.py:9: FutureWarning:\n",
      "\n",
      "`rcond` parameter will change to the default of machine precision times ``max(M, N)`` where M and N are the input matrix dimensions.\n",
      "To use the future default and silence this warning we advise to pass `rcond=None`, to keep using the old, explicitly pass `rcond=-1`.\n",
      "\n",
      "/home/xiezhongming/anaconda3/envs/pytorch/lib/python3.6/site-packages/ipykernel_launcher.py:9: FutureWarning:\n",
      "\n",
      "`rcond` parameter will change to the default of machine precision times ``max(M, N)`` where M and N are the input matrix dimensions.\n",
      "To use the future default and silence this warning we advise to pass `rcond=None`, to keep using the old, explicitly pass `rcond=-1`.\n",
      "\n",
      "/home/xiezhongming/anaconda3/envs/pytorch/lib/python3.6/site-packages/ipykernel_launcher.py:9: FutureWarning:\n",
      "\n",
      "`rcond` parameter will change to the default of machine precision times ``max(M, N)`` where M and N are the input matrix dimensions.\n",
      "To use the future default and silence this warning we advise to pass `rcond=None`, to keep using the old, explicitly pass `rcond=-1`.\n",
      "\n",
      "/home/xiezhongming/anaconda3/envs/pytorch/lib/python3.6/site-packages/ipykernel_launcher.py:9: FutureWarning:\n",
      "\n",
      "`rcond` parameter will change to the default of machine precision times ``max(M, N)`` where M and N are the input matrix dimensions.\n",
      "To use the future default and silence this warning we advise to pass `rcond=None`, to keep using the old, explicitly pass `rcond=-1`.\n",
      "\n",
      "/home/xiezhongming/anaconda3/envs/pytorch/lib/python3.6/site-packages/ipykernel_launcher.py:9: FutureWarning:\n",
      "\n",
      "`rcond` parameter will change to the default of machine precision times ``max(M, N)`` where M and N are the input matrix dimensions.\n",
      "To use the future default and silence this warning we advise to pass `rcond=None`, to keep using the old, explicitly pass `rcond=-1`.\n",
      "\n",
      "/home/xiezhongming/anaconda3/envs/pytorch/lib/python3.6/site-packages/ipykernel_launcher.py:9: FutureWarning:\n",
      "\n",
      "`rcond` parameter will change to the default of machine precision times ``max(M, N)`` where M and N are the input matrix dimensions.\n",
      "To use the future default and silence this warning we advise to pass `rcond=None`, to keep using the old, explicitly pass `rcond=-1`.\n",
      "\n",
      "/home/xiezhongming/anaconda3/envs/pytorch/lib/python3.6/site-packages/ipykernel_launcher.py:9: FutureWarning:\n",
      "\n",
      "`rcond` parameter will change to the default of machine precision times ``max(M, N)`` where M and N are the input matrix dimensions.\n",
      "To use the future default and silence this warning we advise to pass `rcond=None`, to keep using the old, explicitly pass `rcond=-1`.\n",
      "\n",
      "/home/xiezhongming/anaconda3/envs/pytorch/lib/python3.6/site-packages/ipykernel_launcher.py:9: FutureWarning:\n",
      "\n",
      "`rcond` parameter will change to the default of machine precision times ``max(M, N)`` where M and N are the input matrix dimensions.\n",
      "To use the future default and silence this warning we advise to pass `rcond=None`, to keep using the old, explicitly pass `rcond=-1`.\n",
      "\n",
      "/home/xiezhongming/anaconda3/envs/pytorch/lib/python3.6/site-packages/ipykernel_launcher.py:9: FutureWarning:\n",
      "\n",
      "`rcond` parameter will change to the default of machine precision times ``max(M, N)`` where M and N are the input matrix dimensions.\n",
      "To use the future default and silence this warning we advise to pass `rcond=None`, to keep using the old, explicitly pass `rcond=-1`.\n",
      "\n",
      "/home/xiezhongming/anaconda3/envs/pytorch/lib/python3.6/site-packages/ipykernel_launcher.py:9: FutureWarning:\n",
      "\n",
      "`rcond` parameter will change to the default of machine precision times ``max(M, N)`` where M and N are the input matrix dimensions.\n",
      "To use the future default and silence this warning we advise to pass `rcond=None`, to keep using the old, explicitly pass `rcond=-1`.\n",
      "\n",
      "/home/xiezhongming/anaconda3/envs/pytorch/lib/python3.6/site-packages/ipykernel_launcher.py:9: FutureWarning:\n",
      "\n",
      "`rcond` parameter will change to the default of machine precision times ``max(M, N)`` where M and N are the input matrix dimensions.\n",
      "To use the future default and silence this warning we advise to pass `rcond=None`, to keep using the old, explicitly pass `rcond=-1`.\n",
      "\n",
      "/home/xiezhongming/anaconda3/envs/pytorch/lib/python3.6/site-packages/ipykernel_launcher.py:9: FutureWarning:\n",
      "\n",
      "`rcond` parameter will change to the default of machine precision times ``max(M, N)`` where M and N are the input matrix dimensions.\n",
      "To use the future default and silence this warning we advise to pass `rcond=None`, to keep using the old, explicitly pass `rcond=-1`.\n",
      "\n",
      "/home/xiezhongming/anaconda3/envs/pytorch/lib/python3.6/site-packages/ipykernel_launcher.py:9: FutureWarning:\n",
      "\n",
      "`rcond` parameter will change to the default of machine precision times ``max(M, N)`` where M and N are the input matrix dimensions.\n",
      "To use the future default and silence this warning we advise to pass `rcond=None`, to keep using the old, explicitly pass `rcond=-1`.\n",
      "\n",
      "/home/xiezhongming/anaconda3/envs/pytorch/lib/python3.6/site-packages/ipykernel_launcher.py:9: FutureWarning:\n",
      "\n",
      "`rcond` parameter will change to the default of machine precision times ``max(M, N)`` where M and N are the input matrix dimensions.\n",
      "To use the future default and silence this warning we advise to pass `rcond=None`, to keep using the old, explicitly pass `rcond=-1`.\n",
      "\n",
      "/home/xiezhongming/anaconda3/envs/pytorch/lib/python3.6/site-packages/ipykernel_launcher.py:9: FutureWarning:\n",
      "\n",
      "`rcond` parameter will change to the default of machine precision times ``max(M, N)`` where M and N are the input matrix dimensions.\n",
      "To use the future default and silence this warning we advise to pass `rcond=None`, to keep using the old, explicitly pass `rcond=-1`.\n",
      "\n",
      "/home/xiezhongming/anaconda3/envs/pytorch/lib/python3.6/site-packages/ipykernel_launcher.py:9: FutureWarning:\n",
      "\n",
      "`rcond` parameter will change to the default of machine precision times ``max(M, N)`` where M and N are the input matrix dimensions.\n",
      "To use the future default and silence this warning we advise to pass `rcond=None`, to keep using the old, explicitly pass `rcond=-1`.\n",
      "\n",
      "/home/xiezhongming/anaconda3/envs/pytorch/lib/python3.6/site-packages/ipykernel_launcher.py:9: FutureWarning:\n",
      "\n",
      "`rcond` parameter will change to the default of machine precision times ``max(M, N)`` where M and N are the input matrix dimensions.\n",
      "To use the future default and silence this warning we advise to pass `rcond=None`, to keep using the old, explicitly pass `rcond=-1`.\n",
      "\n",
      "/home/xiezhongming/anaconda3/envs/pytorch/lib/python3.6/site-packages/ipykernel_launcher.py:9: FutureWarning:\n",
      "\n",
      "`rcond` parameter will change to the default of machine precision times ``max(M, N)`` where M and N are the input matrix dimensions.\n",
      "To use the future default and silence this warning we advise to pass `rcond=None`, to keep using the old, explicitly pass `rcond=-1`.\n",
      "\n"
     ]
    },
    {
     "name": "stderr",
     "output_type": "stream",
     "text": [
      "/home/xiezhongming/anaconda3/envs/pytorch/lib/python3.6/site-packages/ipykernel_launcher.py:9: FutureWarning:\n",
      "\n",
      "`rcond` parameter will change to the default of machine precision times ``max(M, N)`` where M and N are the input matrix dimensions.\n",
      "To use the future default and silence this warning we advise to pass `rcond=None`, to keep using the old, explicitly pass `rcond=-1`.\n",
      "\n",
      "/home/xiezhongming/anaconda3/envs/pytorch/lib/python3.6/site-packages/ipykernel_launcher.py:9: FutureWarning:\n",
      "\n",
      "`rcond` parameter will change to the default of machine precision times ``max(M, N)`` where M and N are the input matrix dimensions.\n",
      "To use the future default and silence this warning we advise to pass `rcond=None`, to keep using the old, explicitly pass `rcond=-1`.\n",
      "\n",
      "/home/xiezhongming/anaconda3/envs/pytorch/lib/python3.6/site-packages/ipykernel_launcher.py:9: FutureWarning:\n",
      "\n",
      "`rcond` parameter will change to the default of machine precision times ``max(M, N)`` where M and N are the input matrix dimensions.\n",
      "To use the future default and silence this warning we advise to pass `rcond=None`, to keep using the old, explicitly pass `rcond=-1`.\n",
      "\n",
      "/home/xiezhongming/anaconda3/envs/pytorch/lib/python3.6/site-packages/ipykernel_launcher.py:9: FutureWarning:\n",
      "\n",
      "`rcond` parameter will change to the default of machine precision times ``max(M, N)`` where M and N are the input matrix dimensions.\n",
      "To use the future default and silence this warning we advise to pass `rcond=None`, to keep using the old, explicitly pass `rcond=-1`.\n",
      "\n",
      "/home/xiezhongming/anaconda3/envs/pytorch/lib/python3.6/site-packages/ipykernel_launcher.py:9: FutureWarning:\n",
      "\n",
      "`rcond` parameter will change to the default of machine precision times ``max(M, N)`` where M and N are the input matrix dimensions.\n",
      "To use the future default and silence this warning we advise to pass `rcond=None`, to keep using the old, explicitly pass `rcond=-1`.\n",
      "\n",
      "/home/xiezhongming/anaconda3/envs/pytorch/lib/python3.6/site-packages/ipykernel_launcher.py:9: FutureWarning:\n",
      "\n",
      "`rcond` parameter will change to the default of machine precision times ``max(M, N)`` where M and N are the input matrix dimensions.\n",
      "To use the future default and silence this warning we advise to pass `rcond=None`, to keep using the old, explicitly pass `rcond=-1`.\n",
      "\n",
      "/home/xiezhongming/anaconda3/envs/pytorch/lib/python3.6/site-packages/ipykernel_launcher.py:9: FutureWarning:\n",
      "\n",
      "`rcond` parameter will change to the default of machine precision times ``max(M, N)`` where M and N are the input matrix dimensions.\n",
      "To use the future default and silence this warning we advise to pass `rcond=None`, to keep using the old, explicitly pass `rcond=-1`.\n",
      "\n",
      "/home/xiezhongming/anaconda3/envs/pytorch/lib/python3.6/site-packages/ipykernel_launcher.py:9: FutureWarning:\n",
      "\n",
      "`rcond` parameter will change to the default of machine precision times ``max(M, N)`` where M and N are the input matrix dimensions.\n",
      "To use the future default and silence this warning we advise to pass `rcond=None`, to keep using the old, explicitly pass `rcond=-1`.\n",
      "\n",
      "/home/xiezhongming/anaconda3/envs/pytorch/lib/python3.6/site-packages/ipykernel_launcher.py:9: FutureWarning:\n",
      "\n",
      "`rcond` parameter will change to the default of machine precision times ``max(M, N)`` where M and N are the input matrix dimensions.\n",
      "To use the future default and silence this warning we advise to pass `rcond=None`, to keep using the old, explicitly pass `rcond=-1`.\n",
      "\n",
      "/home/xiezhongming/anaconda3/envs/pytorch/lib/python3.6/site-packages/ipykernel_launcher.py:9: FutureWarning:\n",
      "\n",
      "`rcond` parameter will change to the default of machine precision times ``max(M, N)`` where M and N are the input matrix dimensions.\n",
      "To use the future default and silence this warning we advise to pass `rcond=None`, to keep using the old, explicitly pass `rcond=-1`.\n",
      "\n",
      "/home/xiezhongming/anaconda3/envs/pytorch/lib/python3.6/site-packages/ipykernel_launcher.py:9: FutureWarning:\n",
      "\n",
      "`rcond` parameter will change to the default of machine precision times ``max(M, N)`` where M and N are the input matrix dimensions.\n",
      "To use the future default and silence this warning we advise to pass `rcond=None`, to keep using the old, explicitly pass `rcond=-1`.\n",
      "\n",
      "/home/xiezhongming/anaconda3/envs/pytorch/lib/python3.6/site-packages/ipykernel_launcher.py:9: FutureWarning:\n",
      "\n",
      "`rcond` parameter will change to the default of machine precision times ``max(M, N)`` where M and N are the input matrix dimensions.\n",
      "To use the future default and silence this warning we advise to pass `rcond=None`, to keep using the old, explicitly pass `rcond=-1`.\n",
      "\n",
      "/home/xiezhongming/anaconda3/envs/pytorch/lib/python3.6/site-packages/ipykernel_launcher.py:9: FutureWarning:\n",
      "\n",
      "`rcond` parameter will change to the default of machine precision times ``max(M, N)`` where M and N are the input matrix dimensions.\n",
      "To use the future default and silence this warning we advise to pass `rcond=None`, to keep using the old, explicitly pass `rcond=-1`.\n",
      "\n",
      "/home/xiezhongming/anaconda3/envs/pytorch/lib/python3.6/site-packages/ipykernel_launcher.py:9: FutureWarning:\n",
      "\n",
      "`rcond` parameter will change to the default of machine precision times ``max(M, N)`` where M and N are the input matrix dimensions.\n",
      "To use the future default and silence this warning we advise to pass `rcond=None`, to keep using the old, explicitly pass `rcond=-1`.\n",
      "\n",
      "/home/xiezhongming/anaconda3/envs/pytorch/lib/python3.6/site-packages/ipykernel_launcher.py:9: FutureWarning:\n",
      "\n",
      "`rcond` parameter will change to the default of machine precision times ``max(M, N)`` where M and N are the input matrix dimensions.\n",
      "To use the future default and silence this warning we advise to pass `rcond=None`, to keep using the old, explicitly pass `rcond=-1`.\n",
      "\n",
      "/home/xiezhongming/anaconda3/envs/pytorch/lib/python3.6/site-packages/ipykernel_launcher.py:9: FutureWarning:\n",
      "\n",
      "`rcond` parameter will change to the default of machine precision times ``max(M, N)`` where M and N are the input matrix dimensions.\n",
      "To use the future default and silence this warning we advise to pass `rcond=None`, to keep using the old, explicitly pass `rcond=-1`.\n",
      "\n",
      "/home/xiezhongming/anaconda3/envs/pytorch/lib/python3.6/site-packages/ipykernel_launcher.py:9: FutureWarning:\n",
      "\n",
      "`rcond` parameter will change to the default of machine precision times ``max(M, N)`` where M and N are the input matrix dimensions.\n",
      "To use the future default and silence this warning we advise to pass `rcond=None`, to keep using the old, explicitly pass `rcond=-1`.\n",
      "\n",
      "/home/xiezhongming/anaconda3/envs/pytorch/lib/python3.6/site-packages/ipykernel_launcher.py:9: FutureWarning:\n",
      "\n",
      "`rcond` parameter will change to the default of machine precision times ``max(M, N)`` where M and N are the input matrix dimensions.\n",
      "To use the future default and silence this warning we advise to pass `rcond=None`, to keep using the old, explicitly pass `rcond=-1`.\n",
      "\n",
      "/home/xiezhongming/anaconda3/envs/pytorch/lib/python3.6/site-packages/ipykernel_launcher.py:9: FutureWarning:\n",
      "\n",
      "`rcond` parameter will change to the default of machine precision times ``max(M, N)`` where M and N are the input matrix dimensions.\n",
      "To use the future default and silence this warning we advise to pass `rcond=None`, to keep using the old, explicitly pass `rcond=-1`.\n",
      "\n",
      "/home/xiezhongming/anaconda3/envs/pytorch/lib/python3.6/site-packages/ipykernel_launcher.py:9: FutureWarning:\n",
      "\n",
      "`rcond` parameter will change to the default of machine precision times ``max(M, N)`` where M and N are the input matrix dimensions.\n",
      "To use the future default and silence this warning we advise to pass `rcond=None`, to keep using the old, explicitly pass `rcond=-1`.\n",
      "\n",
      "/home/xiezhongming/anaconda3/envs/pytorch/lib/python3.6/site-packages/ipykernel_launcher.py:9: FutureWarning:\n",
      "\n",
      "`rcond` parameter will change to the default of machine precision times ``max(M, N)`` where M and N are the input matrix dimensions.\n",
      "To use the future default and silence this warning we advise to pass `rcond=None`, to keep using the old, explicitly pass `rcond=-1`.\n",
      "\n",
      "/home/xiezhongming/anaconda3/envs/pytorch/lib/python3.6/site-packages/ipykernel_launcher.py:9: FutureWarning:\n",
      "\n",
      "`rcond` parameter will change to the default of machine precision times ``max(M, N)`` where M and N are the input matrix dimensions.\n",
      "To use the future default and silence this warning we advise to pass `rcond=None`, to keep using the old, explicitly pass `rcond=-1`.\n",
      "\n",
      "/home/xiezhongming/anaconda3/envs/pytorch/lib/python3.6/site-packages/ipykernel_launcher.py:9: FutureWarning:\n",
      "\n",
      "`rcond` parameter will change to the default of machine precision times ``max(M, N)`` where M and N are the input matrix dimensions.\n",
      "To use the future default and silence this warning we advise to pass `rcond=None`, to keep using the old, explicitly pass `rcond=-1`.\n",
      "\n",
      "/home/xiezhongming/anaconda3/envs/pytorch/lib/python3.6/site-packages/ipykernel_launcher.py:9: FutureWarning:\n",
      "\n",
      "`rcond` parameter will change to the default of machine precision times ``max(M, N)`` where M and N are the input matrix dimensions.\n",
      "To use the future default and silence this warning we advise to pass `rcond=None`, to keep using the old, explicitly pass `rcond=-1`.\n",
      "\n"
     ]
    }
   ],
   "source": [
    "gdp = pd.DataFrame([r2(df[[item,  'gdp']]) for item in items])\n",
    "gdp.index = items\n",
    "\n",
    "first = pd.DataFrame([r2(df[[item,  'first']]) for item in items])\n",
    "first.index = items\n",
    "\n",
    "second = pd.DataFrame([r2(df[[item,  'second']]) for item in items])\n",
    "second.index = items\n",
    "\n",
    "population = pd.DataFrame([r2(df[[item,  'population']]) for item in items])\n",
    "population.index = items\n",
    "\n",
    "host = pd.DataFrame([r2(df[[item, 'host']]) for item in items])\n",
    "host.index = items\n",
    "\n",
    "\n",
    "# = pd.DataFrame([r2(df[[item, 'gdp']]) for item in items])\n",
    "# host.index = items"
   ]
  },
  {
   "cell_type": "code",
   "execution_count": 24,
   "metadata": {},
   "outputs": [
    {
     "data": {
      "text/html": [
       "<div>\n",
       "<style scoped>\n",
       "    .dataframe tbody tr th:only-of-type {\n",
       "        vertical-align: middle;\n",
       "    }\n",
       "\n",
       "    .dataframe tbody tr th {\n",
       "        vertical-align: top;\n",
       "    }\n",
       "\n",
       "    .dataframe thead th {\n",
       "        text-align: right;\n",
       "    }\n",
       "</style>\n",
       "<table border=\"1\" class=\"dataframe\">\n",
       "  <thead>\n",
       "    <tr style=\"text-align: right;\">\n",
       "      <th></th>\n",
       "      <th>pearson</th>\n",
       "      <th>spearman</th>\n",
       "      <th>kendall</th>\n",
       "    </tr>\n",
       "  </thead>\n",
       "  <tbody>\n",
       "    <tr>\n",
       "      <th>gdp</th>\n",
       "      <td>1.000000</td>\n",
       "      <td>1.000000</td>\n",
       "      <td>1.000000</td>\n",
       "    </tr>\n",
       "    <tr>\n",
       "      <th>first</th>\n",
       "      <td>0.541045</td>\n",
       "      <td>0.818233</td>\n",
       "      <td>0.638678</td>\n",
       "    </tr>\n",
       "    <tr>\n",
       "      <th>second</th>\n",
       "      <td>0.957478</td>\n",
       "      <td>0.939339</td>\n",
       "      <td>0.799389</td>\n",
       "    </tr>\n",
       "    <tr>\n",
       "      <th>population</th>\n",
       "      <td>0.629154</td>\n",
       "      <td>0.827765</td>\n",
       "      <td>0.639556</td>\n",
       "    </tr>\n",
       "    <tr>\n",
       "      <th>host</th>\n",
       "      <td>0.696495</td>\n",
       "      <td>0.844170</td>\n",
       "      <td>0.652420</td>\n",
       "    </tr>\n",
       "    <tr>\n",
       "      <th>nightlights</th>\n",
       "      <td>0.311088</td>\n",
       "      <td>0.392843</td>\n",
       "      <td>0.273156</td>\n",
       "    </tr>\n",
       "    <tr>\n",
       "      <th>pca</th>\n",
       "      <td>0.185212</td>\n",
       "      <td>0.382493</td>\n",
       "      <td>0.261243</td>\n",
       "    </tr>\n",
       "    <tr>\n",
       "      <th>ae</th>\n",
       "      <td>0.069300</td>\n",
       "      <td>0.076812</td>\n",
       "      <td>0.051964</td>\n",
       "    </tr>\n",
       "    <tr>\n",
       "      <th>nl-50</th>\n",
       "      <td>0.461430</td>\n",
       "      <td>0.502993</td>\n",
       "      <td>0.355045</td>\n",
       "    </tr>\n",
       "    <tr>\n",
       "      <th>res-m</th>\n",
       "      <td>0.362387</td>\n",
       "      <td>0.540359</td>\n",
       "      <td>0.379165</td>\n",
       "    </tr>\n",
       "  </tbody>\n",
       "</table>\n",
       "</div>"
      ],
      "text/plain": [
       "              pearson  spearman   kendall\n",
       "gdp          1.000000  1.000000  1.000000\n",
       "first        0.541045  0.818233  0.638678\n",
       "second       0.957478  0.939339  0.799389\n",
       "population   0.629154  0.827765  0.639556\n",
       "host         0.696495  0.844170  0.652420\n",
       "nightlights  0.311088  0.392843  0.273156\n",
       "pca          0.185212  0.382493  0.261243\n",
       "ae           0.069300  0.076812  0.051964\n",
       "nl-50        0.461430  0.502993  0.355045\n",
       "res-m        0.362387  0.540359  0.379165"
      ]
     },
     "execution_count": 24,
     "metadata": {},
     "output_type": "execute_result"
    }
   ],
   "source": [
    "log_gdp[['pearson', 'spearman', 'kendall']]"
   ]
  },
  {
   "cell_type": "code",
   "execution_count": 242,
   "metadata": {},
   "outputs": [
    {
     "data": {
      "text/html": [
       "<div>\n",
       "<style scoped>\n",
       "    .dataframe tbody tr th:only-of-type {\n",
       "        vertical-align: middle;\n",
       "    }\n",
       "\n",
       "    .dataframe tbody tr th {\n",
       "        vertical-align: top;\n",
       "    }\n",
       "\n",
       "    .dataframe thead th {\n",
       "        text-align: right;\n",
       "    }\n",
       "</style>\n",
       "<table border=\"1\" class=\"dataframe\">\n",
       "  <thead>\n",
       "    <tr style=\"text-align: right;\">\n",
       "      <th></th>\n",
       "      <th>pearson</th>\n",
       "      <th>spearman</th>\n",
       "      <th>kendall</th>\n",
       "    </tr>\n",
       "  </thead>\n",
       "  <tbody>\n",
       "    <tr>\n",
       "      <th>gdp</th>\n",
       "      <td>1.000000</td>\n",
       "      <td>1.000000</td>\n",
       "      <td>1.000000</td>\n",
       "    </tr>\n",
       "    <tr>\n",
       "      <th>first</th>\n",
       "      <td>0.541045</td>\n",
       "      <td>0.818233</td>\n",
       "      <td>0.638678</td>\n",
       "    </tr>\n",
       "    <tr>\n",
       "      <th>second</th>\n",
       "      <td>0.957478</td>\n",
       "      <td>0.939339</td>\n",
       "      <td>0.799389</td>\n",
       "    </tr>\n",
       "    <tr>\n",
       "      <th>population</th>\n",
       "      <td>0.629154</td>\n",
       "      <td>0.827765</td>\n",
       "      <td>0.639556</td>\n",
       "    </tr>\n",
       "    <tr>\n",
       "      <th>host</th>\n",
       "      <td>0.696495</td>\n",
       "      <td>0.844170</td>\n",
       "      <td>0.652420</td>\n",
       "    </tr>\n",
       "    <tr>\n",
       "      <th>nightlights</th>\n",
       "      <td>0.311088</td>\n",
       "      <td>0.392843</td>\n",
       "      <td>0.273156</td>\n",
       "    </tr>\n",
       "    <tr>\n",
       "      <th>pca</th>\n",
       "      <td>0.185212</td>\n",
       "      <td>0.382493</td>\n",
       "      <td>0.261243</td>\n",
       "    </tr>\n",
       "    <tr>\n",
       "      <th>ae</th>\n",
       "      <td>0.069300</td>\n",
       "      <td>0.076812</td>\n",
       "      <td>0.051964</td>\n",
       "    </tr>\n",
       "    <tr>\n",
       "      <th>nl-50</th>\n",
       "      <td>0.461430</td>\n",
       "      <td>0.502993</td>\n",
       "      <td>0.355045</td>\n",
       "    </tr>\n",
       "    <tr>\n",
       "      <th>res-m</th>\n",
       "      <td>0.362387</td>\n",
       "      <td>0.540359</td>\n",
       "      <td>0.379165</td>\n",
       "    </tr>\n",
       "  </tbody>\n",
       "</table>\n",
       "</div>"
      ],
      "text/plain": [
       "              pearson  spearman   kendall\n",
       "gdp          1.000000  1.000000  1.000000\n",
       "first        0.541045  0.818233  0.638678\n",
       "second       0.957478  0.939339  0.799389\n",
       "population   0.629154  0.827765  0.639556\n",
       "host         0.696495  0.844170  0.652420\n",
       "nightlights  0.311088  0.392843  0.273156\n",
       "pca          0.185212  0.382493  0.261243\n",
       "ae           0.069300  0.076812  0.051964\n",
       "nl-50        0.461430  0.502993  0.355045\n",
       "res-m        0.362387  0.540359  0.379165"
      ]
     },
     "execution_count": 242,
     "metadata": {},
     "output_type": "execute_result"
    }
   ],
   "source": [
    "gdp[['pearson', 'spearman', 'kendall']]"
   ]
  },
  {
   "cell_type": "code",
   "execution_count": 238,
   "metadata": {},
   "outputs": [
    {
     "data": {
      "text/html": [
       "<div>\n",
       "<style scoped>\n",
       "    .dataframe tbody tr th:only-of-type {\n",
       "        vertical-align: middle;\n",
       "    }\n",
       "\n",
       "    .dataframe tbody tr th {\n",
       "        vertical-align: top;\n",
       "    }\n",
       "\n",
       "    .dataframe thead th {\n",
       "        text-align: right;\n",
       "    }\n",
       "</style>\n",
       "<table border=\"1\" class=\"dataframe\">\n",
       "  <thead>\n",
       "    <tr style=\"text-align: right;\">\n",
       "      <th></th>\n",
       "      <th>pearson</th>\n",
       "      <th>spearman</th>\n",
       "      <th>kendall</th>\n",
       "    </tr>\n",
       "  </thead>\n",
       "  <tbody>\n",
       "    <tr>\n",
       "      <th>gdp</th>\n",
       "      <td>0.541045</td>\n",
       "      <td>0.818233</td>\n",
       "      <td>0.638678</td>\n",
       "    </tr>\n",
       "    <tr>\n",
       "      <th>first</th>\n",
       "      <td>1.000000</td>\n",
       "      <td>1.000000</td>\n",
       "      <td>1.000000</td>\n",
       "    </tr>\n",
       "    <tr>\n",
       "      <th>second</th>\n",
       "      <td>0.395661</td>\n",
       "      <td>0.663937</td>\n",
       "      <td>0.480522</td>\n",
       "    </tr>\n",
       "    <tr>\n",
       "      <th>population</th>\n",
       "      <td>0.742463</td>\n",
       "      <td>0.831202</td>\n",
       "      <td>0.644218</td>\n",
       "    </tr>\n",
       "    <tr>\n",
       "      <th>host</th>\n",
       "      <td>0.660039</td>\n",
       "      <td>0.796488</td>\n",
       "      <td>0.606152</td>\n",
       "    </tr>\n",
       "    <tr>\n",
       "      <th>nightlights</th>\n",
       "      <td>0.103624</td>\n",
       "      <td>0.414653</td>\n",
       "      <td>0.281641</td>\n",
       "    </tr>\n",
       "    <tr>\n",
       "      <th>pca</th>\n",
       "      <td>0.312283</td>\n",
       "      <td>0.416577</td>\n",
       "      <td>0.282977</td>\n",
       "    </tr>\n",
       "    <tr>\n",
       "      <th>ae</th>\n",
       "      <td>0.051884</td>\n",
       "      <td>0.063600</td>\n",
       "      <td>0.042889</td>\n",
       "    </tr>\n",
       "    <tr>\n",
       "      <th>nl-50</th>\n",
       "      <td>0.219285</td>\n",
       "      <td>0.494340</td>\n",
       "      <td>0.342493</td>\n",
       "    </tr>\n",
       "    <tr>\n",
       "      <th>res-m</th>\n",
       "      <td>0.430778</td>\n",
       "      <td>0.529399</td>\n",
       "      <td>0.368152</td>\n",
       "    </tr>\n",
       "  </tbody>\n",
       "</table>\n",
       "</div>"
      ],
      "text/plain": [
       "              pearson  spearman   kendall\n",
       "gdp          0.541045  0.818233  0.638678\n",
       "first        1.000000  1.000000  1.000000\n",
       "second       0.395661  0.663937  0.480522\n",
       "population   0.742463  0.831202  0.644218\n",
       "host         0.660039  0.796488  0.606152\n",
       "nightlights  0.103624  0.414653  0.281641\n",
       "pca          0.312283  0.416577  0.282977\n",
       "ae           0.051884  0.063600  0.042889\n",
       "nl-50        0.219285  0.494340  0.342493\n",
       "res-m        0.430778  0.529399  0.368152"
      ]
     },
     "execution_count": 238,
     "metadata": {},
     "output_type": "execute_result"
    }
   ],
   "source": [
    "first[['pearson', 'spearman', 'kendall']]"
   ]
  },
  {
   "cell_type": "code",
   "execution_count": 239,
   "metadata": {},
   "outputs": [
    {
     "data": {
      "text/html": [
       "<div>\n",
       "<style scoped>\n",
       "    .dataframe tbody tr th:only-of-type {\n",
       "        vertical-align: middle;\n",
       "    }\n",
       "\n",
       "    .dataframe tbody tr th {\n",
       "        vertical-align: top;\n",
       "    }\n",
       "\n",
       "    .dataframe thead th {\n",
       "        text-align: right;\n",
       "    }\n",
       "</style>\n",
       "<table border=\"1\" class=\"dataframe\">\n",
       "  <thead>\n",
       "    <tr style=\"text-align: right;\">\n",
       "      <th></th>\n",
       "      <th>pearson</th>\n",
       "      <th>spearman</th>\n",
       "      <th>kendall</th>\n",
       "    </tr>\n",
       "  </thead>\n",
       "  <tbody>\n",
       "    <tr>\n",
       "      <th>gdp</th>\n",
       "      <td>0.957478</td>\n",
       "      <td>0.939339</td>\n",
       "      <td>0.799389</td>\n",
       "    </tr>\n",
       "    <tr>\n",
       "      <th>first</th>\n",
       "      <td>0.395661</td>\n",
       "      <td>0.663937</td>\n",
       "      <td>0.480522</td>\n",
       "    </tr>\n",
       "    <tr>\n",
       "      <th>second</th>\n",
       "      <td>1.000000</td>\n",
       "      <td>1.000000</td>\n",
       "      <td>1.000000</td>\n",
       "    </tr>\n",
       "    <tr>\n",
       "      <th>population</th>\n",
       "      <td>0.515420</td>\n",
       "      <td>0.696805</td>\n",
       "      <td>0.513036</td>\n",
       "    </tr>\n",
       "    <tr>\n",
       "      <th>host</th>\n",
       "      <td>0.589186</td>\n",
       "      <td>0.719106</td>\n",
       "      <td>0.529224</td>\n",
       "    </tr>\n",
       "    <tr>\n",
       "      <th>nightlights</th>\n",
       "      <td>0.283866</td>\n",
       "      <td>0.324825</td>\n",
       "      <td>0.223250</td>\n",
       "    </tr>\n",
       "    <tr>\n",
       "      <th>pca</th>\n",
       "      <td>0.122175</td>\n",
       "      <td>0.305940</td>\n",
       "      <td>0.208370</td>\n",
       "    </tr>\n",
       "    <tr>\n",
       "      <th>ae</th>\n",
       "      <td>0.064118</td>\n",
       "      <td>0.080957</td>\n",
       "      <td>0.054343</td>\n",
       "    </tr>\n",
       "    <tr>\n",
       "      <th>nl-50</th>\n",
       "      <td>0.421627</td>\n",
       "      <td>0.451617</td>\n",
       "      <td>0.315527</td>\n",
       "    </tr>\n",
       "    <tr>\n",
       "      <th>res-m</th>\n",
       "      <td>0.305508</td>\n",
       "      <td>0.475799</td>\n",
       "      <td>0.329088</td>\n",
       "    </tr>\n",
       "  </tbody>\n",
       "</table>\n",
       "</div>"
      ],
      "text/plain": [
       "              pearson  spearman   kendall\n",
       "gdp          0.957478  0.939339  0.799389\n",
       "first        0.395661  0.663937  0.480522\n",
       "second       1.000000  1.000000  1.000000\n",
       "population   0.515420  0.696805  0.513036\n",
       "host         0.589186  0.719106  0.529224\n",
       "nightlights  0.283866  0.324825  0.223250\n",
       "pca          0.122175  0.305940  0.208370\n",
       "ae           0.064118  0.080957  0.054343\n",
       "nl-50        0.421627  0.451617  0.315527\n",
       "res-m        0.305508  0.475799  0.329088"
      ]
     },
     "execution_count": 239,
     "metadata": {},
     "output_type": "execute_result"
    }
   ],
   "source": [
    "second[['pearson', 'spearman', 'kendall']]"
   ]
  },
  {
   "cell_type": "code",
   "execution_count": 240,
   "metadata": {},
   "outputs": [
    {
     "data": {
      "text/html": [
       "<div>\n",
       "<style scoped>\n",
       "    .dataframe tbody tr th:only-of-type {\n",
       "        vertical-align: middle;\n",
       "    }\n",
       "\n",
       "    .dataframe tbody tr th {\n",
       "        vertical-align: top;\n",
       "    }\n",
       "\n",
       "    .dataframe thead th {\n",
       "        text-align: right;\n",
       "    }\n",
       "</style>\n",
       "<table border=\"1\" class=\"dataframe\">\n",
       "  <thead>\n",
       "    <tr style=\"text-align: right;\">\n",
       "      <th></th>\n",
       "      <th>pearson</th>\n",
       "      <th>spearman</th>\n",
       "      <th>kendall</th>\n",
       "    </tr>\n",
       "  </thead>\n",
       "  <tbody>\n",
       "    <tr>\n",
       "      <th>gdp</th>\n",
       "      <td>0.629154</td>\n",
       "      <td>0.827765</td>\n",
       "      <td>0.639556</td>\n",
       "    </tr>\n",
       "    <tr>\n",
       "      <th>first</th>\n",
       "      <td>0.742463</td>\n",
       "      <td>0.831202</td>\n",
       "      <td>0.644218</td>\n",
       "    </tr>\n",
       "    <tr>\n",
       "      <th>second</th>\n",
       "      <td>0.515420</td>\n",
       "      <td>0.696805</td>\n",
       "      <td>0.513036</td>\n",
       "    </tr>\n",
       "    <tr>\n",
       "      <th>population</th>\n",
       "      <td>1.000000</td>\n",
       "      <td>1.000000</td>\n",
       "      <td>1.000000</td>\n",
       "    </tr>\n",
       "    <tr>\n",
       "      <th>host</th>\n",
       "      <td>0.882820</td>\n",
       "      <td>0.943342</td>\n",
       "      <td>0.793416</td>\n",
       "    </tr>\n",
       "    <tr>\n",
       "      <th>nightlights</th>\n",
       "      <td>0.179187</td>\n",
       "      <td>0.380516</td>\n",
       "      <td>0.263770</td>\n",
       "    </tr>\n",
       "    <tr>\n",
       "      <th>pca</th>\n",
       "      <td>0.322051</td>\n",
       "      <td>0.463555</td>\n",
       "      <td>0.315051</td>\n",
       "    </tr>\n",
       "    <tr>\n",
       "      <th>ae</th>\n",
       "      <td>0.058155</td>\n",
       "      <td>0.077375</td>\n",
       "      <td>0.051834</td>\n",
       "    </tr>\n",
       "    <tr>\n",
       "      <th>nl-50</th>\n",
       "      <td>0.302175</td>\n",
       "      <td>0.524664</td>\n",
       "      <td>0.365268</td>\n",
       "    </tr>\n",
       "    <tr>\n",
       "      <th>res-m</th>\n",
       "      <td>0.437916</td>\n",
       "      <td>0.516072</td>\n",
       "      <td>0.357345</td>\n",
       "    </tr>\n",
       "  </tbody>\n",
       "</table>\n",
       "</div>"
      ],
      "text/plain": [
       "              pearson  spearman   kendall\n",
       "gdp          0.629154  0.827765  0.639556\n",
       "first        0.742463  0.831202  0.644218\n",
       "second       0.515420  0.696805  0.513036\n",
       "population   1.000000  1.000000  1.000000\n",
       "host         0.882820  0.943342  0.793416\n",
       "nightlights  0.179187  0.380516  0.263770\n",
       "pca          0.322051  0.463555  0.315051\n",
       "ae           0.058155  0.077375  0.051834\n",
       "nl-50        0.302175  0.524664  0.365268\n",
       "res-m        0.437916  0.516072  0.357345"
      ]
     },
     "execution_count": 240,
     "metadata": {},
     "output_type": "execute_result"
    }
   ],
   "source": [
    "population[['pearson', 'spearman', 'kendall']]"
   ]
  },
  {
   "cell_type": "code",
   "execution_count": 244,
   "metadata": {},
   "outputs": [
    {
     "data": {
      "text/html": [
       "<div>\n",
       "<style scoped>\n",
       "    .dataframe tbody tr th:only-of-type {\n",
       "        vertical-align: middle;\n",
       "    }\n",
       "\n",
       "    .dataframe tbody tr th {\n",
       "        vertical-align: top;\n",
       "    }\n",
       "\n",
       "    .dataframe thead th {\n",
       "        text-align: right;\n",
       "    }\n",
       "</style>\n",
       "<table border=\"1\" class=\"dataframe\">\n",
       "  <thead>\n",
       "    <tr style=\"text-align: right;\">\n",
       "      <th></th>\n",
       "      <th>pearson</th>\n",
       "      <th>spearman</th>\n",
       "      <th>kendall</th>\n",
       "    </tr>\n",
       "  </thead>\n",
       "  <tbody>\n",
       "    <tr>\n",
       "      <th>gdp</th>\n",
       "      <td>0.696495</td>\n",
       "      <td>0.844170</td>\n",
       "      <td>0.652420</td>\n",
       "    </tr>\n",
       "    <tr>\n",
       "      <th>first</th>\n",
       "      <td>0.660039</td>\n",
       "      <td>0.796488</td>\n",
       "      <td>0.606152</td>\n",
       "    </tr>\n",
       "    <tr>\n",
       "      <th>second</th>\n",
       "      <td>0.589186</td>\n",
       "      <td>0.719106</td>\n",
       "      <td>0.529224</td>\n",
       "    </tr>\n",
       "    <tr>\n",
       "      <th>population</th>\n",
       "      <td>0.882820</td>\n",
       "      <td>0.943342</td>\n",
       "      <td>0.793416</td>\n",
       "    </tr>\n",
       "    <tr>\n",
       "      <th>host</th>\n",
       "      <td>1.000000</td>\n",
       "      <td>1.000000</td>\n",
       "      <td>1.000000</td>\n",
       "    </tr>\n",
       "    <tr>\n",
       "      <th>nightlights</th>\n",
       "      <td>0.218840</td>\n",
       "      <td>0.371398</td>\n",
       "      <td>0.259354</td>\n",
       "    </tr>\n",
       "    <tr>\n",
       "      <th>pca</th>\n",
       "      <td>0.291226</td>\n",
       "      <td>0.428463</td>\n",
       "      <td>0.290497</td>\n",
       "    </tr>\n",
       "    <tr>\n",
       "      <th>ae</th>\n",
       "      <td>0.051619</td>\n",
       "      <td>0.069411</td>\n",
       "      <td>0.046735</td>\n",
       "    </tr>\n",
       "    <tr>\n",
       "      <th>nl-50</th>\n",
       "      <td>0.326953</td>\n",
       "      <td>0.497071</td>\n",
       "      <td>0.346035</td>\n",
       "    </tr>\n",
       "    <tr>\n",
       "      <th>res-m</th>\n",
       "      <td>0.407833</td>\n",
       "      <td>0.500987</td>\n",
       "      <td>0.347509</td>\n",
       "    </tr>\n",
       "  </tbody>\n",
       "</table>\n",
       "</div>"
      ],
      "text/plain": [
       "              pearson  spearman   kendall\n",
       "gdp          0.696495  0.844170  0.652420\n",
       "first        0.660039  0.796488  0.606152\n",
       "second       0.589186  0.719106  0.529224\n",
       "population   0.882820  0.943342  0.793416\n",
       "host         1.000000  1.000000  1.000000\n",
       "nightlights  0.218840  0.371398  0.259354\n",
       "pca          0.291226  0.428463  0.290497\n",
       "ae           0.051619  0.069411  0.046735\n",
       "nl-50        0.326953  0.497071  0.346035\n",
       "res-m        0.407833  0.500987  0.347509"
      ]
     },
     "execution_count": 244,
     "metadata": {},
     "output_type": "execute_result"
    }
   ],
   "source": [
    "host[['pearson', 'spearman', 'kendall']]"
   ]
  },
  {
   "cell_type": "code",
   "execution_count": null,
   "metadata": {},
   "outputs": [],
   "source": []
  },
  {
   "cell_type": "code",
   "execution_count": null,
   "metadata": {},
   "outputs": [],
   "source": []
  },
  {
   "cell_type": "code",
   "execution_count": null,
   "metadata": {},
   "outputs": [],
   "source": []
  },
  {
   "cell_type": "code",
   "execution_count": 210,
   "metadata": {
    "collapsed": true
   },
   "outputs": [
    {
     "name": "stderr",
     "output_type": "stream",
     "text": [
      "/home/xiezhongming/anaconda3/envs/pytorch/lib/python3.6/site-packages/ipykernel_launcher.py:9: FutureWarning:\n",
      "\n",
      "`rcond` parameter will change to the default of machine precision times ``max(M, N)`` where M and N are the input matrix dimensions.\n",
      "To use the future default and silence this warning we advise to pass `rcond=None`, to keep using the old, explicitly pass `rcond=-1`.\n",
      "\n",
      "/home/xiezhongming/anaconda3/envs/pytorch/lib/python3.6/site-packages/ipykernel_launcher.py:9: FutureWarning:\n",
      "\n",
      "`rcond` parameter will change to the default of machine precision times ``max(M, N)`` where M and N are the input matrix dimensions.\n",
      "To use the future default and silence this warning we advise to pass `rcond=None`, to keep using the old, explicitly pass `rcond=-1`.\n",
      "\n",
      "/home/xiezhongming/anaconda3/envs/pytorch/lib/python3.6/site-packages/ipykernel_launcher.py:9: FutureWarning:\n",
      "\n",
      "`rcond` parameter will change to the default of machine precision times ``max(M, N)`` where M and N are the input matrix dimensions.\n",
      "To use the future default and silence this warning we advise to pass `rcond=None`, to keep using the old, explicitly pass `rcond=-1`.\n",
      "\n",
      "/home/xiezhongming/anaconda3/envs/pytorch/lib/python3.6/site-packages/ipykernel_launcher.py:9: FutureWarning:\n",
      "\n",
      "`rcond` parameter will change to the default of machine precision times ``max(M, N)`` where M and N are the input matrix dimensions.\n",
      "To use the future default and silence this warning we advise to pass `rcond=None`, to keep using the old, explicitly pass `rcond=-1`.\n",
      "\n",
      "/home/xiezhongming/anaconda3/envs/pytorch/lib/python3.6/site-packages/ipykernel_launcher.py:9: FutureWarning:\n",
      "\n",
      "`rcond` parameter will change to the default of machine precision times ``max(M, N)`` where M and N are the input matrix dimensions.\n",
      "To use the future default and silence this warning we advise to pass `rcond=None`, to keep using the old, explicitly pass `rcond=-1`.\n",
      "\n",
      "/home/xiezhongming/anaconda3/envs/pytorch/lib/python3.6/site-packages/ipykernel_launcher.py:9: FutureWarning:\n",
      "\n",
      "`rcond` parameter will change to the default of machine precision times ``max(M, N)`` where M and N are the input matrix dimensions.\n",
      "To use the future default and silence this warning we advise to pass `rcond=None`, to keep using the old, explicitly pass `rcond=-1`.\n",
      "\n",
      "/home/xiezhongming/anaconda3/envs/pytorch/lib/python3.6/site-packages/ipykernel_launcher.py:9: FutureWarning:\n",
      "\n",
      "`rcond` parameter will change to the default of machine precision times ``max(M, N)`` where M and N are the input matrix dimensions.\n",
      "To use the future default and silence this warning we advise to pass `rcond=None`, to keep using the old, explicitly pass `rcond=-1`.\n",
      "\n",
      "/home/xiezhongming/anaconda3/envs/pytorch/lib/python3.6/site-packages/ipykernel_launcher.py:9: FutureWarning:\n",
      "\n",
      "`rcond` parameter will change to the default of machine precision times ``max(M, N)`` where M and N are the input matrix dimensions.\n",
      "To use the future default and silence this warning we advise to pass `rcond=None`, to keep using the old, explicitly pass `rcond=-1`.\n",
      "\n",
      "/home/xiezhongming/anaconda3/envs/pytorch/lib/python3.6/site-packages/ipykernel_launcher.py:9: FutureWarning:\n",
      "\n",
      "`rcond` parameter will change to the default of machine precision times ``max(M, N)`` where M and N are the input matrix dimensions.\n",
      "To use the future default and silence this warning we advise to pass `rcond=None`, to keep using the old, explicitly pass `rcond=-1`.\n",
      "\n"
     ]
    }
   ],
   "source": [
    "items = ['gdp', 'second', 'population', 'host', 'nightlights', 'pca', 'ae','nl-50', 'res-m']\n",
    "second = pd.DataFrame([r2(df[[item,  'second']]) for item in items])\n",
    "second.index = items"
   ]
  },
  {
   "cell_type": "code",
   "execution_count": 214,
   "metadata": {},
   "outputs": [
    {
     "name": "stdout",
     "output_type": "stream",
     "text": [
      "economicdata.xlsx\r\n"
     ]
    }
   ],
   "source": [
    "!find *.xlsx"
   ]
  },
  {
   "cell_type": "code",
   "execution_count": null,
   "metadata": {},
   "outputs": [],
   "source": [
    "index"
   ]
  },
  {
   "cell_type": "code",
   "execution_count": 223,
   "metadata": {},
   "outputs": [
    {
     "data": {
      "text/html": [
       "<div>\n",
       "<style scoped>\n",
       "    .dataframe tbody tr th:only-of-type {\n",
       "        vertical-align: middle;\n",
       "    }\n",
       "\n",
       "    .dataframe tbody tr th {\n",
       "        vertical-align: top;\n",
       "    }\n",
       "\n",
       "    .dataframe thead th {\n",
       "        text-align: right;\n",
       "    }\n",
       "</style>\n",
       "<table border=\"1\" class=\"dataframe\">\n",
       "  <thead>\n",
       "    <tr style=\"text-align: right;\">\n",
       "      <th></th>\n",
       "      <th>pearson</th>\n",
       "      <th>spearman</th>\n",
       "      <th>kendall</th>\n",
       "    </tr>\n",
       "  </thead>\n",
       "  <tbody>\n",
       "    <tr>\n",
       "      <th>gdp</th>\n",
       "      <td>0.960166</td>\n",
       "      <td>0.938796</td>\n",
       "      <td>0.798801</td>\n",
       "    </tr>\n",
       "    <tr>\n",
       "      <th>second</th>\n",
       "      <td>1.000000</td>\n",
       "      <td>1.000000</td>\n",
       "      <td>1.000000</td>\n",
       "    </tr>\n",
       "    <tr>\n",
       "      <th>population</th>\n",
       "      <td>0.511029</td>\n",
       "      <td>0.694758</td>\n",
       "      <td>0.511187</td>\n",
       "    </tr>\n",
       "    <tr>\n",
       "      <th>host</th>\n",
       "      <td>0.581797</td>\n",
       "      <td>0.717058</td>\n",
       "      <td>0.527320</td>\n",
       "    </tr>\n",
       "    <tr>\n",
       "      <th>nightlights</th>\n",
       "      <td>0.267879</td>\n",
       "      <td>0.322925</td>\n",
       "      <td>0.221736</td>\n",
       "    </tr>\n",
       "    <tr>\n",
       "      <th>pca</th>\n",
       "      <td>0.121826</td>\n",
       "      <td>0.304954</td>\n",
       "      <td>0.207768</td>\n",
       "    </tr>\n",
       "    <tr>\n",
       "      <th>ae</th>\n",
       "      <td>0.064734</td>\n",
       "      <td>0.081764</td>\n",
       "      <td>0.054876</td>\n",
       "    </tr>\n",
       "    <tr>\n",
       "      <th>nl-50</th>\n",
       "      <td>0.415607</td>\n",
       "      <td>0.450504</td>\n",
       "      <td>0.314594</td>\n",
       "    </tr>\n",
       "    <tr>\n",
       "      <th>res-m</th>\n",
       "      <td>0.304285</td>\n",
       "      <td>0.476183</td>\n",
       "      <td>0.329266</td>\n",
       "    </tr>\n",
       "  </tbody>\n",
       "</table>\n",
       "</div>"
      ],
      "text/plain": [
       "              pearson  spearman   kendall\n",
       "gdp          0.960166  0.938796  0.798801\n",
       "second       1.000000  1.000000  1.000000\n",
       "population   0.511029  0.694758  0.511187\n",
       "host         0.581797  0.717058  0.527320\n",
       "nightlights  0.267879  0.322925  0.221736\n",
       "pca          0.121826  0.304954  0.207768\n",
       "ae           0.064734  0.081764  0.054876\n",
       "nl-50        0.415607  0.450504  0.314594\n",
       "res-m        0.304285  0.476183  0.329266"
      ]
     },
     "execution_count": 223,
     "metadata": {},
     "output_type": "execute_result"
    }
   ],
   "source": [
    "second[['pearson', 'spearman', 'kendall']]"
   ]
  },
  {
   "cell_type": "code",
   "execution_count": 221,
   "metadata": {},
   "outputs": [
    {
     "data": {
      "text/html": [
       "<div>\n",
       "<style scoped>\n",
       "    .dataframe tbody tr th:only-of-type {\n",
       "        vertical-align: middle;\n",
       "    }\n",
       "\n",
       "    .dataframe tbody tr th {\n",
       "        vertical-align: top;\n",
       "    }\n",
       "\n",
       "    .dataframe thead th {\n",
       "        text-align: right;\n",
       "    }\n",
       "</style>\n",
       "<table border=\"1\" class=\"dataframe\">\n",
       "  <thead>\n",
       "    <tr style=\"text-align: right;\">\n",
       "      <th></th>\n",
       "      <th>pearson</th>\n",
       "      <th>spearman</th>\n",
       "      <th>kendall</th>\n",
       "    </tr>\n",
       "  </thead>\n",
       "  <tbody>\n",
       "    <tr>\n",
       "      <th>gdp</th>\n",
       "      <td>0.625772</td>\n",
       "      <td>0.826580</td>\n",
       "      <td>0.638187</td>\n",
       "    </tr>\n",
       "    <tr>\n",
       "      <th>second</th>\n",
       "      <td>0.511029</td>\n",
       "      <td>0.694758</td>\n",
       "      <td>0.511187</td>\n",
       "    </tr>\n",
       "    <tr>\n",
       "      <th>population</th>\n",
       "      <td>1.000000</td>\n",
       "      <td>1.000000</td>\n",
       "      <td>1.000000</td>\n",
       "    </tr>\n",
       "    <tr>\n",
       "      <th>host</th>\n",
       "      <td>0.883710</td>\n",
       "      <td>0.943129</td>\n",
       "      <td>0.793129</td>\n",
       "    </tr>\n",
       "    <tr>\n",
       "      <th>nightlights</th>\n",
       "      <td>0.167387</td>\n",
       "      <td>0.379210</td>\n",
       "      <td>0.262688</td>\n",
       "    </tr>\n",
       "    <tr>\n",
       "      <th>pca</th>\n",
       "      <td>0.321988</td>\n",
       "      <td>0.463117</td>\n",
       "      <td>0.314845</td>\n",
       "    </tr>\n",
       "    <tr>\n",
       "      <th>ae</th>\n",
       "      <td>0.058756</td>\n",
       "      <td>0.078273</td>\n",
       "      <td>0.052427</td>\n",
       "    </tr>\n",
       "    <tr>\n",
       "      <th>nl-50</th>\n",
       "      <td>0.297446</td>\n",
       "      <td>0.524153</td>\n",
       "      <td>0.364791</td>\n",
       "    </tr>\n",
       "    <tr>\n",
       "      <th>res-m</th>\n",
       "      <td>0.438049</td>\n",
       "      <td>0.516768</td>\n",
       "      <td>0.357788</td>\n",
       "    </tr>\n",
       "  </tbody>\n",
       "</table>\n",
       "</div>"
      ],
      "text/plain": [
       "              pearson  spearman   kendall\n",
       "gdp          0.625772  0.826580  0.638187\n",
       "second       0.511029  0.694758  0.511187\n",
       "population   1.000000  1.000000  1.000000\n",
       "host         0.883710  0.943129  0.793129\n",
       "nightlights  0.167387  0.379210  0.262688\n",
       "pca          0.321988  0.463117  0.314845\n",
       "ae           0.058756  0.078273  0.052427\n",
       "nl-50        0.297446  0.524153  0.364791\n",
       "res-m        0.438049  0.516768  0.357788"
      ]
     },
     "execution_count": 221,
     "metadata": {},
     "output_type": "execute_result"
    }
   ],
   "source": [
    "population[['pearson', 'spearman', 'kendall']]"
   ]
  },
  {
   "cell_type": "code",
   "execution_count": 145,
   "metadata": {},
   "outputs": [
    {
     "name": "stderr",
     "output_type": "stream",
     "text": [
      "/home/xiezhongming/anaconda3/envs/pytorch/lib/python3.6/site-packages/ipykernel_launcher.py:9: FutureWarning:\n",
      "\n",
      "`rcond` parameter will change to the default of machine precision times ``max(M, N)`` where M and N are the input matrix dimensions.\n",
      "To use the future default and silence this warning we advise to pass `rcond=None`, to keep using the old, explicitly pass `rcond=-1`.\n",
      "\n"
     ]
    },
    {
     "data": {
      "text/plain": [
       "{'pearson': 1.0,\n",
       " 'spearman': 1.0,\n",
       " 'kendall': 1.0,\n",
       " 'r2': 1.0,\n",
       " 'adj_r2': 1.0,\n",
       " 'rmse': 0.0,\n",
       " 'mape': 0.0}"
      ]
     },
     "execution_count": 145,
     "metadata": {},
     "output_type": "execute_result"
    }
   ],
   "source": [
    "r2(df.groupby('PAC').mean()[['nightlights', 'nightlights']])"
   ]
  },
  {
   "cell_type": "code",
   "execution_count": 146,
   "metadata": {
    "collapsed": true
   },
   "outputs": [
    {
     "name": "stderr",
     "output_type": "stream",
     "text": [
      "/home/xiezhongming/anaconda3/envs/pytorch/lib/python3.6/site-packages/ipykernel_launcher.py:9: FutureWarning:\n",
      "\n",
      "`rcond` parameter will change to the default of machine precision times ``max(M, N)`` where M and N are the input matrix dimensions.\n",
      "To use the future default and silence this warning we advise to pass `rcond=None`, to keep using the old, explicitly pass `rcond=-1`.\n",
      "\n"
     ]
    },
    {
     "data": {
      "text/plain": [
       "{'pearson': 0.28175278202395776,\n",
       " 'spearman': 0.2815419009816775,\n",
       " 'kendall': 0.18921319564327388,\n",
       " 'r2': 0.007547663172684516,\n",
       " 'adj_r2': 0.007063067305093096,\n",
       " 'rmse': 3565509.7867204314,\n",
       " 'mape': 99.99991754198003}"
      ]
     },
     "execution_count": 146,
     "metadata": {},
     "output_type": "execute_result"
    }
   ],
   "source": [
    "r2(df.groupby('PAC').mean()[['ae', 'gdp']])"
   ]
  },
  {
   "cell_type": "code",
   "execution_count": 149,
   "metadata": {},
   "outputs": [
    {
     "name": "stderr",
     "output_type": "stream",
     "text": [
      "/home/xiezhongming/anaconda3/envs/pytorch/lib/python3.6/site-packages/ipykernel_launcher.py:9: FutureWarning:\n",
      "\n",
      "`rcond` parameter will change to the default of machine precision times ``max(M, N)`` where M and N are the input matrix dimensions.\n",
      "To use the future default and silence this warning we advise to pass `rcond=None`, to keep using the old, explicitly pass `rcond=-1`.\n",
      "\n"
     ]
    },
    {
     "data": {
      "text/plain": [
       "{'pearson': 0.3888542029536748,\n",
       " 'spearman': 0.5641770678476032,\n",
       " 'kendall': 0.4087936355346081,\n",
       " 'r2': 0.1496376978910472,\n",
       " 'adj_r2': 0.14922248192322052,\n",
       " 'rmse': 3565509.876883327,\n",
       " 'mape': 99.99994915351292}"
      ]
     },
     "execution_count": 149,
     "metadata": {},
     "output_type": "execute_result"
    }
   ],
   "source": [
    "r2(df.groupby('PAC').mean()[['res-m', 'gdp']])"
   ]
  },
  {
   "cell_type": "code",
   "execution_count": 186,
   "metadata": {},
   "outputs": [
    {
     "name": "stderr",
     "output_type": "stream",
     "text": [
      "/home/xiezhongming/anaconda3/envs/pytorch/lib/python3.6/site-packages/ipykernel_launcher.py:9: FutureWarning:\n",
      "\n",
      "`rcond` parameter will change to the default of machine precision times ``max(M, N)`` where M and N are the input matrix dimensions.\n",
      "To use the future default and silence this warning we advise to pass `rcond=None`, to keep using the old, explicitly pass `rcond=-1`.\n",
      "\n"
     ]
    },
    {
     "data": {
      "text/plain": [
       "{'pearson': 0.6803982627029886,\n",
       " 'spearman': 0.7163714886329444,\n",
       " 'kendall': 0.5294198450785279,\n",
       " 'r2': 0.4285096510842009,\n",
       " 'adj_r2': 0.42823060306226934,\n",
       " 'rmse': 3565508.929885141,\n",
       " 'mape': 99.99991142286936}"
      ]
     },
     "execution_count": 186,
     "metadata": {},
     "output_type": "execute_result"
    }
   ],
   "source": [
    "r2(df.groupby('PAC').mean()[['nl-50', 'gdp']])"
   ]
  },
  {
   "cell_type": "code",
   "execution_count": 163,
   "metadata": {},
   "outputs": [
    {
     "name": "stderr",
     "output_type": "stream",
     "text": [
      "/home/xiezhongming/anaconda3/envs/pytorch/lib/python3.6/site-packages/ipykernel_launcher.py:9: FutureWarning:\n",
      "\n",
      "`rcond` parameter will change to the default of machine precision times ``max(M, N)`` where M and N are the input matrix dimensions.\n",
      "To use the future default and silence this warning we advise to pass `rcond=None`, to keep using the old, explicitly pass `rcond=-1`.\n",
      "\n"
     ]
    },
    {
     "data": {
      "text/plain": [
       "{'pearson': 0.12275113715614638,\n",
       " 'spearman': 0.0948687344322813,\n",
       " 'kendall': 0.064759102599424,\n",
       " 'r2': -0.005928036396859682,\n",
       " 'adj_r2': -0.00593619563535519,\n",
       " 'rmse': 2016514.758796866,\n",
       " 'mape': 99.99988116777232}"
      ]
     },
     "execution_count": 163,
     "metadata": {},
     "output_type": "execute_result"
    }
   ],
   "source": [
    "r2(df[['res50+', 'gdp']])"
   ]
  },
  {
   "cell_type": "code",
   "execution_count": 160,
   "metadata": {},
   "outputs": [
    {
     "name": "stderr",
     "output_type": "stream",
     "text": [
      "/home/xiezhongming/anaconda3/envs/pytorch/lib/python3.6/site-packages/ipykernel_launcher.py:9: FutureWarning:\n",
      "\n",
      "`rcond` parameter will change to the default of machine precision times ``max(M, N)`` where M and N are the input matrix dimensions.\n",
      "To use the future default and silence this warning we advise to pass `rcond=None`, to keep using the old, explicitly pass `rcond=-1`.\n",
      "\n"
     ]
    },
    {
     "data": {
      "text/plain": [
       "{'pearson': 0.4590602476146543,\n",
       " 'spearman': 0.5025867337931158,\n",
       " 'kendall': 0.35463330935843584,\n",
       " 'r2': 0.11332372434639448,\n",
       " 'adj_r2': 0.11331653237744677,\n",
       " 'rmse': 2016514.3462801117,\n",
       " 'mape': 99.99985782607938}"
      ]
     },
     "execution_count": 160,
     "metadata": {},
     "output_type": "execute_result"
    }
   ],
   "source": [
    "r2(df[['nl-50', 'gdp']])"
   ]
  },
  {
   "cell_type": "code",
   "execution_count": 162,
   "metadata": {
    "scrolled": true
   },
   "outputs": [
    {
     "name": "stderr",
     "output_type": "stream",
     "text": [
      "/home/xiezhongming/anaconda3/envs/pytorch/lib/python3.6/site-packages/ipykernel_launcher.py:9: FutureWarning:\n",
      "\n",
      "`rcond` parameter will change to the default of machine precision times ``max(M, N)`` where M and N are the input matrix dimensions.\n",
      "To use the future default and silence this warning we advise to pass `rcond=None`, to keep using the old, explicitly pass `rcond=-1`.\n",
      "\n"
     ]
    },
    {
     "data": {
      "text/plain": [
       "{'pearson': 0.3636008242305105,\n",
       " 'spearman': 0.5415252512162172,\n",
       " 'kendall': 0.3799445659186035,\n",
       " 'r2': 0.09782135267017833,\n",
       " 'adj_r2': 0.09781403495908692,\n",
       " 'rmse': 2016514.6333417895,\n",
       " 'mape': 99.99994318452254}"
      ]
     },
     "execution_count": 162,
     "metadata": {},
     "output_type": "execute_result"
    }
   ],
   "source": [
    "r2(df[['res-m', 'gdp']])"
   ]
  },
  {
   "cell_type": "code",
   "execution_count": 108,
   "metadata": {
    "scrolled": true
   },
   "outputs": [
    {
     "name": "stderr",
     "output_type": "stream",
     "text": [
      "/home/xiezhongming/anaconda3/envs/pytorch/lib/python3.6/site-packages/ipykernel_launcher.py:9: FutureWarning:\n",
      "\n",
      "`rcond` parameter will change to the default of machine precision times ``max(M, N)`` where M and N are the input matrix dimensions.\n",
      "To use the future default and silence this warning we advise to pass `rcond=None`, to keep using the old, explicitly pass `rcond=-1`.\n",
      "\n"
     ]
    },
    {
     "data": {
      "text/plain": [
       "{'pearson': 0.0432946646729968,\n",
       " 'spearman': 0.18298412755035168,\n",
       " 'r2': 0.00010689623011961302,\n",
       " 'adj_r2': -0.00038133282445551586,\n",
       " 'rmse': 2.14740165120097,\n",
       " 'mape': 50.5570938885364}"
      ]
     },
     "execution_count": 108,
     "metadata": {},
     "output_type": "execute_result"
    }
   ],
   "source": [
    "r2(df.groupby('PAC').mean()[['nl', 'nightlights']])"
   ]
  },
  {
   "cell_type": "code",
   "execution_count": 185,
   "metadata": {},
   "outputs": [
    {
     "name": "stderr",
     "output_type": "stream",
     "text": [
      "/home/xiezhongming/anaconda3/envs/pytorch/lib/python3.6/site-packages/ipykernel_launcher.py:9: FutureWarning:\n",
      "\n",
      "`rcond` parameter will change to the default of machine precision times ``max(M, N)`` where M and N are the input matrix dimensions.\n",
      "To use the future default and silence this warning we advise to pass `rcond=None`, to keep using the old, explicitly pass `rcond=-1`.\n",
      "\n"
     ]
    },
    {
     "data": {
      "text/plain": [
       "{'pearson': 0.5875092570819308,\n",
       " 'spearman': 0.4356162645270833,\n",
       " 'kendall': 0.30585506732981693,\n",
       " 'r2': 0.23928135746999057,\n",
       " 'adj_r2': 0.2389099128203177,\n",
       " 'rmse': 3565509.607092224,\n",
       " 'mape': 99.99993665256915}"
      ]
     },
     "execution_count": 185,
     "metadata": {},
     "output_type": "execute_result"
    }
   ],
   "source": [
    "r2(df.groupby('PAC').mean()[['res1loss', 'gdp']])"
   ]
  },
  {
   "cell_type": "code",
   "execution_count": 190,
   "metadata": {},
   "outputs": [
    {
     "name": "stderr",
     "output_type": "stream",
     "text": [
      "/home/xiezhongming/anaconda3/envs/pytorch/lib/python3.6/site-packages/ipykernel_launcher.py:9: FutureWarning:\n",
      "\n",
      "`rcond` parameter will change to the default of machine precision times ``max(M, N)`` where M and N are the input matrix dimensions.\n",
      "To use the future default and silence this warning we advise to pass `rcond=None`, to keep using the old, explicitly pass `rcond=-1`.\n",
      "\n"
     ]
    },
    {
     "data": {
      "text/plain": [
       "{'pearson': 0.3636008242305105,\n",
       " 'spearman': 0.5415252512162172,\n",
       " 'kendall': 0.3799445659186035,\n",
       " 'r2': 0.09782135267017833,\n",
       " 'adj_r2': 0.09781403495908692,\n",
       " 'rmse': 2016514.6333417895,\n",
       " 'mape': 99.99994318452254}"
      ]
     },
     "execution_count": 190,
     "metadata": {},
     "output_type": "execute_result"
    }
   ],
   "source": [
    "r2(df[['res-m', 'gdp']])"
   ]
  },
  {
   "cell_type": "code",
   "execution_count": 191,
   "metadata": {},
   "outputs": [
    {
     "name": "stderr",
     "output_type": "stream",
     "text": [
      "/home/xiezhongming/anaconda3/envs/pytorch/lib/python3.6/site-packages/ipykernel_launcher.py:9: FutureWarning:\n",
      "\n",
      "`rcond` parameter will change to the default of machine precision times ``max(M, N)`` where M and N are the input matrix dimensions.\n",
      "To use the future default and silence this warning we advise to pass `rcond=None`, to keep using the old, explicitly pass `rcond=-1`.\n",
      "\n"
     ]
    },
    {
     "data": {
      "text/plain": [
       "{'pearson': 0.4590602476146543,\n",
       " 'spearman': 0.5025867337931158,\n",
       " 'kendall': 0.35463330935843584,\n",
       " 'r2': 0.11332372434639448,\n",
       " 'adj_r2': 0.11331653237744677,\n",
       " 'rmse': 2016514.3462801117,\n",
       " 'mape': 99.99985782607938}"
      ]
     },
     "execution_count": 191,
     "metadata": {},
     "output_type": "execute_result"
    }
   ],
   "source": [
    "r2(df[['nl-50', 'gdp']])"
   ]
  },
  {
   "cell_type": "code",
   "execution_count": 192,
   "metadata": {},
   "outputs": [
    {
     "name": "stderr",
     "output_type": "stream",
     "text": [
      "/home/xiezhongming/anaconda3/envs/pytorch/lib/python3.6/site-packages/ipykernel_launcher.py:9: FutureWarning:\n",
      "\n",
      "`rcond` parameter will change to the default of machine precision times ``max(M, N)`` where M and N are the input matrix dimensions.\n",
      "To use the future default and silence this warning we advise to pass `rcond=None`, to keep using the old, explicitly pass `rcond=-1`.\n",
      "\n"
     ]
    },
    {
     "data": {
      "text/plain": [
       "{'pearson': 0.18551807249781757,\n",
       " 'spearman': 0.38159824666846737,\n",
       " 'kendall': 0.2607310389980199,\n",
       " 'r2': 0.0343445980223519,\n",
       " 'adj_r2': 0.03433676544144726,\n",
       " 'rmse': 2016514.5643257548,\n",
       " 'mape': 99.99976581678001}"
      ]
     },
     "execution_count": 192,
     "metadata": {},
     "output_type": "execute_result"
    }
   ],
   "source": [
    "r2(df[['pca', 'gdp']])"
   ]
  },
  {
   "cell_type": "code",
   "execution_count": null,
   "metadata": {},
   "outputs": [],
   "source": []
  },
  {
   "cell_type": "code",
   "execution_count": null,
   "metadata": {},
   "outputs": [],
   "source": []
  },
  {
   "cell_type": "code",
   "execution_count": null,
   "metadata": {},
   "outputs": [],
   "source": []
  },
  {
   "cell_type": "code",
   "execution_count": null,
   "metadata": {},
   "outputs": [],
   "source": []
  },
  {
   "cell_type": "code",
   "execution_count": 187,
   "metadata": {},
   "outputs": [
    {
     "name": "stderr",
     "output_type": "stream",
     "text": [
      "/home/xiezhongming/anaconda3/envs/pytorch/lib/python3.6/site-packages/ipykernel_launcher.py:9: FutureWarning:\n",
      "\n",
      "`rcond` parameter will change to the default of machine precision times ``max(M, N)`` where M and N are the input matrix dimensions.\n",
      "To use the future default and silence this warning we advise to pass `rcond=None`, to keep using the old, explicitly pass `rcond=-1`.\n",
      "\n"
     ]
    },
    {
     "data": {
      "text/plain": [
       "{'pearson': 0.25237223549505056,\n",
       " 'spearman': 0.0882469545282074,\n",
       " 'kendall': 0.059507585730569086,\n",
       " 'r2': -0.10052473423852248,\n",
       " 'adj_r2': -0.1005336607655225,\n",
       " 'rmse': 2016514.6117314184,\n",
       " 'mape': 99.99985443640423}"
      ]
     },
     "execution_count": 187,
     "metadata": {},
     "output_type": "execute_result"
    }
   ],
   "source": [
    "r2(df[['res1loss', 'gdp']])"
   ]
  },
  {
   "cell_type": "code",
   "execution_count": 173,
   "metadata": {},
   "outputs": [
    {
     "name": "stderr",
     "output_type": "stream",
     "text": [
      "/home/xiezhongming/anaconda3/envs/pytorch/lib/python3.6/site-packages/ipykernel_launcher.py:9: FutureWarning:\n",
      "\n",
      "`rcond` parameter will change to the default of machine precision times ``max(M, N)`` where M and N are the input matrix dimensions.\n",
      "To use the future default and silence this warning we advise to pass `rcond=None`, to keep using the old, explicitly pass `rcond=-1`.\n",
      "\n"
     ]
    },
    {
     "data": {
      "text/plain": [
       "{'pearson': 0.39759805195992665,\n",
       " 'spearman': 0.12067813391869274,\n",
       " 'kendall': 0.08272738591871022,\n",
       " 'r2': 0.13480339190113144,\n",
       " 'adj_r2': 0.1343809326198332,\n",
       " 'rmse': 3565510.0197179867,\n",
       " 'mape': 99.99993834283482}"
      ]
     },
     "execution_count": 173,
     "metadata": {},
     "output_type": "execute_result"
    }
   ],
   "source": [
    "r2(df.groupby('PAC').mean()[['res50++', 'gdp']])"
   ]
  },
  {
   "cell_type": "code",
   "execution_count": 153,
   "metadata": {},
   "outputs": [
    {
     "ename": "AttributeError",
     "evalue": "module 'timm' has no attribute 'Resnet'",
     "output_type": "error",
     "traceback": [
      "\u001b[0;31m---------------------------------------------------------------------------\u001b[0m",
      "\u001b[0;31mAttributeError\u001b[0m                            Traceback (most recent call last)",
      "\u001b[0;32m<ipython-input-153-488bf7e6b9f8>\u001b[0m in \u001b[0;36m<module>\u001b[0;34m\u001b[0m\n\u001b[0;32m----> 1\u001b[0;31m \u001b[0mx\u001b[0m \u001b[0;34m=\u001b[0m \u001b[0mtimm\u001b[0m\u001b[0;34m.\u001b[0m\u001b[0mResnet\u001b[0m\u001b[0;34m(\u001b[0m\u001b[0;34m)\u001b[0m\u001b[0;34m\u001b[0m\u001b[0;34m\u001b[0m\u001b[0m\n\u001b[0m",
      "\u001b[0;31mAttributeError\u001b[0m: module 'timm' has no attribute 'Resnet'"
     ]
    }
   ],
   "source": [
    "x = timm.Resnet()"
   ]
  },
  {
   "cell_type": "code",
   "execution_count": null,
   "metadata": {},
   "outputs": [],
   "source": []
  },
  {
   "cell_type": "code",
   "execution_count": null,
   "metadata": {},
   "outputs": [],
   "source": []
  },
  {
   "cell_type": "code",
   "execution_count": null,
   "metadata": {},
   "outputs": [],
   "source": []
  },
  {
   "cell_type": "code",
   "execution_count": 29,
   "metadata": {},
   "outputs": [],
   "source": [
    "df['log_first'] = df['first'].map(np.log)\n",
    "df['log_second'] = df.second.map(np.log)\n",
    "df['log_population'] = df.population.map(np.log)\n",
    "df['log_host'] = df.host.map(np.log)"
   ]
  },
  {
   "cell_type": "code",
   "execution_count": 48,
   "metadata": {},
   "outputs": [],
   "source": [
    "log_gdp = pd.DataFrame([r2(df[[item,  f'log_{it}']]) for item in items])\n",
    "log_gdp.index = items\n",
    "log_gdp = log_gdp.reset_index()\n",
    "log_gdp = log_gdp[['index', 'pearson', 'spearman']]\n",
    "log_gdp.columns = ['index', f'{it}_pearson', f'{it}_spearman']"
   ]
  },
  {
   "cell_type": "code",
   "execution_count": 75,
   "metadata": {},
   "outputs": [
    {
     "name": "stderr",
     "output_type": "stream",
     "text": [
      "/home/xiezhongming/anaconda3/envs/pytorch/lib/python3.6/site-packages/ipykernel_launcher.py:9: FutureWarning: `rcond` parameter will change to the default of machine precision times ``max(M, N)`` where M and N are the input matrix dimensions.\n",
      "To use the future default and silence this warning we advise to pass `rcond=None`, to keep using the old, explicitly pass `rcond=-1`.\n",
      "  if __name__ == '__main__':\n"
     ]
    },
    {
     "data": {
      "text/plain": [
       "{'pearson': 0.41857358983562964,\n",
       " 'spearman': 0.43996682247400215,\n",
       " 'kendall': 0.3001788238671966,\n",
       " 'r2': -81.85255445363859,\n",
       " 'adj_r2': -81.85322448359656,\n",
       " 'rmse': 0.6887719227431028,\n",
       " 'mape': 87.8714041972913}"
      ]
     },
     "execution_count": 75,
     "metadata": {},
     "output_type": "execute_result"
    }
   ],
   "source": [
    "r2(df[['resb15','log_gdp']])"
   ]
  },
  {
   "cell_type": "code",
   "execution_count": 69,
   "metadata": {},
   "outputs": [],
   "source": [
    "items = ['res-m', 'vit', 'eff', 'vgg']"
   ]
  },
  {
   "cell_type": "code",
   "execution_count": 72,
   "metadata": {},
   "outputs": [
    {
     "data": {
      "text/html": [
       "<div>\n",
       "<style scoped>\n",
       "    .dataframe tbody tr th:only-of-type {\n",
       "        vertical-align: middle;\n",
       "    }\n",
       "\n",
       "    .dataframe tbody tr th {\n",
       "        vertical-align: top;\n",
       "    }\n",
       "\n",
       "    .dataframe thead th {\n",
       "        text-align: right;\n",
       "    }\n",
       "</style>\n",
       "<table border=\"1\" class=\"dataframe\">\n",
       "  <thead>\n",
       "    <tr style=\"text-align: right;\">\n",
       "      <th></th>\n",
       "      <th>index</th>\n",
       "      <th>gdp_pearson</th>\n",
       "      <th>gdp_spearman</th>\n",
       "      <th>first_pearson</th>\n",
       "      <th>first_spearman</th>\n",
       "      <th>second_pearson</th>\n",
       "      <th>second_spearman</th>\n",
       "      <th>population_pearson</th>\n",
       "      <th>population_spearman</th>\n",
       "      <th>host_pearson</th>\n",
       "      <th>host_spearman</th>\n",
       "    </tr>\n",
       "  </thead>\n",
       "  <tbody>\n",
       "    <tr>\n",
       "      <th>0</th>\n",
       "      <td>res-m</td>\n",
       "      <td>0.544141</td>\n",
       "      <td>0.540359</td>\n",
       "      <td>0.514694</td>\n",
       "      <td>0.529399</td>\n",
       "      <td>0.485231</td>\n",
       "      <td>0.475799</td>\n",
       "      <td>0.503338</td>\n",
       "      <td>0.516072</td>\n",
       "      <td>0.499468</td>\n",
       "      <td>0.500987</td>\n",
       "    </tr>\n",
       "    <tr>\n",
       "      <th>1</th>\n",
       "      <td>vit</td>\n",
       "      <td>0.590918</td>\n",
       "      <td>0.549522</td>\n",
       "      <td>0.515851</td>\n",
       "      <td>0.515488</td>\n",
       "      <td>0.545173</td>\n",
       "      <td>0.510706</td>\n",
       "      <td>0.499958</td>\n",
       "      <td>0.477045</td>\n",
       "      <td>0.502207</td>\n",
       "      <td>0.472732</td>\n",
       "    </tr>\n",
       "    <tr>\n",
       "      <th>2</th>\n",
       "      <td>eff</td>\n",
       "      <td>0.252305</td>\n",
       "      <td>0.323762</td>\n",
       "      <td>0.211602</td>\n",
       "      <td>0.284612</td>\n",
       "      <td>0.239804</td>\n",
       "      <td>0.302594</td>\n",
       "      <td>0.229541</td>\n",
       "      <td>0.302505</td>\n",
       "      <td>0.228481</td>\n",
       "      <td>0.288736</td>\n",
       "    </tr>\n",
       "    <tr>\n",
       "      <th>3</th>\n",
       "      <td>vgg</td>\n",
       "      <td>0.385825</td>\n",
       "      <td>0.397163</td>\n",
       "      <td>0.391049</td>\n",
       "      <td>0.403800</td>\n",
       "      <td>0.336382</td>\n",
       "      <td>0.333956</td>\n",
       "      <td>0.471334</td>\n",
       "      <td>0.472933</td>\n",
       "      <td>0.424388</td>\n",
       "      <td>0.425199</td>\n",
       "    </tr>\n",
       "  </tbody>\n",
       "</table>\n",
       "</div>"
      ],
      "text/plain": [
       "   index  gdp_pearson  gdp_spearman  first_pearson  first_spearman  \\\n",
       "0  res-m     0.544141      0.540359       0.514694        0.529399   \n",
       "1    vit     0.590918      0.549522       0.515851        0.515488   \n",
       "2    eff     0.252305      0.323762       0.211602        0.284612   \n",
       "3    vgg     0.385825      0.397163       0.391049        0.403800   \n",
       "\n",
       "   second_pearson  second_spearman  population_pearson  population_spearman  \\\n",
       "0        0.485231         0.475799            0.503338             0.516072   \n",
       "1        0.545173         0.510706            0.499958             0.477045   \n",
       "2        0.239804         0.302594            0.229541             0.302505   \n",
       "3        0.336382         0.333956            0.471334             0.472933   \n",
       "\n",
       "   host_pearson  host_spearman  \n",
       "0      0.499468       0.500987  \n",
       "1      0.502207       0.472732  \n",
       "2      0.228481       0.288736  \n",
       "3      0.424388       0.425199  "
      ]
     },
     "execution_count": 72,
     "metadata": {},
     "output_type": "execute_result"
    }
   ],
   "source": [
    "res"
   ]
  },
  {
   "cell_type": "code",
   "execution_count": 71,
   "metadata": {},
   "outputs": [
    {
     "name": "stderr",
     "output_type": "stream",
     "text": [
      "/home/xiezhongming/anaconda3/envs/pytorch/lib/python3.6/site-packages/ipykernel_launcher.py:9: FutureWarning: `rcond` parameter will change to the default of machine precision times ``max(M, N)`` where M and N are the input matrix dimensions.\n",
      "To use the future default and silence this warning we advise to pass `rcond=None`, to keep using the old, explicitly pass `rcond=-1`.\n",
      "  if __name__ == '__main__':\n",
      "/home/xiezhongming/anaconda3/envs/pytorch/lib/python3.6/site-packages/ipykernel_launcher.py:9: FutureWarning: `rcond` parameter will change to the default of machine precision times ``max(M, N)`` where M and N are the input matrix dimensions.\n",
      "To use the future default and silence this warning we advise to pass `rcond=None`, to keep using the old, explicitly pass `rcond=-1`.\n",
      "  if __name__ == '__main__':\n",
      "/home/xiezhongming/anaconda3/envs/pytorch/lib/python3.6/site-packages/ipykernel_launcher.py:9: FutureWarning: `rcond` parameter will change to the default of machine precision times ``max(M, N)`` where M and N are the input matrix dimensions.\n",
      "To use the future default and silence this warning we advise to pass `rcond=None`, to keep using the old, explicitly pass `rcond=-1`.\n",
      "  if __name__ == '__main__':\n",
      "/home/xiezhongming/anaconda3/envs/pytorch/lib/python3.6/site-packages/ipykernel_launcher.py:9: FutureWarning: `rcond` parameter will change to the default of machine precision times ``max(M, N)`` where M and N are the input matrix dimensions.\n",
      "To use the future default and silence this warning we advise to pass `rcond=None`, to keep using the old, explicitly pass `rcond=-1`.\n",
      "  if __name__ == '__main__':\n",
      "/home/xiezhongming/anaconda3/envs/pytorch/lib/python3.6/site-packages/ipykernel_launcher.py:9: FutureWarning: `rcond` parameter will change to the default of machine precision times ``max(M, N)`` where M and N are the input matrix dimensions.\n",
      "To use the future default and silence this warning we advise to pass `rcond=None`, to keep using the old, explicitly pass `rcond=-1`.\n",
      "  if __name__ == '__main__':\n",
      "/home/xiezhongming/anaconda3/envs/pytorch/lib/python3.6/site-packages/ipykernel_launcher.py:9: FutureWarning: `rcond` parameter will change to the default of machine precision times ``max(M, N)`` where M and N are the input matrix dimensions.\n",
      "To use the future default and silence this warning we advise to pass `rcond=None`, to keep using the old, explicitly pass `rcond=-1`.\n",
      "  if __name__ == '__main__':\n",
      "/home/xiezhongming/anaconda3/envs/pytorch/lib/python3.6/site-packages/ipykernel_launcher.py:9: FutureWarning: `rcond` parameter will change to the default of machine precision times ``max(M, N)`` where M and N are the input matrix dimensions.\n",
      "To use the future default and silence this warning we advise to pass `rcond=None`, to keep using the old, explicitly pass `rcond=-1`.\n",
      "  if __name__ == '__main__':\n",
      "/home/xiezhongming/anaconda3/envs/pytorch/lib/python3.6/site-packages/ipykernel_launcher.py:9: FutureWarning: `rcond` parameter will change to the default of machine precision times ``max(M, N)`` where M and N are the input matrix dimensions.\n",
      "To use the future default and silence this warning we advise to pass `rcond=None`, to keep using the old, explicitly pass `rcond=-1`.\n",
      "  if __name__ == '__main__':\n",
      "/home/xiezhongming/anaconda3/envs/pytorch/lib/python3.6/site-packages/ipykernel_launcher.py:9: FutureWarning: `rcond` parameter will change to the default of machine precision times ``max(M, N)`` where M and N are the input matrix dimensions.\n",
      "To use the future default and silence this warning we advise to pass `rcond=None`, to keep using the old, explicitly pass `rcond=-1`.\n",
      "  if __name__ == '__main__':\n",
      "/home/xiezhongming/anaconda3/envs/pytorch/lib/python3.6/site-packages/ipykernel_launcher.py:9: FutureWarning: `rcond` parameter will change to the default of machine precision times ``max(M, N)`` where M and N are the input matrix dimensions.\n",
      "To use the future default and silence this warning we advise to pass `rcond=None`, to keep using the old, explicitly pass `rcond=-1`.\n",
      "  if __name__ == '__main__':\n",
      "/home/xiezhongming/anaconda3/envs/pytorch/lib/python3.6/site-packages/ipykernel_launcher.py:9: FutureWarning: `rcond` parameter will change to the default of machine precision times ``max(M, N)`` where M and N are the input matrix dimensions.\n",
      "To use the future default and silence this warning we advise to pass `rcond=None`, to keep using the old, explicitly pass `rcond=-1`.\n",
      "  if __name__ == '__main__':\n",
      "/home/xiezhongming/anaconda3/envs/pytorch/lib/python3.6/site-packages/ipykernel_launcher.py:9: FutureWarning: `rcond` parameter will change to the default of machine precision times ``max(M, N)`` where M and N are the input matrix dimensions.\n",
      "To use the future default and silence this warning we advise to pass `rcond=None`, to keep using the old, explicitly pass `rcond=-1`.\n",
      "  if __name__ == '__main__':\n",
      "/home/xiezhongming/anaconda3/envs/pytorch/lib/python3.6/site-packages/ipykernel_launcher.py:9: FutureWarning: `rcond` parameter will change to the default of machine precision times ``max(M, N)`` where M and N are the input matrix dimensions.\n",
      "To use the future default and silence this warning we advise to pass `rcond=None`, to keep using the old, explicitly pass `rcond=-1`.\n",
      "  if __name__ == '__main__':\n",
      "/home/xiezhongming/anaconda3/envs/pytorch/lib/python3.6/site-packages/ipykernel_launcher.py:41: RuntimeWarning: divide by zero encountered in true_divide\n",
      "/home/xiezhongming/anaconda3/envs/pytorch/lib/python3.6/site-packages/ipykernel_launcher.py:9: FutureWarning: `rcond` parameter will change to the default of machine precision times ``max(M, N)`` where M and N are the input matrix dimensions.\n",
      "To use the future default and silence this warning we advise to pass `rcond=None`, to keep using the old, explicitly pass `rcond=-1`.\n",
      "  if __name__ == '__main__':\n",
      "/home/xiezhongming/anaconda3/envs/pytorch/lib/python3.6/site-packages/ipykernel_launcher.py:41: RuntimeWarning: divide by zero encountered in true_divide\n",
      "/home/xiezhongming/anaconda3/envs/pytorch/lib/python3.6/site-packages/ipykernel_launcher.py:9: FutureWarning: `rcond` parameter will change to the default of machine precision times ``max(M, N)`` where M and N are the input matrix dimensions.\n",
      "To use the future default and silence this warning we advise to pass `rcond=None`, to keep using the old, explicitly pass `rcond=-1`.\n",
      "  if __name__ == '__main__':\n",
      "/home/xiezhongming/anaconda3/envs/pytorch/lib/python3.6/site-packages/ipykernel_launcher.py:41: RuntimeWarning: divide by zero encountered in true_divide\n",
      "/home/xiezhongming/anaconda3/envs/pytorch/lib/python3.6/site-packages/ipykernel_launcher.py:9: FutureWarning: `rcond` parameter will change to the default of machine precision times ``max(M, N)`` where M and N are the input matrix dimensions.\n",
      "To use the future default and silence this warning we advise to pass `rcond=None`, to keep using the old, explicitly pass `rcond=-1`.\n",
      "  if __name__ == '__main__':\n",
      "/home/xiezhongming/anaconda3/envs/pytorch/lib/python3.6/site-packages/ipykernel_launcher.py:41: RuntimeWarning: divide by zero encountered in true_divide\n",
      "/home/xiezhongming/anaconda3/envs/pytorch/lib/python3.6/site-packages/ipykernel_launcher.py:9: FutureWarning: `rcond` parameter will change to the default of machine precision times ``max(M, N)`` where M and N are the input matrix dimensions.\n",
      "To use the future default and silence this warning we advise to pass `rcond=None`, to keep using the old, explicitly pass `rcond=-1`.\n",
      "  if __name__ == '__main__':\n",
      "/home/xiezhongming/anaconda3/envs/pytorch/lib/python3.6/site-packages/ipykernel_launcher.py:9: FutureWarning: `rcond` parameter will change to the default of machine precision times ``max(M, N)`` where M and N are the input matrix dimensions.\n",
      "To use the future default and silence this warning we advise to pass `rcond=None`, to keep using the old, explicitly pass `rcond=-1`.\n",
      "  if __name__ == '__main__':\n",
      "/home/xiezhongming/anaconda3/envs/pytorch/lib/python3.6/site-packages/ipykernel_launcher.py:9: FutureWarning: `rcond` parameter will change to the default of machine precision times ``max(M, N)`` where M and N are the input matrix dimensions.\n",
      "To use the future default and silence this warning we advise to pass `rcond=None`, to keep using the old, explicitly pass `rcond=-1`.\n",
      "  if __name__ == '__main__':\n",
      "/home/xiezhongming/anaconda3/envs/pytorch/lib/python3.6/site-packages/ipykernel_launcher.py:9: FutureWarning: `rcond` parameter will change to the default of machine precision times ``max(M, N)`` where M and N are the input matrix dimensions.\n",
      "To use the future default and silence this warning we advise to pass `rcond=None`, to keep using the old, explicitly pass `rcond=-1`.\n",
      "  if __name__ == '__main__':\n"
     ]
    }
   ],
   "source": [
    "for it in ['gdp', 'first', 'second', 'population', 'host']:\n",
    "    log_gdp = pd.DataFrame([r2(df[[item,  f'log_{it}']]) for item in items])\n",
    "    log_gdp.index = items\n",
    "    log_gdp = log_gdp.reset_index()\n",
    "    log_gdp = log_gdp[['index', 'pearson', 'spearman']]\n",
    "    log_gdp.columns = ['index', f'{it}_pearson', f'{it}_spearman']\n",
    "    if it != 'gdp':\n",
    "        res = res.merge(log_gdp)\n",
    "    else:\n",
    "        res = log_gdp"
   ]
  },
  {
   "cell_type": "code",
   "execution_count": 49,
   "metadata": {},
   "outputs": [
    {
     "name": "stderr",
     "output_type": "stream",
     "text": [
      "/home/xiezhongming/anaconda3/envs/pytorch/lib/python3.6/site-packages/ipykernel_launcher.py:9: FutureWarning: `rcond` parameter will change to the default of machine precision times ``max(M, N)`` where M and N are the input matrix dimensions.\n",
      "To use the future default and silence this warning we advise to pass `rcond=None`, to keep using the old, explicitly pass `rcond=-1`.\n",
      "  if __name__ == '__main__':\n",
      "/home/xiezhongming/anaconda3/envs/pytorch/lib/python3.6/site-packages/ipykernel_launcher.py:9: FutureWarning: `rcond` parameter will change to the default of machine precision times ``max(M, N)`` where M and N are the input matrix dimensions.\n",
      "To use the future default and silence this warning we advise to pass `rcond=None`, to keep using the old, explicitly pass `rcond=-1`.\n",
      "  if __name__ == '__main__':\n",
      "/home/xiezhongming/anaconda3/envs/pytorch/lib/python3.6/site-packages/ipykernel_launcher.py:9: FutureWarning: `rcond` parameter will change to the default of machine precision times ``max(M, N)`` where M and N are the input matrix dimensions.\n",
      "To use the future default and silence this warning we advise to pass `rcond=None`, to keep using the old, explicitly pass `rcond=-1`.\n",
      "  if __name__ == '__main__':\n",
      "/home/xiezhongming/anaconda3/envs/pytorch/lib/python3.6/site-packages/ipykernel_launcher.py:9: FutureWarning: `rcond` parameter will change to the default of machine precision times ``max(M, N)`` where M and N are the input matrix dimensions.\n",
      "To use the future default and silence this warning we advise to pass `rcond=None`, to keep using the old, explicitly pass `rcond=-1`.\n",
      "  if __name__ == '__main__':\n",
      "/home/xiezhongming/anaconda3/envs/pytorch/lib/python3.6/site-packages/ipykernel_launcher.py:9: FutureWarning: `rcond` parameter will change to the default of machine precision times ``max(M, N)`` where M and N are the input matrix dimensions.\n",
      "To use the future default and silence this warning we advise to pass `rcond=None`, to keep using the old, explicitly pass `rcond=-1`.\n",
      "  if __name__ == '__main__':\n",
      "/home/xiezhongming/anaconda3/envs/pytorch/lib/python3.6/site-packages/ipykernel_launcher.py:9: FutureWarning: `rcond` parameter will change to the default of machine precision times ``max(M, N)`` where M and N are the input matrix dimensions.\n",
      "To use the future default and silence this warning we advise to pass `rcond=None`, to keep using the old, explicitly pass `rcond=-1`.\n",
      "  if __name__ == '__main__':\n",
      "/home/xiezhongming/anaconda3/envs/pytorch/lib/python3.6/site-packages/ipykernel_launcher.py:9: FutureWarning: `rcond` parameter will change to the default of machine precision times ``max(M, N)`` where M and N are the input matrix dimensions.\n",
      "To use the future default and silence this warning we advise to pass `rcond=None`, to keep using the old, explicitly pass `rcond=-1`.\n",
      "  if __name__ == '__main__':\n",
      "/home/xiezhongming/anaconda3/envs/pytorch/lib/python3.6/site-packages/ipykernel_launcher.py:9: FutureWarning: `rcond` parameter will change to the default of machine precision times ``max(M, N)`` where M and N are the input matrix dimensions.\n",
      "To use the future default and silence this warning we advise to pass `rcond=None`, to keep using the old, explicitly pass `rcond=-1`.\n",
      "  if __name__ == '__main__':\n",
      "/home/xiezhongming/anaconda3/envs/pytorch/lib/python3.6/site-packages/ipykernel_launcher.py:9: FutureWarning: `rcond` parameter will change to the default of machine precision times ``max(M, N)`` where M and N are the input matrix dimensions.\n",
      "To use the future default and silence this warning we advise to pass `rcond=None`, to keep using the old, explicitly pass `rcond=-1`.\n",
      "  if __name__ == '__main__':\n",
      "/home/xiezhongming/anaconda3/envs/pytorch/lib/python3.6/site-packages/ipykernel_launcher.py:9: FutureWarning: `rcond` parameter will change to the default of machine precision times ``max(M, N)`` where M and N are the input matrix dimensions.\n",
      "To use the future default and silence this warning we advise to pass `rcond=None`, to keep using the old, explicitly pass `rcond=-1`.\n",
      "  if __name__ == '__main__':\n",
      "/home/xiezhongming/anaconda3/envs/pytorch/lib/python3.6/site-packages/ipykernel_launcher.py:9: FutureWarning: `rcond` parameter will change to the default of machine precision times ``max(M, N)`` where M and N are the input matrix dimensions.\n",
      "To use the future default and silence this warning we advise to pass `rcond=None`, to keep using the old, explicitly pass `rcond=-1`.\n",
      "  if __name__ == '__main__':\n",
      "/home/xiezhongming/anaconda3/envs/pytorch/lib/python3.6/site-packages/ipykernel_launcher.py:9: FutureWarning: `rcond` parameter will change to the default of machine precision times ``max(M, N)`` where M and N are the input matrix dimensions.\n",
      "To use the future default and silence this warning we advise to pass `rcond=None`, to keep using the old, explicitly pass `rcond=-1`.\n",
      "  if __name__ == '__main__':\n",
      "/home/xiezhongming/anaconda3/envs/pytorch/lib/python3.6/site-packages/ipykernel_launcher.py:9: FutureWarning: `rcond` parameter will change to the default of machine precision times ``max(M, N)`` where M and N are the input matrix dimensions.\n",
      "To use the future default and silence this warning we advise to pass `rcond=None`, to keep using the old, explicitly pass `rcond=-1`.\n",
      "  if __name__ == '__main__':\n",
      "/home/xiezhongming/anaconda3/envs/pytorch/lib/python3.6/site-packages/ipykernel_launcher.py:9: FutureWarning: `rcond` parameter will change to the default of machine precision times ``max(M, N)`` where M and N are the input matrix dimensions.\n",
      "To use the future default and silence this warning we advise to pass `rcond=None`, to keep using the old, explicitly pass `rcond=-1`.\n",
      "  if __name__ == '__main__':\n",
      "/home/xiezhongming/anaconda3/envs/pytorch/lib/python3.6/site-packages/ipykernel_launcher.py:9: FutureWarning: `rcond` parameter will change to the default of machine precision times ``max(M, N)`` where M and N are the input matrix dimensions.\n",
      "To use the future default and silence this warning we advise to pass `rcond=None`, to keep using the old, explicitly pass `rcond=-1`.\n",
      "  if __name__ == '__main__':\n",
      "/home/xiezhongming/anaconda3/envs/pytorch/lib/python3.6/site-packages/ipykernel_launcher.py:9: FutureWarning: `rcond` parameter will change to the default of machine precision times ``max(M, N)`` where M and N are the input matrix dimensions.\n",
      "To use the future default and silence this warning we advise to pass `rcond=None`, to keep using the old, explicitly pass `rcond=-1`.\n",
      "  if __name__ == '__main__':\n",
      "/home/xiezhongming/anaconda3/envs/pytorch/lib/python3.6/site-packages/ipykernel_launcher.py:9: FutureWarning: `rcond` parameter will change to the default of machine precision times ``max(M, N)`` where M and N are the input matrix dimensions.\n",
      "To use the future default and silence this warning we advise to pass `rcond=None`, to keep using the old, explicitly pass `rcond=-1`.\n",
      "  if __name__ == '__main__':\n",
      "/home/xiezhongming/anaconda3/envs/pytorch/lib/python3.6/site-packages/ipykernel_launcher.py:9: FutureWarning: `rcond` parameter will change to the default of machine precision times ``max(M, N)`` where M and N are the input matrix dimensions.\n",
      "To use the future default and silence this warning we advise to pass `rcond=None`, to keep using the old, explicitly pass `rcond=-1`.\n",
      "  if __name__ == '__main__':\n",
      "/home/xiezhongming/anaconda3/envs/pytorch/lib/python3.6/site-packages/ipykernel_launcher.py:9: FutureWarning: `rcond` parameter will change to the default of machine precision times ``max(M, N)`` where M and N are the input matrix dimensions.\n",
      "To use the future default and silence this warning we advise to pass `rcond=None`, to keep using the old, explicitly pass `rcond=-1`.\n",
      "  if __name__ == '__main__':\n",
      "/home/xiezhongming/anaconda3/envs/pytorch/lib/python3.6/site-packages/ipykernel_launcher.py:9: FutureWarning: `rcond` parameter will change to the default of machine precision times ``max(M, N)`` where M and N are the input matrix dimensions.\n",
      "To use the future default and silence this warning we advise to pass `rcond=None`, to keep using the old, explicitly pass `rcond=-1`.\n",
      "  if __name__ == '__main__':\n",
      "/home/xiezhongming/anaconda3/envs/pytorch/lib/python3.6/site-packages/ipykernel_launcher.py:9: FutureWarning: `rcond` parameter will change to the default of machine precision times ``max(M, N)`` where M and N are the input matrix dimensions.\n",
      "To use the future default and silence this warning we advise to pass `rcond=None`, to keep using the old, explicitly pass `rcond=-1`.\n",
      "  if __name__ == '__main__':\n",
      "/home/xiezhongming/anaconda3/envs/pytorch/lib/python3.6/site-packages/ipykernel_launcher.py:41: RuntimeWarning: divide by zero encountered in true_divide\n",
      "/home/xiezhongming/anaconda3/envs/pytorch/lib/python3.6/site-packages/ipykernel_launcher.py:9: FutureWarning: `rcond` parameter will change to the default of machine precision times ``max(M, N)`` where M and N are the input matrix dimensions.\n",
      "To use the future default and silence this warning we advise to pass `rcond=None`, to keep using the old, explicitly pass `rcond=-1`.\n",
      "  if __name__ == '__main__':\n",
      "/home/xiezhongming/anaconda3/envs/pytorch/lib/python3.6/site-packages/ipykernel_launcher.py:41: RuntimeWarning: divide by zero encountered in true_divide\n",
      "/home/xiezhongming/anaconda3/envs/pytorch/lib/python3.6/site-packages/ipykernel_launcher.py:9: FutureWarning: `rcond` parameter will change to the default of machine precision times ``max(M, N)`` where M and N are the input matrix dimensions.\n",
      "To use the future default and silence this warning we advise to pass `rcond=None`, to keep using the old, explicitly pass `rcond=-1`.\n",
      "  if __name__ == '__main__':\n",
      "/home/xiezhongming/anaconda3/envs/pytorch/lib/python3.6/site-packages/ipykernel_launcher.py:41: RuntimeWarning: divide by zero encountered in true_divide\n",
      "/home/xiezhongming/anaconda3/envs/pytorch/lib/python3.6/site-packages/ipykernel_launcher.py:9: FutureWarning: `rcond` parameter will change to the default of machine precision times ``max(M, N)`` where M and N are the input matrix dimensions.\n",
      "To use the future default and silence this warning we advise to pass `rcond=None`, to keep using the old, explicitly pass `rcond=-1`.\n",
      "  if __name__ == '__main__':\n",
      "/home/xiezhongming/anaconda3/envs/pytorch/lib/python3.6/site-packages/ipykernel_launcher.py:41: RuntimeWarning: divide by zero encountered in true_divide\n",
      "/home/xiezhongming/anaconda3/envs/pytorch/lib/python3.6/site-packages/ipykernel_launcher.py:9: FutureWarning: `rcond` parameter will change to the default of machine precision times ``max(M, N)`` where M and N are the input matrix dimensions.\n",
      "To use the future default and silence this warning we advise to pass `rcond=None`, to keep using the old, explicitly pass `rcond=-1`.\n",
      "  if __name__ == '__main__':\n",
      "/home/xiezhongming/anaconda3/envs/pytorch/lib/python3.6/site-packages/ipykernel_launcher.py:41: RuntimeWarning: divide by zero encountered in true_divide\n",
      "/home/xiezhongming/anaconda3/envs/pytorch/lib/python3.6/site-packages/ipykernel_launcher.py:9: FutureWarning: `rcond` parameter will change to the default of machine precision times ``max(M, N)`` where M and N are the input matrix dimensions.\n",
      "To use the future default and silence this warning we advise to pass `rcond=None`, to keep using the old, explicitly pass `rcond=-1`.\n",
      "  if __name__ == '__main__':\n",
      "/home/xiezhongming/anaconda3/envs/pytorch/lib/python3.6/site-packages/ipykernel_launcher.py:41: RuntimeWarning: divide by zero encountered in true_divide\n"
     ]
    },
    {
     "name": "stderr",
     "output_type": "stream",
     "text": [
      "/home/xiezhongming/anaconda3/envs/pytorch/lib/python3.6/site-packages/ipykernel_launcher.py:9: FutureWarning: `rcond` parameter will change to the default of machine precision times ``max(M, N)`` where M and N are the input matrix dimensions.\n",
      "To use the future default and silence this warning we advise to pass `rcond=None`, to keep using the old, explicitly pass `rcond=-1`.\n",
      "  if __name__ == '__main__':\n",
      "/home/xiezhongming/anaconda3/envs/pytorch/lib/python3.6/site-packages/ipykernel_launcher.py:41: RuntimeWarning: divide by zero encountered in true_divide\n",
      "/home/xiezhongming/anaconda3/envs/pytorch/lib/python3.6/site-packages/ipykernel_launcher.py:9: FutureWarning: `rcond` parameter will change to the default of machine precision times ``max(M, N)`` where M and N are the input matrix dimensions.\n",
      "To use the future default and silence this warning we advise to pass `rcond=None`, to keep using the old, explicitly pass `rcond=-1`.\n",
      "  if __name__ == '__main__':\n",
      "/home/xiezhongming/anaconda3/envs/pytorch/lib/python3.6/site-packages/ipykernel_launcher.py:41: RuntimeWarning: divide by zero encountered in true_divide\n",
      "/home/xiezhongming/anaconda3/envs/pytorch/lib/python3.6/site-packages/ipykernel_launcher.py:9: FutureWarning: `rcond` parameter will change to the default of machine precision times ``max(M, N)`` where M and N are the input matrix dimensions.\n",
      "To use the future default and silence this warning we advise to pass `rcond=None`, to keep using the old, explicitly pass `rcond=-1`.\n",
      "  if __name__ == '__main__':\n",
      "/home/xiezhongming/anaconda3/envs/pytorch/lib/python3.6/site-packages/ipykernel_launcher.py:41: RuntimeWarning: divide by zero encountered in true_divide\n",
      "/home/xiezhongming/anaconda3/envs/pytorch/lib/python3.6/site-packages/ipykernel_launcher.py:9: FutureWarning: `rcond` parameter will change to the default of machine precision times ``max(M, N)`` where M and N are the input matrix dimensions.\n",
      "To use the future default and silence this warning we advise to pass `rcond=None`, to keep using the old, explicitly pass `rcond=-1`.\n",
      "  if __name__ == '__main__':\n",
      "/home/xiezhongming/anaconda3/envs/pytorch/lib/python3.6/site-packages/ipykernel_launcher.py:41: RuntimeWarning: divide by zero encountered in true_divide\n",
      "/home/xiezhongming/anaconda3/envs/pytorch/lib/python3.6/site-packages/ipykernel_launcher.py:9: FutureWarning: `rcond` parameter will change to the default of machine precision times ``max(M, N)`` where M and N are the input matrix dimensions.\n",
      "To use the future default and silence this warning we advise to pass `rcond=None`, to keep using the old, explicitly pass `rcond=-1`.\n",
      "  if __name__ == '__main__':\n",
      "/home/xiezhongming/anaconda3/envs/pytorch/lib/python3.6/site-packages/ipykernel_launcher.py:9: FutureWarning: `rcond` parameter will change to the default of machine precision times ``max(M, N)`` where M and N are the input matrix dimensions.\n",
      "To use the future default and silence this warning we advise to pass `rcond=None`, to keep using the old, explicitly pass `rcond=-1`.\n",
      "  if __name__ == '__main__':\n",
      "/home/xiezhongming/anaconda3/envs/pytorch/lib/python3.6/site-packages/ipykernel_launcher.py:9: FutureWarning: `rcond` parameter will change to the default of machine precision times ``max(M, N)`` where M and N are the input matrix dimensions.\n",
      "To use the future default and silence this warning we advise to pass `rcond=None`, to keep using the old, explicitly pass `rcond=-1`.\n",
      "  if __name__ == '__main__':\n",
      "/home/xiezhongming/anaconda3/envs/pytorch/lib/python3.6/site-packages/ipykernel_launcher.py:9: FutureWarning: `rcond` parameter will change to the default of machine precision times ``max(M, N)`` where M and N are the input matrix dimensions.\n",
      "To use the future default and silence this warning we advise to pass `rcond=None`, to keep using the old, explicitly pass `rcond=-1`.\n",
      "  if __name__ == '__main__':\n",
      "/home/xiezhongming/anaconda3/envs/pytorch/lib/python3.6/site-packages/ipykernel_launcher.py:9: FutureWarning: `rcond` parameter will change to the default of machine precision times ``max(M, N)`` where M and N are the input matrix dimensions.\n",
      "To use the future default and silence this warning we advise to pass `rcond=None`, to keep using the old, explicitly pass `rcond=-1`.\n",
      "  if __name__ == '__main__':\n",
      "/home/xiezhongming/anaconda3/envs/pytorch/lib/python3.6/site-packages/ipykernel_launcher.py:9: FutureWarning: `rcond` parameter will change to the default of machine precision times ``max(M, N)`` where M and N are the input matrix dimensions.\n",
      "To use the future default and silence this warning we advise to pass `rcond=None`, to keep using the old, explicitly pass `rcond=-1`.\n",
      "  if __name__ == '__main__':\n",
      "/home/xiezhongming/anaconda3/envs/pytorch/lib/python3.6/site-packages/ipykernel_launcher.py:9: FutureWarning: `rcond` parameter will change to the default of machine precision times ``max(M, N)`` where M and N are the input matrix dimensions.\n",
      "To use the future default and silence this warning we advise to pass `rcond=None`, to keep using the old, explicitly pass `rcond=-1`.\n",
      "  if __name__ == '__main__':\n",
      "/home/xiezhongming/anaconda3/envs/pytorch/lib/python3.6/site-packages/ipykernel_launcher.py:9: FutureWarning: `rcond` parameter will change to the default of machine precision times ``max(M, N)`` where M and N are the input matrix dimensions.\n",
      "To use the future default and silence this warning we advise to pass `rcond=None`, to keep using the old, explicitly pass `rcond=-1`.\n",
      "  if __name__ == '__main__':\n",
      "/home/xiezhongming/anaconda3/envs/pytorch/lib/python3.6/site-packages/ipykernel_launcher.py:9: FutureWarning: `rcond` parameter will change to the default of machine precision times ``max(M, N)`` where M and N are the input matrix dimensions.\n",
      "To use the future default and silence this warning we advise to pass `rcond=None`, to keep using the old, explicitly pass `rcond=-1`.\n",
      "  if __name__ == '__main__':\n",
      "/home/xiezhongming/anaconda3/envs/pytorch/lib/python3.6/site-packages/ipykernel_launcher.py:9: FutureWarning: `rcond` parameter will change to the default of machine precision times ``max(M, N)`` where M and N are the input matrix dimensions.\n",
      "To use the future default and silence this warning we advise to pass `rcond=None`, to keep using the old, explicitly pass `rcond=-1`.\n",
      "  if __name__ == '__main__':\n"
     ]
    }
   ],
   "source": [
    "for it in ['first', 'second', 'population', 'host']:\n",
    "    log_gdp = pd.DataFrame([r2(df[[item,  f'log_{it}']]) for item in items])\n",
    "    log_gdp.index = items\n",
    "    log_gdp = log_gdp.reset_index()\n",
    "    log_gdp = log_gdp[['index', 'pearson']]\n",
    "    log_gdp.columns = ['index', it]\n",
    "    res = res.merge(log_gdp)\n",
    "# = pd.DataFrame([r2(df[[item, 'gdp']]) for item in items])\n",
    "# host.index = items"
   ]
  },
  {
   "cell_type": "code",
   "execution_count": 50,
   "metadata": {},
   "outputs": [
    {
     "data": {
      "text/html": [
       "<div>\n",
       "<style scoped>\n",
       "    .dataframe tbody tr th:only-of-type {\n",
       "        vertical-align: middle;\n",
       "    }\n",
       "\n",
       "    .dataframe tbody tr th {\n",
       "        vertical-align: top;\n",
       "    }\n",
       "\n",
       "    .dataframe thead th {\n",
       "        text-align: right;\n",
       "    }\n",
       "</style>\n",
       "<table border=\"1\" class=\"dataframe\">\n",
       "  <thead>\n",
       "    <tr style=\"text-align: right;\">\n",
       "      <th></th>\n",
       "      <th>index</th>\n",
       "      <th>gdp</th>\n",
       "      <th>first</th>\n",
       "      <th>second</th>\n",
       "      <th>population</th>\n",
       "      <th>host</th>\n",
       "    </tr>\n",
       "  </thead>\n",
       "  <tbody>\n",
       "    <tr>\n",
       "      <th>0</th>\n",
       "      <td>gdp</td>\n",
       "      <td>0.715014</td>\n",
       "      <td>0.467647</td>\n",
       "      <td>0.691549</td>\n",
       "      <td>0.542645</td>\n",
       "      <td>0.573387</td>\n",
       "    </tr>\n",
       "    <tr>\n",
       "      <th>1</th>\n",
       "      <td>first</td>\n",
       "      <td>0.679708</td>\n",
       "      <td>0.821352</td>\n",
       "      <td>0.550101</td>\n",
       "      <td>0.699872</td>\n",
       "      <td>0.663789</td>\n",
       "    </tr>\n",
       "    <tr>\n",
       "      <th>2</th>\n",
       "      <td>second</td>\n",
       "      <td>0.646074</td>\n",
       "      <td>0.357086</td>\n",
       "      <td>0.670269</td>\n",
       "      <td>0.436029</td>\n",
       "      <td>0.473940</td>\n",
       "    </tr>\n",
       "    <tr>\n",
       "      <th>3</th>\n",
       "      <td>population</td>\n",
       "      <td>0.693514</td>\n",
       "      <td>0.664699</td>\n",
       "      <td>0.612710</td>\n",
       "      <td>0.833260</td>\n",
       "      <td>0.785243</td>\n",
       "    </tr>\n",
       "    <tr>\n",
       "      <th>4</th>\n",
       "      <td>host</td>\n",
       "      <td>0.707086</td>\n",
       "      <td>0.614115</td>\n",
       "      <td>0.629403</td>\n",
       "      <td>0.771466</td>\n",
       "      <td>0.829593</td>\n",
       "    </tr>\n",
       "    <tr>\n",
       "      <th>5</th>\n",
       "      <td>nightlights</td>\n",
       "      <td>0.189148</td>\n",
       "      <td>0.094344</td>\n",
       "      <td>0.178024</td>\n",
       "      <td>0.151712</td>\n",
       "      <td>0.161095</td>\n",
       "    </tr>\n",
       "    <tr>\n",
       "      <th>6</th>\n",
       "      <td>pca</td>\n",
       "      <td>0.311397</td>\n",
       "      <td>0.339096</td>\n",
       "      <td>0.251604</td>\n",
       "      <td>0.388912</td>\n",
       "      <td>0.363358</td>\n",
       "    </tr>\n",
       "    <tr>\n",
       "      <th>7</th>\n",
       "      <td>ae</td>\n",
       "      <td>0.071693</td>\n",
       "      <td>0.056554</td>\n",
       "      <td>0.076407</td>\n",
       "      <td>0.069084</td>\n",
       "      <td>0.063187</td>\n",
       "    </tr>\n",
       "    <tr>\n",
       "      <th>8</th>\n",
       "      <td>nl-50</td>\n",
       "      <td>0.302331</td>\n",
       "      <td>0.204368</td>\n",
       "      <td>0.284477</td>\n",
       "      <td>0.262638</td>\n",
       "      <td>0.265018</td>\n",
       "    </tr>\n",
       "    <tr>\n",
       "      <th>9</th>\n",
       "      <td>res-m</td>\n",
       "      <td>0.544141</td>\n",
       "      <td>0.514694</td>\n",
       "      <td>0.485231</td>\n",
       "      <td>0.503338</td>\n",
       "      <td>0.499468</td>\n",
       "    </tr>\n",
       "  </tbody>\n",
       "</table>\n",
       "</div>"
      ],
      "text/plain": [
       "         index       gdp     first    second  population      host\n",
       "0          gdp  0.715014  0.467647  0.691549    0.542645  0.573387\n",
       "1        first  0.679708  0.821352  0.550101    0.699872  0.663789\n",
       "2       second  0.646074  0.357086  0.670269    0.436029  0.473940\n",
       "3   population  0.693514  0.664699  0.612710    0.833260  0.785243\n",
       "4         host  0.707086  0.614115  0.629403    0.771466  0.829593\n",
       "5  nightlights  0.189148  0.094344  0.178024    0.151712  0.161095\n",
       "6          pca  0.311397  0.339096  0.251604    0.388912  0.363358\n",
       "7           ae  0.071693  0.056554  0.076407    0.069084  0.063187\n",
       "8        nl-50  0.302331  0.204368  0.284477    0.262638  0.265018\n",
       "9        res-m  0.544141  0.514694  0.485231    0.503338  0.499468"
      ]
     },
     "execution_count": 50,
     "metadata": {},
     "output_type": "execute_result"
    }
   ],
   "source": [
    "res"
   ]
  },
  {
   "cell_type": "code",
   "execution_count": 37,
   "metadata": {},
   "outputs": [
    {
     "data": {
      "text/html": [
       "<div>\n",
       "<style scoped>\n",
       "    .dataframe tbody tr th:only-of-type {\n",
       "        vertical-align: middle;\n",
       "    }\n",
       "\n",
       "    .dataframe tbody tr th {\n",
       "        vertical-align: top;\n",
       "    }\n",
       "\n",
       "    .dataframe thead th {\n",
       "        text-align: right;\n",
       "    }\n",
       "</style>\n",
       "<table border=\"1\" class=\"dataframe\">\n",
       "  <thead>\n",
       "    <tr style=\"text-align: right;\">\n",
       "      <th></th>\n",
       "      <th>index</th>\n",
       "      <th>pearson</th>\n",
       "      <th>spearman</th>\n",
       "      <th>kendall</th>\n",
       "      <th>r2</th>\n",
       "      <th>adj_r2</th>\n",
       "      <th>rmse</th>\n",
       "      <th>mape</th>\n",
       "    </tr>\n",
       "  </thead>\n",
       "  <tbody>\n",
       "  </tbody>\n",
       "</table>\n",
       "</div>"
      ],
      "text/plain": [
       "Empty DataFrame\n",
       "Columns: [index, pearson, spearman, kendall, r2, adj_r2, rmse, mape]\n",
       "Index: []"
      ]
     },
     "execution_count": 37,
     "metadata": {},
     "output_type": "execute_result"
    }
   ],
   "source": [
    "pd.merge(log_gdp.reset_index(), log_host.reset_index())"
   ]
  },
  {
   "cell_type": "code",
   "execution_count": 31,
   "metadata": {},
   "outputs": [
    {
     "data": {
      "text/html": [
       "<div>\n",
       "<style scoped>\n",
       "    .dataframe tbody tr th:only-of-type {\n",
       "        vertical-align: middle;\n",
       "    }\n",
       "\n",
       "    .dataframe tbody tr th {\n",
       "        vertical-align: top;\n",
       "    }\n",
       "\n",
       "    .dataframe thead th {\n",
       "        text-align: right;\n",
       "    }\n",
       "</style>\n",
       "<table border=\"1\" class=\"dataframe\">\n",
       "  <thead>\n",
       "    <tr style=\"text-align: right;\">\n",
       "      <th></th>\n",
       "      <th>pearson</th>\n",
       "    </tr>\n",
       "  </thead>\n",
       "  <tbody>\n",
       "    <tr>\n",
       "      <th>gdp</th>\n",
       "      <td>0.573387</td>\n",
       "    </tr>\n",
       "    <tr>\n",
       "      <th>first</th>\n",
       "      <td>0.663789</td>\n",
       "    </tr>\n",
       "    <tr>\n",
       "      <th>second</th>\n",
       "      <td>0.473940</td>\n",
       "    </tr>\n",
       "    <tr>\n",
       "      <th>population</th>\n",
       "      <td>0.785243</td>\n",
       "    </tr>\n",
       "    <tr>\n",
       "      <th>host</th>\n",
       "      <td>0.829593</td>\n",
       "    </tr>\n",
       "    <tr>\n",
       "      <th>nightlights</th>\n",
       "      <td>0.161095</td>\n",
       "    </tr>\n",
       "    <tr>\n",
       "      <th>pca</th>\n",
       "      <td>0.363358</td>\n",
       "    </tr>\n",
       "    <tr>\n",
       "      <th>ae</th>\n",
       "      <td>0.063187</td>\n",
       "    </tr>\n",
       "    <tr>\n",
       "      <th>nl-50</th>\n",
       "      <td>0.265018</td>\n",
       "    </tr>\n",
       "    <tr>\n",
       "      <th>res-m</th>\n",
       "      <td>0.499468</td>\n",
       "    </tr>\n",
       "  </tbody>\n",
       "</table>\n",
       "</div>"
      ],
      "text/plain": [
       "              pearson\n",
       "gdp          0.573387\n",
       "first        0.663789\n",
       "second       0.473940\n",
       "population   0.785243\n",
       "host         0.829593\n",
       "nightlights  0.161095\n",
       "pca          0.363358\n",
       "ae           0.063187\n",
       "nl-50        0.265018\n",
       "res-m        0.499468"
      ]
     },
     "execution_count": 31,
     "metadata": {},
     "output_type": "execute_result"
    }
   ],
   "source": [
    "log_host[['pearson']]"
   ]
  },
  {
   "cell_type": "code",
   "execution_count": 33,
   "metadata": {},
   "outputs": [
    {
     "data": {
      "text/html": [
       "<div>\n",
       "<style scoped>\n",
       "    .dataframe tbody tr th:only-of-type {\n",
       "        vertical-align: middle;\n",
       "    }\n",
       "\n",
       "    .dataframe tbody tr th {\n",
       "        vertical-align: top;\n",
       "    }\n",
       "\n",
       "    .dataframe thead th {\n",
       "        text-align: right;\n",
       "    }\n",
       "</style>\n",
       "<table border=\"1\" class=\"dataframe\">\n",
       "  <thead>\n",
       "    <tr style=\"text-align: right;\">\n",
       "      <th></th>\n",
       "      <th>pearson</th>\n",
       "    </tr>\n",
       "  </thead>\n",
       "  <tbody>\n",
       "    <tr>\n",
       "      <th>gdp</th>\n",
       "      <td>0.542645</td>\n",
       "    </tr>\n",
       "    <tr>\n",
       "      <th>first</th>\n",
       "      <td>0.699872</td>\n",
       "    </tr>\n",
       "    <tr>\n",
       "      <th>second</th>\n",
       "      <td>0.436029</td>\n",
       "    </tr>\n",
       "    <tr>\n",
       "      <th>population</th>\n",
       "      <td>0.833260</td>\n",
       "    </tr>\n",
       "    <tr>\n",
       "      <th>host</th>\n",
       "      <td>0.771466</td>\n",
       "    </tr>\n",
       "    <tr>\n",
       "      <th>nightlights</th>\n",
       "      <td>0.151712</td>\n",
       "    </tr>\n",
       "    <tr>\n",
       "      <th>pca</th>\n",
       "      <td>0.388912</td>\n",
       "    </tr>\n",
       "    <tr>\n",
       "      <th>ae</th>\n",
       "      <td>0.069084</td>\n",
       "    </tr>\n",
       "    <tr>\n",
       "      <th>nl-50</th>\n",
       "      <td>0.262638</td>\n",
       "    </tr>\n",
       "    <tr>\n",
       "      <th>res-m</th>\n",
       "      <td>0.503338</td>\n",
       "    </tr>\n",
       "  </tbody>\n",
       "</table>\n",
       "</div>"
      ],
      "text/plain": [
       "              pearson\n",
       "gdp          0.542645\n",
       "first        0.699872\n",
       "second       0.436029\n",
       "population   0.833260\n",
       "host         0.771466\n",
       "nightlights  0.151712\n",
       "pca          0.388912\n",
       "ae           0.069084\n",
       "nl-50        0.262638\n",
       "res-m        0.503338"
      ]
     },
     "execution_count": 33,
     "metadata": {},
     "output_type": "execute_result"
    }
   ],
   "source": [
    "log_population[['pearson']]"
   ]
  },
  {
   "cell_type": "code",
   "execution_count": null,
   "metadata": {},
   "outputs": [],
   "source": [
    "log_host[['pearson']]"
   ]
  },
  {
   "cell_type": "code",
   "execution_count": null,
   "metadata": {},
   "outputs": [],
   "source": []
  },
  {
   "cell_type": "code",
   "execution_count": null,
   "metadata": {},
   "outputs": [],
   "source": []
  },
  {
   "cell_type": "code",
   "execution_count": 51,
   "metadata": {},
   "outputs": [
    {
     "ename": "NameError",
     "evalue": "name 'province' is not defined",
     "output_type": "error",
     "traceback": [
      "\u001b[0;31m---------------------------------------------------------------------------\u001b[0m",
      "\u001b[0;31mNameError\u001b[0m                                 Traceback (most recent call last)",
      "\u001b[0;32m<ipython-input-51-df186dc1cd41>\u001b[0m in \u001b[0;36m<module>\u001b[0;34m\u001b[0m\n\u001b[1;32m      1\u001b[0m \u001b[0mpart\u001b[0m \u001b[0;34m=\u001b[0m \u001b[0;34m'host'\u001b[0m\u001b[0;34m\u001b[0m\u001b[0;34m\u001b[0m\u001b[0m\n\u001b[1;32m      2\u001b[0m \u001b[0;34m\u001b[0m\u001b[0m\n\u001b[0;32m----> 3\u001b[0;31m \u001b[0mres\u001b[0m \u001b[0;34m=\u001b[0m \u001b[0mdf\u001b[0m\u001b[0;34m.\u001b[0m\u001b[0mgroupby\u001b[0m\u001b[0;34m(\u001b[0m\u001b[0;34m'PAC'\u001b[0m\u001b[0;34m)\u001b[0m\u001b[0;34m.\u001b[0m\u001b[0mmean\u001b[0m\u001b[0;34m(\u001b[0m\u001b[0;34m)\u001b[0m\u001b[0;34m.\u001b[0m\u001b[0mmerge\u001b[0m\u001b[0;34m(\u001b[0m\u001b[0mprovince\u001b[0m\u001b[0;34m,\u001b[0m \u001b[0mleft_on\u001b[0m\u001b[0;34m=\u001b[0m\u001b[0;34m'code_y'\u001b[0m\u001b[0;34m,\u001b[0m \u001b[0mright_on\u001b[0m\u001b[0;34m=\u001b[0m\u001b[0;34m'code'\u001b[0m\u001b[0;34m)\u001b[0m\u001b[0;34m.\u001b[0m\u001b[0mgroupby\u001b[0m\u001b[0;34m(\u001b[0m\u001b[0;34m'region'\u001b[0m\u001b[0;34m)\u001b[0m\u001b[0;34m[\u001b[0m\u001b[0;34m[\u001b[0m\u001b[0;34m'res-n'\u001b[0m\u001b[0;34m,\u001b[0m \u001b[0mpart\u001b[0m\u001b[0;34m]\u001b[0m\u001b[0;34m]\u001b[0m\u001b[0;34m.\u001b[0m\u001b[0mcorr\u001b[0m\u001b[0;34m(\u001b[0m\u001b[0;34m)\u001b[0m\u001b[0;34m\u001b[0m\u001b[0;34m\u001b[0m\u001b[0m\n\u001b[0m\u001b[1;32m      4\u001b[0m \u001b[0mprint\u001b[0m\u001b[0;34m(\u001b[0m\u001b[0;34m'data1='\u001b[0m\u001b[0;34m,\u001b[0m \u001b[0mres\u001b[0m\u001b[0;34m[\u001b[0m\u001b[0mres\u001b[0m\u001b[0;34m!=\u001b[0m\u001b[0;36m1\u001b[0m\u001b[0;34m]\u001b[0m\u001b[0;34m[\u001b[0m\u001b[0;34m[\u001b[0m\u001b[0mpart\u001b[0m\u001b[0;34m]\u001b[0m\u001b[0;34m]\u001b[0m\u001b[0;34m.\u001b[0m\u001b[0mreset_index\u001b[0m\u001b[0;34m(\u001b[0m\u001b[0mlevel\u001b[0m\u001b[0;34m=\u001b[0m\u001b[0;36m1\u001b[0m\u001b[0;34m)\u001b[0m\u001b[0;34m.\u001b[0m\u001b[0mdropna\u001b[0m\u001b[0;34m(\u001b[0m\u001b[0;34m)\u001b[0m\u001b[0;34m.\u001b[0m\u001b[0mto_dict\u001b[0m\u001b[0;34m(\u001b[0m\u001b[0;34m)\u001b[0m\u001b[0;34m[\u001b[0m\u001b[0mpart\u001b[0m\u001b[0;34m]\u001b[0m\u001b[0;34m)\u001b[0m\u001b[0;34m\u001b[0m\u001b[0;34m\u001b[0m\u001b[0m\n\u001b[1;32m      5\u001b[0m \u001b[0;34m\u001b[0m\u001b[0m\n",
      "\u001b[0;31mNameError\u001b[0m: name 'province' is not defined"
     ]
    }
   ],
   "source": [
    "part = 'host'\n",
    "\n",
    "res = df.groupby('PAC').mean().merge(province, left_on='code_y', right_on='code').groupby('region')[['res-n', part]].corr()\n",
    "print('data1=', res[res!=1][[part]].reset_index(level=1).dropna().to_dict()[part])\n",
    "\n",
    "print('y1=', df.groupby('PAC').mean()[['res-n', part]].corr().iloc[0,1])\n",
    "\n",
    "res = df.groupby('PAC').mean().merge(province, left_on='code_y', right_on='code').groupby('region')[['res-n', part]].corr('spearman')\n",
    "print('data2=', res[res!=1][[part]].reset_index(level=1).dropna().to_dict()[part])\n",
    "\n",
    "print('y2=', df.groupby('PAC').mean()[['res-n', part]].corr('spearman').iloc[0,1])"
   ]
  },
  {
   "cell_type": "code",
   "execution_count": null,
   "metadata": {},
   "outputs": [],
   "source": []
  }
 ],
 "metadata": {
  "kernelspec": {
   "display_name": "pytorch",
   "language": "python",
   "name": "pytorch"
  },
  "language_info": {
   "codemirror_mode": {
    "name": "ipython",
    "version": 3
   },
   "file_extension": ".py",
   "mimetype": "text/x-python",
   "name": "python",
   "nbconvert_exporter": "python",
   "pygments_lexer": "ipython3",
   "version": "3.6.13"
  }
 },
 "nbformat": 4,
 "nbformat_minor": 2
}
