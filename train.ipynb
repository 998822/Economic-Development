{
 "cells": [
  {
   "cell_type": "markdown",
   "metadata": {},
   "source": [
    "## IMPORT"
   ]
  },
  {
   "cell_type": "code",
   "execution_count": 2,
   "metadata": {},
   "outputs": [
    {
     "name": "stderr",
     "output_type": "stream",
     "text": [
      "/home/xiezhongming/anaconda3/envs/pytorch/lib/python3.6/site-packages/tqdm/auto.py:22: TqdmWarning: IProgress not found. Please update jupyter and ipywidgets. See https://ipywidgets.readthedocs.io/en/stable/user_install.html\n",
      "  from .autonotebook import tqdm as notebook_tqdm\n"
     ]
    }
   ],
   "source": [
    "import pandas as pd\n",
    "import numpy as np\n",
    "import timm\n",
    "from PIL import Image\n",
    "from tqdm import trange, tqdm\n",
    "from utils import create_space\n",
    "import geoio\n",
    "import convert as conv\n",
    "\n",
    "import torch\n",
    "import torch.nn as nn\n",
    "import torch.nn.parallel\n",
    "import torchvision.transforms as transforms\n",
    "from torch.utils.data import Dataset\n",
    "import torch.backends.cudnn as cudnn\n",
    "import torch.optim\n",
    "import torch.utils.data\n",
    "import torchvision.datasets as datasets\n",
    "import torchvision.models as models\n",
    "\n",
    "from score_satellite import *\n",
    "\n",
    "torch.manual_seed(31)\n",
    "torch.cuda.manual_seed_all(31)\n",
    "np.random.seed(31)\n",
    "torch.manual_seed(31)\n",
    "torch.cuda.manual_seed_all(31)\n",
    "random.seed(31)"
   ]
  },
  {
   "cell_type": "markdown",
   "metadata": {},
   "source": [
    "# 数据处理"
   ]
  },
  {
   "cell_type": "code",
   "execution_count": 4,
   "metadata": {},
   "outputs": [],
   "source": [
    "def add_nightlights(df, tif, tif_array):\n",
    "    ''' \n",
    "    按经纬度匹配，计算区域内夜光强度，取均值\n",
    "    This takes a dataframe with columns cluster_lat, cluster_lon and finds the average \n",
    "    nightlights in 2015 using a 10kmx10km box around the point\n",
    "    \n",
    "    I try all the nighlights tifs until a match is found, or none are left upon which an error is raised\n",
    "    '''\n",
    "    cluster_nightlights = []\n",
    "    for i,r in df.iterrows():\n",
    "        min_lat, min_lon, max_lat, max_lon = create_space(r.cluster_lat, r.cluster_lon,s=8)\n",
    "        \n",
    "        xminPixel, ymaxPixel = tif.proj_to_raster(min_lon, min_lat)\n",
    "        xmaxPixel, yminPixel = tif.proj_to_raster(max_lon, max_lat)\n",
    "        assert xminPixel < xmaxPixel, print(r.cluster_lat, r.cluster_lon)\n",
    "        assert yminPixel < ymaxPixel, print(r.cluster_lat, r.cluster_lon)\n",
    "        if xminPixel < 0 or xmaxPixel >= tif_array.shape[1]:\n",
    "            print(f\"no match for {r.cluster_lat}, {r.cluster_lon}\")\n",
    "            raise ValueError()\n",
    "        elif yminPixel < 0 or ymaxPixel >= tif_array.shape[0]:\n",
    "            print(f\"no match for {r.cluster_lat}, {r.cluster_lon}\")\n",
    "            raise ValueError()\n",
    "        xminPixel, yminPixel, xmaxPixel, ymaxPixel = int(xminPixel), int(yminPixel), int(xmaxPixel), int(ymaxPixel)\n",
    "        cluster_nightlights.append(tif_array[yminPixel:ymaxPixel,xminPixel:xmaxPixel].mean())\n",
    "        \n",
    "    df['nightlights'] = cluster_nightlights"
   ]
  },
  {
   "cell_type": "code",
   "execution_count": 6,
   "metadata": {},
   "outputs": [
    {
     "name": "stderr",
     "output_type": "stream",
     "text": [
      "/home/xiezhongming/anaconda3/envs/pytorch/lib/python3.6/site-packages/geoio/base.py:135: UserWarning: The input file location is not writable.  Derived file creation (i.e. spectral files) will not be available. Either write permissions need to be provided or the object can be reinstantiated with a writable location passed to the input variable dervied_store_dir.\n",
      "  warnings.warn(\"The input file location is not writable.  \"\n"
     ]
    },
    {
     "data": {
      "text/html": [
       "<div>\n",
       "<style scoped>\n",
       "    .dataframe tbody tr th:only-of-type {\n",
       "        vertical-align: middle;\n",
       "    }\n",
       "\n",
       "    .dataframe tbody tr th {\n",
       "        vertical-align: top;\n",
       "    }\n",
       "\n",
       "    .dataframe thead th {\n",
       "        text-align: right;\n",
       "    }\n",
       "</style>\n",
       "<table border=\"1\" class=\"dataframe\">\n",
       "  <thead>\n",
       "    <tr style=\"text-align: right;\">\n",
       "      <th></th>\n",
       "      <th>name</th>\n",
       "      <th>cluster_lat</th>\n",
       "      <th>cluster_lon</th>\n",
       "      <th>nightlights</th>\n",
       "    </tr>\n",
       "  </thead>\n",
       "  <tbody>\n",
       "    <tr>\n",
       "      <th>0</th>\n",
       "      <td>-48.779296875_-66.93006025862447.png</td>\n",
       "      <td>43.771094</td>\n",
       "      <td>90.966797</td>\n",
       "      <td>0.382294</td>\n",
       "    </tr>\n",
       "    <tr>\n",
       "      <th>1</th>\n",
       "      <td>-44.82421875_-75.97355295343337.png</td>\n",
       "      <td>40.847060</td>\n",
       "      <td>120.058594</td>\n",
       "      <td>0.477784</td>\n",
       "    </tr>\n",
       "    <tr>\n",
       "      <th>2</th>\n",
       "      <td>-44.82421875_-70.98834922412489.png</td>\n",
       "      <td>40.847060</td>\n",
       "      <td>102.304688</td>\n",
       "      <td>0.273093</td>\n",
       "    </tr>\n",
       "    <tr>\n",
       "      <th>3</th>\n",
       "      <td>-39.111328125_-65.4034447883078.png</td>\n",
       "      <td>36.385913</td>\n",
       "      <td>87.275391</td>\n",
       "      <td>0.385570</td>\n",
       "    </tr>\n",
       "    <tr>\n",
       "      <th>4</th>\n",
       "      <td>-50.80078125_-77.86034459764656.png</td>\n",
       "      <td>45.213004</td>\n",
       "      <td>128.320312</td>\n",
       "      <td>0.341066</td>\n",
       "    </tr>\n",
       "  </tbody>\n",
       "</table>\n",
       "</div>"
      ],
      "text/plain": [
       "                                   name  cluster_lat  cluster_lon  nightlights\n",
       "0  -48.779296875_-66.93006025862447.png    43.771094    90.966797     0.382294\n",
       "1   -44.82421875_-75.97355295343337.png    40.847060   120.058594     0.477784\n",
       "2   -44.82421875_-70.98834922412489.png    40.847060   102.304688     0.273093\n",
       "3   -39.111328125_-65.4034447883078.png    36.385913    87.275391     0.385570\n",
       "4   -50.80078125_-77.86034459764656.png    45.213004   128.320312     0.341066"
      ]
     },
     "metadata": {},
     "output_type": "display_data"
    }
   ],
   "source": [
    "# 读取图片\n",
    "images = os.listdir(data_path)\n",
    "images = [x for x in images if 'png' in x]\n",
    "data = pd.DataFrame()\n",
    "data['name'] = images\n",
    "data['cluster_lat'] = [conv.num2deg(conv.deg2num(float(x.strip('.png').split('_')[1]),float(x.strip('.png').split('_')[0]),12)[1],conv.deg2num(float(x.strip('.png').split('_')[1]),float(x.strip('.png').split('_')[0]),12)[0],12)[0] for x in images]\n",
    "data['cluster_lon'] = [conv.num2deg(conv.deg2num(float(x.strip('.png').split('_')[1]),float(x.strip('.png').split('_')[0]),12)[1],conv.deg2num(float(x.strip('.png').split('_')[1]),float(x.strip('.png').split('_')[0]),12)[0],12)[1] for x in images]\n",
    "# 读取夜光数据\n",
    "NIGHTLIGHTS_DIR = '/home/chenshangbin/SatelliteImage_RGZ/VNL_v2_npp_2020_global_vcmslcfg_c202101211500.average.tif'\n",
    "tif = geoio.GeoImage(NIGHTLIGHTS_DIR)\n",
    "tif_array = np.squeeze(tif.get_data())\n",
    "# 添加\n",
    "add_nightlights(data, tif, tif_array)\n",
    "display(data.head())\n",
    "\n",
    "data[['cluster_lon','cluster_lat']].to_csv('./position.csv',index=False,encoding='utf_8_sig')\n",
    "data.to_csv('./nightlights.csv',index=False)\n",
    "data.columns=['y_x','cluster_lat','cluster_lon','nightlights']"
   ]
  },
  {
   "cell_type": "code",
   "execution_count": 7,
   "metadata": {},
   "outputs": [
    {
     "name": "stdout",
     "output_type": "stream",
     "text": [
      "dropping: 120822\n"
     ]
    },
    {
     "data": {
      "text/plain": [
       "11130"
      ]
     },
     "execution_count": 7,
     "metadata": {},
     "output_type": "execute_result"
    }
   ],
   "source": [
    "# 降采样使之平衡\n",
    "def drop_in_range(df, lower=0, upper=2, fr=0.25):\n",
    "    \"\"\"\n",
    "        Very similar to drop_0s calculation, but more generalized. Lower and upper are inclusive.\n",
    "    \"\"\"\n",
    "    boolean_idx = ((lower <= df['nightlights']) & (df['nightlights'] <= upper))\n",
    "    c_under = boolean_idx.sum()\n",
    "    n = len(df)\n",
    "    assert c_under / n > fr, print(f'Dataframe already has under {fr} rows in the given range')\n",
    "    d = (c_under - n * fr) / (1 - fr)\n",
    "    d = int(d)\n",
    "    print(f'dropping: {d}')\n",
    "    select_df = df[boolean_idx]\n",
    "    drop_inds = random.sample(select_df.index.tolist(), d)\n",
    "    return df.drop(drop_inds).reset_index(drop=True)\n",
    "data_drop2 = drop_in_range(data, lower=0, upper=2, fr=0.6)\n",
    "len(data_drop2)"
   ]
  },
  {
   "cell_type": "code",
   "execution_count": 8,
   "metadata": {},
   "outputs": [
    {
     "data": {
      "text/plain": [
       "(0.5020440816879272, 80.57090759277344, 301.58966064453125)"
      ]
     },
     "execution_count": 8,
     "metadata": {},
     "output_type": "execute_result"
    }
   ],
   "source": [
    "# 划分三个等级\n",
    "from sklearn.mixture import GaussianMixture as GMM\n",
    "X = data_drop2['nightlights'].values.reshape(-1,1)\n",
    "gmm = GMM(n_components=3).fit(X)\n",
    "labels = gmm.predict(data_drop2['nightlights'].values.reshape(-1,1))\n",
    "\n",
    "label0_max = data_drop2['nightlights'][labels==0].max()\n",
    "label1_max = data_drop2['nightlights'][labels==1].max()\n",
    "label2_max = data_drop2['nightlights'][labels==2].max()\n",
    "label0_max, label1_max, label2_max"
   ]
  },
  {
   "cell_type": "code",
   "execution_count": 9,
   "metadata": {},
   "outputs": [],
   "source": [
    "label0_max, label1_max, label2_max = 1, 10, 302"
   ]
  },
  {
   "cell_type": "code",
   "execution_count": 10,
   "metadata": {},
   "outputs": [
    {
     "name": "stdout",
     "output_type": "stream",
     "text": [
      "0    0.580234\n",
      "1    0.346721\n",
      "2    0.073046\n",
      "Name: nightlights_bin, dtype: float64\n"
     ]
    },
    {
     "name": "stderr",
     "output_type": "stream",
     "text": [
      "/home/xiezhongming/anaconda3/envs/pytorch/lib/python3.6/site-packages/pandas/core/indexing.py:670: SettingWithCopyWarning: \n",
      "A value is trying to be set on a copy of a slice from a DataFrame\n",
      "\n",
      "See the caveats in the documentation: https://pandas.pydata.org/pandas-docs/stable/user_guide/indexing.html#returning-a-view-versus-a-copy\n",
      "  iloc._setitem_with_indexer(indexer, value)\n",
      "/home/xiezhongming/anaconda3/envs/pytorch/lib/python3.6/site-packages/pandas/core/indexing.py:670: SettingWithCopyWarning: \n",
      "A value is trying to be set on a copy of a slice from a DataFrame\n",
      "\n",
      "See the caveats in the documentation: https://pandas.pydata.org/pandas-docs/stable/user_guide/indexing.html#returning-a-view-versus-a-copy\n",
      "  iloc._setitem_with_indexer(indexer, value)\n",
      "/home/xiezhongming/anaconda3/envs/pytorch/lib/python3.6/site-packages/pandas/core/indexing.py:670: SettingWithCopyWarning: \n",
      "A value is trying to be set on a copy of a slice from a DataFrame\n",
      "\n",
      "See the caveats in the documentation: https://pandas.pydata.org/pandas-docs/stable/user_guide/indexing.html#returning-a-view-versus-a-copy\n",
      "  iloc._setitem_with_indexer(indexer, value)\n"
     ]
    }
   ],
   "source": [
    "def create_nightlights_bin(df, cutoffs):\n",
    "    assert len(cutoffs) >= 2, print('need at least 2 bins')\n",
    "    cutoffs = sorted(cutoffs, reverse=True)\n",
    "    labels = list(range(len(cutoffs)))[::-1]\n",
    "    df['nightlights_bin'] = len(cutoffs)\n",
    "    for cutoff, label in zip(cutoffs, labels):\n",
    "        df['nightlights_bin'].loc[df['nightlights'] <= cutoff] = label\n",
    "\n",
    "data_final = data_drop2.copy()\n",
    "create_nightlights_bin(data_final, cutoffs=[label0_max, label1_max, label2_max])\n",
    "print(data_final['nightlights_bin'].value_counts()/len(data_final))"
   ]
  },
  {
   "cell_type": "code",
   "execution_count": 11,
   "metadata": {},
   "outputs": [],
   "source": [
    "data_final.to_csv('./nightlights_labeled.csv', index = False)\n",
    "data_final[data_final['nightlights_bin'] == 0].iloc[:,[0,4]].to_csv('./nightlights_labeled0.csv', index = False)\n",
    "data_final[data_final['nightlights_bin'] == 1].iloc[:,[0,4]].to_csv('./nightlights_labeled1.csv', index = False)\n",
    "data_final[data_final['nightlights_bin'] == 2].iloc[:,[0,4]].to_csv('./nightlights_labeled2.csv', index = False)"
   ]
  },
  {
   "cell_type": "markdown",
   "metadata": {},
   "source": [
    "# 微调"
   ]
  },
  {
   "cell_type": "code",
   "execution_count": 13,
   "metadata": {},
   "outputs": [],
   "source": [
    "model = timm.models.resnet18(pretrained=True)\n",
    "model.fc = nn.Linear(512, 1)\n",
    "\n",
    "nature_csv = './nightlights_labeled0.csv'\n",
    "rural_csv = './nightlights_labeled1.csv'\n",
    "city_csv = './nightlights_labeled2.csv'\n",
    "ckpt_nature = finetune(nature_csv, 'nature', data_path, model, hidden, num_epoch=10, bz=8)\n"
   ]
  },
  {
   "cell_type": "code",
   "execution_count": 28,
   "metadata": {
    "collapsed": true
   },
   "outputs": [
    {
     "name": "stderr",
     "output_type": "stream",
     "text": [
      "100%|██████████| 51/51 [00:04<00:00, 11.08it/s]\n"
     ]
    },
    {
     "name": "stdout",
     "output_type": "stream",
     "text": [
      "k-means loss evolution: [269.95010376 170.42271423 154.23361206 147.87632751 146.07366943\n",
      " 145.19363403 144.4311676  143.70246887 143.18788147 142.90963745\n",
      " 142.68092346 142.51338196 142.45046997 142.39775085 142.38806152\n",
      " 142.38806152 142.38806152 142.38806152 142.38806152 142.38806152]\n",
      "tensor([1, 6, 5, 4, 5, 5, 6, 7, 5, 4, 3, 2, 7, 0, 7, 5, 6, 1, 0, 0, 0, 6, 1, 6,\n",
      "        4, 7, 5, 4, 5, 1, 1, 0, 2, 0, 4, 2, 2, 2, 5, 6, 2, 0, 2, 5, 0, 5, 1, 2,\n",
      "        7, 0, 7, 3, 0, 3, 6, 0, 0, 2, 2, 4, 6, 7, 0, 2, 0, 3, 2, 0, 6, 7, 4, 1,\n",
      "        1, 1, 6, 4, 2, 6, 5, 0, 1, 3, 2, 5, 5, 2, 6, 4, 2, 3, 0, 1, 3, 5, 0, 2,\n",
      "        4, 1, 4, 1, 3, 6, 1, 3, 4, 7, 3, 1, 4, 4, 3, 1, 7, 0, 4, 1, 6, 1, 0, 2,\n",
      "        2, 6, 6, 4, 7, 2, 0, 1, 7, 7, 3, 2, 6, 6, 0, 5, 7, 2, 6, 7, 1, 1, 7, 7,\n",
      "        7, 6, 6, 0, 2, 6, 1, 2, 6, 4, 3, 7, 1, 7, 5, 6, 0, 3, 4, 0, 7, 1, 2, 4,\n",
      "        2, 4, 0, 5, 5, 2, 5, 0, 1, 5, 1, 1, 6, 4, 6, 5, 2, 3, 7, 1, 0, 3, 3, 1,\n",
      "        5, 1, 0, 2, 6, 0, 2, 7, 1, 0, 7, 6, 0, 6, 3, 5, 6, 4, 3, 7, 0, 0, 6, 7,\n",
      "        6, 5, 5, 0, 4, 2, 2, 2, 4, 1, 5, 6, 7, 3, 6, 7, 7, 3, 7, 2, 7, 6, 0, 2,\n",
      "        3, 7, 0, 3, 0, 2, 3, 4, 6, 4, 4, 6, 4, 6, 3, 2, 1, 7, 6, 2, 6, 2, 4, 5,\n",
      "        6, 0, 4, 5, 7, 7, 4, 2, 2, 1, 1, 6, 0, 0, 6, 4, 2, 0, 4, 0, 6, 5, 6, 1,\n",
      "        0, 0, 3, 2, 2, 6, 5, 4, 1, 2, 0, 1, 2, 1, 1, 1, 4, 7, 2, 0, 3, 5, 6, 5,\n",
      "        4, 0, 2, 6, 7, 7, 1, 1, 2, 5, 1, 6, 4, 5, 4, 3, 2, 6, 5, 5, 7, 0, 1, 6,\n",
      "        6, 1, 1, 0, 0, 0, 4, 4, 5, 6, 2, 5, 4, 7, 1, 5, 6, 4, 3, 7, 1, 0, 4, 1,\n",
      "        3, 6, 3, 6, 3, 4, 7, 5, 1, 5, 3, 7, 4, 6, 1, 3, 2, 4, 4, 3, 7, 6, 1, 1,\n",
      "        0, 4, 5, 3, 7, 6, 2, 0, 6, 6, 0, 2, 0, 0, 4, 0, 6, 1, 4, 5, 2, 1, 6, 6,\n",
      "        0, 6, 6, 6, 0, 1, 7, 3, 7, 0, 7, 7, 1, 6, 0, 6, 0, 7, 2, 1, 6, 2, 4, 2,\n",
      "        5, 6, 5, 7, 3, 2, 7, 2, 4, 0, 2, 1, 5, 0, 4, 1, 4, 6, 2, 3, 5, 7, 4, 2,\n",
      "        3, 1, 1, 1, 1, 3, 7, 1, 7, 0, 1, 1, 1, 5, 0, 6, 1, 2, 1, 3, 5, 1, 5, 3,\n",
      "        3, 0, 6, 2, 4, 1, 5, 6, 3, 2, 1, 6, 2, 1, 6, 7, 2, 6, 7, 2, 0, 2, 7, 1,\n",
      "        4, 6, 1, 5, 6, 0, 0, 3, 1, 6, 0, 6, 7, 4, 0, 4, 7, 1, 2, 0, 5, 2, 0, 4,\n",
      "        5, 1, 6, 3, 5, 6, 7, 5, 0, 7, 7, 7, 4, 6, 0, 7, 7, 7, 0, 3, 3, 2, 1, 1,\n",
      "        7, 2, 6, 7, 6, 5, 4, 6, 6, 2, 5, 2, 6, 2, 4, 7, 2, 6, 6, 0, 3, 0, 2, 3,\n",
      "        7, 4, 3, 6, 2, 2, 1, 3, 7, 5, 1, 2, 5, 3, 0, 1, 0, 1, 1, 2, 5, 0, 6, 7,\n",
      "        1, 3, 4, 5, 7, 0, 1, 5, 2, 0, 5, 6, 7, 0, 2, 4, 3, 1, 1, 1, 2, 5, 5, 2,\n",
      "        2, 2, 7, 3, 1, 5, 3, 7, 1, 7, 6, 2, 0, 2, 2, 0, 1, 0, 2, 3, 6, 3, 7, 2,\n",
      "        5, 6, 2, 6, 3, 0, 5, 6, 3, 1, 5, 0, 0, 1, 6, 7, 2, 2, 0, 3, 3, 3, 0, 2,\n",
      "        1, 6, 3, 0, 2, 0, 6, 5, 2, 3, 0, 0, 4, 1, 7, 3, 0, 6, 7, 2, 1, 2, 7, 1,\n",
      "        4, 6, 3, 6, 1, 6, 7, 2, 2, 0, 1, 2, 0, 5, 7, 0, 7, 5, 6, 7, 6, 2, 5, 0,\n",
      "        5, 6, 6, 5, 3, 2, 2, 0, 0, 7, 5, 3, 1, 4, 0, 1, 0, 0, 2, 1, 3, 1, 1, 1,\n",
      "        5, 0, 1, 7, 7, 5, 7, 1, 2, 2, 6, 7, 4, 7, 6, 4, 0, 2, 6, 1, 6, 6, 6, 7,\n",
      "        1, 5, 2, 3, 7, 1, 1, 6, 6, 1, 2, 3, 2, 4, 5, 7, 5, 1, 7, 3, 6, 3, 4, 2,\n",
      "        2, 6, 5, 0, 2, 2, 2, 4, 6, 5, 5, 4, 7, 7, 2, 3, 0, 1, 1, 2, 7],\n",
      "       device='cuda:0')\n",
      "k-means time: 1 s\n",
      "(813, 1280) (813, 175)\n",
      "Epoch : 0\n"
     ]
    },
    {
     "name": "stderr",
     "output_type": "stream",
     "text": [
      "[BATCH_IDX : 40 LOSS : 5.6753387451171875 CE_LOSS 1.9650843143463135 AUG_LOSS : 3.710254669189453: 100%|██████████| 50/50 [00:08<00:00,  5.69it/s]\n"
     ]
    },
    {
     "name": "stdout",
     "output_type": "stream",
     "text": [
      "Epoch : 1\n"
     ]
    },
    {
     "name": "stderr",
     "output_type": "stream",
     "text": [
      "[BATCH_IDX : 40 LOSS : 6.290657997131348 CE_LOSS 1.8333112001419067 AUG_LOSS : 4.4573469161987305: 100%|██████████| 50/50 [00:08<00:00,  5.79it/s]\n"
     ]
    },
    {
     "name": "stdout",
     "output_type": "stream",
     "text": [
      "Epoch : 2\n"
     ]
    },
    {
     "name": "stderr",
     "output_type": "stream",
     "text": [
      "[BATCH_IDX : 40 LOSS : 5.875636100769043 CE_LOSS 1.9494022130966187 AUG_LOSS : 3.9262337684631348: 100%|██████████| 50/50 [00:08<00:00,  5.78it/s]\n"
     ]
    },
    {
     "name": "stdout",
     "output_type": "stream",
     "text": [
      "Epoch : 3\n"
     ]
    },
    {
     "name": "stderr",
     "output_type": "stream",
     "text": [
      "[BATCH_IDX : 40 LOSS : 6.126987457275391 CE_LOSS 1.8650805950164795 AUG_LOSS : 4.26190710067749: 100%|██████████| 50/50 [00:08<00:00,  5.86it/s] \n"
     ]
    },
    {
     "name": "stdout",
     "output_type": "stream",
     "text": [
      "Epoch : 4\n"
     ]
    },
    {
     "name": "stderr",
     "output_type": "stream",
     "text": [
      "[BATCH_IDX : 40 LOSS : 5.780439376831055 CE_LOSS 1.3799078464508057 AUG_LOSS : 4.40053129196167: 100%|██████████| 50/50 [00:08<00:00,  5.79it/s] \n"
     ]
    },
    {
     "name": "stdout",
     "output_type": "stream",
     "text": [
      "Epoch : 5\n"
     ]
    },
    {
     "name": "stderr",
     "output_type": "stream",
     "text": [
      "[BATCH_IDX : 40 LOSS : 5.981578826904297 CE_LOSS 1.4553724527359009 AUG_LOSS : 4.5262064933776855: 100%|██████████| 50/50 [00:08<00:00,  5.71it/s]\n"
     ]
    },
    {
     "name": "stdout",
     "output_type": "stream",
     "text": [
      "Epoch : 6\n"
     ]
    },
    {
     "name": "stderr",
     "output_type": "stream",
     "text": [
      "[BATCH_IDX : 40 LOSS : 6.461679935455322 CE_LOSS 1.4686241149902344 AUG_LOSS : 4.993055820465088: 100%|██████████| 50/50 [00:08<00:00,  5.76it/s]\n"
     ]
    },
    {
     "name": "stdout",
     "output_type": "stream",
     "text": [
      "Epoch : 7\n"
     ]
    },
    {
     "name": "stderr",
     "output_type": "stream",
     "text": [
      "[BATCH_IDX : 40 LOSS : 4.917314529418945 CE_LOSS 1.3138279914855957 AUG_LOSS : 3.6034862995147705: 100%|██████████| 50/50 [00:08<00:00,  5.76it/s]\n"
     ]
    },
    {
     "name": "stdout",
     "output_type": "stream",
     "text": [
      "Epoch : 8\n"
     ]
    },
    {
     "name": "stderr",
     "output_type": "stream",
     "text": [
      "[BATCH_IDX : 40 LOSS : 6.292108535766602 CE_LOSS 1.3651721477508545 AUG_LOSS : 4.926936626434326: 100%|██████████| 50/50 [00:08<00:00,  5.82it/s]\n"
     ]
    },
    {
     "name": "stdout",
     "output_type": "stream",
     "text": [
      "Epoch : 9\n"
     ]
    },
    {
     "name": "stderr",
     "output_type": "stream",
     "text": [
      "[BATCH_IDX : 40 LOSS : 4.321183204650879 CE_LOSS 1.274330496788025 AUG_LOSS : 3.0468528270721436: 100%|██████████| 50/50 [00:08<00:00,  5.75it/s] \n"
     ]
    }
   ],
   "source": [
    "ckpt_city = finetune(city_csv, 'city', data_path, model, hidden, num_epoch=10)"
   ]
  },
  {
   "cell_type": "code",
   "execution_count": null,
   "metadata": {
    "collapsed": true
   },
   "outputs": [
    {
     "name": "stderr",
     "output_type": "stream",
     "text": [
      "100%|██████████| 242/242 [00:21<00:00, 11.23it/s]\n"
     ]
    },
    {
     "name": "stdout",
     "output_type": "stream",
     "text": [
      "k-means loss evolution: [950.95263672 579.44433594 557.51623535 554.2220459  553.41162109\n",
      " 553.06768799 552.86029053 552.73168945 552.64178467 552.57086182\n",
      " 552.54632568 552.53277588 552.50952148 552.48162842 552.46447754\n",
      " 552.44732666 552.42730713 552.40118408 552.39770508 552.39770508]\n",
      "tensor([7, 4, 4,  ..., 3, 0, 3], device='cuda:0')\n",
      "k-means time: 3 s\n",
      "(3859, 1280) (3859, 138)\n",
      "Epoch : 0\n"
     ]
    },
    {
     "name": "stderr",
     "output_type": "stream",
     "text": [
      "[BATCH_IDX : 240 LOSS : 6.5894775390625 CE_LOSS 1.6722487211227417 AUG_LOSS : 4.917228698730469: 100%|██████████| 241/241 [00:42<00:00,  5.73it/s]  \n"
     ]
    },
    {
     "name": "stdout",
     "output_type": "stream",
     "text": [
      "Epoch : 1\n"
     ]
    },
    {
     "name": "stderr",
     "output_type": "stream",
     "text": [
      "[BATCH_IDX : 240 LOSS : 6.773061275482178 CE_LOSS 1.397537112236023 AUG_LOSS : 5.375524044036865: 100%|██████████| 241/241 [00:41<00:00,  5.85it/s]  \n"
     ]
    },
    {
     "name": "stdout",
     "output_type": "stream",
     "text": [
      "Epoch : 2\n"
     ]
    },
    {
     "name": "stderr",
     "output_type": "stream",
     "text": [
      "[BATCH_IDX : 240 LOSS : 5.365902900695801 CE_LOSS 1.06307053565979 AUG_LOSS : 4.302832126617432: 100%|██████████| 241/241 [00:41<00:00,  5.82it/s]  \n"
     ]
    },
    {
     "name": "stdout",
     "output_type": "stream",
     "text": [
      "Epoch : 3\n"
     ]
    },
    {
     "name": "stderr",
     "output_type": "stream",
     "text": [
      "[BATCH_IDX : 240 LOSS : 5.995803356170654 CE_LOSS 1.206323504447937 AUG_LOSS : 4.789479732513428: 100%|██████████| 241/241 [00:40<00:00,  5.98it/s]  \n"
     ]
    },
    {
     "name": "stdout",
     "output_type": "stream",
     "text": [
      "Epoch : 4\n"
     ]
    },
    {
     "name": "stderr",
     "output_type": "stream",
     "text": [
      "[BATCH_IDX : 240 LOSS : 6.216527938842773 CE_LOSS 0.8052971959114075 AUG_LOSS : 5.411230564117432: 100%|██████████| 241/241 [00:41<00:00,  5.82it/s]  \n"
     ]
    },
    {
     "name": "stdout",
     "output_type": "stream",
     "text": [
      "Epoch : 5\n"
     ]
    },
    {
     "name": "stderr",
     "output_type": "stream",
     "text": [
      "[BATCH_IDX : 240 LOSS : 4.3796916007995605 CE_LOSS 0.9812684655189514 AUG_LOSS : 3.398422956466675: 100%|██████████| 241/241 [00:41<00:00,  5.82it/s]\n"
     ]
    },
    {
     "name": "stdout",
     "output_type": "stream",
     "text": [
      "Epoch : 6\n"
     ]
    },
    {
     "name": "stderr",
     "output_type": "stream",
     "text": [
      "[BATCH_IDX : 240 LOSS : 5.700704574584961 CE_LOSS 0.8370754718780518 AUG_LOSS : 4.86362886428833: 100%|██████████| 241/241 [00:40<00:00,  5.89it/s]  \n"
     ]
    },
    {
     "name": "stdout",
     "output_type": "stream",
     "text": [
      "Epoch : 7\n"
     ]
    },
    {
     "name": "stderr",
     "output_type": "stream",
     "text": [
      "[BATCH_IDX : 240 LOSS : 5.3678131103515625 CE_LOSS 1.1099352836608887 AUG_LOSS : 4.257877826690674: 100%|██████████| 241/241 [00:40<00:00,  5.92it/s] \n"
     ]
    },
    {
     "name": "stdout",
     "output_type": "stream",
     "text": [
      "Epoch : 8\n"
     ]
    },
    {
     "name": "stderr",
     "output_type": "stream",
     "text": [
      "[BATCH_IDX : 240 LOSS : 5.485835075378418 CE_LOSS 1.5133774280548096 AUG_LOSS : 3.9724578857421875: 100%|██████████| 241/241 [00:40<00:00,  5.88it/s] \n"
     ]
    },
    {
     "name": "stdout",
     "output_type": "stream",
     "text": [
      "Epoch : 9\n"
     ]
    },
    {
     "name": "stderr",
     "output_type": "stream",
     "text": [
      "[BATCH_IDX : 0 LOSS : 5.719106674194336 CE_LOSS 0.7997424602508545 AUG_LOSS : 4.919363975524902:   7%|▋         | 16/241 [00:03<01:01,  3.65it/s]"
     ]
    }
   ],
   "source": [
    "ckpt_rural = finetune(rural_csv, 'rural', data_path, model, hidden, num_epoch=10)"
   ]
  },
  {
   "cell_type": "markdown",
   "metadata": {},
   "source": [
    "# 聚类"
   ]
  },
  {
   "cell_type": "code",
   "execution_count": 15,
   "metadata": {
    "scrolled": true
   },
   "outputs": [
    {
     "name": "stderr",
     "output_type": "stream",
     "text": [
      "100%|██████████| 82/82 [00:04<00:00, 16.88it/s]\n"
     ]
    },
    {
     "name": "stdout",
     "output_type": "stream",
     "text": [
      "k-means loss evolution: [692.06567383 359.04537964 317.99319458 297.82156372 278.7286377\n",
      " 257.70681763 241.53445435 232.88967896 227.38075256 224.72581482\n",
      " 223.29537964 222.41459656 221.55838013 221.34605408 221.31034851\n",
      " 221.27575684 221.25610352 221.24967957 221.24967957 221.24967957]\n",
      "tensor([4, 1, 1, 2, 3, 3, 1, 0, 3, 4, 1, 3, 2, 2, 0, 1, 4, 4, 0, 2, 2, 4, 4, 3,\n",
      "        0, 0, 1, 4, 1, 4, 4, 2, 2, 2, 4, 2, 3, 2, 1, 1, 2, 0, 2, 3, 2, 3, 1, 2,\n",
      "        0, 2, 0, 3, 1, 2, 4, 0, 0, 0, 2, 4, 1, 0, 2, 1, 0, 0, 2, 2, 4, 0, 4, 4,\n",
      "        4, 4, 1, 0, 1, 4, 1, 2, 4, 3, 2, 1, 3, 2, 1, 0, 1, 3, 2, 4, 0, 3, 2, 2,\n",
      "        4, 1, 0, 4, 0, 1, 1, 0, 0, 2, 1, 4, 0, 4, 3, 4, 0, 2, 4, 4, 4, 3, 2, 3,\n",
      "        2, 1, 1, 0, 0, 2, 2, 1, 0, 0, 3, 2, 1, 1, 2, 3, 0, 2, 4, 2, 4, 4, 2, 0,\n",
      "        0, 1, 1, 0, 0, 1, 4, 2, 1, 0, 3, 0, 4, 0, 3, 1, 2, 3, 1, 3, 0, 2, 2, 0,\n",
      "        0, 3, 2, 3, 1, 2, 3, 2, 4, 1, 4, 4, 4, 4, 1, 3, 2, 0, 0, 1, 2, 0, 3, 4,\n",
      "        2, 4, 0, 2, 1, 2, 2, 0, 4, 2, 0, 4, 2, 4, 3, 3, 3, 0, 3, 0, 2, 2, 1, 0,\n",
      "        4, 0, 1, 2, 4, 2, 2, 1, 0, 4, 3, 1, 2, 3, 1, 0, 0, 3, 2, 2, 0, 1, 2, 3,\n",
      "        0, 0, 0, 3, 2, 1, 0, 0, 4, 0, 4, 1, 4, 1, 3, 2, 0, 0, 1, 2, 1, 1, 2, 2,\n",
      "        1, 2, 0, 3, 0, 0, 4, 3, 2, 4, 0, 1, 2, 2, 4, 4, 2, 2, 0, 2, 1, 2, 1, 4,\n",
      "        3, 2, 0, 2, 1, 1, 3, 4, 4, 2, 0, 4, 2, 4, 4, 4, 4, 0, 2, 1, 3, 1, 1, 3,\n",
      "        4, 2, 2, 1, 2, 2, 4, 1, 3, 2, 4, 1, 2, 3, 4, 3, 2, 1, 2, 2, 0, 3, 4, 4,\n",
      "        4, 4, 4, 0, 2, 2, 4, 0, 1, 4, 2, 1, 4, 2, 1, 1, 1, 2, 3, 2, 4, 2, 4, 4,\n",
      "        1, 1, 3, 1, 3, 4, 0, 1, 4, 1, 3, 0, 4, 1, 4, 3, 2, 0, 4, 0, 0, 1, 3, 4,\n",
      "        2, 4, 3, 0, 0, 1, 3, 3, 1, 1, 2, 2, 2, 3, 4, 2, 4, 4, 0, 3, 2, 1, 1, 1,\n",
      "        2, 1, 4, 1, 2, 4, 0, 0, 0, 2, 0, 0, 4, 1, 2, 1, 2, 0, 2, 4, 1, 0, 4, 2,\n",
      "        2, 4, 3, 0, 3, 1, 0, 1, 0, 2, 2, 4, 3, 0, 0, 4, 4, 1, 2, 1, 1, 2, 4, 2,\n",
      "        0, 4, 4, 1, 4, 2, 0, 1, 0, 3, 4, 4, 1, 3, 2, 1, 4, 2, 4, 3, 2, 1, 3, 2,\n",
      "        2, 2, 1, 2, 4, 4, 3, 1, 0, 2, 4, 1, 2, 1, 1, 0, 2, 1, 0, 2, 2, 3, 3, 4,\n",
      "        4, 4, 4, 3, 3, 0, 0, 3, 1, 4, 2, 1, 2, 0, 2, 0, 0, 4, 0, 2, 3, 3, 2, 0,\n",
      "        3, 4, 1, 3, 3, 1, 2, 1, 2, 0, 0, 0, 4, 1, 2, 0, 0, 0, 2, 3, 3, 3, 4, 4,\n",
      "        2, 2, 1, 0, 4, 3, 4, 1, 4, 2, 3, 2, 4, 2, 4, 0, 0, 1, 4, 2, 0, 2, 1, 3,\n",
      "        0, 4, 0, 4, 2, 2, 4, 1, 2, 3, 2, 3, 3, 3, 2, 4, 2, 4, 4, 3, 3, 2, 4, 0,\n",
      "        4, 3, 0, 1, 0, 2, 4, 1, 1, 2, 3, 1, 0, 2, 1, 4, 0, 4, 3, 4, 2, 3, 3, 2,\n",
      "        3, 2, 2, 3, 4, 2, 3, 0, 4, 0, 4, 2, 2, 2, 2, 2, 4, 2, 3, 3, 4, 3, 0, 1,\n",
      "        1, 1, 3, 3, 0, 0, 3, 1, 3, 4, 3, 2, 0, 4, 1, 0, 2, 2, 2, 3, 3, 1, 2, 2,\n",
      "        2, 1, 2, 2, 2, 2, 1, 3, 2, 3, 2, 2, 0, 4, 2, 0, 2, 3, 0, 2, 4, 2, 2, 0,\n",
      "        0, 1, 0, 3, 4, 4, 0, 2, 1, 2, 1, 2, 0, 3, 0, 2, 2, 3, 1, 0, 4, 1, 1, 2,\n",
      "        3, 4, 1, 1, 0, 2, 1, 2, 0, 0, 1, 0, 4, 0, 2, 4, 2, 0, 2, 4, 1, 1, 4, 4,\n",
      "        3, 2, 4, 0, 0, 2, 0, 4, 2, 0, 1, 0, 0, 3, 1, 0, 2, 2, 4, 4, 4, 4, 4, 0,\n",
      "        4, 3, 2, 3, 0, 4, 1, 1, 1, 4, 2, 0, 2, 1, 3, 0, 3, 3, 0, 3, 4, 3, 0, 3,\n",
      "        2, 1, 3, 0, 1, 2, 1, 4, 1, 3, 2, 0, 0, 2, 2, 3, 2, 4, 4, 2, 0],\n",
      "       device='cuda:0')\n",
      "k-means time: 1 s\n"
     ]
    },
    {
     "name": "stderr",
     "output_type": "stream",
     "text": [
      "100%|██████████| 386/386 [00:23<00:00, 16.55it/s]\n"
     ]
    },
    {
     "name": "stdout",
     "output_type": "stream",
     "text": [
      "k-means loss evolution: [2330.05395508 1065.93664551  953.18487549  929.06390381  922.53259277\n",
      "  919.55456543  917.35046387  916.22247314  915.64428711  915.26043701\n",
      "  915.11816406  914.97332764  914.8503418   914.80249023  914.77252197\n",
      "  914.71911621  914.6887207   914.65869141  914.63250732  914.60552979]\n",
      "tensor([4, 4, 4,  ..., 3, 0, 3], device='cuda:0')\n",
      "k-means time: 4 s\n"
     ]
    },
    {
     "name": "stderr",
     "output_type": "stream",
     "text": [
      "100%|██████████| 646/646 [00:39<00:00, 16.49it/s]\n"
     ]
    },
    {
     "name": "stdout",
     "output_type": "stream",
     "text": [
      "k-means loss evolution: [2963.38085938 1798.71105957 1621.92468262 1483.58398438 1406.71118164\n",
      " 1379.66967773 1369.79431152 1365.26037598 1362.39208984 1360.36425781\n",
      " 1358.91516113 1357.88366699 1356.96801758 1356.27319336 1355.82788086\n",
      " 1355.34423828 1355.0090332  1354.79931641 1354.62561035 1354.421875  ]\n",
      "tensor([0, 2, 4,  ..., 2, 0, 4], device='cuda:0')\n",
      "k-means time: 3 s\n"
     ]
    },
    {
     "data": {
      "text/plain": [
       "cluster_id\n",
       "0     1068\n",
       "1     1133\n",
       "2     1615\n",
       "3     1576\n",
       "4     1066\n",
       "5      942\n",
       "6      588\n",
       "7      655\n",
       "8      859\n",
       "9      815\n",
       "10     162\n",
       "11     149\n",
       "12     210\n",
       "13     126\n",
       "14     166\n",
       "Name: y_x, dtype: int64"
      ]
     },
     "execution_count": 15,
     "metadata": {},
     "output_type": "execute_result"
    }
   ],
   "source": [
    "ckpt_rural = 'finetune/rural.pt'\n",
    "ckpt_city = 'finetune/city.pt'\n",
    "ckpt_nature = 'finetune/nature.pt'\n",
    "\n",
    "hidden = 512\n",
    "\n",
    "city_cluster = extract_cluster(ckpt_city, city_csv, data_path, batch_size=10, hidden=hidden, classes_num=5, offset=10)\n",
    "rural_cluster = extract_cluster(ckpt_rural, rural_csv, data_path, batch_size=10, hidden=hidden, classes_num=5, offset=5)\n",
    "nature_cluster = extract_cluster(ckpt_nature, nature_csv, data_path, batch_size=10, hidden=hidden, classes_num=5, offset=0)\n",
    "# 聚类情况\n",
    "total_cluster = city_cluster + rural_cluster + nature_cluster\n",
    "df = pd.DataFrame(total_cluster,columns=['y_x','cluster_id'])\n",
    "df.groupby('cluster_id')['y_x'].count()"
   ]
  },
  {
   "cell_type": "code",
   "execution_count": 16,
   "metadata": {},
   "outputs": [],
   "source": [
    "total_cluster = city_cluster + rural_cluster + nature_cluster\n",
    "cnum = len(df.groupby('cluster_id')['y_x'].count())\n",
    "cluster_dir = './data/'\n",
    "if not os.path.exists(cluster_dir):\n",
    "    os.makedirs(cluster_dir, exist_ok=True)\n",
    "for i in range(0, cnum + 1):\n",
    "    os.makedirs(cluster_dir + str(i), exist_ok=True)\n",
    "\n",
    "# 聚类情况写入文件\n",
    "for i in range(0, cnum + 1):\n",
    "    path=os.path.join(cluster_dir, str(i), 'cluster.csv')\n",
    "    df[df['cluster_id']==i].to_csv(path, index = False)\n",
    "df.to_csv('./unified.csv', index = False)"
   ]
  },
  {
   "cell_type": "markdown",
   "metadata": {},
   "source": [
    "# 训练"
   ]
  },
  {
   "cell_type": "code",
   "execution_count": 4,
   "metadata": {},
   "outputs": [],
   "source": [
    "class ClusterDataset(Dataset):\n",
    "    def __init__(self, cluster_list, data_path, transform=None):\n",
    "        self.file_list = []\n",
    "        self.transform = transform      \n",
    "        for cluster_num in cluster_list:\n",
    "            file=list(pd.read_csv(\"./data/{}/cluster.csv\".format(str(cluster_num)))['y_x'].values)\n",
    "            self.file_list.extend(file)\n",
    "\n",
    "    def __len__(self):\n",
    "        return len(self.file_list)\n",
    "\n",
    "    def __getitem__(self, idx):\n",
    "        image = Image.open(\"./data12/train/data_zl12/{}\".format(data_path, self.file_list[idx])).convert('RGB')\n",
    "        if self.transform:\n",
    "            image = self.transform(image).squeeze()\n",
    "        return image\n",
    "\n",
    "def se_graph_config(ordered_list, name):\n",
    "    f = open(name, 'w')\n",
    "        \n",
    "    for i in range(len(ordered_list) - 1):\n",
    "        f.write('{}<{}\\n'.format(ordered_list[i+1][0], ordered_list[i][0]))\n",
    "    \n",
    "    for orders in ordered_list:\n",
    "        if len(orders) >= 2:\n",
    "            f.write(str(orders[0]))\n",
    "            for element in orders[1:]:\n",
    "                f.write('={}'.format(element))\n",
    "            f.write('\\n')        \n",
    "    f.close()        \n",
    "def graph_inference_nightlight(grid_df, nightlight_df, cluster_num, file_path):\n",
    "    def numeric_compare(x, y):\n",
    "        pop_list1 = df_merge_group.get_group(x)['nightlights'].tolist()\n",
    "        pop_list2 = df_merge_group.get_group(y)['nightlights'].tolist()\n",
    "        tTestResult = stats.ttest_ind(pop_list1, pop_list2)\n",
    "        if (tTestResult.pvalue < 0.01) and (np.mean(pop_list1) < np.mean(pop_list2)):\n",
    "            return 1\n",
    "        elif (tTestResult.pvalue < 0.01) and (np.mean(pop_list1) >= np.mean(pop_list2)):\n",
    "            return -1\n",
    "        else:\n",
    "            return 0\n",
    "        \n",
    "    df_merge = pd.merge(nightlight_df, grid_df, how='left', on='y_x')\n",
    "    df_merge = df_merge.dropna()\n",
    "    df_merge_group = df_merge.groupby('cluster_id')\n",
    "    \n",
    "    sorted_list = sorted(range(cluster_num - 1), key=cmp_to_key(numeric_compare))\n",
    "    ordered_list = []\n",
    "    ordered_list.append([sorted_list[0]])\n",
    "    curr = 0\n",
    "    for i in range(len(sorted_list) - 1):\n",
    "        if numeric_compare(sorted_list[i], sorted_list[i+1]) == 0:\n",
    "            ordered_list[curr].append(sorted_list[i+1])\n",
    "        else:\n",
    "            curr += 1\n",
    "            ordered_list.append([sorted_list[i+1]])\n",
    "            \n",
    "    ordered_list.append([cluster_num - 1])        \n",
    "    se_graph_config(ordered_list, file_path)\n",
    "    return ordered_list"
   ]
  },
  {
   "cell_type": "code",
   "execution_count": 5,
   "metadata": {},
   "outputs": [],
   "source": [
    "batch_size = 2\n",
    "cluster_number = 14\n",
    "grid_df = pd.read_csv('./unified.csv')\n",
    "nightlight_df = pd.read_csv('./nightlights_labeled.csv')\n",
    "graph_config = graph_inference_nightlight(grid_df, nightlight_df, cluster_number, './CNconfig')   \n",
    "loader_list = generate_loader_dict(range(cluster_number), batch_size)\n",
    "cluster_path_list=[]\n",
    "for item in itertools.product(*graph_config):\n",
    "    a=list(item)[::-1]\n",
    "    cluster_path_list.append(a)"
   ]
  },
  {
   "cell_type": "code",
   "execution_count": null,
   "metadata": {
    "collapsed": true
   },
   "outputs": [],
   "source": [
    "device = torch.device(\"cuda:0\" if torch.cuda.is_available() else \"cpu\")\n",
    "# 加载自监督预训练权重\n",
    "model.cuda()\n",
    "model.to(device)"
   ]
  },
  {
   "cell_type": "code",
   "execution_count": 12,
   "metadata": {},
   "outputs": [],
   "source": [
    "def train(epoch, model, optimizer, loader_list, cluster_path_list, device,batch_sz):\n",
    "    model.train()\n",
    "    train_loss = AverageMeter()\n",
    "    reg_loss = AverageMeter()\n",
    "    # For each cluster route\n",
    "    path_idx = 0\n",
    "    avg_loss = 0\n",
    "    count = 0\n",
    "    for cluster_path in cluster_path_list:\n",
    "        path_idx += 1\n",
    "        dataloaders = []\n",
    "        for cluster_id in cluster_path:\n",
    "            dataloaders.append(loader_list[cluster_id])\n",
    "        pbar = tqdm(enumerate(zip(*dataloaders)), total=15*len(dataloaders))\n",
    "        for batch_idx, data in pbar:\n",
    "            cluster_num = len(data)\n",
    "            data_zip = torch.cat(data, 0).to(device)\n",
    "            # Generating Score\n",
    "            scores = model(data_zip).squeeze()\n",
    "            score_list = torch.split(scores, batch_sz, dim = 0)\n",
    "            # Standard deviation as a loss\n",
    "            loss_var = torch.zeros(1).to(device)\n",
    "            for score in score_list:\n",
    "                loss_var += score.var()\n",
    "            loss_var /= len(score_list)\n",
    "            # Differentiable Ranking with sigmoid function\n",
    "            rank_matrix = torch.zeros((batch_sz, cluster_num, cluster_num)).to(device)\n",
    "            for itertuple in list(itertools.permutations(range(cluster_num), 2)):\n",
    "                score1 = score_list[itertuple[0]]\n",
    "                score2 = score_list[itertuple[1]]\n",
    "                diff = 30 * (score2 - score1)\n",
    "                results = torch.sigmoid(diff)\n",
    "                rank_matrix[:, itertuple[0], itertuple[1]] = results\n",
    "                rank_matrix[:, itertuple[1], itertuple[0]] = 1 - results\n",
    "            rank_predicts = rank_matrix.sum(1)\n",
    "            temp = torch.Tensor(range(cluster_num))\n",
    "            target_rank = temp.unsqueeze(0).repeat(batch_sz, 1).to(device)\n",
    "            # Equivalent to spearman rank correlation loss\n",
    "            loss_train = ((rank_predicts - target_rank)**2).mean()\n",
    "            loss = loss_train + loss_var * 6\n",
    "            optimizer.zero_grad()\n",
    "            loss.backward()\n",
    "            optimizer.step()\n",
    "            train_loss.update(loss_train.item(), batch_sz)\n",
    "            reg_loss.update(loss_var.item(), batch_sz)\n",
    "            avg_loss += loss.item()\n",
    "            count += 1\n",
    "            # Print status\n",
    "            if batch_idx % 10 == 0:\n",
    "                pbar.set_description('Epoch: [{epoch}][{path_idx}][{elps_iters}] '\n",
    "                      'Train loss: {train_loss.val:.4f} ({train_loss.avg:.4f}) '\n",
    "                      'Reg loss: {reg_loss.val:.4f} ({reg_loss.avg:.4f})'.format(\n",
    "                          epoch=epoch, path_idx=path_idx, elps_iters=batch_idx, train_loss=train_loss, reg_loss=reg_loss))\n",
    "    return avg_loss / count"
   ]
  },
  {
   "cell_type": "code",
   "execution_count": 14,
   "metadata": {
    "collapsed": true
   },
   "outputs": [
    {
     "name": "stderr",
     "output_type": "stream",
     "text": [
      "Epoch: [0][1][60] Train loss: 3.8935 (6.1770) Reg loss: 0.0817 (0.0840):  42%|████▏     | 63/150 [00:16<00:22,  3.86it/s] \n",
      "Epoch: [0][2][60] Train loss: 3.1924 (5.0421) Reg loss: 0.0604 (0.0838):  42%|████▏     | 63/150 [00:16<00:22,  3.88it/s]\n",
      "Epoch: [0][3][60] Train loss: 1.2501 (4.4108) Reg loss: 0.0523 (0.0787):  42%|████▏     | 63/150 [00:16<00:22,  3.87it/s]\n",
      "Epoch: [0][4][60] Train loss: 3.4789 (4.0344) Reg loss: 0.0525 (0.0757):  42%|████▏     | 63/150 [00:16<00:23,  3.77it/s]\n",
      "Epoch: [0][5][60] Train loss: 0.8108 (3.6821) Reg loss: 0.0852 (0.0710):  42%|████▏     | 63/150 [00:16<00:22,  3.85it/s]\n",
      "Epoch: [0][6][60] Train loss: 2.6006 (3.4577) Reg loss: 0.0362 (0.0686):  42%|████▏     | 63/150 [00:16<00:22,  3.86it/s]\n",
      "Epoch: [0][7][60] Train loss: 1.2754 (3.3439) Reg loss: 0.0410 (0.0679):  42%|████▏     | 63/150 [00:16<00:22,  3.86it/s]\n",
      "Epoch: [0][8][60] Train loss: 1.4825 (3.1748) Reg loss: 0.0304 (0.0677):  42%|████▏     | 63/150 [00:16<00:22,  3.84it/s]\n",
      "Epoch: [0][9][60] Train loss: 1.9167 (3.0073) Reg loss: 0.0907 (0.0655):  42%|████▏     | 63/150 [00:16<00:22,  3.81it/s]\n",
      "Epoch: [0][10][60] Train loss: 0.5013 (2.8608) Reg loss: 0.0338 (0.0635):  42%|████▏     | 63/150 [00:16<00:22,  3.89it/s]\n",
      "Epoch: [0][11][60] Train loss: 0.6760 (2.7078) Reg loss: 0.0292 (0.0611):  42%|████▏     | 63/150 [00:16<00:22,  3.88it/s]\n",
      "Epoch: [0][12][60] Train loss: 3.8076 (2.5903) Reg loss: 0.0900 (0.0590):  42%|████▏     | 63/150 [00:16<00:22,  3.92it/s]\n",
      "Epoch: [1][1][60] Train loss: 4.5337 (2.0133) Reg loss: 0.0667 (0.0416):  42%|████▏     | 63/150 [00:16<00:22,  3.88it/s]\n",
      "Epoch: [1][2][60] Train loss: 0.9713 (1.7409) Reg loss: 0.0512 (0.0357):  42%|████▏     | 63/150 [00:16<00:22,  3.79it/s]\n",
      "Epoch: [1][3][60] Train loss: 2.4705 (1.6369) Reg loss: 0.0320 (0.0332):  42%|████▏     | 63/150 [00:16<00:22,  3.88it/s]\n",
      "Epoch: [1][4][60] Train loss: 1.0981 (1.5841) Reg loss: 0.0462 (0.0324):  42%|████▏     | 63/150 [00:16<00:22,  3.85it/s]\n",
      "Epoch: [1][5][60] Train loss: 1.0185 (1.4875) Reg loss: 0.0195 (0.0308):  42%|████▏     | 63/150 [00:16<00:22,  3.85it/s]\n",
      "Epoch: [1][6][60] Train loss: 1.3908 (1.4135) Reg loss: 0.0140 (0.0300):  42%|████▏     | 63/150 [00:16<00:22,  3.89it/s]\n",
      "Epoch: [1][7][60] Train loss: 1.9377 (1.4082) Reg loss: 0.0225 (0.0297):  42%|████▏     | 63/150 [00:16<00:22,  3.80it/s]\n",
      "Epoch: [1][8][60] Train loss: 1.0171 (1.3452) Reg loss: 0.0199 (0.0292):  42%|████▏     | 63/150 [00:16<00:22,  3.80it/s]\n",
      "Epoch: [1][9][60] Train loss: 0.4470 (1.2898) Reg loss: 0.0107 (0.0286):  42%|████▏     | 63/150 [00:16<00:22,  3.84it/s]\n",
      "Epoch: [1][10][60] Train loss: 1.2221 (1.2651) Reg loss: 0.0330 (0.0278):  42%|████▏     | 63/150 [00:16<00:22,  3.92it/s]\n",
      "Epoch: [1][11][60] Train loss: 1.2250 (1.2090) Reg loss: 0.0112 (0.0268):  42%|████▏     | 63/150 [00:16<00:22,  3.89it/s]\n",
      "Epoch: [1][12][60] Train loss: 1.0286 (1.1626) Reg loss: 0.0274 (0.0261):  42%|████▏     | 63/150 [00:16<00:22,  3.83it/s]\n",
      "Epoch: [2][1][60] Train loss: 2.7850 (1.4240) Reg loss: 0.0410 (0.0245):  42%|████▏     | 63/150 [00:16<00:22,  3.79it/s]\n",
      "Epoch: [2][2][60] Train loss: 0.4512 (1.1773) Reg loss: 0.0196 (0.0209):  42%|████▏     | 63/150 [00:16<00:23,  3.77it/s]\n",
      "Epoch: [2][3][60] Train loss: 1.1363 (1.0861) Reg loss: 0.0177 (0.0196):  42%|████▏     | 63/150 [00:16<00:22,  3.83it/s]\n",
      "Epoch: [2][4][60] Train loss: 1.2063 (1.0543) Reg loss: 0.0290 (0.0197):  42%|████▏     | 63/150 [00:16<00:22,  3.88it/s]\n",
      "Epoch: [2][5][60] Train loss: 0.5696 (1.0109) Reg loss: 0.0315 (0.0191):  42%|████▏     | 63/150 [00:16<00:22,  3.84it/s]\n",
      "Epoch: [2][6][60] Train loss: 1.0849 (0.9735) Reg loss: 0.0209 (0.0186):  42%|████▏     | 63/150 [00:16<00:22,  3.90it/s]\n",
      "Epoch: [2][7][60] Train loss: 2.6469 (0.9696) Reg loss: 0.0314 (0.0187):  42%|████▏     | 63/150 [00:16<00:23,  3.72it/s]\n",
      "Epoch: [2][8][60] Train loss: 0.1699 (0.9418) Reg loss: 0.0068 (0.0183):  42%|████▏     | 63/150 [00:16<00:22,  3.88it/s]\n",
      "Epoch: [2][9][60] Train loss: 0.9843 (0.9227) Reg loss: 0.0088 (0.0182):  42%|████▏     | 63/150 [00:16<00:22,  3.86it/s]\n",
      "Epoch: [2][10][60] Train loss: 0.5909 (0.9107) Reg loss: 0.0290 (0.0179):  42%|████▏     | 63/150 [00:16<00:22,  3.91it/s]\n",
      "Epoch: [2][11][60] Train loss: 0.4631 (0.8829) Reg loss: 0.0078 (0.0174):  42%|████▏     | 63/150 [00:16<00:22,  3.87it/s]\n",
      "Epoch: [2][12][60] Train loss: 0.7144 (0.8450) Reg loss: 0.0137 (0.0170):  42%|████▏     | 63/150 [00:16<00:22,  3.85it/s]\n",
      "Epoch: [3][1][60] Train loss: 0.2687 (0.9320) Reg loss: 0.0043 (0.0164):  42%|████▏     | 63/150 [00:16<00:23,  3.77it/s]\n",
      "Epoch: [3][2][60] Train loss: 2.0022 (0.8339) Reg loss: 0.0114 (0.0146):  42%|████▏     | 63/150 [00:16<00:22,  3.89it/s]\n",
      "Epoch: [3][3][60] Train loss: 0.8183 (0.8239) Reg loss: 0.0070 (0.0141):  42%|████▏     | 63/150 [00:16<00:22,  3.90it/s]\n",
      "Epoch: [3][4][60] Train loss: 0.5467 (0.8120) Reg loss: 0.0124 (0.0139):  42%|████▏     | 63/150 [00:16<00:22,  3.90it/s]\n",
      "Epoch: [3][5][60] Train loss: 0.6119 (0.7624) Reg loss: 0.0114 (0.0131):  42%|████▏     | 63/150 [00:16<00:22,  3.84it/s]\n",
      "Epoch: [3][6][60] Train loss: 0.1156 (0.7249) Reg loss: 0.0020 (0.0127):  42%|████▏     | 63/150 [00:16<00:23,  3.74it/s]\n",
      "Epoch: [3][7][60] Train loss: 0.3235 (0.7257) Reg loss: 0.0153 (0.0128):  42%|████▏     | 63/150 [00:16<00:22,  3.89it/s]\n",
      "Epoch: [3][8][60] Train loss: 0.2322 (0.7006) Reg loss: 0.0089 (0.0124):  42%|████▏     | 63/150 [00:16<00:22,  3.89it/s]\n",
      "Epoch: [3][9][60] Train loss: 0.1134 (0.6713) Reg loss: 0.0107 (0.0123):  42%|████▏     | 63/150 [00:16<00:22,  3.90it/s]\n",
      "Epoch: [3][10][60] Train loss: 0.6146 (0.6554) Reg loss: 0.0137 (0.0121):  42%|████▏     | 63/150 [00:16<00:22,  3.90it/s]\n",
      "Epoch: [3][11][60] Train loss: 0.2166 (0.6358) Reg loss: 0.0103 (0.0118):  42%|████▏     | 63/150 [00:16<00:22,  3.81it/s]\n",
      "Epoch: [3][12][60] Train loss: 0.5078 (0.6136) Reg loss: 0.0164 (0.0115):  42%|████▏     | 63/150 [00:16<00:22,  3.84it/s]\n",
      "Epoch: [4][1][60] Train loss: 0.3474 (0.7296) Reg loss: 0.0072 (0.0108):  42%|████▏     | 63/150 [00:16<00:22,  3.90it/s]\n",
      "Epoch: [4][2][60] Train loss: 0.0942 (0.6067) Reg loss: 0.0038 (0.0098):  42%|████▏     | 63/150 [00:16<00:22,  3.88it/s]\n",
      "Epoch: [4][3][60] Train loss: 0.6929 (0.5522) Reg loss: 0.0047 (0.0098):  42%|████▏     | 63/150 [00:16<00:22,  3.84it/s]\n",
      "Epoch: [4][4][60] Train loss: 1.0673 (0.5596) Reg loss: 0.0116 (0.0097):  42%|████▏     | 63/150 [00:16<00:22,  3.92it/s]\n",
      "Epoch: [4][5][60] Train loss: 1.4764 (0.5421) Reg loss: 0.0349 (0.0095):  42%|████▏     | 63/150 [00:16<00:23,  3.73it/s]\n",
      "Epoch: [4][6][60] Train loss: 0.1749 (0.5186) Reg loss: 0.0085 (0.0093):  42%|████▏     | 63/150 [00:16<00:22,  3.86it/s]\n",
      "Epoch: [4][7][60] Train loss: 0.4492 (0.5214) Reg loss: 0.0117 (0.0093):  42%|████▏     | 63/150 [00:16<00:22,  3.91it/s]\n",
      "Epoch: [4][8][60] Train loss: 0.5631 (0.5032) Reg loss: 0.0131 (0.0091):  42%|████▏     | 63/150 [00:16<00:22,  3.90it/s]\n",
      "Epoch: [4][9][60] Train loss: 0.1726 (0.5067) Reg loss: 0.0038 (0.0094):  42%|████▏     | 63/150 [00:16<00:22,  3.83it/s]\n",
      "Epoch: [4][10][60] Train loss: 0.6541 (0.4968) Reg loss: 0.0089 (0.0093):  42%|████▏     | 63/150 [00:16<00:22,  3.83it/s]\n",
      "Epoch: [4][11][60] Train loss: 0.1343 (0.4887) Reg loss: 0.0051 (0.0091):  42%|████▏     | 63/150 [00:16<00:22,  3.84it/s]\n",
      "Epoch: [4][12][60] Train loss: 0.1342 (0.4676) Reg loss: 0.0063 (0.0089):  42%|████▏     | 63/150 [00:16<00:22,  3.85it/s]\n",
      "Epoch: [5][1][60] Train loss: 1.3082 (0.6438) Reg loss: 0.0260 (0.0124):  42%|████▏     | 63/150 [00:16<00:22,  3.91it/s]\n",
      "Epoch: [5][2][60] Train loss: 0.2960 (0.5156) Reg loss: 0.0068 (0.0102):  42%|████▏     | 63/150 [00:16<00:22,  3.89it/s]\n",
      "Epoch: [5][3][60] Train loss: 0.3960 (0.4878) Reg loss: 0.0029 (0.0098):  42%|████▏     | 63/150 [00:15<00:22,  3.95it/s]\n",
      "Epoch: [5][4][60] Train loss: 0.4096 (0.4811) Reg loss: 0.0087 (0.0094):  42%|████▏     | 63/150 [00:16<00:22,  3.79it/s]\n",
      "Epoch: [5][5][60] Train loss: 0.1418 (0.4552) Reg loss: 0.0023 (0.0089):  42%|████▏     | 63/150 [00:16<00:22,  3.80it/s]\n",
      "Epoch: [5][6][60] Train loss: 0.2676 (0.4345) Reg loss: 0.0061 (0.0087):  42%|████▏     | 63/150 [00:16<00:22,  3.92it/s]\n",
      "Epoch: [5][7][60] Train loss: 0.2634 (0.4323) Reg loss: 0.0045 (0.0085):  42%|████▏     | 63/150 [00:16<00:22,  3.85it/s]\n",
      "Epoch: [5][8][60] Train loss: 0.1285 (0.4166) Reg loss: 0.0070 (0.0082):  42%|████▏     | 63/150 [00:16<00:22,  3.86it/s]\n",
      "Epoch: [5][9][60] Train loss: 0.1990 (0.3945) Reg loss: 0.0137 (0.0080):  42%|████▏     | 63/150 [00:16<00:22,  3.93it/s]\n",
      "Epoch: [5][10][60] Train loss: 0.2550 (0.3849) Reg loss: 0.0041 (0.0078):  42%|████▏     | 63/150 [00:16<00:23,  3.75it/s]\n",
      "Epoch: [5][11][60] Train loss: 0.1632 (0.3738) Reg loss: 0.0036 (0.0076):  42%|████▏     | 63/150 [00:16<00:22,  3.90it/s]\n",
      "Epoch: [5][12][60] Train loss: 0.1602 (0.3570) Reg loss: 0.0057 (0.0074):  42%|████▏     | 63/150 [00:16<00:22,  3.93it/s]\n"
     ]
    },
    {
     "name": "stdout",
     "output_type": "stream",
     "text": [
      "best loss: 0.4010\n",
      "\n"
     ]
    },
    {
     "name": "stderr",
     "output_type": "stream",
     "text": [
      "Epoch: [6][1][60] Train loss: 0.1340 (0.3439) Reg loss: 0.0038 (0.0071):  42%|████▏     | 63/150 [00:16<00:22,  3.85it/s]\n",
      "Epoch: [6][2][60] Train loss: 0.6072 (0.3277) Reg loss: 0.0104 (0.0062):  42%|████▏     | 63/150 [00:16<00:22,  3.90it/s]\n",
      "Epoch: [6][3][60] Train loss: 0.2428 (0.3167) Reg loss: 0.0029 (0.0064):  42%|████▏     | 63/150 [00:16<00:22,  3.87it/s]\n",
      "Epoch: [6][4][60] Train loss: 0.0130 (0.3137) Reg loss: 0.0035 (0.0062):  42%|████▏     | 63/150 [00:16<00:23,  3.77it/s]\n",
      "Epoch: [6][5][60] Train loss: 0.1138 (0.3071) Reg loss: 0.0125 (0.0062):  42%|████▏     | 63/150 [00:16<00:22,  3.89it/s]\n",
      "Epoch: [6][6][60] Train loss: 0.8333 (0.2895) Reg loss: 0.0200 (0.0062):  42%|████▏     | 63/150 [00:16<00:22,  3.93it/s]\n",
      "Epoch: [6][7][60] Train loss: 0.6305 (0.2952) Reg loss: 0.0062 (0.0062):  42%|████▏     | 63/150 [00:16<00:22,  3.86it/s]\n",
      "Epoch: [6][8][60] Train loss: 0.5792 (0.2972) Reg loss: 0.0181 (0.0063):  42%|████▏     | 63/150 [00:16<00:22,  3.90it/s]\n",
      "Epoch: [6][9][60] Train loss: 0.4151 (0.2944) Reg loss: 0.0088 (0.0062):  42%|████▏     | 63/150 [00:16<00:23,  3.72it/s]\n",
      "Epoch: [6][10][60] Train loss: 0.0216 (0.2970) Reg loss: 0.0016 (0.0062):  42%|████▏     | 63/150 [00:16<00:22,  3.81it/s]\n",
      "Epoch: [6][11][60] Train loss: 0.0596 (0.2877) Reg loss: 0.0025 (0.0060):  42%|████▏     | 63/150 [00:16<00:22,  3.80it/s]\n",
      "Epoch: [6][12][60] Train loss: 0.0853 (0.2793) Reg loss: 0.0013 (0.0060):  42%|████▏     | 63/150 [00:16<00:22,  3.88it/s]\n",
      "Epoch: [7][1][60] Train loss: 0.1058 (0.3636) Reg loss: 0.0050 (0.0068):  42%|████▏     | 63/150 [00:16<00:22,  3.88it/s]\n",
      "Epoch: [7][2][60] Train loss: 0.1151 (0.3073) Reg loss: 0.0084 (0.0061):  42%|████▏     | 63/150 [00:16<00:22,  3.86it/s]\n",
      "Epoch: [7][3][60] Train loss: 0.0315 (0.2869) Reg loss: 0.0041 (0.0058):  42%|████▏     | 63/150 [00:16<00:23,  3.75it/s]\n",
      "Epoch: [7][4][60] Train loss: 0.0298 (0.2745) Reg loss: 0.0051 (0.0058):  42%|████▏     | 63/150 [00:16<00:22,  3.87it/s]\n",
      "Epoch: [7][5][60] Train loss: 0.1629 (0.2617) Reg loss: 0.0035 (0.0056):  42%|████▏     | 63/150 [00:16<00:22,  3.91it/s]\n",
      "Epoch: [7][6][60] Train loss: 0.1076 (0.2502) Reg loss: 0.0070 (0.0055):  42%|████▏     | 63/150 [00:16<00:22,  3.85it/s]\n",
      "Epoch: [7][7][60] Train loss: 0.2849 (0.2528) Reg loss: 0.0032 (0.0055):  42%|████▏     | 63/150 [00:16<00:22,  3.87it/s]\n",
      "Epoch: [7][8][60] Train loss: 0.3875 (0.2496) Reg loss: 0.0022 (0.0053):  42%|████▏     | 63/150 [00:16<00:23,  3.72it/s]\n",
      "Epoch: [7][9][60] Train loss: 0.1388 (0.2450) Reg loss: 0.0032 (0.0053):  42%|████▏     | 63/150 [00:16<00:22,  3.81it/s]\n",
      "Epoch: [7][10][60] Train loss: 0.3153 (0.2399) Reg loss: 0.0038 (0.0052):  42%|████▏     | 63/150 [00:17<00:23,  3.70it/s]\n",
      "Epoch: [7][11][60] Train loss: 0.1551 (0.2355) Reg loss: 0.0025 (0.0051):  42%|████▏     | 63/150 [00:16<00:23,  3.77it/s]\n",
      "Epoch: [7][12][60] Train loss: 0.2162 (0.2266) Reg loss: 0.0051 (0.0050):  42%|████▏     | 63/150 [00:18<00:24,  3.49it/s]\n",
      "Epoch: [8][1][60] Train loss: 0.3166 (0.2425) Reg loss: 0.0055 (0.0058):  42%|████▏     | 63/150 [00:18<00:25,  3.47it/s]\n",
      "Epoch: [8][2][60] Train loss: 0.0574 (0.2144) Reg loss: 0.0013 (0.0051):  42%|████▏     | 63/150 [00:17<00:24,  3.57it/s]\n",
      "Epoch: [8][3][60] Train loss: 0.1085 (0.2071) Reg loss: 0.0024 (0.0050):  42%|████▏     | 63/150 [00:16<00:23,  3.72it/s]\n",
      "Epoch: [8][4][60] Train loss: 0.1380 (0.1948) Reg loss: 0.0055 (0.0048):  42%|████▏     | 63/150 [00:16<00:22,  3.89it/s]\n",
      "Epoch: [8][5][60] Train loss: 0.0119 (0.1881) Reg loss: 0.0021 (0.0047):  42%|████▏     | 63/150 [00:16<00:22,  3.83it/s]\n",
      "Epoch: [8][6][60] Train loss: 0.0612 (0.1842) Reg loss: 0.0055 (0.0047):  42%|████▏     | 63/150 [00:16<00:22,  3.88it/s]\n",
      "Epoch: [8][7][60] Train loss: 0.2717 (0.1856) Reg loss: 0.0047 (0.0047):  42%|████▏     | 63/150 [00:16<00:23,  3.78it/s]\n",
      "Epoch: [8][8][60] Train loss: 0.0256 (0.1840) Reg loss: 0.0059 (0.0047):  42%|████▏     | 63/150 [00:16<00:22,  3.86it/s]\n",
      "Epoch: [8][9][60] Train loss: 0.1241 (0.1804) Reg loss: 0.0020 (0.0046):  42%|████▏     | 63/150 [00:16<00:22,  3.86it/s]\n",
      "Epoch: [8][10][60] Train loss: 0.3625 (0.1794) Reg loss: 0.0043 (0.0046):  42%|████▏     | 63/150 [00:16<00:22,  3.89it/s]\n",
      "Epoch: [8][11][60] Train loss: 0.0090 (0.1761) Reg loss: 0.0016 (0.0045):  42%|████▏     | 63/150 [00:16<00:22,  3.83it/s]\n",
      "Epoch: [8][12][60] Train loss: 0.0912 (0.1703) Reg loss: 0.0050 (0.0044):  42%|████▏     | 63/150 [00:17<00:23,  3.66it/s]\n",
      "Epoch: [9][1][60] Train loss: 0.0430 (0.2154) Reg loss: 0.0021 (0.0050):  42%|████▏     | 63/150 [00:16<00:22,  3.84it/s]\n",
      "Epoch: [9][2][60] Train loss: 0.1283 (0.1836) Reg loss: 0.0031 (0.0049):  42%|████▏     | 63/150 [00:25<00:34,  2.51it/s]\n",
      "Epoch: [9][3][60] Train loss: 0.1894 (0.1718) Reg loss: 0.0028 (0.0047):  42%|████▏     | 63/150 [00:35<00:49,  1.77it/s]\n",
      "Epoch: [9][4][60] Train loss: 0.0787 (0.1742) Reg loss: 0.0019 (0.0047):  42%|████▏     | 63/150 [00:16<00:22,  3.88it/s]\n",
      "Epoch: [9][5][60] Train loss: 0.0202 (0.1652) Reg loss: 0.0066 (0.0045):  42%|████▏     | 63/150 [00:16<00:23,  3.77it/s]\n",
      "Epoch: [9][6][60] Train loss: 0.1169 (0.1610) Reg loss: 0.0034 (0.0045):  42%|████▏     | 63/150 [00:16<00:22,  3.86it/s]\n",
      "Epoch: [9][7][60] Train loss: 0.0634 (0.1618) Reg loss: 0.0021 (0.0045):  42%|████▏     | 63/150 [00:16<00:22,  3.87it/s]\n",
      "Epoch: [9][8][60] Train loss: 0.0741 (0.1595) Reg loss: 0.0025 (0.0044):  42%|████▏     | 63/150 [00:16<00:22,  3.79it/s]\n",
      "Epoch: [9][9][60] Train loss: 0.1365 (0.1544) Reg loss: 0.0048 (0.0043):  42%|████▏     | 63/150 [00:16<00:22,  3.94it/s]\n",
      "Epoch: [9][10][60] Train loss: 0.1501 (0.1533) Reg loss: 0.0070 (0.0043):  42%|████▏     | 63/150 [00:16<00:22,  3.92it/s]\n",
      "Epoch: [9][11][60] Train loss: 0.0457 (0.1495) Reg loss: 0.0038 (0.0043):  42%|████▏     | 63/150 [00:16<00:23,  3.75it/s]\n",
      "Epoch: [9][12][60] Train loss: 0.1308 (0.1484) Reg loss: 0.0045 (0.0044):  42%|████▏     | 63/150 [00:16<00:22,  3.87it/s]\n",
      "Epoch: [10][1][60] Train loss: 0.0815 (0.1847) Reg loss: 0.0048 (0.0051):  42%|████▏     | 63/150 [00:16<00:22,  3.88it/s]\n",
      "Epoch: [10][2][60] Train loss: 0.1393 (0.1719) Reg loss: 0.0054 (0.0049):  42%|████▏     | 63/150 [00:16<00:22,  3.92it/s]\n",
      "Epoch: [10][3][60] Train loss: 0.1563 (0.1648) Reg loss: 0.0021 (0.0047):  42%|████▏     | 63/150 [00:44<01:01,  1.41it/s]\n",
      "Epoch: [10][4][60] Train loss: 0.1849 (0.1608) Reg loss: 0.0022 (0.0047):  42%|████▏     | 63/150 [00:16<00:23,  3.74it/s]\n",
      "Epoch: [10][5][60] Train loss: 0.2770 (0.1508) Reg loss: 0.0033 (0.0045):  42%|████▏     | 63/150 [00:16<00:22,  3.89it/s]\n",
      "Epoch: [10][6][60] Train loss: 0.0136 (0.1427) Reg loss: 0.0030 (0.0044):  42%|████▏     | 63/150 [00:16<00:22,  3.91it/s]\n",
      "Epoch: [10][7][60] Train loss: 0.0399 (0.1421) Reg loss: 0.0063 (0.0044):  42%|████▏     | 63/150 [00:16<00:22,  3.86it/s]\n",
      "Epoch: [10][8][60] Train loss: 0.1127 (0.1386) Reg loss: 0.0042 (0.0043):  42%|████▏     | 63/150 [00:16<00:22,  3.85it/s]\n",
      "Epoch: [10][9][60] Train loss: 0.1560 (0.1342) Reg loss: 0.0046 (0.0042):  42%|████▏     | 63/150 [00:16<00:22,  3.85it/s]\n",
      "Epoch: [10][10][60] Train loss: 0.1652 (0.1306) Reg loss: 0.0075 (0.0041):  42%|████▏     | 63/150 [00:16<00:22,  3.79it/s]\n",
      "Epoch: [10][11][60] Train loss: 0.0352 (0.1276) Reg loss: 0.0018 (0.0040):  42%|████▏     | 63/150 [00:16<00:22,  3.87it/s]\n",
      "Epoch: [10][12][60] Train loss: 0.1190 (0.1248) Reg loss: 0.0037 (0.0040):  42%|████▏     | 63/150 [00:16<00:22,  3.82it/s]\n"
     ]
    },
    {
     "name": "stdout",
     "output_type": "stream",
     "text": [
      "best loss: 0.1494\n",
      "\n"
     ]
    },
    {
     "name": "stderr",
     "output_type": "stream",
     "text": [
      "Epoch: [11][1][60] Train loss: 0.1864 (0.1546) Reg loss: 0.0043 (0.0045):  42%|████▏     | 63/150 [00:16<00:22,  3.90it/s]\n",
      "Epoch: [11][2][60] Train loss: 0.0313 (0.1276) Reg loss: 0.0022 (0.0042):  42%|████▏     | 63/150 [00:16<00:22,  3.88it/s]\n",
      "Epoch: [11][3][60] Train loss: 0.0172 (0.1235) Reg loss: 0.0022 (0.0043):  42%|████▏     | 63/150 [00:16<00:23,  3.72it/s]\n",
      "Epoch: [11][4][60] Train loss: 0.2100 (0.1390) Reg loss: 0.0073 (0.0049):  42%|████▏     | 63/150 [00:16<00:22,  3.88it/s]\n",
      "Epoch: [11][5][60] Train loss: 0.6350 (0.1631) Reg loss: 0.0106 (0.0059):  42%|████▏     | 63/150 [00:16<00:22,  3.93it/s]\n",
      "Epoch: [11][6][60] Train loss: 0.2176 (0.1681) Reg loss: 0.0236 (0.0063):  42%|████▏     | 63/150 [00:16<00:22,  3.88it/s]\n",
      "Epoch: [11][7][60] Train loss: 0.1933 (0.1697) Reg loss: 0.0036 (0.0062):  42%|████▏     | 63/150 [00:16<00:22,  3.92it/s]\n",
      "Epoch: [11][8][60] Train loss: 0.0339 (0.1639) Reg loss: 0.0026 (0.0060):  42%|████▏     | 63/150 [00:16<00:22,  3.92it/s]\n",
      "Epoch: [11][9][60] Train loss: 0.1983 (0.1578) Reg loss: 0.0034 (0.0057):  42%|████▏     | 63/150 [00:16<00:23,  3.72it/s]\n",
      "Epoch: [11][10][60] Train loss: 0.1729 (0.1559) Reg loss: 0.0018 (0.0055):  42%|████▏     | 63/150 [00:16<00:22,  3.87it/s]\n",
      "Epoch: [11][11][60] Train loss: 0.1044 (0.1494) Reg loss: 0.0079 (0.0053):  42%|████▏     | 63/150 [00:16<00:22,  3.85it/s]\n",
      "Epoch: [11][12][60] Train loss: 0.1150 (0.1449) Reg loss: 0.0011 (0.0052):  42%|████▏     | 63/150 [00:16<00:22,  3.90it/s]\n",
      "Epoch: [12][1][60] Train loss: 0.4167 (0.1650) Reg loss: 0.0097 (0.0047):  42%|████▏     | 63/150 [00:16<00:22,  3.88it/s]\n",
      "Epoch: [12][2][60] Train loss: 0.0622 (0.1335) Reg loss: 0.0035 (0.0042):  42%|████▏     | 63/150 [00:16<00:23,  3.71it/s]\n",
      "Epoch: [12][3][60] Train loss: 0.2961 (0.1358) Reg loss: 0.0056 (0.0043):  42%|████▏     | 63/150 [00:16<00:22,  3.84it/s]\n",
      "Epoch: [12][4][60] Train loss: 0.0495 (0.1290) Reg loss: 0.0021 (0.0042):  42%|████▏     | 63/150 [00:16<00:22,  3.90it/s]\n",
      "Epoch: [12][5][60] Train loss: 0.0253 (0.1190) Reg loss: 0.0017 (0.0041):  42%|████▏     | 63/150 [00:16<00:22,  3.91it/s]\n",
      "Epoch: [12][6][60] Train loss: 0.0203 (0.1146) Reg loss: 0.0029 (0.0040):  42%|████▏     | 63/150 [00:16<00:22,  3.87it/s]\n",
      "Epoch: [12][7][60] Train loss: 0.1042 (0.1117) Reg loss: 0.0012 (0.0038):  42%|████▏     | 63/150 [00:16<00:22,  3.85it/s]\n",
      "Epoch: [12][8][60] Train loss: 0.0429 (0.1061) Reg loss: 0.0024 (0.0037):  42%|████▏     | 63/150 [00:16<00:22,  3.83it/s]\n",
      "Epoch: [12][9][60] Train loss: 0.4263 (0.1048) Reg loss: 0.0118 (0.0036):  42%|████▏     | 63/150 [00:16<00:22,  3.92it/s]\n",
      "Epoch: [12][10][60] Train loss: 0.0191 (0.1041) Reg loss: 0.0018 (0.0036):  42%|████▏     | 63/150 [00:16<00:22,  3.87it/s]\n",
      "Epoch: [12][11][60] Train loss: 0.0030 (0.1015) Reg loss: 0.0014 (0.0035):  42%|████▏     | 63/150 [00:16<00:22,  3.91it/s]\n",
      "Epoch: [12][12][60] Train loss: 0.0218 (0.0994) Reg loss: 0.0022 (0.0035):  42%|████▏     | 63/150 [00:16<00:22,  3.83it/s]\n",
      "Epoch: [13][1][60] Train loss: 0.0068 (0.1026) Reg loss: 0.0017 (0.0043):  42%|████▏     | 63/150 [00:16<00:22,  3.83it/s]\n",
      "Epoch: [13][2][60] Train loss: 0.0073 (0.1124) Reg loss: 0.0009 (0.0040):  42%|████▏     | 63/150 [00:16<00:22,  3.83it/s]\n",
      "Epoch: [13][3][60] Train loss: 0.0434 (0.1064) Reg loss: 0.0011 (0.0036):  42%|████▏     | 63/150 [00:16<00:22,  3.89it/s]\n",
      "Epoch: [13][4][60] Train loss: 0.0400 (0.1026) Reg loss: 0.0026 (0.0038):  42%|████▏     | 63/150 [00:16<00:22,  3.89it/s]\n",
      "Epoch: [13][5][60] Train loss: 0.0089 (0.0941) Reg loss: 0.0047 (0.0037):  42%|████▏     | 63/150 [00:16<00:22,  3.88it/s]\n",
      "Epoch: [13][6][60] Train loss: 0.0459 (0.0890) Reg loss: 0.0041 (0.0036):  42%|████▏     | 63/150 [00:16<00:22,  3.88it/s]\n",
      "Epoch: [13][7][60] Train loss: 0.0864 (0.0862) Reg loss: 0.0022 (0.0035):  42%|████▏     | 63/150 [00:16<00:23,  3.78it/s]\n",
      "Epoch: [13][8][60] Train loss: 0.0601 (0.0836) Reg loss: 0.0020 (0.0034):  42%|████▏     | 63/150 [00:16<00:22,  3.84it/s]\n",
      "Epoch: [13][9][60] Train loss: 0.0033 (0.0803) Reg loss: 0.0024 (0.0033):  42%|████▏     | 63/150 [00:16<00:22,  3.86it/s]\n",
      "Epoch: [13][10][60] Train loss: 0.0189 (0.0809) Reg loss: 0.0028 (0.0032):  42%|████▏     | 63/150 [00:16<00:22,  3.87it/s]\n",
      "Epoch: [13][11][60] Train loss: 0.0150 (0.0800) Reg loss: 0.0023 (0.0032):  42%|████▏     | 63/150 [00:16<00:22,  3.89it/s]\n",
      "Epoch: [13][12][60] Train loss: 0.0099 (0.0773) Reg loss: 0.0016 (0.0031):  42%|████▏     | 63/150 [00:16<00:22,  3.79it/s]\n",
      "Epoch: [14][1][60] Train loss: 0.1244 (0.0866) Reg loss: 0.0031 (0.0030):  42%|████▏     | 63/150 [00:16<00:23,  3.78it/s]\n",
      "Epoch: [14][2][60] Train loss: 0.0319 (0.0737) Reg loss: 0.0106 (0.0031):  42%|████▏     | 63/150 [00:16<00:22,  3.89it/s]\n",
      "Epoch: [14][3][60] Train loss: 0.1251 (0.0701) Reg loss: 0.0036 (0.0030):  42%|████▏     | 63/150 [00:16<00:22,  3.83it/s]\n",
      "Epoch: [14][4][60] Train loss: 0.1400 (0.0697) Reg loss: 0.0014 (0.0030):  42%|████▏     | 63/150 [00:16<00:22,  3.90it/s]\n",
      "Epoch: [14][5][60] Train loss: 0.1112 (0.0658) Reg loss: 0.0031 (0.0029):  42%|████▏     | 63/150 [00:16<00:22,  3.91it/s]\n",
      "Epoch: [14][6][60] Train loss: 0.0235 (0.0632) Reg loss: 0.0028 (0.0029):  42%|████▏     | 63/150 [00:16<00:23,  3.73it/s]\n",
      "Epoch: [14][7][60] Train loss: 0.0399 (0.0698) Reg loss: 0.0034 (0.0029):  42%|████▏     | 63/150 [00:16<00:22,  3.81it/s]\n",
      "Epoch: [14][8][60] Train loss: 0.0038 (0.0698) Reg loss: 0.0017 (0.0029):  42%|████▏     | 63/150 [00:16<00:22,  3.88it/s]\n",
      "Epoch: [14][9][60] Train loss: 0.0268 (0.0686) Reg loss: 0.0026 (0.0029):  42%|████▏     | 63/150 [00:16<00:22,  3.85it/s]\n",
      "Epoch: [14][10][60] Train loss: 0.0084 (0.0671) Reg loss: 0.0008 (0.0029):  42%|████▏     | 63/150 [00:16<00:22,  3.91it/s]\n",
      "Epoch: [14][11][60] Train loss: 0.0179 (0.0673) Reg loss: 0.0021 (0.0029):  42%|████▏     | 63/150 [00:16<00:23,  3.72it/s]\n",
      "Epoch: [14][12][60] Train loss: 0.0784 (0.0660) Reg loss: 0.0035 (0.0028):  42%|████▏     | 63/150 [00:16<00:22,  3.89it/s]\n",
      "Epoch: [15][1][60] Train loss: 0.0588 (0.0795) Reg loss: 0.0023 (0.0032):  42%|████▏     | 63/150 [00:16<00:22,  3.89it/s]\n",
      "Epoch: [15][2][60] Train loss: 0.0193 (0.0706) Reg loss: 0.0021 (0.0031):  42%|████▏     | 63/150 [00:16<00:22,  3.85it/s]\n",
      "Epoch: [15][3][60] Train loss: 0.0070 (0.0664) Reg loss: 0.0017 (0.0029):  42%|████▏     | 63/150 [00:16<00:22,  3.90it/s]\n",
      "Epoch: [15][4][60] Train loss: 0.0054 (0.0673) Reg loss: 0.0027 (0.0031):  42%|████▏     | 63/150 [00:16<00:22,  3.79it/s]\n",
      "Epoch: [15][5][60] Train loss: 0.0095 (0.0617) Reg loss: 0.0034 (0.0030):  42%|████▏     | 63/150 [00:17<00:24,  3.61it/s]\n",
      "Epoch: [15][6][60] Train loss: 0.0123 (0.0608) Reg loss: 0.0011 (0.0029):  42%|████▏     | 63/150 [00:16<00:22,  3.87it/s]\n",
      "Epoch: [15][7][60] Train loss: 0.0057 (0.0623) Reg loss: 0.0010 (0.0029):  42%|████▏     | 63/150 [00:16<00:22,  3.87it/s]\n",
      "Epoch: [15][8][60] Train loss: 0.0599 (0.0610) Reg loss: 0.0037 (0.0028):  42%|████▏     | 63/150 [00:16<00:22,  3.92it/s]\n",
      "Epoch: [15][9][60] Train loss: 0.0604 (0.0595) Reg loss: 0.0029 (0.0028):  42%|████▏     | 63/150 [00:15<00:21,  3.96it/s]\n",
      "Epoch: [15][10][60] Train loss: 0.0316 (0.0587) Reg loss: 0.0015 (0.0028):  42%|████▏     | 63/150 [00:16<00:22,  3.81it/s]\n",
      "Epoch: [15][11][60] Train loss: 0.0169 (0.0574) Reg loss: 0.0016 (0.0027):  42%|████▏     | 63/150 [00:16<00:23,  3.74it/s]\n",
      "Epoch: [15][12][60] Train loss: 0.0394 (0.0566) Reg loss: 0.0023 (0.0027):  42%|████▏     | 63/150 [00:16<00:22,  3.85it/s]\n"
     ]
    },
    {
     "name": "stdout",
     "output_type": "stream",
     "text": [
      "best loss: 0.0728\n",
      "\n"
     ]
    },
    {
     "name": "stderr",
     "output_type": "stream",
     "text": [
      "Epoch: [16][1][60] Train loss: 0.1707 (0.0853) Reg loss: 0.0060 (0.0030):  42%|████▏     | 63/150 [00:16<00:22,  3.83it/s]\n",
      "Epoch: [16][2][60] Train loss: 0.0068 (0.0675) Reg loss: 0.0014 (0.0029):  42%|████▏     | 63/150 [00:16<00:22,  3.86it/s]\n",
      "Epoch: [16][3][60] Train loss: 0.0062 (0.0627) Reg loss: 0.0011 (0.0029):  42%|████▏     | 63/150 [00:16<00:22,  3.92it/s]\n",
      "Epoch: [16][4][60] Train loss: 0.0134 (0.0643) Reg loss: 0.0016 (0.0029):  42%|████▏     | 63/150 [00:16<00:22,  3.78it/s]\n",
      "Epoch: [16][5][60] Train loss: 0.0874 (0.0588) Reg loss: 0.0048 (0.0027):  42%|████▏     | 63/150 [00:15<00:21,  3.96it/s]\n",
      "Epoch: [16][6][60] Train loss: 0.0507 (0.0547) Reg loss: 0.0044 (0.0027):  42%|████▏     | 63/150 [00:16<00:22,  3.86it/s]\n",
      "Epoch: [16][7][60] Train loss: 0.0783 (0.0567) Reg loss: 0.0020 (0.0027):  42%|████▏     | 63/150 [00:16<00:22,  3.90it/s]\n",
      "Epoch: [16][8][60] Train loss: 0.0387 (0.0544) Reg loss: 0.0037 (0.0026):  42%|████▏     | 63/150 [00:16<00:22,  3.88it/s]\n",
      "Epoch: [16][9][60] Train loss: 0.0173 (0.0521) Reg loss: 0.0022 (0.0026):  42%|████▏     | 63/150 [00:16<00:22,  3.89it/s]\n",
      "Epoch: [16][10][60] Train loss: 0.0333 (0.0552) Reg loss: 0.0034 (0.0026):  42%|████▏     | 63/150 [00:16<00:22,  3.85it/s]\n",
      "Epoch: [16][11][60] Train loss: 0.0226 (0.0561) Reg loss: 0.0010 (0.0026):  42%|████▏     | 63/150 [00:16<00:22,  3.88it/s]\n",
      "Epoch: [16][12][60] Train loss: 0.0171 (0.0558) Reg loss: 0.0023 (0.0026):  42%|████▏     | 63/150 [00:16<00:22,  3.91it/s]\n",
      "Epoch: [17][1][60] Train loss: 0.0847 (0.0893) Reg loss: 0.0059 (0.0032):  42%|████▏     | 63/150 [00:16<00:22,  3.91it/s]\n",
      "Epoch: [17][2][60] Train loss: 0.0065 (0.0773) Reg loss: 0.0014 (0.0029):  42%|████▏     | 63/150 [00:16<00:22,  3.86it/s]\n",
      "Epoch: [17][3][60] Train loss: 0.1544 (0.0782) Reg loss: 0.0024 (0.0030):  42%|████▏     | 63/150 [00:16<00:22,  3.87it/s]\n",
      "Epoch: [17][4][60] Train loss: 0.0498 (0.0861) Reg loss: 0.0034 (0.0032):  42%|████▏     | 63/150 [00:16<00:23,  3.75it/s]\n",
      "Epoch: [17][5][60] Train loss: 0.0412 (0.0790) Reg loss: 0.0039 (0.0032):  42%|████▏     | 63/150 [00:16<00:22,  3.88it/s]\n",
      "Epoch: [17][6][60] Train loss: 0.0075 (0.0746) Reg loss: 0.0011 (0.0032):  42%|████▏     | 63/150 [00:16<00:22,  3.87it/s]\n",
      "Epoch: [17][7][60] Train loss: 0.1403 (0.0742) Reg loss: 0.0020 (0.0032):  42%|████▏     | 63/150 [00:16<00:22,  3.91it/s]\n",
      "Epoch: [17][8][60] Train loss: 0.0569 (0.0728) Reg loss: 0.0021 (0.0031):  42%|████▏     | 63/150 [00:16<00:22,  3.88it/s]\n",
      "Epoch: [17][9][60] Train loss: 0.0713 (0.0688) Reg loss: 0.0019 (0.0030):  42%|████▏     | 63/150 [00:16<00:22,  3.82it/s]\n",
      "Epoch: [17][10][60] Train loss: 0.0165 (0.0668) Reg loss: 0.0018 (0.0030):  42%|████▏     | 63/150 [00:16<00:22,  3.83it/s]\n",
      "Epoch: [17][11][60] Train loss: 0.0051 (0.0642) Reg loss: 0.0009 (0.0029):  42%|████▏     | 63/150 [00:17<00:24,  3.57it/s]\n",
      "Epoch: [17][12][60] Train loss: 0.0580 (0.0613) Reg loss: 0.0020 (0.0028):  42%|████▏     | 63/150 [00:18<00:25,  3.47it/s]\n",
      "Epoch: [18][1][60] Train loss: 0.0122 (0.0503) Reg loss: 0.0022 (0.0028):  42%|████▏     | 63/150 [00:18<00:24,  3.48it/s]\n",
      "Epoch: [18][2][60] Train loss: 0.1062 (0.0460) Reg loss: 0.0037 (0.0026):  42%|████▏     | 63/150 [00:18<00:25,  3.40it/s]\n",
      "Epoch: [18][3][60] Train loss: 0.1117 (0.0493) Reg loss: 0.0010 (0.0028):  42%|████▏     | 63/150 [00:18<00:24,  3.50it/s]\n",
      "Epoch: [18][4][60] Train loss: 0.0710 (0.0488) Reg loss: 0.0041 (0.0028):  42%|████▏     | 63/150 [00:17<00:24,  3.58it/s]\n",
      "Epoch: [18][5][60] Train loss: 0.0891 (0.0460) Reg loss: 0.0022 (0.0026):  42%|████▏     | 63/150 [00:17<00:24,  3.58it/s]\n",
      "Epoch: [18][6][60] Train loss: 0.2471 (0.0484) Reg loss: 0.0049 (0.0027):  42%|████▏     | 63/150 [00:17<00:24,  3.56it/s]\n",
      "Epoch: [18][7][60] Train loss: 0.0830 (0.0714) Reg loss: 0.0026 (0.0033):  42%|████▏     | 63/150 [00:16<00:22,  3.91it/s]\n",
      "Epoch: [18][8][60] Train loss: 0.0170 (0.0701) Reg loss: 0.0032 (0.0035):  42%|████▏     | 63/150 [00:16<00:23,  3.77it/s]\n",
      "Epoch: [18][9][60] Train loss: 0.0047 (0.0705) Reg loss: 0.0024 (0.0036):  42%|████▏     | 63/150 [00:16<00:22,  3.87it/s]\n",
      "Epoch: [18][10][60] Train loss: 0.1020 (0.0682) Reg loss: 0.0029 (0.0035):  42%|████▏     | 63/150 [00:16<00:22,  3.91it/s]\n",
      "Epoch: [18][11][60] Train loss: 0.0707 (0.0666) Reg loss: 0.0027 (0.0034):  42%|████▏     | 63/150 [00:16<00:22,  3.89it/s]\n",
      "Epoch: [18][12][60] Train loss: 0.0140 (0.0666) Reg loss: 0.0035 (0.0034):  42%|████▏     | 63/150 [00:16<00:23,  3.71it/s]\n",
      "Epoch: [19][1][60] Train loss: 0.1628 (0.1620) Reg loss: 0.0057 (0.0050):  42%|████▏     | 63/150 [00:16<00:22,  3.80it/s]\n",
      "Epoch: [19][2][60] Train loss: 0.0572 (0.2015) Reg loss: 0.0038 (0.0065):  42%|████▏     | 63/150 [00:16<00:22,  3.79it/s]\n",
      "Epoch: [19][3][60] Train loss: 0.1408 (0.2163) Reg loss: 0.0067 (0.0066):  42%|████▏     | 63/150 [00:16<00:22,  3.84it/s]\n",
      "Epoch: [19][4][60] Train loss: 0.1317 (0.1859) Reg loss: 0.0165 (0.0064):  42%|████▏     | 63/150 [00:16<00:22,  3.90it/s]\n",
      "Epoch: [19][5][60] Train loss: 0.0591 (0.1616) Reg loss: 0.0029 (0.0059):  42%|████▏     | 63/150 [00:16<00:22,  3.89it/s]\n",
      "Epoch: [19][6][60] Train loss: 0.0512 (0.1431) Reg loss: 0.0024 (0.0053):  42%|████▏     | 63/150 [00:16<00:22,  3.87it/s]\n",
      "Epoch: [19][7][60] Train loss: 0.0769 (0.1346) Reg loss: 0.0049 (0.0050):  42%|████▏     | 63/150 [00:16<00:22,  3.83it/s]\n",
      "Epoch: [19][8][60] Train loss: 0.0020 (0.1294) Reg loss: 0.0009 (0.0048):  42%|████▏     | 63/150 [00:16<00:22,  3.81it/s]\n",
      "Epoch: [19][9][60] Train loss: 0.0702 (0.1201) Reg loss: 0.0011 (0.0045):  42%|████▏     | 63/150 [00:16<00:22,  3.86it/s]\n",
      "Epoch: [19][10][60] Train loss: 0.1349 (0.1129) Reg loss: 0.0074 (0.0043):  42%|████▏     | 63/150 [00:16<00:22,  3.87it/s]\n",
      "Epoch: [19][11][60] Train loss: 0.0040 (0.1053) Reg loss: 0.0008 (0.0041):  42%|████▏     | 63/150 [00:16<00:22,  3.88it/s]\n",
      "Epoch: [19][12][60] Train loss: 0.0033 (0.0989) Reg loss: 0.0020 (0.0039):  42%|████▏     | 63/150 [00:17<00:23,  3.69it/s]\n",
      "Epoch: [20][1][60] Train loss: 0.0947 (0.0503) Reg loss: 0.0038 (0.0025):  42%|████▏     | 63/150 [00:16<00:22,  3.88it/s]\n",
      "Epoch: [20][2][60] Train loss: 0.0103 (0.0432) Reg loss: 0.0027 (0.0023):  42%|████▏     | 63/150 [00:16<00:22,  3.88it/s]\n",
      "Epoch: [20][3][60] Train loss: 0.0027 (0.0429) Reg loss: 0.0008 (0.0023):  42%|████▏     | 63/150 [00:16<00:22,  3.90it/s]\n",
      "Epoch: [20][4][60] Train loss: 0.0388 (0.0428) Reg loss: 0.0013 (0.0022):  42%|████▏     | 63/150 [00:16<00:22,  3.84it/s]\n",
      "Epoch: [20][5][60] Train loss: 0.0065 (0.0382) Reg loss: 0.0002 (0.0022):  42%|████▏     | 63/150 [00:16<00:23,  3.77it/s]\n",
      "Epoch: [20][6][60] Train loss: 0.0041 (0.0354) Reg loss: 0.0012 (0.0021):  42%|████▏     | 63/150 [00:16<00:22,  3.86it/s]\n",
      "Epoch: [20][7][60] Train loss: 0.0078 (0.0369) Reg loss: 0.0019 (0.0021):  42%|████▏     | 63/150 [00:16<00:22,  3.90it/s]\n",
      "Epoch: [20][8][60] Train loss: 0.0138 (0.0373) Reg loss: 0.0021 (0.0021):  42%|████▏     | 63/150 [00:16<00:22,  3.83it/s]\n",
      "Epoch: [20][9][60] Train loss: 0.0224 (0.0358) Reg loss: 0.0013 (0.0021):  42%|████▏     | 63/150 [00:15<00:22,  3.94it/s]\n",
      "Epoch: [20][10][60] Train loss: 0.0050 (0.0352) Reg loss: 0.0010 (0.0021):  42%|████▏     | 63/150 [00:16<00:22,  3.85it/s]\n",
      "Epoch: [20][11][60] Train loss: 0.0044 (0.0339) Reg loss: 0.0010 (0.0020):  42%|████▏     | 63/150 [00:16<00:23,  3.74it/s]\n",
      "Epoch: [20][12][60] Train loss: 0.0053 (0.0326) Reg loss: 0.0006 (0.0020):  42%|████▏     | 63/150 [00:17<00:23,  3.69it/s]\n"
     ]
    },
    {
     "name": "stdout",
     "output_type": "stream",
     "text": [
      "best loss: 0.0444\n",
      "\n"
     ]
    },
    {
     "name": "stderr",
     "output_type": "stream",
     "text": [
      "Epoch: [21][1][60] Train loss: 0.0258 (0.0464) Reg loss: 0.0030 (0.0023):  42%|████▏     | 63/150 [00:16<00:23,  3.75it/s]\n",
      "Epoch: [21][2][60] Train loss: 0.0048 (0.0354) Reg loss: 0.0014 (0.0020):  42%|████▏     | 63/150 [00:16<00:23,  3.77it/s]\n",
      "Epoch: [21][3][60] Train loss: 0.0249 (0.0333) Reg loss: 0.0015 (0.0020):  42%|████▏     | 63/150 [00:16<00:22,  3.81it/s]\n",
      "Epoch: [21][4][60] Train loss: 0.1290 (0.0330) Reg loss: 0.0072 (0.0020):  42%|████▏     | 63/150 [00:16<00:23,  3.75it/s]\n",
      "Epoch: [21][5][60] Train loss: 0.0368 (0.0335) Reg loss: 0.0022 (0.0020):  42%|████▏     | 63/150 [00:16<00:23,  3.76it/s]\n",
      "Epoch: [21][6][60] Train loss: 0.0257 (0.0332) Reg loss: 0.0011 (0.0020):  42%|████▏     | 63/150 [00:16<00:22,  3.85it/s]\n",
      "Epoch: [21][7][60] Train loss: 0.0036 (0.0346) Reg loss: 0.0020 (0.0020):  42%|████▏     | 63/150 [00:16<00:22,  3.86it/s]\n",
      "Epoch: [21][8][60] Train loss: 0.0041 (0.0336) Reg loss: 0.0009 (0.0020):  42%|████▏     | 63/150 [00:16<00:22,  3.94it/s]\n",
      "Epoch: [21][9][60] Train loss: 0.0034 (0.0327) Reg loss: 0.0012 (0.0020):  42%|████▏     | 63/150 [00:17<00:23,  3.69it/s]\n",
      "Epoch: [21][10][60] Train loss: 0.0041 (0.0346) Reg loss: 0.0012 (0.0020):  42%|████▏     | 63/150 [00:16<00:22,  3.86it/s]\n",
      "Epoch: [21][11][60] Train loss: 0.0193 (0.0336) Reg loss: 0.0017 (0.0019):  42%|████▏     | 63/150 [00:16<00:22,  3.87it/s]\n",
      "Epoch: [21][12][60] Train loss: 0.0093 (0.0335) Reg loss: 0.0035 (0.0019):  42%|████▏     | 63/150 [00:16<00:22,  3.85it/s]\n",
      "Epoch: [22][1][60] Train loss: 0.0125 (0.0565) Reg loss: 0.0011 (0.0028):  42%|████▏     | 63/150 [00:16<00:22,  3.87it/s]\n",
      "Epoch: [22][2][60] Train loss: 0.0186 (0.0462) Reg loss: 0.0010 (0.0025):  42%|████▏     | 63/150 [00:16<00:22,  3.86it/s]\n",
      "Epoch: [22][3][60] Train loss: 0.1198 (0.0448) Reg loss: 0.0050 (0.0024):  42%|████▏     | 63/150 [00:16<00:23,  3.73it/s]\n",
      "Epoch: [22][4][60] Train loss: 0.0284 (0.0417) Reg loss: 0.0015 (0.0024):  42%|████▏     | 63/150 [00:16<00:22,  3.90it/s]\n",
      "Epoch: [22][5][60] Train loss: 0.0209 (0.0374) Reg loss: 0.0018 (0.0023):  42%|████▏     | 63/150 [00:16<00:22,  3.89it/s]\n",
      "Epoch: [22][6][60] Train loss: 0.0666 (0.0368) Reg loss: 0.0031 (0.0022):  42%|████▏     | 63/150 [00:16<00:22,  3.88it/s]\n",
      "Epoch: [22][7][60] Train loss: 0.0225 (0.0358) Reg loss: 0.0032 (0.0022):  42%|████▏     | 63/150 [00:16<00:22,  3.91it/s]\n",
      "Epoch: [22][8][60] Train loss: 0.0024 (0.0352) Reg loss: 0.0008 (0.0022):  42%|████▏     | 63/150 [00:16<00:23,  3.76it/s]\n",
      "Epoch: [22][9][60] Train loss: 0.0022 (0.0341) Reg loss: 0.0006 (0.0021):  42%|████▏     | 63/150 [00:16<00:22,  3.83it/s]\n",
      "Epoch: [22][10][60] Train loss: 0.0019 (0.0325) Reg loss: 0.0003 (0.0020):  42%|████▏     | 63/150 [00:16<00:22,  3.92it/s]\n",
      "Epoch: [22][11][60] Train loss: 0.0087 (0.0327) Reg loss: 0.0015 (0.0020):  42%|████▏     | 63/150 [00:16<00:22,  3.91it/s]\n",
      "Epoch: [22][12][60] Train loss: 0.0073 (0.0321) Reg loss: 0.0013 (0.0019):  42%|████▏     | 63/150 [00:16<00:22,  3.90it/s]\n",
      "Epoch: [23][1][60] Train loss: 0.0113 (0.0347) Reg loss: 0.0019 (0.0021):  42%|████▏     | 63/150 [00:15<00:22,  3.94it/s]\n",
      "Epoch: [23][2][60] Train loss: 0.0019 (0.0291) Reg loss: 0.0011 (0.0020):  42%|████▏     | 63/150 [00:16<00:22,  3.90it/s]\n",
      "Epoch: [23][3][60] Train loss: 0.0176 (0.0299) Reg loss: 0.0034 (0.0019):  42%|████▏     | 63/150 [00:18<00:24,  3.48it/s]\n",
      "Epoch: [23][4][60] Train loss: 0.0608 (0.0285) Reg loss: 0.0012 (0.0019):  42%|████▏     | 63/150 [00:16<00:22,  3.86it/s]\n",
      "Epoch: [23][5][60] Train loss: 0.0399 (0.0261) Reg loss: 0.0015 (0.0018):  42%|████▏     | 63/150 [00:16<00:22,  3.89it/s]\n",
      "Epoch: [23][6][60] Train loss: 0.0077 (0.0254) Reg loss: 0.0015 (0.0017):  42%|████▏     | 63/150 [00:16<00:22,  3.80it/s]\n",
      "Epoch: [23][7][60] Train loss: 0.0303 (0.0268) Reg loss: 0.0021 (0.0018):  42%|████▏     | 63/150 [00:16<00:22,  3.90it/s]\n",
      "Epoch: [23][8][60] Train loss: 0.0066 (0.0270) Reg loss: 0.0005 (0.0018):  42%|████▏     | 63/150 [00:16<00:22,  3.85it/s]\n",
      "Epoch: [23][9][60] Train loss: 0.1119 (0.0271) Reg loss: 0.0034 (0.0018):  42%|████▏     | 63/150 [00:16<00:22,  3.81it/s]\n",
      "Epoch: [23][10][60] Train loss: 0.0200 (0.0269) Reg loss: 0.0009 (0.0018):  42%|████▏     | 63/150 [00:16<00:22,  3.92it/s]\n",
      "Epoch: [23][11][60] Train loss: 0.0043 (0.0266) Reg loss: 0.0011 (0.0017):  42%|████▏     | 63/150 [00:16<00:22,  3.83it/s]\n",
      "Epoch: [23][12][60] Train loss: 0.0276 (0.0262) Reg loss: 0.0016 (0.0017):  42%|████▏     | 63/150 [00:16<00:22,  3.83it/s]\n",
      "Epoch: [24][1][60] Train loss: 0.0047 (0.0273) Reg loss: 0.0019 (0.0019):  42%|████▏     | 63/150 [00:16<00:22,  3.89it/s]\n",
      "Epoch: [24][2][60] Train loss: 0.0059 (0.0217) Reg loss: 0.0044 (0.0016):  42%|████▏     | 63/150 [00:17<00:23,  3.63it/s]\n",
      "Epoch: [24][3][60] Train loss: 0.0022 (0.0220) Reg loss: 0.0010 (0.0016):  42%|████▏     | 63/150 [00:16<00:22,  3.88it/s]\n",
      "Epoch: [24][4][60] Train loss: 0.0180 (0.0236) Reg loss: 0.0044 (0.0017):  42%|████▏     | 63/150 [00:18<00:24,  3.49it/s]\n",
      "Epoch: [24][5][60] Train loss: 0.0090 (0.0214) Reg loss: 0.0021 (0.0017):  42%|████▏     | 63/150 [00:17<00:24,  3.52it/s]\n",
      "Epoch: [24][6][60] Train loss: 0.0115 (0.0236) Reg loss: 0.0015 (0.0018):  42%|████▏     | 63/150 [00:17<00:24,  3.54it/s]\n",
      "Epoch: [24][7][60] Train loss: 0.0650 (0.0246) Reg loss: 0.0027 (0.0019):  42%|████▏     | 63/150 [00:18<00:25,  3.43it/s]\n",
      "Epoch: [24][8][60] Train loss: 0.0505 (0.0253) Reg loss: 0.0017 (0.0019):  42%|████▏     | 63/150 [00:17<00:24,  3.58it/s]\n",
      "Epoch: [24][9][60] Train loss: 0.0175 (0.0250) Reg loss: 0.0015 (0.0018):  42%|████▏     | 63/150 [00:17<00:24,  3.54it/s]\n",
      "Epoch: [24][10][60] Train loss: 0.0091 (0.0245) Reg loss: 0.0008 (0.0018):  42%|████▏     | 63/150 [00:17<00:24,  3.50it/s]\n",
      "Epoch: [24][11][60] Train loss: 0.0080 (0.0239) Reg loss: 0.0012 (0.0018):  42%|████▏     | 63/150 [00:17<00:23,  3.70it/s]\n",
      "Epoch: [24][12][60] Train loss: 0.0044 (0.0229) Reg loss: 0.0005 (0.0017):  42%|████▏     | 63/150 [00:16<00:22,  3.81it/s]\n",
      "Epoch: [25][1][60] Train loss: 0.0031 (0.0276) Reg loss: 0.0020 (0.0018):  42%|████▏     | 63/150 [00:16<00:23,  3.78it/s]\n",
      "Epoch: [25][2][60] Train loss: 0.0016 (0.0242) Reg loss: 0.0006 (0.0019):  42%|████▏     | 63/150 [00:16<00:22,  3.82it/s]\n",
      "Epoch: [25][3][60] Train loss: 0.0113 (0.0280) Reg loss: 0.0013 (0.0020):  42%|████▏     | 63/150 [00:16<00:22,  3.86it/s]\n",
      "Epoch: [25][4][60] Train loss: 0.0411 (0.0274) Reg loss: 0.0024 (0.0020):  42%|████▏     | 63/150 [00:16<00:22,  3.82it/s]\n",
      "Epoch: [25][5][60] Train loss: 0.0033 (0.0256) Reg loss: 0.0020 (0.0020):  42%|████▏     | 63/150 [00:16<00:22,  3.86it/s]\n",
      "Epoch: [25][6][60] Train loss: 0.0007 (0.0261) Reg loss: 0.0014 (0.0020):  42%|████▏     | 63/150 [00:17<00:23,  3.70it/s]\n",
      "Epoch: [25][7][60] Train loss: 0.1051 (0.0266) Reg loss: 0.0021 (0.0020):  42%|████▏     | 63/150 [00:16<00:22,  3.83it/s]\n",
      "Epoch: [25][8][60] Train loss: 0.0054 (0.0265) Reg loss: 0.0006 (0.0019):  42%|████▏     | 63/150 [00:16<00:22,  3.93it/s]\n",
      "Epoch: [25][9][60] Train loss: 0.0110 (0.0264) Reg loss: 0.0010 (0.0019):  42%|████▏     | 63/150 [00:16<00:22,  3.87it/s]\n",
      "Epoch: [25][10][60] Train loss: 0.1107 (0.0260) Reg loss: 0.0020 (0.0019):  42%|████▏     | 63/150 [00:16<00:22,  3.90it/s]\n",
      "Epoch: [25][11][60] Train loss: 0.0100 (0.0252) Reg loss: 0.0010 (0.0019):  42%|████▏     | 63/150 [00:16<00:22,  3.88it/s]\n",
      "Epoch: [25][12][60] Train loss: 0.0011 (0.0247) Reg loss: 0.0009 (0.0018):  42%|████▏     | 63/150 [00:16<00:23,  3.75it/s]\n"
     ]
    },
    {
     "name": "stdout",
     "output_type": "stream",
     "text": [
      "best loss: 0.0356\n",
      "\n"
     ]
    },
    {
     "name": "stderr",
     "output_type": "stream",
     "text": [
      "Epoch: [26][1][60] Train loss: 0.0065 (0.0370) Reg loss: 0.0028 (0.0021):  42%|████▏     | 63/150 [00:16<00:22,  3.82it/s]\n",
      "Epoch: [26][2][60] Train loss: 0.0011 (0.0283) Reg loss: 0.0016 (0.0020):  42%|████▏     | 63/150 [00:16<00:22,  3.93it/s]\n",
      "Epoch: [26][3][60] Train loss: 0.0545 (0.0316) Reg loss: 0.0015 (0.0020):  42%|████▏     | 63/150 [00:16<00:22,  3.91it/s]\n",
      "Epoch: [26][4][60] Train loss: 0.0228 (0.0327) Reg loss: 0.0029 (0.0019):  42%|████▏     | 63/150 [00:16<00:22,  3.92it/s]\n",
      "Epoch: [26][5][60] Train loss: 0.0013 (0.0315) Reg loss: 0.0003 (0.0020):  42%|████▏     | 63/150 [00:16<00:23,  3.78it/s]\n",
      "Epoch: [26][6][60] Train loss: 0.0129 (0.0309) Reg loss: 0.0018 (0.0020):  42%|████▏     | 63/150 [00:18<00:24,  3.49it/s]\n",
      "Epoch: [26][7][60] Train loss: 0.0385 (0.0351) Reg loss: 0.0022 (0.0020):  42%|████▏     | 63/150 [00:18<00:25,  3.43it/s]\n",
      "Epoch: [26][8][60] Train loss: 0.0058 (0.0346) Reg loss: 0.0017 (0.0020):  42%|████▏     | 63/150 [00:18<00:25,  3.42it/s]\n",
      "Epoch: [26][9][60] Train loss: 0.0031 (0.0339) Reg loss: 0.0016 (0.0019):  42%|████▏     | 63/150 [00:18<00:25,  3.42it/s]\n",
      "Epoch: [26][10][60] Train loss: 0.0240 (0.0334) Reg loss: 0.0019 (0.0019):  42%|████▏     | 63/150 [00:18<00:25,  3.47it/s]\n",
      "Epoch: [26][11][60] Train loss: 0.0374 (0.0334) Reg loss: 0.0012 (0.0018):  42%|████▏     | 63/150 [00:18<00:25,  3.45it/s]\n",
      "Epoch: [26][12][60] Train loss: 0.0026 (0.0322) Reg loss: 0.0017 (0.0018):  42%|████▏     | 63/150 [00:17<00:24,  3.52it/s]\n",
      "Epoch: [27][1][60] Train loss: 0.0472 (0.0493) Reg loss: 0.0019 (0.0022):  42%|████▏     | 63/150 [00:18<00:25,  3.46it/s]\n",
      "Epoch: [27][2][60] Train loss: 0.0897 (0.0397) Reg loss: 0.0052 (0.0022):  42%|████▏     | 63/150 [00:17<00:24,  3.54it/s]\n",
      "Epoch: [27][3][60] Train loss: 0.0035 (0.0373) Reg loss: 0.0004 (0.0021):  42%|████▏     | 63/150 [00:17<00:24,  3.50it/s]\n",
      "Epoch: [27][4][60] Train loss: 0.8136 (0.0402) Reg loss: 0.0179 (0.0021):  42%|████▏     | 63/150 [00:18<00:25,  3.46it/s]\n",
      "Epoch: [27][5][60] Train loss: 0.0648 (0.0470) Reg loss: 0.0046 (0.0029):  42%|████▏     | 63/150 [00:18<00:24,  3.49it/s]\n",
      "Epoch: [27][6][60] Train loss: 0.0714 (0.0736) Reg loss: 0.0055 (0.0037):  42%|████▏     | 63/150 [00:18<00:24,  3.49it/s]\n",
      "Epoch: [27][7][60] Train loss: 0.2335 (0.0837) Reg loss: 0.0100 (0.0040):  42%|████▏     | 63/150 [00:18<00:25,  3.45it/s]\n",
      "Epoch: [27][8][60] Train loss: 0.0059 (0.0857) Reg loss: 0.0024 (0.0039):  42%|████▏     | 63/150 [00:18<00:26,  3.32it/s]\n",
      "Epoch: [27][9][60] Train loss: 0.0032 (0.0869) Reg loss: 0.0010 (0.0039):  42%|████▏     | 63/150 [00:18<00:25,  3.47it/s]\n",
      "Epoch: [27][10][60] Train loss: 0.0114 (0.0828) Reg loss: 0.0018 (0.0038):  42%|████▏     | 63/150 [00:18<00:24,  3.50it/s]\n",
      "Epoch: [27][11][60] Train loss: 0.0400 (0.0779) Reg loss: 0.0015 (0.0036):  42%|████▏     | 63/150 [00:18<00:24,  3.49it/s]\n",
      "Epoch: [27][12][60] Train loss: 0.0549 (0.0745) Reg loss: 0.0022 (0.0035):  42%|████▏     | 63/150 [00:17<00:24,  3.50it/s]\n",
      "Epoch: [28][1][60] Train loss: 0.0201 (0.0426) Reg loss: 0.0027 (0.0023):  42%|████▏     | 63/150 [00:18<00:25,  3.45it/s]\n",
      "Epoch: [28][2][60] Train loss: 0.0372 (0.0355) Reg loss: 0.0020 (0.0020):  42%|████▏     | 63/150 [00:18<00:24,  3.48it/s]\n",
      "Epoch: [28][3][60] Train loss: 0.0235 (0.0337) Reg loss: 0.0030 (0.0019):  42%|████▏     | 63/150 [00:18<00:25,  3.46it/s]\n",
      "Epoch: [28][4][60] Train loss: 0.0028 (0.0300) Reg loss: 0.0009 (0.0018):  42%|████▏     | 63/150 [00:18<00:24,  3.49it/s]\n",
      "Epoch: [28][5][60] Train loss: 0.0020 (0.0287) Reg loss: 0.0006 (0.0017):  42%|████▏     | 63/150 [00:18<00:25,  3.44it/s]\n",
      "Epoch: [28][6][60] Train loss: 0.0148 (0.0275) Reg loss: 0.0009 (0.0016):  42%|████▏     | 63/150 [00:17<00:24,  3.51it/s]\n",
      "Epoch: [28][7][60] Train loss: 0.0040 (0.0283) Reg loss: 0.0008 (0.0016):  42%|████▏     | 63/150 [00:18<00:24,  3.49it/s]\n",
      "Epoch: [28][8][60] Train loss: 0.0388 (0.0276) Reg loss: 0.0021 (0.0016):  42%|████▏     | 63/150 [00:17<00:24,  3.52it/s]\n",
      "Epoch: [28][9][60] Train loss: 0.0182 (0.0269) Reg loss: 0.0017 (0.0015):  42%|████▏     | 63/150 [00:18<00:25,  3.44it/s]\n",
      "Epoch: [28][10][60] Train loss: 0.0029 (0.0256) Reg loss: 0.0018 (0.0015):  42%|████▏     | 63/150 [00:18<00:24,  3.49it/s]\n",
      "Epoch: [28][11][60] Train loss: 0.0034 (0.0254) Reg loss: 0.0006 (0.0015):  42%|████▏     | 63/150 [00:18<00:24,  3.50it/s]\n",
      "Epoch: [28][12][60] Train loss: 0.0024 (0.0244) Reg loss: 0.0008 (0.0014):  42%|████▏     | 63/150 [00:17<00:24,  3.50it/s]\n",
      "Epoch: [29][1][60] Train loss: 0.0238 (0.0146) Reg loss: 0.0006 (0.0013):  42%|████▏     | 63/150 [00:17<00:24,  3.51it/s]\n",
      "Epoch: [29][2][60] Train loss: 0.0171 (0.0166) Reg loss: 0.0014 (0.0012):  42%|████▏     | 63/150 [00:18<00:24,  3.49it/s]\n",
      "Epoch: [29][3][60] Train loss: 0.0204 (0.0253) Reg loss: 0.0023 (0.0014):  42%|████▏     | 63/150 [00:18<00:25,  3.41it/s]\n",
      "Epoch: [29][4][60] Train loss: 0.0034 (0.0262) Reg loss: 0.0008 (0.0016):  42%|████▏     | 63/150 [00:18<00:24,  3.49it/s]\n",
      "Epoch: [29][5][60] Train loss: 0.0032 (0.0247) Reg loss: 0.0012 (0.0016):  42%|████▏     | 63/150 [00:18<00:24,  3.50it/s]\n",
      "Epoch: [29][6][60] Train loss: 0.0018 (0.0225) Reg loss: 0.0010 (0.0015):  42%|████▏     | 63/150 [00:18<00:24,  3.48it/s]\n",
      "Epoch: [29][7][60] Train loss: 0.0025 (0.0215) Reg loss: 0.0008 (0.0015):  42%|████▏     | 63/150 [00:18<00:25,  3.47it/s]\n",
      "Epoch: [29][8][60] Train loss: 0.0159 (0.0202) Reg loss: 0.0009 (0.0014):  42%|████▏     | 63/150 [00:18<00:24,  3.48it/s]\n",
      "Epoch: [29][9][60] Train loss: 0.0016 (0.0199) Reg loss: 0.0018 (0.0014):  42%|████▏     | 63/150 [00:18<00:25,  3.42it/s]\n",
      "Epoch: [29][10][60] Train loss: 0.0043 (0.0194) Reg loss: 0.0006 (0.0014):  42%|████▏     | 63/150 [00:17<00:23,  3.63it/s]\n",
      "Epoch: [29][11][60] Train loss: 0.0066 (0.0187) Reg loss: 0.0006 (0.0014):  42%|████▏     | 63/150 [00:16<00:22,  3.90it/s]\n",
      "Epoch: [29][12][60] Train loss: 0.0019 (0.0183) Reg loss: 0.0005 (0.0013):  42%|████▏     | 63/150 [00:16<00:22,  3.85it/s]\n",
      "Epoch: [30][1][60] Train loss: 0.0069 (0.0270) Reg loss: 0.0014 (0.0015):  42%|████▏     | 63/150 [00:16<00:22,  3.87it/s]\n",
      "Epoch: [30][2][60] Train loss: 0.0072 (0.0218) Reg loss: 0.0003 (0.0014):  42%|████▏     | 63/150 [00:16<00:22,  3.82it/s]\n",
      "Epoch: [30][3][60] Train loss: 0.0436 (0.0206) Reg loss: 0.0018 (0.0014):  42%|████▏     | 63/150 [00:16<00:23,  3.75it/s]\n",
      "Epoch: [30][4][60] Train loss: 0.0011 (0.0173) Reg loss: 0.0007 (0.0013):  42%|████▏     | 63/150 [00:16<00:22,  3.82it/s]\n",
      "Epoch: [30][5][60] Train loss: 0.0186 (0.0156) Reg loss: 0.0023 (0.0012):  42%|████▏     | 63/150 [00:16<00:22,  3.85it/s]\n",
      "Epoch: [30][6][60] Train loss: 0.0021 (0.0152) Reg loss: 0.0006 (0.0012):  42%|████▏     | 63/150 [00:16<00:22,  3.88it/s]\n",
      "Epoch: [30][7][60] Train loss: 0.0011 (0.0148) Reg loss: 0.0013 (0.0012):  42%|████▏     | 63/150 [00:16<00:22,  3.83it/s]\n",
      "Epoch: [30][8][60] Train loss: 0.0020 (0.0141) Reg loss: 0.0058 (0.0012):  42%|████▏     | 63/150 [00:17<00:23,  3.70it/s]\n",
      "Epoch: [30][9][60] Train loss: 0.0028 (0.0138) Reg loss: 0.0005 (0.0012):  42%|████▏     | 63/150 [00:16<00:22,  3.86it/s]\n",
      "Epoch: [30][10][60] Train loss: 0.0165 (0.0147) Reg loss: 0.0006 (0.0012):  42%|████▏     | 63/150 [00:16<00:22,  3.89it/s]\n",
      "Epoch: [30][11][60] Train loss: 0.0043 (0.0147) Reg loss: 0.0009 (0.0012):  42%|████▏     | 63/150 [00:16<00:22,  3.86it/s]\n",
      "Epoch: [30][12][60] Train loss: 0.0101 (0.0142) Reg loss: 0.0010 (0.0011):  42%|████▏     | 63/150 [00:16<00:22,  3.90it/s]\n"
     ]
    },
    {
     "name": "stdout",
     "output_type": "stream",
     "text": [
      "best loss: 0.0211\n",
      "\n"
     ]
    },
    {
     "name": "stderr",
     "output_type": "stream",
     "text": [
      "Epoch: [31][1][60] Train loss: 0.0056 (0.0161) Reg loss: 0.0017 (0.0014):  42%|████▏     | 63/150 [00:17<00:23,  3.69it/s]\n",
      "Epoch: [31][2][60] Train loss: 0.0074 (0.0145) Reg loss: 0.0007 (0.0014):  42%|████▏     | 63/150 [00:16<00:22,  3.82it/s]\n",
      "Epoch: [31][3][60] Train loss: 0.0007 (0.0139) Reg loss: 0.0005 (0.0014):  42%|████▏     | 63/150 [00:17<00:24,  3.54it/s]\n",
      "Epoch: [31][4][60] Train loss: 0.0015 (0.0146) Reg loss: 0.0005 (0.0014):  42%|████▏     | 63/150 [00:18<00:25,  3.43it/s]\n",
      "Epoch: [31][5][60] Train loss: 0.0318 (0.0183) Reg loss: 0.0029 (0.0014):  42%|████▏     | 63/150 [00:18<00:25,  3.47it/s]\n",
      "Epoch: [31][6][60] Train loss: 0.0060 (0.0179) Reg loss: 0.0010 (0.0014):  42%|████▏     | 63/150 [00:18<00:24,  3.48it/s]\n",
      "Epoch: [31][7][60] Train loss: 0.0629 (0.0198) Reg loss: 0.0015 (0.0014):  42%|████▏     | 63/150 [00:18<00:25,  3.48it/s]\n",
      "Epoch: [31][8][60] Train loss: 0.0041 (0.0190) Reg loss: 0.0018 (0.0014):  42%|████▏     | 63/150 [00:18<00:25,  3.48it/s]\n",
      "Epoch: [31][9][60] Train loss: 0.0020 (0.0188) Reg loss: 0.0009 (0.0014):  42%|████▏     | 63/150 [00:18<00:25,  3.48it/s]\n",
      "Epoch: [31][10][60] Train loss: 0.0009 (0.0178) Reg loss: 0.0005 (0.0013):  42%|████▏     | 63/150 [00:18<00:25,  3.47it/s]\n",
      "Epoch: [31][11][60] Train loss: 0.0021 (0.0170) Reg loss: 0.0004 (0.0013):  42%|████▏     | 63/150 [00:18<00:25,  3.48it/s]\n",
      "Epoch: [31][12][60] Train loss: 0.0151 (0.0167) Reg loss: 0.0020 (0.0013):  42%|████▏     | 63/150 [00:18<00:25,  3.45it/s]\n",
      "Epoch: [32][1][60] Train loss: 0.0033 (0.0192) Reg loss: 0.0008 (0.0012):  42%|████▏     | 63/150 [00:18<00:25,  3.39it/s]\n",
      "Epoch: [32][2][60] Train loss: 0.0008 (0.0310) Reg loss: 0.0004 (0.0015):  42%|████▏     | 63/150 [00:18<00:25,  3.39it/s]\n",
      "Epoch: [32][3][60] Train loss: 0.0372 (0.0326) Reg loss: 0.0038 (0.0016):  42%|████▏     | 63/150 [00:18<00:25,  3.40it/s]\n",
      "Epoch: [32][4][60] Train loss: 0.0174 (0.0290) Reg loss: 0.0011 (0.0015):  42%|████▏     | 63/150 [00:18<00:25,  3.45it/s]\n",
      "Epoch: [32][5][60] Train loss: 0.0090 (0.0258) Reg loss: 0.0017 (0.0015):  42%|████▏     | 63/150 [00:18<00:25,  3.45it/s]\n",
      "Epoch: [32][6][60] Train loss: 0.0008 (0.0243) Reg loss: 0.0007 (0.0015):  42%|████▏     | 63/150 [00:18<00:25,  3.41it/s]\n",
      "Epoch: [32][7][60] Train loss: 0.1259 (0.0236) Reg loss: 0.0028 (0.0014):  42%|████▏     | 63/150 [00:18<00:25,  3.41it/s]\n",
      "Epoch: [32][8][60] Train loss: 0.0054 (0.0228) Reg loss: 0.0011 (0.0014):  42%|████▏     | 63/150 [00:18<00:24,  3.49it/s]\n",
      "Epoch: [32][9][60] Train loss: 0.0041 (0.0217) Reg loss: 0.0012 (0.0014):  42%|████▏     | 63/150 [00:18<00:24,  3.48it/s]\n",
      "Epoch: [32][10][60] Train loss: 0.0019 (0.0207) Reg loss: 0.0010 (0.0013):  42%|████▏     | 63/150 [00:17<00:24,  3.51it/s]\n",
      "Epoch: [32][11][60] Train loss: 0.0029 (0.0200) Reg loss: 0.0008 (0.0013):  42%|████▏     | 63/150 [00:18<00:25,  3.42it/s]\n",
      "Epoch: [32][12][60] Train loss: 0.0752 (0.0271) Reg loss: 0.0023 (0.0016):  42%|████▏     | 63/150 [00:18<00:25,  3.41it/s]\n",
      "Epoch: [33][1][60] Train loss: 0.0059 (0.0587) Reg loss: 0.0015 (0.0029):  42%|████▏     | 63/150 [00:18<00:25,  3.40it/s]\n",
      "Epoch: [33][2][60] Train loss: 0.0035 (0.0491) Reg loss: 0.0014 (0.0025):  42%|████▏     | 63/150 [00:18<00:25,  3.47it/s]\n",
      "Epoch: [33][3][60] Train loss: 0.0024 (0.0498) Reg loss: 0.0008 (0.0023):  42%|████▏     | 63/150 [00:18<00:25,  3.43it/s]\n",
      "Epoch: [33][4][60] Train loss: 0.0046 (0.0475) Reg loss: 0.0010 (0.0023):  42%|████▏     | 63/150 [00:18<00:24,  3.48it/s]\n",
      "Epoch: [33][5][60] Train loss: 0.0180 (0.0432) Reg loss: 0.0007 (0.0022):  42%|████▏     | 63/150 [00:18<00:25,  3.43it/s]\n",
      "Epoch: [33][6][60] Train loss: 0.0073 (0.0396) Reg loss: 0.0007 (0.0021):  42%|████▏     | 63/150 [00:18<00:25,  3.47it/s]\n",
      "Epoch: [33][7][60] Train loss: 0.0021 (0.0384) Reg loss: 0.0007 (0.0020):  42%|████▏     | 63/150 [00:18<00:25,  3.47it/s]\n",
      "Epoch: [33][8][60] Train loss: 0.0017 (0.0382) Reg loss: 0.0006 (0.0019):  42%|████▏     | 63/150 [00:17<00:24,  3.51it/s]\n",
      "Epoch: [33][9][60] Train loss: 0.0114 (0.0366) Reg loss: 0.0010 (0.0019):  42%|████▏     | 63/150 [00:17<00:24,  3.51it/s]\n",
      "Epoch: [33][10][60] Train loss: 0.0532 (0.0359) Reg loss: 0.0007 (0.0018):  42%|████▏     | 63/150 [00:18<00:25,  3.45it/s]\n",
      "Epoch: [33][11][60] Train loss: 0.0012 (0.0345) Reg loss: 0.0014 (0.0018):  42%|████▏     | 63/150 [00:18<00:25,  3.45it/s]\n",
      "Epoch: [33][12][60] Train loss: 0.0065 (0.0333) Reg loss: 0.0009 (0.0017):  42%|████▏     | 63/150 [00:18<00:25,  3.40it/s]\n",
      "Epoch: [34][1][60] Train loss: 0.0045 (0.0222) Reg loss: 0.0009 (0.0014):  42%|████▏     | 63/150 [00:18<00:25,  3.45it/s]\n",
      "Epoch: [34][2][60] Train loss: 0.0927 (0.0182) Reg loss: 0.0025 (0.0013):  42%|████▏     | 63/150 [00:18<00:25,  3.44it/s]\n",
      "Epoch: [34][3][60] Train loss: 0.0101 (0.0215) Reg loss: 0.0009 (0.0013):  42%|████▏     | 63/150 [00:18<00:25,  3.44it/s]\n",
      "Epoch: [34][4][60] Train loss: 0.0008 (0.0187) Reg loss: 0.0004 (0.0012):  42%|████▏     | 63/150 [00:18<00:25,  3.41it/s]\n",
      "Epoch: [34][5][60] Train loss: 0.0073 (0.0183) Reg loss: 0.0010 (0.0012):  42%|████▏     | 63/150 [00:18<00:24,  3.50it/s]\n",
      "Epoch: [34][6][60] Train loss: 0.0756 (0.0231) Reg loss: 0.0027 (0.0014):  42%|████▏     | 63/150 [00:18<00:25,  3.43it/s]\n",
      "Epoch: [34][7][60] Train loss: 0.0075 (0.0230) Reg loss: 0.0017 (0.0014):  42%|████▏     | 63/150 [00:17<00:23,  3.66it/s]\n",
      "Epoch: [34][8][60] Train loss: 0.0011 (0.0219) Reg loss: 0.0003 (0.0014):  42%|████▏     | 63/150 [00:16<00:22,  3.81it/s]\n",
      "Epoch: [34][9][60] Train loss: 0.0430 (0.0222) Reg loss: 0.0032 (0.0014):  42%|████▏     | 63/150 [00:16<00:22,  3.81it/s]\n",
      "Epoch: [34][10][60] Train loss: 0.0031 (0.0221) Reg loss: 0.0012 (0.0014):  42%|████▏     | 63/150 [00:16<00:22,  3.84it/s]\n",
      "Epoch: [34][11][60] Train loss: 0.0394 (0.0271) Reg loss: 0.0015 (0.0016):  42%|████▏     | 63/150 [00:16<00:22,  3.83it/s]\n",
      "Epoch: [34][12][60] Train loss: 0.0013 (0.0286) Reg loss: 0.0010 (0.0017):  42%|████▏     | 63/150 [00:16<00:22,  3.86it/s]\n",
      "Epoch: [35][1][60] Train loss: 0.0669 (0.0296) Reg loss: 0.0228 (0.0025):  42%|████▏     | 63/150 [00:16<00:22,  3.83it/s]\n",
      "Epoch: [35][2][60] Train loss: 0.0641 (0.0292) Reg loss: 0.0023 (0.0021):  42%|████▏     | 63/150 [00:16<00:23,  3.74it/s]\n",
      "Epoch: [35][3][60] Train loss: 0.0056 (0.0324) Reg loss: 0.0014 (0.0020):  42%|████▏     | 63/150 [00:16<00:22,  3.86it/s]\n",
      "Epoch: [35][4][60] Train loss: 0.0008 (0.0283) Reg loss: 0.0009 (0.0019):  42%|████▏     | 63/150 [00:16<00:22,  3.86it/s]\n",
      "Epoch: [35][5][60] Train loss: 0.0083 (0.0247) Reg loss: 0.0006 (0.0017):  42%|████▏     | 63/150 [00:16<00:22,  3.94it/s]\n",
      "Epoch: [35][6][60] Train loss: 0.0347 (0.0225) Reg loss: 0.0009 (0.0016):  42%|████▏     | 63/150 [00:16<00:22,  3.90it/s]\n",
      "Epoch: [35][7][60] Train loss: 0.0135 (0.0239) Reg loss: 0.0008 (0.0016):  42%|████▏     | 63/150 [00:16<00:22,  3.87it/s]\n",
      "Epoch: [35][8][60] Train loss: 0.0058 (0.0264) Reg loss: 0.0011 (0.0016):  42%|████▏     | 63/150 [00:16<00:22,  3.84it/s]\n",
      "Epoch: [35][9][60] Train loss: 0.2619 (0.0261) Reg loss: 0.0042 (0.0016):  42%|████▏     | 63/150 [00:16<00:23,  3.74it/s]\n",
      "Epoch: [35][10][60] Train loss: 0.0027 (0.0248) Reg loss: 0.0017 (0.0015):  42%|████▏     | 63/150 [00:18<00:24,  3.48it/s]\n",
      "Epoch: [35][11][60] Train loss: 0.0019 (0.0238) Reg loss: 0.0007 (0.0015):  42%|████▏     | 63/150 [00:17<00:24,  3.52it/s]\n",
      "Epoch: [35][12][60] Train loss: 0.0012 (0.0235) Reg loss: 0.0007 (0.0014):  42%|████▏     | 63/150 [00:18<00:25,  3.43it/s]\n",
      "Epoch: [36][1][60] Train loss: 0.0046 (0.0337) Reg loss: 0.0011 (0.0015):  42%|████▏     | 63/150 [00:18<00:25,  3.47it/s]\n",
      "Epoch: [36][2][60] Train loss: 0.0337 (0.0270) Reg loss: 0.0013 (0.0014):  42%|████▏     | 63/150 [00:18<00:25,  3.42it/s]\n",
      "Epoch: [36][3][60] Train loss: 0.0068 (0.0217) Reg loss: 0.0004 (0.0013):  42%|████▏     | 63/150 [00:18<00:25,  3.46it/s]\n",
      "Epoch: [36][4][60] Train loss: 0.0021 (0.0257) Reg loss: 0.0004 (0.0013):  42%|████▏     | 63/150 [00:18<00:25,  3.41it/s]\n",
      "Epoch: [36][5][60] Train loss: 0.0156 (0.0234) Reg loss: 0.0012 (0.0013):  42%|████▏     | 63/150 [00:18<00:25,  3.48it/s]\n",
      "Epoch: [36][6][60] Train loss: 0.0064 (0.0219) Reg loss: 0.0004 (0.0013):  42%|████▏     | 63/150 [00:18<00:25,  3.47it/s]\n",
      "Epoch: [36][7][60] Train loss: 0.0064 (0.0212) Reg loss: 0.0017 (0.0013):  42%|████▏     | 63/150 [00:17<00:24,  3.51it/s]\n",
      "Epoch: [36][8][60] Train loss: 0.0205 (0.0212) Reg loss: 0.0009 (0.0013):  42%|████▏     | 63/150 [00:18<00:25,  3.45it/s]\n",
      "Epoch: [36][9][60] Train loss: 0.0067 (0.0206) Reg loss: 0.0014 (0.0013):  42%|████▏     | 63/150 [00:18<00:25,  3.46it/s]\n",
      "Epoch: [36][10][60] Train loss: 0.0827 (0.0210) Reg loss: 0.0021 (0.0013):  42%|████▏     | 63/150 [00:18<00:25,  3.44it/s]\n",
      "Epoch: [36][11][60] Train loss: 0.0292 (0.0209) Reg loss: 0.0018 (0.0013):  42%|████▏     | 63/150 [00:18<00:25,  3.45it/s]\n",
      "Epoch: [36][12][60] Train loss: 0.0022 (0.0199) Reg loss: 0.0003 (0.0012):  42%|████▏     | 63/150 [00:17<00:24,  3.52it/s]\n",
      "Epoch: [37][1][60] Train loss: 0.0017 (0.0191) Reg loss: 0.0004 (0.0012):  42%|████▏     | 63/150 [00:18<00:25,  3.44it/s]\n",
      "Epoch: [37][2][60] Train loss: 0.0522 (0.0159) Reg loss: 0.0023 (0.0011):  42%|████▏     | 63/150 [00:18<00:24,  3.49it/s]\n",
      "Epoch: [37][3][60] Train loss: 0.0232 (0.0170) Reg loss: 0.0009 (0.0011):  42%|████▏     | 63/150 [00:17<00:24,  3.51it/s]\n",
      "Epoch: [37][4][60] Train loss: 0.0048 (0.0174) Reg loss: 0.0005 (0.0012):  42%|████▏     | 63/150 [00:17<00:24,  3.50it/s]\n",
      "Epoch: [37][5][60] Train loss: 0.0168 (0.0166) Reg loss: 0.0004 (0.0011):  42%|████▏     | 63/150 [00:17<00:24,  3.56it/s]\n",
      "Epoch: [37][6][60] Train loss: 0.0013 (0.0175) Reg loss: 0.0008 (0.0011):  42%|████▏     | 63/150 [00:18<00:24,  3.50it/s]\n",
      "Epoch: [37][7][60] Train loss: 0.0012 (0.0220) Reg loss: 0.0004 (0.0012):  42%|████▏     | 63/150 [00:18<00:25,  3.45it/s]\n",
      "Epoch: [37][8][60] Train loss: 0.0059 (0.0271) Reg loss: 0.0015 (0.0014):  42%|████▏     | 63/150 [00:18<00:24,  3.50it/s]\n",
      "Epoch: [37][9][60] Train loss: 0.0164 (0.0329) Reg loss: 0.0012 (0.0016):  42%|████▏     | 63/150 [00:17<00:24,  3.52it/s]\n",
      "Epoch: [37][10][60] Train loss: 0.0575 (0.0451) Reg loss: 0.0027 (0.0020):  42%|████▏     | 63/150 [00:18<00:24,  3.49it/s]\n",
      "Epoch: [37][11][60] Train loss: 0.0301 (0.0437) Reg loss: 0.0033 (0.0020):  42%|████▏     | 63/150 [00:17<00:24,  3.51it/s]\n",
      "Epoch: [37][12][60] Train loss: 0.0038 (0.0420) Reg loss: 0.0007 (0.0020):  42%|████▏     | 63/150 [00:17<00:24,  3.55it/s]\n",
      "Epoch: [38][1][60] Train loss: 0.0199 (0.0381) Reg loss: 0.0024 (0.0018):  42%|████▏     | 63/150 [00:17<00:24,  3.51it/s]\n",
      "Epoch: [38][2][60] Train loss: 0.0033 (0.0288) Reg loss: 0.0018 (0.0016):  42%|████▏     | 63/150 [00:17<00:24,  3.50it/s]\n",
      "Epoch: [38][3][60] Train loss: 0.0033 (0.0265) Reg loss: 0.0012 (0.0015):  42%|████▏     | 63/150 [00:17<00:24,  3.60it/s]\n",
      "Epoch: [38][4][60] Train loss: 0.0107 (0.0260) Reg loss: 0.0011 (0.0014):  42%|████▏     | 63/150 [00:17<00:24,  3.53it/s]\n",
      "Epoch: [38][5][60] Train loss: 0.0018 (0.0249) Reg loss: 0.0005 (0.0014):  42%|████▏     | 63/150 [00:17<00:24,  3.54it/s]\n",
      "Epoch: [38][6][60] Train loss: 0.0684 (0.0234) Reg loss: 0.0017 (0.0014):  42%|████▏     | 63/150 [00:18<00:25,  3.46it/s]\n",
      "Epoch: [38][7][60] Train loss: 0.0120 (0.0252) Reg loss: 0.0007 (0.0014):  42%|████▏     | 63/150 [00:17<00:24,  3.51it/s]\n",
      "Epoch: [38][8][60] Train loss: 0.0020 (0.0232) Reg loss: 0.0005 (0.0014):  42%|████▏     | 63/150 [00:17<00:24,  3.52it/s]\n",
      "Epoch: [38][9][60] Train loss: 0.0192 (0.0218) Reg loss: 0.0009 (0.0013):  42%|████▏     | 63/150 [00:18<00:25,  3.46it/s]\n",
      "Epoch: [38][10][60] Train loss: 0.0142 (0.0218) Reg loss: 0.0007 (0.0013):  42%|████▏     | 63/150 [00:18<00:25,  3.48it/s]\n",
      "Epoch: [38][11][60] Train loss: 0.0025 (0.0232) Reg loss: 0.0004 (0.0013):  42%|████▏     | 63/150 [00:18<00:24,  3.48it/s]\n",
      "Epoch: [38][12][60] Train loss: 0.0075 (0.0226) Reg loss: 0.0022 (0.0013):  42%|████▏     | 63/150 [00:17<00:24,  3.51it/s]\n",
      "Epoch: [39][1][60] Train loss: 0.0045 (0.0328) Reg loss: 0.0009 (0.0015):  42%|████▏     | 63/150 [00:17<00:24,  3.51it/s]\n",
      "Epoch: [39][2][60] Train loss: 0.0012 (0.0238) Reg loss: 0.0003 (0.0013):  42%|████▏     | 63/150 [00:18<00:24,  3.50it/s]\n",
      "Epoch: [39][3][60] Train loss: 0.0139 (0.0210) Reg loss: 0.0008 (0.0013):  42%|████▏     | 63/150 [00:17<00:24,  3.54it/s]\n",
      "Epoch: [39][4][60] Train loss: 0.0057 (0.0201) Reg loss: 0.0015 (0.0013):  42%|████▏     | 63/150 [00:17<00:24,  3.56it/s]\n",
      "Epoch: [39][5][60] Train loss: 0.0023 (0.0188) Reg loss: 0.0017 (0.0013):  42%|████▏     | 63/150 [00:17<00:24,  3.51it/s]\n",
      "Epoch: [39][6][60] Train loss: 0.0724 (0.0180) Reg loss: 0.0016 (0.0012):  42%|████▏     | 63/150 [00:17<00:24,  3.53it/s]\n",
      "Epoch: [39][7][60] Train loss: 0.0056 (0.0172) Reg loss: 0.0006 (0.0012):  42%|████▏     | 63/150 [00:18<00:24,  3.49it/s]\n",
      "Epoch: [39][8][60] Train loss: 0.0005 (0.0166) Reg loss: 0.0008 (0.0012):  42%|████▏     | 63/150 [00:17<00:24,  3.55it/s]\n",
      "Epoch: [39][9][60] Train loss: 0.0081 (0.0156) Reg loss: 0.0009 (0.0011):  42%|████▏     | 63/150 [00:18<00:25,  3.45it/s]\n",
      "Epoch: [39][10][60] Train loss: 0.0011 (0.0149) Reg loss: 0.0008 (0.0011):  42%|████▏     | 63/150 [00:18<00:25,  3.47it/s]\n",
      "Epoch: [39][11][60] Train loss: 0.0010 (0.0142) Reg loss: 0.0008 (0.0010):  42%|████▏     | 63/150 [00:18<00:24,  3.49it/s]\n",
      "Epoch: [39][12][60] Train loss: 0.0105 (0.0142) Reg loss: 0.0009 (0.0010):  42%|████▏     | 63/150 [00:18<00:24,  3.50it/s]\n",
      "Epoch: [40][1][60] Train loss: 0.0065 (0.0215) Reg loss: 0.0012 (0.0014):  42%|████▏     | 63/150 [00:17<00:23,  3.64it/s]\n",
      "Epoch: [40][2][60] Train loss: 0.0004 (0.0159) Reg loss: 0.0004 (0.0012):  42%|████▏     | 63/150 [00:16<00:22,  3.93it/s]\n",
      "Epoch: [40][3][60] Train loss: 0.0051 (0.0199) Reg loss: 0.0009 (0.0013):  42%|████▏     | 63/150 [00:16<00:22,  3.90it/s]\n",
      "Epoch: [40][4][60] Train loss: 0.0021 (0.0180) Reg loss: 0.0007 (0.0013):  42%|████▏     | 63/150 [00:16<00:22,  3.89it/s]\n",
      "Epoch: [40][5][60] Train loss: 0.0050 (0.0159) Reg loss: 0.0005 (0.0012):  42%|████▏     | 63/150 [00:16<00:22,  3.90it/s]\n",
      "Epoch: [40][6][60] Train loss: 0.0150 (0.0147) Reg loss: 0.0009 (0.0012):  42%|████▏     | 63/150 [00:15<00:21,  3.97it/s]\n",
      "Epoch: [40][7][60] Train loss: 0.0040 (0.0140) Reg loss: 0.0005 (0.0011):  42%|████▏     | 63/150 [00:16<00:23,  3.77it/s]\n",
      "Epoch: [40][8][60] Train loss: 0.0015 (0.0133) Reg loss: 0.0006 (0.0011):  42%|████▏     | 63/150 [00:16<00:22,  3.92it/s]\n",
      "Epoch: [40][9][60] Train loss: 0.0006 (0.0124) Reg loss: 0.0016 (0.0010):  42%|████▏     | 63/150 [00:15<00:22,  3.94it/s]\n",
      "Epoch: [40][10][60] Train loss: 0.0007 (0.0124) Reg loss: 0.0005 (0.0010):  42%|████▏     | 63/150 [00:16<00:22,  3.89it/s]\n",
      "Epoch: [40][11][60] Train loss: 0.0012 (0.0122) Reg loss: 0.0006 (0.0010):  42%|████▏     | 63/150 [00:15<00:21,  3.96it/s]\n",
      "Epoch: [40][12][60] Train loss: 0.0030 (0.0120) Reg loss: 0.0007 (0.0010):  42%|████▏     | 63/150 [00:16<00:22,  3.93it/s]\n"
     ]
    },
    {
     "name": "stdout",
     "output_type": "stream",
     "text": [
      "best loss: 0.0180\n",
      "\n"
     ]
    },
    {
     "name": "stderr",
     "output_type": "stream",
     "text": [
      "Epoch: [41][1][60] Train loss: 0.0053 (0.0085) Reg loss: 0.0027 (0.0009):  42%|████▏     | 63/150 [00:16<00:22,  3.82it/s]\n",
      "Epoch: [41][2][60] Train loss: 0.0013 (0.0111) Reg loss: 0.0008 (0.0009):  42%|████▏     | 63/150 [00:16<00:22,  3.83it/s]\n",
      "Epoch: [41][3][60] Train loss: 0.0013 (0.0104) Reg loss: 0.0008 (0.0010):  42%|████▏     | 63/150 [00:15<00:21,  3.98it/s]\n",
      "Epoch: [41][4][60] Train loss: 0.0006 (0.0094) Reg loss: 0.0007 (0.0009):  42%|████▏     | 63/150 [00:16<00:22,  3.89it/s]\n",
      "Epoch: [41][5][60] Train loss: 0.0055 (0.0096) Reg loss: 0.0007 (0.0009):  42%|████▏     | 63/150 [00:16<00:22,  3.90it/s]\n",
      "Epoch: [41][6][60] Train loss: 0.0019 (0.0096) Reg loss: 0.0007 (0.0009):  42%|████▏     | 63/150 [00:15<00:22,  3.94it/s]\n",
      "Epoch: [41][7][60] Train loss: 0.0019 (0.0099) Reg loss: 0.0007 (0.0009):  42%|████▏     | 63/150 [00:16<00:23,  3.75it/s]\n",
      "Epoch: [41][8][60] Train loss: 0.1532 (0.0112) Reg loss: 0.0027 (0.0009):  42%|████▏     | 63/150 [00:16<00:22,  3.93it/s]\n",
      "Epoch: [41][9][60] Train loss: 0.0022 (0.0123) Reg loss: 0.0005 (0.0009):  42%|████▏     | 63/150 [00:16<00:23,  3.75it/s]\n",
      "Epoch: [41][10][60] Train loss: 0.0005 (0.0128) Reg loss: 0.0006 (0.0009):  42%|████▏     | 63/150 [00:16<00:22,  3.90it/s]\n",
      "Epoch: [41][11][60] Train loss: 0.0009 (0.0120) Reg loss: 0.0003 (0.0009):  42%|████▏     | 63/150 [00:16<00:23,  3.78it/s]\n",
      "Epoch: [41][12][60] Train loss: 0.0042 (0.0114) Reg loss: 0.0004 (0.0009):  42%|████▏     | 63/150 [00:16<00:22,  3.92it/s]\n",
      "Epoch: [42][1][60] Train loss: 0.0984 (0.0241) Reg loss: 0.0020 (0.0012):  42%|████▏     | 63/150 [00:15<00:21,  3.99it/s]\n",
      "Epoch: [42][2][60] Train loss: 0.0011 (0.0233) Reg loss: 0.0012 (0.0012):  42%|████▏     | 63/150 [00:15<00:21,  3.96it/s]\n",
      "Epoch: [42][3][60] Train loss: 0.0038 (0.0203) Reg loss: 0.0005 (0.0012):  42%|████▏     | 63/150 [00:16<00:22,  3.90it/s]\n",
      "Epoch: [42][4][60] Train loss: 0.0044 (0.0174) Reg loss: 0.0007 (0.0012):  42%|████▏     | 63/150 [00:16<00:22,  3.79it/s]\n",
      "Epoch: [42][5][60] Train loss: 0.0048 (0.0172) Reg loss: 0.0017 (0.0012):  42%|████▏     | 63/150 [00:15<00:21,  4.00it/s]\n",
      "Epoch: [42][6][60] Train loss: 0.0021 (0.0159) Reg loss: 0.0003 (0.0011):  42%|████▏     | 63/150 [00:15<00:21,  3.96it/s]\n",
      "Epoch: [42][7][60] Train loss: 0.0037 (0.0153) Reg loss: 0.0007 (0.0011):  42%|████▏     | 63/150 [00:16<00:22,  3.82it/s]\n",
      "Epoch: [42][8][60] Train loss: 0.0027 (0.0142) Reg loss: 0.0005 (0.0011):  42%|████▏     | 63/150 [00:15<00:22,  3.94it/s]\n",
      "Epoch: [42][9][60] Train loss: 0.0018 (0.0136) Reg loss: 0.0007 (0.0010):  42%|████▏     | 63/150 [00:16<00:23,  3.72it/s]\n",
      "Epoch: [42][10][60] Train loss: 0.0019 (0.0140) Reg loss: 0.0003 (0.0010):  42%|████▏     | 63/150 [00:17<00:24,  3.59it/s]\n",
      "Epoch: [42][11][60] Train loss: 0.0056 (0.0136) Reg loss: 0.0008 (0.0010):  42%|████▏     | 63/150 [00:17<00:24,  3.51it/s]\n",
      "Epoch: [42][12][60] Train loss: 0.0184 (0.0137) Reg loss: 0.0012 (0.0010):  42%|████▏     | 63/150 [00:17<00:24,  3.53it/s]\n",
      "Epoch: [43][1][60] Train loss: 0.0418 (0.0261) Reg loss: 0.0017 (0.0016):  42%|████▏     | 63/150 [00:17<00:24,  3.59it/s]\n",
      "Epoch: [43][2][60] Train loss: 0.0200 (0.0240) Reg loss: 0.0012 (0.0015):  42%|████▏     | 63/150 [00:17<00:24,  3.53it/s]\n",
      "Epoch: [43][3][60] Train loss: 0.0122 (0.0202) Reg loss: 0.0010 (0.0013):  42%|████▏     | 63/150 [00:17<00:24,  3.58it/s]\n",
      "Epoch: [43][4][60] Train loss: 0.0023 (0.0206) Reg loss: 0.0005 (0.0014):  42%|████▏     | 63/150 [00:17<00:24,  3.58it/s]\n",
      "Epoch: [43][5][60] Train loss: 0.0015 (0.0178) Reg loss: 0.0009 (0.0013):  42%|████▏     | 63/150 [00:16<00:22,  3.94it/s]\n",
      "Epoch: [43][6][60] Train loss: 0.0061 (0.0167) Reg loss: 0.0004 (0.0012):  42%|████▏     | 63/150 [00:16<00:22,  3.82it/s]\n",
      "Epoch: [43][7][60] Train loss: 0.0013 (0.0156) Reg loss: 0.0003 (0.0012):  42%|████▏     | 63/150 [00:15<00:21,  3.97it/s]\n",
      "Epoch: [43][8][60] Train loss: 0.0041 (0.0159) Reg loss: 0.0009 (0.0011):  42%|████▏     | 63/150 [00:15<00:22,  3.94it/s]\n",
      "Epoch: [43][9][60] Train loss: 0.0029 (0.0151) Reg loss: 0.0020 (0.0011):  42%|████▏     | 63/150 [00:16<00:22,  3.91it/s]\n",
      "Epoch: [43][10][60] Train loss: 0.0029 (0.0152) Reg loss: 0.0004 (0.0011):  42%|████▏     | 63/150 [00:15<00:22,  3.94it/s]\n",
      "Epoch: [43][11][60] Train loss: 0.0036 (0.0160) Reg loss: 0.0003 (0.0011):  42%|████▏     | 63/150 [00:15<00:21,  3.97it/s]\n",
      "Epoch: [43][12][60] Train loss: 0.0042 (0.0159) Reg loss: 0.0008 (0.0011):  42%|████▏     | 63/150 [00:15<00:22,  3.95it/s]\n",
      "Epoch: [44][1][60] Train loss: 0.0026 (0.0243) Reg loss: 0.0009 (0.0013):  42%|████▏     | 63/150 [00:16<00:22,  3.88it/s]\n",
      "Epoch: [44][2][60] Train loss: 0.0006 (0.0184) Reg loss: 0.0007 (0.0012):  42%|████▏     | 63/150 [00:16<00:22,  3.87it/s]\n",
      "Epoch: [44][3][60] Train loss: 0.0380 (0.0165) Reg loss: 0.0009 (0.0011):  42%|████▏     | 63/150 [00:16<00:22,  3.90it/s]\n",
      "Epoch: [44][4][60] Train loss: 0.0079 (0.0144) Reg loss: 0.0017 (0.0010):  42%|████▏     | 63/150 [00:16<00:22,  3.91it/s]\n",
      "Epoch: [44][5][60] Train loss: 0.0033 (0.0125) Reg loss: 0.0009 (0.0010):  42%|████▏     | 63/150 [00:16<00:22,  3.92it/s]\n",
      "Epoch: [44][6][60] Train loss: 0.0566 (0.0123) Reg loss: 0.0024 (0.0010):  42%|████▏     | 63/150 [00:16<00:22,  3.93it/s]\n",
      "Epoch: [44][7][60] Train loss: 0.0010 (0.0120) Reg loss: 0.0006 (0.0010):  42%|████▏     | 63/150 [00:16<00:22,  3.90it/s]\n",
      "Epoch: [44][8][60] Train loss: 0.0015 (0.0111) Reg loss: 0.0004 (0.0009):  42%|████▏     | 63/150 [00:16<00:22,  3.87it/s]\n",
      "Epoch: [44][9][60] Train loss: 0.0042 (0.0121) Reg loss: 0.0004 (0.0009):  42%|████▏     | 63/150 [00:16<00:22,  3.79it/s]\n",
      "Epoch: [44][10][60] Train loss: 0.0449 (0.0131) Reg loss: 0.0016 (0.0009):  42%|████▏     | 63/150 [00:16<00:22,  3.79it/s]\n",
      "Epoch: [44][11][60] Train loss: 0.0013 (0.0125) Reg loss: 0.0006 (0.0009):  42%|████▏     | 63/150 [00:17<00:24,  3.62it/s]\n",
      "Epoch: [44][12][60] Train loss: 0.0032 (0.0134) Reg loss: 0.0024 (0.0009):  42%|████▏     | 63/150 [00:17<00:24,  3.50it/s]\n",
      "Epoch: [45][1][60] Train loss: 0.0037 (0.0205) Reg loss: 0.0019 (0.0012):  42%|████▏     | 63/150 [00:17<00:24,  3.52it/s]\n",
      "Epoch: [45][2][60] Train loss: 0.0013 (0.0135) Reg loss: 0.0007 (0.0011):  42%|████▏     | 63/150 [00:17<00:24,  3.54it/s]\n",
      "Epoch: [45][3][60] Train loss: 0.0027 (0.0133) Reg loss: 0.0003 (0.0010):  42%|████▏     | 63/150 [00:17<00:24,  3.57it/s]\n",
      "Epoch: [45][4][60] Train loss: 0.0079 (0.0141) Reg loss: 0.0017 (0.0011):  42%|████▏     | 63/150 [00:17<00:24,  3.56it/s]\n",
      "Epoch: [45][5][60] Train loss: 0.0009 (0.0149) Reg loss: 0.0006 (0.0011):  42%|████▏     | 63/150 [00:18<00:24,  3.49it/s]\n",
      "Epoch: [45][6][60] Train loss: 0.0029 (0.0136) Reg loss: 0.0005 (0.0010):  42%|████▏     | 63/150 [00:17<00:24,  3.51it/s]\n",
      "Epoch: [45][7][60] Train loss: 0.0081 (0.0125) Reg loss: 0.0008 (0.0010):  42%|████▏     | 63/150 [00:18<00:24,  3.49it/s]\n",
      "Epoch: [45][8][60] Train loss: 0.0021 (0.0120) Reg loss: 0.0006 (0.0010):  42%|████▏     | 63/150 [00:17<00:24,  3.54it/s]\n",
      "Epoch: [45][9][60] Train loss: 0.0261 (0.0115) Reg loss: 0.0008 (0.0009):  42%|████▏     | 63/150 [00:17<00:24,  3.50it/s]\n",
      "Epoch: [45][10][60] Train loss: 0.0178 (0.0141) Reg loss: 0.0008 (0.0010):  42%|████▏     | 63/150 [00:17<00:24,  3.55it/s]\n",
      "Epoch: [45][11][60] Train loss: 0.0060 (0.0173) Reg loss: 0.0009 (0.0011):  42%|████▏     | 63/150 [00:17<00:24,  3.59it/s]\n",
      "Epoch: [45][12][60] Train loss: 0.0022 (0.0183) Reg loss: 0.0003 (0.0011):  42%|████▏     | 63/150 [00:17<00:24,  3.51it/s]\n",
      "Epoch: [46][1][60] Train loss: 0.0053 (0.0565) Reg loss: 0.0008 (0.0020):  42%|████▏     | 63/150 [00:17<00:24,  3.57it/s]\n",
      "Epoch: [46][2][60] Train loss: 0.0072 (0.0421) Reg loss: 0.0006 (0.0016):  42%|████▏     | 63/150 [00:17<00:24,  3.54it/s]\n",
      "Epoch: [46][3][60] Train loss: 0.0182 (0.0421) Reg loss: 0.0007 (0.0016):  42%|████▏     | 63/150 [00:17<00:24,  3.53it/s]\n",
      "Epoch: [46][4][60] Train loss: 0.0129 (0.0414) Reg loss: 0.0006 (0.0016):  42%|████▏     | 63/150 [00:17<00:24,  3.56it/s]\n",
      "Epoch: [46][5][60] Train loss: 0.0700 (0.0396) Reg loss: 0.0011 (0.0016):  42%|████▏     | 63/150 [00:17<00:24,  3.55it/s]\n",
      "Epoch: [46][6][60] Train loss: 0.1058 (0.0378) Reg loss: 0.0027 (0.0016):  42%|████▏     | 63/150 [00:18<00:25,  3.42it/s]\n",
      "Epoch: [46][7][60] Train loss: 0.0763 (0.0395) Reg loss: 0.0010 (0.0016):  42%|████▏     | 63/150 [00:18<00:24,  3.50it/s]\n",
      "Epoch: [46][8][60] Train loss: 0.0017 (0.0381) Reg loss: 0.0004 (0.0016):  42%|████▏     | 63/150 [00:17<00:23,  3.63it/s]\n",
      "Epoch: [46][9][60] Train loss: 0.0018 (0.0365) Reg loss: 0.0009 (0.0015):  42%|████▏     | 63/150 [00:18<00:25,  3.44it/s]\n",
      "Epoch: [46][10][60] Train loss: 0.0029 (0.0347) Reg loss: 0.0010 (0.0015):  42%|████▏     | 63/150 [00:17<00:24,  3.55it/s]\n",
      "Epoch: [46][11][60] Train loss: 0.0061 (0.0326) Reg loss: 0.0004 (0.0014):  42%|████▏     | 63/150 [00:17<00:24,  3.52it/s]\n",
      "Epoch: [46][12][60] Train loss: 0.0016 (0.0310) Reg loss: 0.0005 (0.0014):  42%|████▏     | 63/150 [00:18<00:25,  3.48it/s]\n",
      "Epoch: [47][1][60] Train loss: 0.0016 (0.0179) Reg loss: 0.0005 (0.0012):  42%|████▏     | 63/150 [00:17<00:24,  3.51it/s]\n",
      "Epoch: [47][2][60] Train loss: 0.0351 (0.0187) Reg loss: 0.0011 (0.0011):  42%|████▏     | 63/150 [00:17<00:24,  3.58it/s]\n",
      "Epoch: [47][3][60] Train loss: 0.0007 (0.0163) Reg loss: 0.0005 (0.0011):  42%|████▏     | 63/150 [00:18<00:25,  3.44it/s]\n",
      "Epoch: [47][4][60] Train loss: 0.0012 (0.0163) Reg loss: 0.0012 (0.0011):  42%|████▏     | 63/150 [00:18<00:24,  3.50it/s]\n",
      "Epoch: [47][5][60] Train loss: 0.0018 (0.0175) Reg loss: 0.0016 (0.0011):  42%|████▏     | 63/150 [00:17<00:24,  3.51it/s]\n",
      "Epoch: [47][6][60] Train loss: 0.0056 (0.0161) Reg loss: 0.0005 (0.0010):  42%|████▏     | 63/150 [00:18<00:24,  3.50it/s]\n",
      "Epoch: [47][7][60] Train loss: 0.0131 (0.0156) Reg loss: 0.0006 (0.0010):  42%|████▏     | 63/150 [00:16<00:23,  3.76it/s]\n",
      "Epoch: [47][8][60] Train loss: 0.0021 (0.0148) Reg loss: 0.0004 (0.0010):  42%|████▏     | 63/150 [00:17<00:24,  3.62it/s]\n",
      "Epoch: [47][9][60] Train loss: 0.8215 (0.0161) Reg loss: 0.0086 (0.0010):  42%|████▏     | 63/150 [00:16<00:23,  3.73it/s]\n",
      "Epoch: [47][10][60] Train loss: 0.0227 (0.0168) Reg loss: 0.0010 (0.0010):  42%|████▏     | 63/150 [00:17<00:24,  3.56it/s]\n",
      "Epoch: [47][11][60] Train loss: 0.0012 (0.0162) Reg loss: 0.0002 (0.0010):  42%|████▏     | 63/150 [00:18<00:24,  3.49it/s]\n",
      "Epoch: [47][12][60] Train loss: 0.0024 (0.0160) Reg loss: 0.0006 (0.0009):  42%|████▏     | 63/150 [00:17<00:24,  3.50it/s]\n",
      "Epoch: [48][1][60] Train loss: 0.0038 (0.0094) Reg loss: 0.0007 (0.0008):  42%|████▏     | 63/150 [00:18<00:24,  3.48it/s]\n",
      "Epoch: [48][2][60] Train loss: 0.0018 (0.0116) Reg loss: 0.0005 (0.0008):  42%|████▏     | 63/150 [00:17<00:24,  3.50it/s]\n",
      "Epoch: [48][3][60] Train loss: 0.0072 (0.0140) Reg loss: 0.0007 (0.0009):  42%|████▏     | 63/150 [00:17<00:24,  3.56it/s]\n",
      "Epoch: [48][4][60] Train loss: 0.0031 (0.0212) Reg loss: 0.0006 (0.0010):  42%|████▏     | 63/150 [00:17<00:24,  3.51it/s]\n",
      "Epoch: [48][5][60] Train loss: 0.0034 (0.0202) Reg loss: 0.0010 (0.0010):  42%|████▏     | 63/150 [00:18<00:25,  3.43it/s]\n",
      "Epoch: [48][6][60] Train loss: 0.0030 (0.0214) Reg loss: 0.0013 (0.0011):  42%|████▏     | 63/150 [00:17<00:24,  3.51it/s]\n",
      "Epoch: [48][7][60] Train loss: 0.0014 (0.0211) Reg loss: 0.0007 (0.0011):  42%|████▏     | 63/150 [00:17<00:24,  3.53it/s]\n",
      "Epoch: [48][8][60] Train loss: 0.0013 (0.0214) Reg loss: 0.0004 (0.0011):  42%|████▏     | 63/150 [00:17<00:24,  3.55it/s]\n",
      "Epoch: [48][9][60] Train loss: 0.0039 (0.0210) Reg loss: 0.0014 (0.0011):  42%|████▏     | 63/150 [00:18<00:25,  3.48it/s]\n",
      "Epoch: [48][10][60] Train loss: 0.0019 (0.0242) Reg loss: 0.0012 (0.0011):  42%|████▏     | 63/150 [00:18<00:25,  3.48it/s]\n",
      "Epoch: [48][11][60] Train loss: 0.0044 (0.0232) Reg loss: 0.0005 (0.0011):  42%|████▏     | 63/150 [00:17<00:24,  3.50it/s]\n",
      "Epoch: [48][12][60] Train loss: 0.0027 (0.0221) Reg loss: 0.0011 (0.0011):  42%|████▏     | 63/150 [00:17<00:24,  3.52it/s]\n",
      "Epoch: [49][1][60] Train loss: 0.0011 (0.0202) Reg loss: 0.0007 (0.0011):  42%|████▏     | 63/150 [00:18<00:25,  3.47it/s]\n",
      "Epoch: [49][2][60] Train loss: 0.0024 (0.0184) Reg loss: 0.0003 (0.0011):  42%|████▏     | 63/150 [00:17<00:24,  3.50it/s]\n",
      "Epoch: [49][3][60] Train loss: 0.0105 (0.0195) Reg loss: 0.0012 (0.0010):  42%|████▏     | 63/150 [00:17<00:24,  3.54it/s]\n",
      "Epoch: [49][4][60] Train loss: 0.0034 (0.0191) Reg loss: 0.0005 (0.0010):  42%|████▏     | 63/150 [00:17<00:24,  3.51it/s]\n",
      "Epoch: [49][5][60] Train loss: 0.0190 (0.0168) Reg loss: 0.0021 (0.0010):  42%|████▏     | 63/150 [00:17<00:24,  3.57it/s]\n",
      "Epoch: [49][6][60] Train loss: 0.0015 (0.0152) Reg loss: 0.0003 (0.0010):  42%|████▏     | 63/150 [00:17<00:24,  3.52it/s]\n",
      "Epoch: [49][7][60] Train loss: 0.0126 (0.0140) Reg loss: 0.0007 (0.0009):  42%|████▏     | 63/150 [00:18<00:24,  3.50it/s]\n",
      "Epoch: [49][8][60] Train loss: 0.0006 (0.0147) Reg loss: 0.0001 (0.0009):  42%|████▏     | 63/150 [00:17<00:24,  3.52it/s]\n",
      "Epoch: [49][9][60] Train loss: 0.0101 (0.0150) Reg loss: 0.0017 (0.0009):  42%|████▏     | 63/150 [00:18<00:25,  3.45it/s]\n",
      "Epoch: [49][10][60] Train loss: 0.0020 (0.0163) Reg loss: 0.0003 (0.0009):  42%|████▏     | 63/150 [00:18<00:24,  3.48it/s]\n",
      "Epoch: [49][11][60] Train loss: 0.0015 (0.0171) Reg loss: 0.0005 (0.0009):  42%|████▏     | 63/150 [00:17<00:24,  3.53it/s]\n",
      "Epoch: [49][12][60] Train loss: 0.0293 (0.0174) Reg loss: 0.0010 (0.0009):  42%|████▏     | 63/150 [00:17<00:24,  3.57it/s]\n"
     ]
    }
   ],
   "source": [
    "optimizer = torch.optim.Adam(model.parameters(), lr = 1e-4)\n",
    "best_loss = float('inf')\n",
    "for epoch in range(50):          \n",
    "    loss = train(epoch, model, optimizer, loader_list, cluster_path_list, device, batch_size)\n",
    "    if epoch % 5 == 0 and epoch != 0:                \n",
    "        if best_loss > loss:\n",
    "            torch.save(model, './efficient-unlimited.pt')\n",
    "            best_loss = loss\n",
    "            print(\"best loss: %.4f\\n\" % (best_loss))\n",
    "    \n",
    "torch.save(model, './efficient-last.pt')"
   ]
  }
 ],
 "metadata": {
  "kernelspec": {
   "display_name": "base",
   "language": "python",
   "name": "python3"
  },
  "language_info": {
   "codemirror_mode": {
    "name": "ipython",
    "version": 3
   },
   "file_extension": ".py",
   "mimetype": "text/x-python",
   "name": "python",
   "nbconvert_exporter": "python",
   "pygments_lexer": "ipython3",
   "version": "3.8.3"
  },
  "varInspector": {
   "cols": {
    "lenName": 16,
    "lenType": 16,
    "lenVar": 40
   },
   "kernels_config": {
    "python": {
     "delete_cmd_postfix": "",
     "delete_cmd_prefix": "del ",
     "library": "var_list.py",
     "varRefreshCmd": "print(var_dic_list())"
    },
    "r": {
     "delete_cmd_postfix": ") ",
     "delete_cmd_prefix": "rm(",
     "library": "var_list.r",
     "varRefreshCmd": "cat(var_dic_list()) "
    }
   },
   "types_to_exclude": [
    "module",
    "function",
    "builtin_function_or_method",
    "instance",
    "_Feature"
   ],
   "window_display": false
  },
  "vscode": {
   "interpreter": {
    "hash": "09087186ef8e6e860b90b764573a152292d9673ba0263dd2e3ab6d379cd6b99b"
   }
  }
 },
 "nbformat": 4,
 "nbformat_minor": 2
}
